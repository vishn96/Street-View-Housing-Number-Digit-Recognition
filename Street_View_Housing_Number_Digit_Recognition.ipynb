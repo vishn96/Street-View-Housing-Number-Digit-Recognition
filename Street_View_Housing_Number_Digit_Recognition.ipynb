{
  "nbformat": 4,
  "nbformat_minor": 0,
  "metadata": {
    "accelerator": "GPU",
    "colab": {
      "name": "Street View Housing Number Digit Recognition.ipynb",
      "provenance": [],
      "collapsed_sections": [],
      "authorship_tag": "ABX9TyPOp3avihmzx6D4nGqm2Mv6",
      "include_colab_link": true
    },
    "kernelspec": {
      "display_name": "Python 3",
      "name": "python3"
    }
  },
  "cells": [
    {
      "cell_type": "markdown",
      "metadata": {
        "id": "view-in-github",
        "colab_type": "text"
      },
      "source": [
        "<a href=\"https://colab.research.google.com/github/vishn96/Street-View-Housing-Number-Digit-Recognition/blob/main/Street_View_Housing_Number_Digit_Recognition.ipynb\" target=\"_parent\"><img src=\"https://colab.research.google.com/assets/colab-badge.svg\" alt=\"Open In Colab\"/></a>"
      ]
    },
    {
      "cell_type": "code",
      "metadata": {
        "colab": {
          "base_uri": "https://localhost:8080/"
        },
        "id": "1cKm6LfN_J_J",
        "outputId": "e130bd42-cae2-4ca8-e537-53f56b44d3c9"
      },
      "source": [
        "# Mounting Google Drive\r\n",
        "from google.colab import drive\r\n",
        "drive.mount('/content/drive')"
      ],
      "execution_count": 1,
      "outputs": [
        {
          "output_type": "stream",
          "text": [
            "Mounted at /content/drive\n"
          ],
          "name": "stdout"
        }
      ]
    },
    {
      "cell_type": "code",
      "metadata": {
        "id": "awwQsqSb_ovm"
      },
      "source": [
        "# Setting the current working directory\r\n",
        "import os; os.chdir('drive/My Drive/PGP/Neural_Network')"
      ],
      "execution_count": 2,
      "outputs": []
    },
    {
      "cell_type": "code",
      "metadata": {
        "colab": {
          "base_uri": "https://localhost:8080/"
        },
        "id": "PaHX3pUgACQd",
        "outputId": "2e781fdb-61d2-4bd0-ed39-a47fcd45e501"
      },
      "source": [
        "# Imports\r\n",
        "import pandas as pd, numpy as np, matplotlib.pyplot as plt, seaborn as sns, h5py\r\n",
        "import matplotlib.style as style; style.use('fivethirtyeight')\r\n",
        "%matplotlib inline\r\n",
        "\r\n",
        "# Metrics and preprocessing\r\n",
        "from sklearn.metrics import classification_report, accuracy_score, confusion_matrix, precision_score, recall_score, f1_score, precision_recall_curve, auc\r\n",
        "from sklearn.model_selection import train_test_split\r\n",
        "from sklearn import preprocessing\r\n",
        "\r\n",
        "# TF and Keras\r\n",
        "from tensorflow.keras.layers import Dense, Dropout, BatchNormalization\r\n",
        "from tensorflow.keras.layers import Activation, Dense\r\n",
        "from tensorflow.keras.utils import to_categorical\r\n",
        "from tensorflow.keras.models import Sequential\r\n",
        "from tensorflow.keras import optimizers\r\n",
        "\r\n",
        "# Checking if GPU is found\r\n",
        "import tensorflow as tf\r\n",
        "device_name = tf.test.gpu_device_name()\r\n",
        "if device_name != '/device:GPU:0':\r\n",
        "  raise SystemError('GPU device not found')\r\n",
        "print('Found GPU at: {}'.format(device_name))\r\n",
        "\r\n",
        "tf.random.set_seed(42)"
      ],
      "execution_count": 3,
      "outputs": [
        {
          "output_type": "stream",
          "text": [
            "Found GPU at: /device:GPU:0\n"
          ],
          "name": "stdout"
        }
      ]
    },
    {
      "cell_type": "code",
      "metadata": {
        "colab": {
          "base_uri": "https://localhost:8080/"
        },
        "id": "QnLNoWkiAOR7",
        "outputId": "2ab58486-fe35-4ef1-98cf-8f9df156ee78"
      },
      "source": [
        "!ls '/content/drive/My Drive/PGP/Neural_Network'"
      ],
      "execution_count": 4,
      "outputs": [
        {
          "output_type": "stream",
          "text": [
            "SVHN_single_grey1.h5\n"
          ],
          "name": "stdout"
        }
      ]
    },
    {
      "cell_type": "code",
      "metadata": {
        "colab": {
          "base_uri": "https://localhost:8080/"
        },
        "id": "DwRM3ky9A9pa",
        "outputId": "d8d6fe87-a4fd-48a4-d888-b4a3013e6267"
      },
      "source": [
        "# Read the h5 file\r\n",
        "h5_SVH = h5py.File('SVHN_single_grey1.h5', 'r')\r\n",
        "\r\n",
        "# Load the training, validation and test sets\r\n",
        "X_train = h5_SVH['X_train'][:]\r\n",
        "y_train_o = h5_SVH['y_train'][:]\r\n",
        "X_val = h5_SVH['X_val'][:]\r\n",
        "y_val_o = h5_SVH['y_val'][:]\r\n",
        "X_test = h5_SVH['X_test'][:]\r\n",
        "y_test_o = h5_SVH['y_test'][:]\r\n",
        "\r\n",
        "# Close this file\r\n",
        "\r\n",
        "h5_SVH.close()\r\n",
        "\r\n",
        "print('Training set', X_train.shape, y_train_o.shape)\r\n",
        "print('Validation set', X_val.shape, y_val_o.shape)\r\n",
        "print('Test set', X_test.shape, y_test_o.shape)\r\n",
        "\r\n",
        "print('\\n')\r\n",
        "print('Unique labels in y_train:', np.unique(y_train_o))\r\n",
        "print('Unique labels in y_val:', np.unique(y_val_o))\r\n",
        "print('Unique labels in y_test:', np.unique(y_test_o))"
      ],
      "execution_count": 5,
      "outputs": [
        {
          "output_type": "stream",
          "text": [
            "Training set (42000, 32, 32) (42000,)\n",
            "Validation set (60000, 32, 32) (60000,)\n",
            "Test set (18000, 32, 32) (18000,)\n",
            "\n",
            "\n",
            "Unique labels in y_train: [0 1 2 3 4 5 6 7 8 9]\n",
            "Unique labels in y_val: [0 1 2 3 4 5 6 7 8 9]\n",
            "Unique labels in y_test: [0 1 2 3 4 5 6 7 8 9]\n"
          ],
          "name": "stdout"
        }
      ]
    },
    {
      "cell_type": "code",
      "metadata": {
        "colab": {
          "base_uri": "https://localhost:8080/",
          "height": 128
        },
        "id": "GKJcb1dbBD0K",
        "outputId": "1d041e9b-f2d1-43b0-9207-f9d8578d439a"
      },
      "source": [
        "# Visualizing first 10 images in the dataset and their labels\r\n",
        "plt.figure(figsize = (15, 4.5))\r\n",
        "for i in range(10):  \r\n",
        "    plt.subplot(1, 10, i+1)\r\n",
        "    plt.imshow(X_train[i].reshape((32, 32)),cmap = plt.cm.binary)\r\n",
        "    plt.axis('off')\r\n",
        "\r\n",
        "plt.show()\r\n",
        "\r\n",
        "print('Label for each of the above image: %s' % (y_train_o[0 : 10]))"
      ],
      "execution_count": 6,
      "outputs": [
        {
          "output_type": "display_data",
          "data": {
            "image/png": "[encoded data removed]",
            "text/plain": [
              "<Figure size 1080x324 with 10 Axes>"
            ]
          },
          "metadata": {
            "tags": [],
            "needs_background": "light"
          }
        },
        {
          "output_type": "stream",
          "text": [
            "Label for each of the above image: [2 6 7 4 4 0 3 0 7 3]\n"
          ],
          "name": "stdout"
        }
      ]
    },
    {
      "cell_type": "code",
      "metadata": {
        "colab": {
          "base_uri": "https://localhost:8080/",
          "height": 905
        },
        "id": "N6pMUqJeCz77",
        "outputId": "55d242d2-d723-44a1-8853-fea2d5ec5a65"
      },
      "source": [
        "print('Checking first image and label in training set'); print('--'*40)\r\n",
        "plt.imshow(X_train[0], cmap = plt.cm.binary)    \r\n",
        "plt.show()\r\n",
        "print('Label:', y_train_o[0])\r\n",
        "\r\n",
        "print('Checking first image and label in validation set'); print('--'*40)\r\n",
        "plt.imshow(X_val[0], cmap = plt.cm.binary)    \r\n",
        "plt.show()\r\n",
        "print('Label:', y_val_o[0])\r\n",
        "\r\n",
        "print('Checking first image and label in test set'); print('--'*40)\r\n",
        "plt.imshow(X_test[0], cmap = plt.cm.binary)    \r\n",
        "plt.show()\r\n",
        "print('Label:', y_test_o[0])"
      ],
      "execution_count": 7,
      "outputs": [
        {
          "output_type": "stream",
          "text": [
            "Checking first image and label in training set\n",
            "--------------------------------------------------------------------------------\n"
          ],
          "name": "stdout"
        },
        {
          "output_type": "display_data",
          "data": {
            "image/png": "[encoded data removed]",
            "text/plain": [
              "<Figure size 432x288 with 1 Axes>"
            ]
          },
          "metadata": {
            "tags": [],
            "needs_background": "light"
          }
        },
        {
          "output_type": "stream",
          "text": [
            "Label: 2\n",
            "Checking first image and label in validation set\n",
            "--------------------------------------------------------------------------------\n"
          ],
          "name": "stdout"
        },
        {
          "output_type": "display_data",
          "data": {
            "image/png": "[encoded data removed]",
            "text/plain": [
              "<Figure size 432x288 with 1 Axes>"
            ]
          },
          "metadata": {
            "tags": [],
            "needs_background": "light"
          }
        },
        {
          "output_type": "stream",
          "text": [
            "Label: 0\n",
            "Checking first image and label in test set\n",
            "--------------------------------------------------------------------------------\n"
          ],
          "name": "stdout"
        },
        {
          "output_type": "display_data",
          "data": {
            "image/png": "[encoded data removed]",
            "text/plain": [
              "<Figure size 432x288 with 1 Axes>"
            ]
          },
          "metadata": {
            "tags": [],
            "needs_background": "light"
          }
        },
        {
          "output_type": "stream",
          "text": [
            "Label: 1\n"
          ],
          "name": "stdout"
        }
      ]
    },
    {
      "cell_type": "code",
      "metadata": {
        "colab": {
          "base_uri": "https://localhost:8080/"
        },
        "id": "43LroPAQDIvN",
        "outputId": "c05c2e94-ee2c-4399-99c0-06c586395eff"
      },
      "source": [
        "print('Reshaping X data: (n, 32, 32) => (n, 1024)'); print('--'*45)\r\n",
        "X_train = X_train.reshape((X_train.shape[0], -1))\r\n",
        "X_val = X_val.reshape((X_val.shape[0], -1))\r\n",
        "X_test = X_test.reshape((X_test.shape[0], -1))\r\n",
        "\r\n",
        "print('Making sure that the values are float so that we can get decimal points after division'); print('--'*45)\r\n",
        "X_train = X_train.astype('float32')\r\n",
        "X_val = X_val.astype('float32')\r\n",
        "X_test = X_test.astype('float32')\r\n",
        "\r\n",
        "print('Normalizing the RGB codes by dividing it to the max RGB value'); print('--'*45)\r\n",
        "X_train /= 255\r\n",
        "X_val /= 255\r\n",
        "X_test /= 255\r\n",
        "\r\n",
        "print('Converting y data into categorical (one-hot encoding)'); print('--'*45)\r\n",
        "y_train = to_categorical(y_train_o)\r\n",
        "y_val = to_categorical(y_val_o)\r\n",
        "y_test = to_categorical(y_test_o)"
      ],
      "execution_count": 8,
      "outputs": [
        {
          "output_type": "stream",
          "text": [
            "Reshaping X data: (n, 32, 32) => (n, 1024)\n",
            "------------------------------------------------------------------------------------------\n",
            "Making sure that the values are float so that we can get decimal points after division\n",
            "------------------------------------------------------------------------------------------\n",
            "Normalizing the RGB codes by dividing it to the max RGB value\n",
            "------------------------------------------------------------------------------------------\n",
            "Converting y data into categorical (one-hot encoding)\n",
            "------------------------------------------------------------------------------------------\n"
          ],
          "name": "stdout"
        }
      ]
    },
    {
      "cell_type": "code",
      "metadata": {
        "colab": {
          "base_uri": "https://localhost:8080/"
        },
        "id": "ZeN_V0f4Decq",
        "outputId": "f3da1f8c-5992-4770-98a3-89f339a51e9a"
      },
      "source": [
        "print('X_train shape:', X_train.shape)\r\n",
        "print('X_val shape:', X_val.shape)\r\n",
        "print('X_test shape:', X_test.shape)\r\n",
        "\r\n",
        "print('\\n')\r\n",
        "print('y_train shape:', y_train.shape)\r\n",
        "print('y_val shape:', y_val.shape)\r\n",
        "print('y_test shape:', y_test.shape)\r\n",
        "\r\n",
        "print('\\n')\r\n",
        "print('Number of images in X_train :', X_train.shape[0])\r\n",
        "print('Number of images in X_val :', X_val.shape[0])\r\n",
        "print('Number of images in X_test :', X_test.shape[0])"
      ],
      "execution_count": 9,
      "outputs": [
        {
          "output_type": "stream",
          "text": [
            "X_train shape: (42000, 1024)\n",
            "X_val shape: (60000, 1024)\n",
            "X_test shape: (18000, 1024)\n",
            "\n",
            "\n",
            "y_train shape: (42000, 10)\n",
            "y_val shape: (60000, 10)\n",
            "y_test shape: (18000, 10)\n",
            "\n",
            "\n",
            "Number of images in X_train : 42000\n",
            "Number of images in X_val : 60000\n",
            "Number of images in X_test : 18000\n"
          ],
          "name": "stdout"
        }
      ]
    },
    {
      "cell_type": "markdown",
      "metadata": {
        "id": "bn57uQqjFloU"
      },
      "source": [
        "## **Modelling - Baby sitting the learning process**\r\n",
        "**Fully connected linear layer**"
      ]
    },
    {
      "cell_type": "code",
      "metadata": {
        "id": "dZHnhyd2FOTy"
      },
      "source": [
        "class Linear():\r\n",
        "    def __init__(self, in_size, out_size):\r\n",
        "        self.W = np.random.randn(in_size, out_size) * 0.01\r\n",
        "        self.b = np.zeros((1, out_size))\r\n",
        "        self.params = [self.W, self.b]\r\n",
        "        self.gradW = None\r\n",
        "        self.gradB = None\r\n",
        "        self.gradInput = None        \r\n",
        "\r\n",
        "    def forward(self, X):\r\n",
        "        self.X = X\r\n",
        "        self.output = np.dot(X, self.W) + self.b\r\n",
        "        return self.output\r\n",
        "\r\n",
        "    def backward(self, nextgrad):\r\n",
        "        self.gradW = np.dot(self.X.T, nextgrad)\r\n",
        "        self.gradB = np.sum(nextgrad, axis=0)\r\n",
        "        self.gradInput = np.dot(nextgrad, self.W.T)\r\n",
        "        return self.gradInput, [self.gradW, self.gradB]"
      ],
      "execution_count": 10,
      "outputs": []
    },
    {
      "cell_type": "markdown",
      "metadata": {
        "id": "61KklMJmFklf"
      },
      "source": [
        "**ReLU**"
      ]
    },
    {
      "cell_type": "code",
      "metadata": {
        "id": "6RYF_064FbxU"
      },
      "source": [
        "class ReLU():\r\n",
        "    def __init__(self):\r\n",
        "        self.params = []\r\n",
        "        self.gradInput = None\r\n",
        "\r\n",
        "    def forward(self, X):\r\n",
        "        self.output = np.maximum(X, 0)\r\n",
        "        return self.output\r\n",
        "\r\n",
        "    def backward(self, nextgrad):\r\n",
        "        self.gradInput = nextgrad.copy()\r\n",
        "        self.gradInput[self.output <=0] = 0\r\n",
        "        return self.gradInput, []"
      ],
      "execution_count": 11,
      "outputs": []
    },
    {
      "cell_type": "markdown",
      "metadata": {
        "id": "EP_whwmj_gC6"
      },
      "source": [
        "**Softmax function**"
      ]
    },
    {
      "cell_type": "code",
      "metadata": {
        "id": "_iXkifrk_pkd"
      },
      "source": [
        "def softmax(x):\r\n",
        "    exp_x = np.exp(x - np.max(x, axis=1, keepdims=True))\r\n",
        "    return exp_x / np.sum(exp_x, axis=1, keepdims=True)"
      ],
      "execution_count": 12,
      "outputs": []
    },
    {
      "cell_type": "markdown",
      "metadata": {
        "id": "z3RLPiKH_vkl"
      },
      "source": [
        "**Cross entropy loss** "
      ]
    },
    {
      "cell_type": "code",
      "metadata": {
        "id": "B5PuEunA_sHj"
      },
      "source": [
        "class CrossEntropy:\r\n",
        "    def forward(self, X, y):\r\n",
        "        self.m = y.shape[0]\r\n",
        "        self.p = softmax(X)\r\n",
        "        cross_entropy = -np.log(self.p[range(self.m), y]+1e-16)\r\n",
        "        loss = np.sum(cross_entropy) / self.m\r\n",
        "        return loss\r\n",
        "    \r\n",
        "    def backward(self, X, y):\r\n",
        "        y_idx = y.argmax()        \r\n",
        "        grad = softmax(X)\r\n",
        "        grad[range(self.m), y] -= 1\r\n",
        "        grad /= self.m\r\n",
        "        return grad"
      ],
      "execution_count": 13,
      "outputs": []
    },
    {
      "cell_type": "code",
      "metadata": {
        "id": "vrA8AwME_5xS"
      },
      "source": [
        "class NN():\r\n",
        "    def __init__(self, lossfunc = CrossEntropy(), mode = 'train'):\r\n",
        "        self.params = []\r\n",
        "        self.layers = []\r\n",
        "        self.loss_func = lossfunc\r\n",
        "        self.grads = []\r\n",
        "        self.mode = mode\r\n",
        "        \r\n",
        "    def add_layer(self, layer):\r\n",
        "        self.layers.append(layer)\r\n",
        "        self.params.append(layer.params)\r\n",
        "\r\n",
        "    def forward(self, X):\r\n",
        "        for layer in self.layers:\r\n",
        "            X = layer.forward(X)\r\n",
        "        return X\r\n",
        "    \r\n",
        "    def backward(self, nextgrad):\r\n",
        "        self.clear_grad_param()\r\n",
        "        for layer in reversed(self.layers):\r\n",
        "            nextgrad, grad = layer.backward(nextgrad)\r\n",
        "            self.grads.append(grad)\r\n",
        "        return self.grads\r\n",
        "    \r\n",
        "    def train_step(self, X, y):\r\n",
        "        out = self.forward(X)\r\n",
        "        loss = self.loss_func.forward(out,y)\r\n",
        "        nextgrad = self.loss_func.backward(out,y)\r\n",
        "        grads = self.backward(nextgrad)\r\n",
        "        return loss, grads\r\n",
        "    \r\n",
        "    def predict(self, X):\r\n",
        "        X = self.forward(X)\r\n",
        "        p = softmax(X)\r\n",
        "        return np.argmax(p, axis=1)\r\n",
        "    \r\n",
        "    def predict_scores(self, X):\r\n",
        "        X = self.forward(X)\r\n",
        "        p = softmax(X)\r\n",
        "        return p\r\n",
        "    \r\n",
        "    def clear_grad_param(self):\r\n",
        "        self.grads = []"
      ],
      "execution_count": 14,
      "outputs": []
    },
    {
      "cell_type": "markdown",
      "metadata": {
        "id": "RJbW4S29AR3q"
      },
      "source": [
        "**Update function SGD with momentum**"
      ]
    },
    {
      "cell_type": "code",
      "metadata": {
        "id": "y9oZOuTXAFVh"
      },
      "source": [
        "def update(velocity, params, grads, learning_rate=0.01, mu=0.9):\r\n",
        "    for v, p, g, in zip(velocity, params, reversed(grads)):\r\n",
        "        for i in range(len(g)):\r\n",
        "            v[i] = (mu * v[i]) - (learning_rate * g[i])\r\n",
        "            p[i] += v[i]"
      ],
      "execution_count": 15,
      "outputs": []
    },
    {
      "cell_type": "markdown",
      "metadata": {
        "id": "v1Q2r2cXAs1K"
      },
      "source": [
        "**minibatches**"
      ]
    },
    {
      "cell_type": "code",
      "metadata": {
        "id": "U2ma1sXNAXbk"
      },
      "source": [
        "def minibatch(X, y, minibatch_size):\r\n",
        "    n = X.shape[0]\r\n",
        "    minibatches = []\r\n",
        "    permutation = np.random.permutation(X.shape[0])\r\n",
        "    X = X[permutation]\r\n",
        "    y = y[permutation]\r\n",
        "    \r\n",
        "    for i in range(0, n , minibatch_size):\r\n",
        "        X_batch = X[i:i + minibatch_size, :]\r\n",
        "        y_batch = y[i:i + minibatch_size, ]\r\n",
        "        minibatches.append((X_batch, y_batch))\r\n",
        "        \r\n",
        "    return minibatches"
      ],
      "execution_count": 16,
      "outputs": []
    },
    {
      "cell_type": "markdown",
      "metadata": {
        "id": "cBc6uaHdAyoi"
      },
      "source": [
        "**training loop**"
      ]
    },
    {
      "cell_type": "code",
      "metadata": {
        "id": "No_9r-duA2VE"
      },
      "source": [
        "def train(net, X_train, y_train, minibatch_size, epoch, learning_rate, mu = 0.9, X_val = None, y_val = None, Lambda = 0, verb = True):\r\n",
        "    val_loss_epoch = []\r\n",
        "    minibatches = minibatch(X_train, y_train, minibatch_size)\r\n",
        "    minibatches_val = minibatch(X_val, y_val, minibatch_size)\r\n",
        "    \r\n",
        "    for i in range(epoch):\r\n",
        "        loss_batch = []\r\n",
        "        val_loss_batch = []\r\n",
        "        velocity = []\r\n",
        "        for param_layer in net.params:\r\n",
        "            p = [np.zeros_like(param) for param in list(param_layer)]\r\n",
        "            velocity.append(p)\r\n",
        "            \r\n",
        "        # iterate over mini batches\r\n",
        "        for X_mini, y_mini in minibatches:\r\n",
        "            loss, grads = net.train_step(X_mini, y_mini)\r\n",
        "            loss_batch.append(loss)\r\n",
        "            update(velocity, net.params, grads, learning_rate=learning_rate, mu=mu)\r\n",
        "\r\n",
        "        for X_mini_val, y_mini_val in minibatches_val:\r\n",
        "            val_loss, _ = net.train_step(X_mini, y_mini)\r\n",
        "            val_loss_batch.append(val_loss)\r\n",
        "        \r\n",
        "        # accuracy of model at end of epoch after all mini batch updates\r\n",
        "        m_train = X_train.shape[0]\r\n",
        "        m_val = X_val.shape[0]\r\n",
        "        y_train_pred = []\r\n",
        "        y_val_pred = []\r\n",
        "        y_train1 = []\r\n",
        "        y_vall = []\r\n",
        "        for ii in range(0, m_train, minibatch_size):\r\n",
        "            X_tr = X_train[ii:ii + minibatch_size, : ]\r\n",
        "            y_tr = y_train[ii:ii + minibatch_size,]\r\n",
        "            y_train1 = np.append(y_train1, y_tr)\r\n",
        "            y_train_pred = np.append(y_train_pred, net.predict(X_tr))\r\n",
        "\r\n",
        "        for ii in range(0, m_val, minibatch_size):\r\n",
        "            X_va = X_val[ii:ii + minibatch_size, : ]\r\n",
        "            y_va = y_val[ii:ii + minibatch_size,]\r\n",
        "            y_vall = np.append(y_vall, y_va)\r\n",
        "            y_val_pred = np.append(y_val_pred, net.predict(X_va))\r\n",
        "            \r\n",
        "        train_acc = check_accuracy(y_train1, y_train_pred)\r\n",
        "        val_acc = check_accuracy(y_vall, y_val_pred)\r\n",
        "        \r\n",
        "        ## weights\r\n",
        "        w = np.array(net.params[0][0])\r\n",
        "        \r\n",
        "        ## adding regularization to cost\r\n",
        "        mean_train_loss = (sum(loss_batch) / float(len(loss_batch)))\r\n",
        "        mean_val_loss = sum(val_loss_batch) / float(len(val_loss_batch))\r\n",
        "        \r\n",
        "        val_loss_epoch.append(mean_val_loss)\r\n",
        "        if verb:\r\n",
        "            if i%50==0:\r\n",
        "                print(\"Epoch {3}/{4}: Loss = {0} | Training Accuracy = {1}\".format(mean_train_loss, train_acc, val_acc, i, epoch))\r\n",
        "    return net, val_acc"
      ],
      "execution_count": 17,
      "outputs": []
    },
    {
      "cell_type": "markdown",
      "metadata": {
        "id": "glA_H-03B790"
      },
      "source": [
        "**Checking the accuracy of the model**"
      ]
    },
    {
      "cell_type": "code",
      "metadata": {
        "id": "dyBDINRhB4fa"
      },
      "source": [
        "def check_accuracy(y_true, y_pred):\r\n",
        "    return np.mean(y_pred == y_true)"
      ],
      "execution_count": 18,
      "outputs": []
    },
    {
      "cell_type": "markdown",
      "metadata": {
        "id": "o595oSKTCE68"
      },
      "source": [
        "**Invoking all that we have created until now**"
      ]
    },
    {
      "cell_type": "code",
      "metadata": {
        "id": "AUR0TB3yCG8C"
      },
      "source": [
        "# Invoking the model\r\n",
        "## input size\r\n",
        "input_dim = X_train.shape[1]\r\n",
        "\r\n",
        "def train_and_test_loop(iterations, lr, Lambda, verb = True):\r\n",
        "    ## hyperparameters\r\n",
        "    iterations = iterations\r\n",
        "    learning_rate = lr\r\n",
        "    hidden_nodes1 = 10\r\n",
        "    output_nodes = 10\r\n",
        "\r\n",
        "    ## define neural net\r\n",
        "    nn = NN()\r\n",
        "    nn.add_layer(Linear(input_dim, hidden_nodes1))\r\n",
        "\r\n",
        "    nn, val_acc = train(nn, X_train, y_train_o, minibatch_size = 200, epoch = iterations, learning_rate = learning_rate,\\\r\n",
        "                      X_val = X_test, y_val = y_test_o, Lambda = Lambda, verb = verb)\r\n",
        "    return val_acc"
      ],
      "execution_count": 19,
      "outputs": []
    },
    {
      "cell_type": "markdown",
      "metadata": {
        "id": "5E44pF8-Cj86"
      },
      "source": [
        "**Double Check that the loss is reasonable : Disable the regularization**"
      ]
    },
    {
      "cell_type": "code",
      "metadata": {
        "colab": {
          "base_uri": "https://localhost:8080/"
        },
        "id": "xYSKcth2CJQB",
        "outputId": "e12298b1-1040-4913-b015-314ba94e0df4"
      },
      "source": [
        "lr = 0.00001\r\n",
        "Lambda = 0\r\n",
        "train_and_test_loop(1, lr, Lambda)"
      ],
      "execution_count": 20,
      "outputs": [
        {
          "output_type": "stream",
          "text": [
            "Epoch 0/1: Loss = 2.3075708433795503 | Training Accuracy = 0.09271428571428571\n"
          ],
          "name": "stdout"
        },
        {
          "output_type": "execute_result",
          "data": {
            "text/plain": [
              "0.08855555555555555"
            ]
          },
          "metadata": {
            "tags": []
          },
          "execution_count": 20
        }
      ]
    },
    {
      "cell_type": "markdown",
      "metadata": {
        "id": "Rl2wOEkfCqry"
      },
      "source": [
        "**Now, lets crank up the Lambda(Regularization) and check what it does to our loss function**"
      ]
    },
    {
      "cell_type": "code",
      "metadata": {
        "colab": {
          "base_uri": "https://localhost:8080/"
        },
        "id": "n-n1FD4zCyJL",
        "outputId": "bf561088-9c25-4c3a-8095-e68153844450"
      },
      "source": [
        "lr = 0.00001\r\n",
        "Lambda = 1e3\r\n",
        "train_and_test_loop(1, lr, Lambda)"
      ],
      "execution_count": 21,
      "outputs": [
        {
          "output_type": "stream",
          "text": [
            "Epoch 0/1: Loss = 2.3143311346047173 | Training Accuracy = 0.10983333333333334\n"
          ],
          "name": "stdout"
        },
        {
          "output_type": "execute_result",
          "data": {
            "text/plain": [
              "0.11016666666666666"
            ]
          },
          "metadata": {
            "tags": []
          },
          "execution_count": 21
        }
      ]
    },
    {
      "cell_type": "markdown",
      "metadata": {
        "id": "ey2h63n0DAvJ"
      },
      "source": [
        "**Now, lets overfit to a small subset of our dataset, in this case 20 images**"
      ]
    },
    {
      "cell_type": "code",
      "metadata": {
        "colab": {
          "base_uri": "https://localhost:8080/"
        },
        "id": "O9n76JC9DD78",
        "outputId": "91f918fb-4bab-4fff-a069-beb4ee90493a"
      },
      "source": [
        "X_train_subset = X_train[0:20]\r\n",
        "y_train_subset = y_train_o[0:20]\r\n",
        "\r\n",
        "X_train = X_train_subset\r\n",
        "y_train_o = y_train_subset\r\n",
        "\r\n",
        "X_train.shape, y_train_o.shape"
      ],
      "execution_count": 22,
      "outputs": [
        {
          "output_type": "execute_result",
          "data": {
            "text/plain": [
              "((20, 1024), (20,))"
            ]
          },
          "metadata": {
            "tags": []
          },
          "execution_count": 22
        }
      ]
    },
    {
      "cell_type": "markdown",
      "metadata": {
        "id": "aRgsG0xEDZdp"
      },
      "source": [
        "**Make sure that you can overfit very small portion of the training data**\r\n",
        "\r\n",
        "So, set a small learning rate and turn regularization off In the code below:\r\n",
        "\r\n",
        "*   Take the first 20 examples\r\n",
        "*   turn off regularization(reg=0.0)\r\n",
        "*   use simple vanilla 'sgd'\r\n"
      ]
    },
    {
      "cell_type": "code",
      "metadata": {
        "colab": {
          "base_uri": "https://localhost:8080/"
        },
        "id": "aiU6c5NsEHGJ",
        "outputId": "38f72a26-0ca4-4c9c-a00b-b51fc2e52231"
      },
      "source": [
        "%time\r\n",
        "lr = 0.001\r\n",
        "Lambda = 0\r\n",
        "train_and_test_loop(5000, lr, Lambda)"
      ],
      "execution_count": 23,
      "outputs": [
        {
          "output_type": "stream",
          "text": [
            "CPU times: user 3 µs, sys: 1 µs, total: 4 µs\n",
            "Wall time: 7.39 µs\n",
            "Epoch 0/5000: Loss = 2.3376287833056706 | Training Accuracy = 0.1\n",
            "Epoch 50/5000: Loss = 1.9429845985995438 | Training Accuracy = 0.3\n",
            "Epoch 100/5000: Loss = 1.858145742182116 | Training Accuracy = 0.3\n",
            "Epoch 150/5000: Loss = 1.8043437499365211 | Training Accuracy = 0.45\n",
            "Epoch 200/5000: Loss = 1.7595187449974894 | Training Accuracy = 0.45\n",
            "Epoch 250/5000: Loss = 1.719100326717852 | Training Accuracy = 0.45\n",
            "Epoch 300/5000: Loss = 1.6814856488300904 | Training Accuracy = 0.5\n",
            "Epoch 350/5000: Loss = 1.645942736662724 | Training Accuracy = 0.55\n",
            "Epoch 400/5000: Loss = 1.612078995884033 | Training Accuracy = 0.55\n",
            "Epoch 450/5000: Loss = 1.5796567552770582 | Training Accuracy = 0.55\n",
            "Epoch 500/5000: Loss = 1.5485168703241747 | Training Accuracy = 0.6\n",
            "Epoch 550/5000: Loss = 1.51854349863012 | Training Accuracy = 0.6\n",
            "Epoch 600/5000: Loss = 1.4896465469738382 | Training Accuracy = 0.6\n",
            "Epoch 650/5000: Loss = 1.461752335669504 | Training Accuracy = 0.6\n",
            "Epoch 700/5000: Loss = 1.4347983326789637 | Training Accuracy = 0.6\n",
            "Epoch 750/5000: Loss = 1.4087300169127215 | Training Accuracy = 0.65\n",
            "Epoch 800/5000: Loss = 1.3834989124906745 | Training Accuracy = 0.65\n",
            "Epoch 850/5000: Loss = 1.3590612974701168 | Training Accuracy = 0.65\n",
            "Epoch 900/5000: Loss = 1.3353773181175175 | Training Accuracy = 0.65\n",
            "Epoch 950/5000: Loss = 1.3124103569044432 | Training Accuracy = 0.65\n",
            "Epoch 1000/5000: Loss = 1.29012656514456 | Training Accuracy = 0.65\n",
            "Epoch 1050/5000: Loss = 1.268494506098372 | Training Accuracy = 0.65\n",
            "Epoch 1100/5000: Loss = 1.24748487450289 | Training Accuracy = 0.65\n",
            "Epoch 1150/5000: Loss = 1.227070270483792 | Training Accuracy = 0.65\n",
            "Epoch 1200/5000: Loss = 1.20722501318428 | Training Accuracy = 0.7\n",
            "Epoch 1250/5000: Loss = 1.187924984108569 | Training Accuracy = 0.7\n",
            "Epoch 1300/5000: Loss = 1.1691474932031878 | Training Accuracy = 0.7\n",
            "Epoch 1350/5000: Loss = 1.1508711627080277 | Training Accuracy = 0.7\n",
            "Epoch 1400/5000: Loss = 1.1330758251715445 | Training Accuracy = 0.7\n",
            "Epoch 1450/5000: Loss = 1.115742432966618 | Training Accuracy = 0.75\n",
            "Epoch 1500/5000: Loss = 1.0988529773064242 | Training Accuracy = 0.75\n",
            "Epoch 1550/5000: Loss = 1.082390415233466 | Training Accuracy = 0.75\n",
            "Epoch 1600/5000: Loss = 1.0663386033983553 | Training Accuracy = 0.75\n",
            "Epoch 1650/5000: Loss = 1.0506822376971243 | Training Accuracy = 0.8\n",
            "Epoch 1700/5000: Loss = 1.035406798023169 | Training Accuracy = 0.8\n",
            "Epoch 1750/5000: Loss = 1.020498497530619 | Training Accuracy = 0.8\n",
            "Epoch 1800/5000: Loss = 1.0059442359126667 | Training Accuracy = 0.85\n",
            "Epoch 1850/5000: Loss = 0.9917315562802592 | Training Accuracy = 0.85\n",
            "Epoch 1900/5000: Loss = 0.9778486052899599 | Training Accuracy = 0.85\n",
            "Epoch 1950/5000: Loss = 0.9642840962195469 | Training Accuracy = 0.85\n",
            "Epoch 2000/5000: Loss = 0.9510272747293265 | Training Accuracy = 0.85\n",
            "Epoch 2050/5000: Loss = 0.9380678870789041 | Training Accuracy = 0.85\n",
            "Epoch 2100/5000: Loss = 0.9253961505950224 | Training Accuracy = 0.85\n",
            "Epoch 2150/5000: Loss = 0.9130027262075217 | Training Accuracy = 0.85\n",
            "Epoch 2200/5000: Loss = 0.9008786928885233 | Training Accuracy = 0.85\n",
            "Epoch 2250/5000: Loss = 0.8890155238453449 | Training Accuracy = 0.85\n",
            "Epoch 2300/5000: Loss = 0.8774050643310213 | Training Accuracy = 0.85\n",
            "Epoch 2350/5000: Loss = 0.8660395109480563 | Training Accuracy = 0.95\n",
            "Epoch 2400/5000: Loss = 0.8549113923314626 | Training Accuracy = 0.95\n",
            "Epoch 2450/5000: Loss = 0.8440135511065519 | Training Accuracy = 0.95\n",
            "Epoch 2500/5000: Loss = 0.8333391270254042 | Training Accuracy = 0.95\n",
            "Epoch 2550/5000: Loss = 0.8228815411937205 | Training Accuracy = 0.95\n",
            "Epoch 2600/5000: Loss = 0.812634481306819 | Training Accuracy = 0.95\n",
            "Epoch 2650/5000: Loss = 0.8025918878200654 | Training Accuracy = 0.95\n",
            "Epoch 2700/5000: Loss = 0.7927479409849998 | Training Accuracy = 0.95\n",
            "Epoch 2750/5000: Loss = 0.783097048687942 | Training Accuracy = 1.0\n",
            "Epoch 2800/5000: Loss = 0.7736338350329316 | Training Accuracy = 1.0\n",
            "Epoch 2850/5000: Loss = 0.7643531296155366 | Training Accuracy = 1.0\n",
            "Epoch 2900/5000: Loss = 0.7552499574383578 | Training Accuracy = 1.0\n",
            "Epoch 2950/5000: Loss = 0.7463195294230209 | Training Accuracy = 1.0\n",
            "Epoch 3000/5000: Loss = 0.7375572334770697 | Training Accuracy = 1.0\n",
            "Epoch 3050/5000: Loss = 0.7289586260775032 | Training Accuracy = 1.0\n",
            "Epoch 3100/5000: Loss = 0.7205194243357521 | Training Accuracy = 1.0\n",
            "Epoch 3150/5000: Loss = 0.7122354985116905 | Training Accuracy = 1.0\n",
            "Epoch 3200/5000: Loss = 0.7041028649468029 | Training Accuracy = 1.0\n",
            "Epoch 3250/5000: Loss = 0.6961176793889988 | Training Accuracy = 1.0\n",
            "Epoch 3300/5000: Loss = 0.6882762306836602 | Training Accuracy = 1.0\n",
            "Epoch 3350/5000: Loss = 0.6805749348074777 | Training Accuracy = 1.0\n",
            "Epoch 3400/5000: Loss = 0.6730103292233865 | Training Accuracy = 1.0\n",
            "Epoch 3450/5000: Loss = 0.6655790675365528 | Training Accuracy = 1.0\n",
            "Epoch 3500/5000: Loss = 0.6582779144328156 | Training Accuracy = 1.0\n",
            "Epoch 3550/5000: Loss = 0.6511037408823669 | Training Accuracy = 1.0\n",
            "Epoch 3600/5000: Loss = 0.6440535195926641 | Training Accuracy = 1.0\n",
            "Epoch 3650/5000: Loss = 0.6371243206957093 | Training Accuracy = 1.0\n",
            "Epoch 3700/5000: Loss = 0.6303133076558651 | Training Accuracy = 1.0\n",
            "Epoch 3750/5000: Loss = 0.6236177333853146 | Training Accuracy = 1.0\n",
            "Epoch 3800/5000: Loss = 0.617034936555154 | Training Accuracy = 1.0\n",
            "Epoch 3850/5000: Loss = 0.6105623380908932 | Training Accuracy = 1.0\n",
            "Epoch 3900/5000: Loss = 0.6041974378418866 | Training Accuracy = 1.0\n",
            "Epoch 3950/5000: Loss = 0.5979378114148827 | Training Accuracy = 1.0\n",
            "Epoch 4000/5000: Loss = 0.5917811071625103 | Training Accuracy = 1.0\n",
            "Epoch 4050/5000: Loss = 0.5857250433181032 | Training Accuracy = 1.0\n",
            "Epoch 4100/5000: Loss = 0.5797674052687849 | Training Accuracy = 1.0\n",
            "Epoch 4150/5000: Loss = 0.5739060429592445 | Training Accuracy = 1.0\n",
            "Epoch 4200/5000: Loss = 0.568138868419087 | Training Accuracy = 1.0\n",
            "Epoch 4250/5000: Loss = 0.562463853407072 | Training Accuracy = 1.0\n",
            "Epoch 4300/5000: Loss = 0.5568790271659475 | Training Accuracy = 1.0\n",
            "Epoch 4350/5000: Loss = 0.5513824742819698 | Training Accuracy = 1.0\n",
            "Epoch 4400/5000: Loss = 0.5459723326435257 | Training Accuracy = 1.0\n",
            "Epoch 4450/5000: Loss = 0.540646791493618 | Training Accuracy = 1.0\n",
            "Epoch 4500/5000: Loss = 0.5354040895712628 | Training Accuracy = 1.0\n",
            "Epoch 4550/5000: Loss = 0.5302425133371366 | Training Accuracy = 1.0\n",
            "Epoch 4600/5000: Loss = 0.5251603952790784 | Training Accuracy = 1.0\n",
            "Epoch 4650/5000: Loss = 0.5201561122932945 | Training Accuracy = 1.0\n",
            "Epoch 4700/5000: Loss = 0.515228084137353 | Training Accuracy = 1.0\n",
            "Epoch 4750/5000: Loss = 0.5103747719512721 | Training Accuracy = 1.0\n",
            "Epoch 4800/5000: Loss = 0.5055946768432136 | Training Accuracy = 1.0\n",
            "Epoch 4850/5000: Loss = 0.5008863385364861 | Training Accuracy = 1.0\n",
            "Epoch 4900/5000: Loss = 0.4962483340747415 | Training Accuracy = 1.0\n",
            "Epoch 4950/5000: Loss = 0.4916792765824328 | Training Accuracy = 1.0\n"
          ],
          "name": "stdout"
        },
        {
          "output_type": "execute_result",
          "data": {
            "text/plain": [
              "0.13694444444444445"
            ]
          },
          "metadata": {
            "tags": []
          },
          "execution_count": 23
        }
      ]
    },
    {
      "cell_type": "markdown",
      "metadata": {
        "id": "ljBOk4NjER5i"
      },
      "source": [
        "**Loading the original dataset again**"
      ]
    },
    {
      "cell_type": "code",
      "metadata": {
        "colab": {
          "base_uri": "https://localhost:8080/"
        },
        "id": "uY3KhCGmENTS",
        "outputId": "b2b16609-dc25-49ab-c06d-ec03726d6f3b"
      },
      "source": [
        "\r\n",
        "h5_SVH = h5py.File('SVHN_single_grey1.h5', 'r')\r\n",
        "# Load the training, validation and test sets\r\n",
        "X_train = h5_SVH['X_train'][:]\r\n",
        "y_train_o = h5_SVH['y_train'][:]\r\n",
        "X_val = h5_SVH['X_val'][:]\r\n",
        "y_val_o = h5_SVH['y_val'][:]\r\n",
        "X_test = h5_SVH['X_test'][:]\r\n",
        "y_test_o = h5_SVH['y_test'][:]\r\n",
        "\r\n",
        "print('Reshaping X data: (n, 32, 32) => (n, 1024)'); print('--'*40)\r\n",
        "X_train = X_train.reshape((X_train.shape[0], -1))\r\n",
        "X_val = X_val.reshape((X_val.shape[0], -1))\r\n",
        "X_test = X_test.reshape((X_test.shape[0], -1))\r\n",
        "\r\n",
        "print('Making sure that the values are float so that we can get decimal points after division'); print('--'*40)\r\n",
        "X_train = X_train.astype('float32')\r\n",
        "X_val = X_val.astype('float32')\r\n",
        "X_test = X_test.astype('float32')\r\n",
        "\r\n",
        "print('Normalizing the RGB codes by dividing it to the max RGB value'); print('--'*40)\r\n",
        "X_train /= 255\r\n",
        "X_val /= 255\r\n",
        "X_test /= 255\r\n",
        "\r\n",
        "print('Converting y data into categorical (one-hot encoding)'); print('--'*40)\r\n",
        "y_train = to_categorical(y_train_o)\r\n",
        "y_val = to_categorical(y_val_o)\r\n",
        "y_test = to_categorical(y_test_o)"
      ],
      "execution_count": 24,
      "outputs": [
        {
          "output_type": "stream",
          "text": [
            "Reshaping X data: (n, 32, 32) => (n, 1024)\n",
            "--------------------------------------------------------------------------------\n",
            "Making sure that the values are float so that we can get decimal points after division\n",
            "--------------------------------------------------------------------------------\n",
            "Normalizing the RGB codes by dividing it to the max RGB value\n",
            "--------------------------------------------------------------------------------\n",
            "Converting y data into categorical (one-hot encoding)\n",
            "--------------------------------------------------------------------------------\n"
          ],
          "name": "stdout"
        }
      ]
    },
    {
      "cell_type": "markdown",
      "metadata": {
        "id": "u8uu0W7MH0fM"
      },
      "source": [
        "**Start with small regularization and find learning rate that makes the loss go down.**\r\n",
        "\r\n",
        "*   we start with Lambda(small regularization) = 1e-7\r\n",
        "*   we start with a small learning rate = 1e-7"
      ]
    },
    {
      "cell_type": "code",
      "metadata": {
        "colab": {
          "base_uri": "https://localhost:8080/"
        },
        "id": "6-_PEpcsIBLV",
        "outputId": "6c6dee7f-7fd8-4576-d862-d573c56f5e4e"
      },
      "source": [
        "lr = 1e-7\r\n",
        "Lambda = 1e-7\r\n",
        "train_and_test_loop(500, lr, Lambda)"
      ],
      "execution_count": 25,
      "outputs": [
        {
          "output_type": "stream",
          "text": [
            "Epoch 0/500: Loss = 2.313430385002409 | Training Accuracy = 0.10026190476190476\n",
            "Epoch 50/500: Loss = 2.30966525334014 | Training Accuracy = 0.10042857142857142\n",
            "Epoch 100/500: Loss = 2.307249386713144 | Training Accuracy = 0.10154761904761905\n",
            "Epoch 150/500: Loss = 2.305690386678784 | Training Accuracy = 0.10264285714285715\n",
            "Epoch 200/500: Loss = 2.3046794984921735 | Training Accuracy = 0.10302380952380952\n",
            "Epoch 250/500: Loss = 2.3040206632550184 | Training Accuracy = 0.10376190476190476\n",
            "Epoch 300/500: Loss = 2.303588469207817 | Training Accuracy = 0.10497619047619047\n",
            "Epoch 350/500: Loss = 2.303302365026004 | Training Accuracy = 0.10688095238095238\n",
            "Epoch 400/500: Loss = 2.303110498199185 | Training Accuracy = 0.10819047619047618\n",
            "Epoch 450/500: Loss = 2.30297945188193 | Training Accuracy = 0.10842857142857143\n"
          ],
          "name": "stdout"
        },
        {
          "output_type": "execute_result",
          "data": {
            "text/plain": [
              "0.10722222222222222"
            ]
          },
          "metadata": {
            "tags": []
          },
          "execution_count": 25
        }
      ]
    },
    {
      "cell_type": "markdown",
      "metadata": {
        "id": "Ch4Ymx9tIO5B"
      },
      "source": [
        "**Lets try to train now with a value of learning rate 0.001**"
      ]
    },
    {
      "cell_type": "code",
      "metadata": {
        "colab": {
          "base_uri": "https://localhost:8080/"
        },
        "id": "dAM8-G1mIDm5",
        "outputId": "4736e8dc-3316-4779-9383-081e5e2a8a40"
      },
      "source": [
        "lr = 0.001\r\n",
        "Lambda = 1e-7\r\n",
        "train_and_test_loop(500, lr, Lambda)"
      ],
      "execution_count": 26,
      "outputs": [
        {
          "output_type": "stream",
          "text": [
            "Epoch 0/500: Loss = 2.3043172853088545 | Training Accuracy = 0.11697619047619047\n",
            "Epoch 50/500: Loss = 2.259137893639948 | Training Accuracy = 0.21214285714285713\n",
            "Epoch 100/500: Loss = 2.2506358493130385 | Training Accuracy = 0.22083333333333333\n",
            "Epoch 150/500: Loss = 2.246322320436922 | Training Accuracy = 0.22652380952380952\n",
            "Epoch 200/500: Loss = 2.243437872527246 | Training Accuracy = 0.2288095238095238\n",
            "Epoch 250/500: Loss = 2.241269179951821 | Training Accuracy = 0.22990476190476192\n",
            "Epoch 300/500: Loss = 2.2395311747584348 | Training Accuracy = 0.2317857142857143\n",
            "Epoch 350/500: Loss = 2.238080495399565 | Training Accuracy = 0.23338095238095238\n",
            "Epoch 400/500: Loss = 2.236834647672908 | Training Accuracy = 0.23438095238095238\n",
            "Epoch 450/500: Loss = 2.2357418364572332 | Training Accuracy = 0.23561904761904762\n"
          ],
          "name": "stdout"
        },
        {
          "output_type": "execute_result",
          "data": {
            "text/plain": [
              "0.21777777777777776"
            ]
          },
          "metadata": {
            "tags": []
          },
          "execution_count": 26
        }
      ]
    },
    {
      "cell_type": "markdown",
      "metadata": {
        "id": "R-XpjhXTIVzA"
      },
      "source": [
        "**Hyperparameter Optimization**\r\n",
        "\r\n",
        "**Running a finer search**"
      ]
    },
    {
      "cell_type": "code",
      "metadata": {
        "id": "A65QfPnDIfqQ",
        "colab": {
          "base_uri": "https://localhost:8080/"
        },
        "outputId": "352f97ba-9f5e-460f-b177-d02a5cf51255"
      },
      "source": [
        "import math\r\n",
        "for k in range(1, 10):\r\n",
        "    lr = math.pow(10, np.random.uniform(-3.0, -2.0))\r\n",
        "    Lambda = math.pow(10, np.random.uniform(-5, 2))\r\n",
        "    best_acc = train_and_test_loop(100, lr, Lambda, False)\r\n",
        "    print(\"Try {0}/{1}: Best_val_acc: {2}, lr: {3}, Lambda: {4}\\n\".format(k, 10, best_acc, lr, Lambda))"
      ],
      "execution_count": 27,
      "outputs": [
        {
          "output_type": "stream",
          "text": [
            "Try 1/10: Best_val_acc: 0.18594444444444444, lr: 0.0022445486695815554, Lambda: 4.468938038777701\n",
            "\n",
            "Try 2/10: Best_val_acc: 0.19394444444444445, lr: 0.0043192340925826194, Lambda: 3.265320449954064e-05\n",
            "\n",
            "Try 3/10: Best_val_acc: 0.19777777777777777, lr: 0.0011061360864759757, Lambda: 0.0022397801458532026\n",
            "\n",
            "Try 4/10: Best_val_acc: 0.20333333333333334, lr: 0.001846001016682408, Lambda: 11.143539156195237\n",
            "\n",
            "Try 5/10: Best_val_acc: 0.1935, lr: 0.0019245785424494785, Lambda: 5.8151293567523365e-05\n",
            "\n",
            "Try 6/10: Best_val_acc: 0.2078888888888889, lr: 0.0013219046416681544, Lambda: 3.5214253685826065\n",
            "\n",
            "Try 7/10: Best_val_acc: 0.2003888888888889, lr: 0.007110008628874481, Lambda: 0.8635572757207823\n",
            "\n",
            "Try 8/10: Best_val_acc: 0.2055, lr: 0.0012479182008206348, Lambda: 0.05217066718973961\n",
            "\n",
            "Try 9/10: Best_val_acc: 0.18855555555555556, lr: 0.0033892661998016363, Lambda: 0.0009983402985581941\n",
            "\n"
          ],
          "name": "stdout"
        }
      ]
    },
    {
      "cell_type": "markdown",
      "metadata": {
        "id": "okhuvY2iImb7"
      },
      "source": [
        "Observation 2 - Baby sitting the neural network for SVHN\r\n",
        "Best accuracy achieved using this method after hyperparameter optimization: 21%.\r\n",
        "\r\n",
        "**Modelling - Neural Network API**\r\n",
        "\r\n",
        "**NN model, sigmoid activations, SGD optimizer**"
      ]
    },
    {
      "cell_type": "code",
      "metadata": {
        "id": "OIAga2uXIt4i",
        "colab": {
          "base_uri": "https://localhost:8080/"
        },
        "outputId": "05b61255-ecba-4444-b87e-c79230542165"
      },
      "source": [
        "print('NN model with sigmoid activations'); print('--'*40)\r\n",
        "# Initialize the neural network classifier\r\n",
        "model1 = Sequential()\r\n",
        "\r\n",
        "# Input Layer - adding input layer and activation functions sigmoid\r\n",
        "model1.add(Dense(128, input_shape = (1024, )))\r\n",
        "# Adding activation function\r\n",
        "model1.add(Activation('sigmoid'))\r\n",
        "\r\n",
        "#Hidden Layer 1 - adding first hidden layer\r\n",
        "model1.add(Dense(64))\r\n",
        "# Adding activation function\r\n",
        "model1.add(Activation('sigmoid'))\r\n",
        "\r\n",
        "# Output Layer - adding output layer which is of 10 nodes (digits)\r\n",
        "model1.add(Dense(10))\r\n",
        "# Adding activation function - softmax for multiclass classification\r\n",
        "model1.add(Activation('softmax'))"
      ],
      "execution_count": 28,
      "outputs": [
        {
          "output_type": "stream",
          "text": [
            "NN model with sigmoid activations\n",
            "--------------------------------------------------------------------------------\n"
          ],
          "name": "stdout"
        }
      ]
    },
    {
      "cell_type": "code",
      "metadata": {
        "id": "aW6rp3MaIx8h",
        "colab": {
          "base_uri": "https://localhost:8080/"
        },
        "outputId": "8243b127-55e7-4bd1-d1ee-172f4e6b9284"
      },
      "source": [
        "model1.summary()"
      ],
      "execution_count": 29,
      "outputs": [
        {
          "output_type": "stream",
          "text": [
            "Model: \"sequential\"\n",
            "_________________________________________________________________\n",
            "Layer (type)                 Output Shape              Param #   \n",
            "=================================================================\n",
            "dense (Dense)                (None, 128)               131200    \n",
            "_________________________________________________________________\n",
            "activation (Activation)      (None, 128)               0         \n",
            "_________________________________________________________________\n",
            "dense_1 (Dense)              (None, 64)                8256      \n",
            "_________________________________________________________________\n",
            "activation_1 (Activation)    (None, 64)                0         \n",
            "_________________________________________________________________\n",
            "dense_2 (Dense)              (None, 10)                650       \n",
            "_________________________________________________________________\n",
            "activation_2 (Activation)    (None, 10)                0         \n",
            "=================================================================\n",
            "Total params: 140,106\n",
            "Trainable params: 140,106\n",
            "Non-trainable params: 0\n",
            "_________________________________________________________________\n"
          ],
          "name": "stdout"
        }
      ]
    },
    {
      "cell_type": "code",
      "metadata": {
        "id": "phsVdYb_I0DJ",
        "colab": {
          "base_uri": "https://localhost:8080/"
        },
        "outputId": "cf3f5335-1288-4f6c-acd9-e31e81ea0989"
      },
      "source": [
        "# compiling the neural network classifier, sgd optimizer\r\n",
        "sgd = optimizers.SGD(lr = 0.01)\r\n",
        "model1.compile(optimizer = sgd, loss = 'categorical_crossentropy', metrics = ['accuracy'])\r\n",
        "\r\n",
        "# Fitting the neural network for training\r\n",
        "history = model1.fit(X_train, y_train, validation_data = (X_val, y_val), batch_size = 200, epochs = 100, verbose = 1)"
      ],
      "execution_count": 30,
      "outputs": [
        {
          "output_type": "stream",
          "text": [
            "Epoch 1/100\n",
            "210/210 [==============================] - 3s 6ms/step - loss: 2.3709 - accuracy: 0.0996 - val_loss: 2.3028 - val_accuracy: 0.1001\n",
            "Epoch 2/100\n",
            "210/210 [==============================] - 1s 5ms/step - loss: 2.3029 - accuracy: 0.0976 - val_loss: 2.3028 - val_accuracy: 0.1007\n",
            "Epoch 3/100\n",
            "210/210 [==============================] - 1s 5ms/step - loss: 2.3028 - accuracy: 0.1001 - val_loss: 2.3025 - val_accuracy: 0.1059\n",
            "Epoch 4/100\n",
            "210/210 [==============================] - 1s 5ms/step - loss: 2.3025 - accuracy: 0.1052 - val_loss: 2.3025 - val_accuracy: 0.1060\n",
            "Epoch 5/100\n",
            "210/210 [==============================] - 1s 5ms/step - loss: 2.3025 - accuracy: 0.1024 - val_loss: 2.3024 - val_accuracy: 0.1010\n",
            "Epoch 6/100\n",
            "210/210 [==============================] - 1s 5ms/step - loss: 2.3024 - accuracy: 0.1043 - val_loss: 2.3025 - val_accuracy: 0.1017\n",
            "Epoch 7/100\n",
            "210/210 [==============================] - 1s 5ms/step - loss: 2.3024 - accuracy: 0.1060 - val_loss: 2.3024 - val_accuracy: 0.1058\n",
            "Epoch 8/100\n",
            "210/210 [==============================] - 1s 5ms/step - loss: 2.3023 - accuracy: 0.1055 - val_loss: 2.3024 - val_accuracy: 0.0980\n",
            "Epoch 9/100\n",
            "210/210 [==============================] - 1s 5ms/step - loss: 2.3023 - accuracy: 0.1030 - val_loss: 2.3023 - val_accuracy: 0.0981\n",
            "Epoch 10/100\n",
            "210/210 [==============================] - 1s 5ms/step - loss: 2.3024 - accuracy: 0.0989 - val_loss: 2.3022 - val_accuracy: 0.1064\n",
            "Epoch 11/100\n",
            "210/210 [==============================] - 1s 5ms/step - loss: 2.3022 - accuracy: 0.1055 - val_loss: 2.3025 - val_accuracy: 0.1030\n",
            "Epoch 12/100\n",
            "210/210 [==============================] - 1s 5ms/step - loss: 2.3023 - accuracy: 0.1007 - val_loss: 2.3021 - val_accuracy: 0.1103\n",
            "Epoch 13/100\n",
            "210/210 [==============================] - 1s 5ms/step - loss: 2.3022 - accuracy: 0.1009 - val_loss: 2.3022 - val_accuracy: 0.1080\n",
            "Epoch 14/100\n",
            "210/210 [==============================] - 1s 5ms/step - loss: 2.3020 - accuracy: 0.1059 - val_loss: 2.3021 - val_accuracy: 0.1094\n",
            "Epoch 15/100\n",
            "210/210 [==============================] - 1s 5ms/step - loss: 2.3022 - accuracy: 0.1090 - val_loss: 2.3022 - val_accuracy: 0.1043\n",
            "Epoch 16/100\n",
            "210/210 [==============================] - 1s 5ms/step - loss: 2.3021 - accuracy: 0.1080 - val_loss: 2.3021 - val_accuracy: 0.1007\n",
            "Epoch 17/100\n",
            "210/210 [==============================] - 1s 5ms/step - loss: 2.3018 - accuracy: 0.1076 - val_loss: 2.3021 - val_accuracy: 0.1056\n",
            "Epoch 18/100\n",
            "210/210 [==============================] - 1s 5ms/step - loss: 2.3022 - accuracy: 0.1022 - val_loss: 2.3019 - val_accuracy: 0.1119\n",
            "Epoch 19/100\n",
            "210/210 [==============================] - 1s 5ms/step - loss: 2.3021 - accuracy: 0.1109 - val_loss: 2.3019 - val_accuracy: 0.1033\n",
            "Epoch 20/100\n",
            "210/210 [==============================] - 1s 5ms/step - loss: 2.3019 - accuracy: 0.1064 - val_loss: 2.3020 - val_accuracy: 0.1162\n",
            "Epoch 21/100\n",
            "210/210 [==============================] - 1s 5ms/step - loss: 2.3021 - accuracy: 0.1101 - val_loss: 2.3019 - val_accuracy: 0.1027\n",
            "Epoch 22/100\n",
            "210/210 [==============================] - 1s 5ms/step - loss: 2.3018 - accuracy: 0.1083 - val_loss: 2.3017 - val_accuracy: 0.1129\n",
            "Epoch 23/100\n",
            "210/210 [==============================] - 1s 5ms/step - loss: 2.3017 - accuracy: 0.1050 - val_loss: 2.3018 - val_accuracy: 0.1119\n",
            "Epoch 24/100\n",
            "210/210 [==============================] - 1s 5ms/step - loss: 2.3020 - accuracy: 0.1076 - val_loss: 2.3018 - val_accuracy: 0.1080\n",
            "Epoch 25/100\n",
            "210/210 [==============================] - 1s 5ms/step - loss: 2.3019 - accuracy: 0.1095 - val_loss: 2.3017 - val_accuracy: 0.1184\n",
            "Epoch 26/100\n",
            "210/210 [==============================] - 1s 5ms/step - loss: 2.3019 - accuracy: 0.1125 - val_loss: 2.3018 - val_accuracy: 0.1019\n",
            "Epoch 27/100\n",
            "210/210 [==============================] - 1s 5ms/step - loss: 2.3017 - accuracy: 0.1120 - val_loss: 2.3018 - val_accuracy: 0.1054\n",
            "Epoch 28/100\n",
            "210/210 [==============================] - 1s 5ms/step - loss: 2.3019 - accuracy: 0.1083 - val_loss: 2.3016 - val_accuracy: 0.1049\n",
            "Epoch 29/100\n",
            "210/210 [==============================] - 1s 6ms/step - loss: 2.3017 - accuracy: 0.1097 - val_loss: 2.3016 - val_accuracy: 0.1113\n",
            "Epoch 30/100\n",
            "210/210 [==============================] - 1s 5ms/step - loss: 2.3016 - accuracy: 0.1125 - val_loss: 2.3015 - val_accuracy: 0.1045\n",
            "Epoch 31/100\n",
            "210/210 [==============================] - 1s 5ms/step - loss: 2.3013 - accuracy: 0.1112 - val_loss: 2.3014 - val_accuracy: 0.1183\n",
            "Epoch 32/100\n",
            "210/210 [==============================] - 1s 5ms/step - loss: 2.3014 - accuracy: 0.1124 - val_loss: 2.3015 - val_accuracy: 0.1123\n",
            "Epoch 33/100\n",
            "210/210 [==============================] - 1s 5ms/step - loss: 2.3015 - accuracy: 0.1187 - val_loss: 2.3015 - val_accuracy: 0.1026\n",
            "Epoch 34/100\n",
            "210/210 [==============================] - 1s 5ms/step - loss: 2.3018 - accuracy: 0.1101 - val_loss: 2.3014 - val_accuracy: 0.1182\n",
            "Epoch 35/100\n",
            "210/210 [==============================] - 1s 5ms/step - loss: 2.3014 - accuracy: 0.1166 - val_loss: 2.3014 - val_accuracy: 0.1156\n",
            "Epoch 36/100\n",
            "210/210 [==============================] - 1s 5ms/step - loss: 2.3013 - accuracy: 0.1154 - val_loss: 2.3013 - val_accuracy: 0.1148\n",
            "Epoch 37/100\n",
            "210/210 [==============================] - 1s 6ms/step - loss: 2.3013 - accuracy: 0.1164 - val_loss: 2.3013 - val_accuracy: 0.1144\n",
            "Epoch 38/100\n",
            "210/210 [==============================] - 1s 5ms/step - loss: 2.3013 - accuracy: 0.1144 - val_loss: 2.3012 - val_accuracy: 0.1210\n",
            "Epoch 39/100\n",
            "210/210 [==============================] - 1s 5ms/step - loss: 2.3012 - accuracy: 0.1194 - val_loss: 2.3012 - val_accuracy: 0.1126\n",
            "Epoch 40/100\n",
            "210/210 [==============================] - 1s 5ms/step - loss: 2.3012 - accuracy: 0.1194 - val_loss: 2.3014 - val_accuracy: 0.1144\n",
            "Epoch 41/100\n",
            "210/210 [==============================] - 1s 5ms/step - loss: 2.3014 - accuracy: 0.1158 - val_loss: 2.3010 - val_accuracy: 0.1240\n",
            "Epoch 42/100\n",
            "210/210 [==============================] - 1s 5ms/step - loss: 2.3012 - accuracy: 0.1177 - val_loss: 2.3011 - val_accuracy: 0.1216\n",
            "Epoch 43/100\n",
            "210/210 [==============================] - 1s 5ms/step - loss: 2.3011 - accuracy: 0.1192 - val_loss: 2.3011 - val_accuracy: 0.1201\n",
            "Epoch 44/100\n",
            "210/210 [==============================] - 1s 5ms/step - loss: 2.3011 - accuracy: 0.1157 - val_loss: 2.3010 - val_accuracy: 0.1239\n",
            "Epoch 45/100\n",
            "210/210 [==============================] - 1s 5ms/step - loss: 2.3010 - accuracy: 0.1195 - val_loss: 2.3009 - val_accuracy: 0.1111\n",
            "Epoch 46/100\n",
            "210/210 [==============================] - 1s 5ms/step - loss: 2.3010 - accuracy: 0.1148 - val_loss: 2.3009 - val_accuracy: 0.1233\n",
            "Epoch 47/100\n",
            "210/210 [==============================] - 1s 5ms/step - loss: 2.3009 - accuracy: 0.1182 - val_loss: 2.3009 - val_accuracy: 0.1156\n",
            "Epoch 48/100\n",
            "210/210 [==============================] - 1s 5ms/step - loss: 2.3008 - accuracy: 0.1204 - val_loss: 2.3009 - val_accuracy: 0.1182\n",
            "Epoch 49/100\n",
            "210/210 [==============================] - 1s 5ms/step - loss: 2.3010 - accuracy: 0.1181 - val_loss: 2.3009 - val_accuracy: 0.1196\n",
            "Epoch 50/100\n",
            "210/210 [==============================] - 1s 5ms/step - loss: 2.3007 - accuracy: 0.1206 - val_loss: 2.3008 - val_accuracy: 0.1212\n",
            "Epoch 51/100\n",
            "210/210 [==============================] - 1s 5ms/step - loss: 2.3006 - accuracy: 0.1210 - val_loss: 2.3007 - val_accuracy: 0.1162\n",
            "Epoch 52/100\n",
            "210/210 [==============================] - 1s 5ms/step - loss: 2.3008 - accuracy: 0.1206 - val_loss: 2.3008 - val_accuracy: 0.1213\n",
            "Epoch 53/100\n",
            "210/210 [==============================] - 1s 5ms/step - loss: 2.3005 - accuracy: 0.1218 - val_loss: 2.3007 - val_accuracy: 0.1266\n",
            "Epoch 54/100\n",
            "210/210 [==============================] - 1s 5ms/step - loss: 2.3007 - accuracy: 0.1189 - val_loss: 2.3007 - val_accuracy: 0.1148\n",
            "Epoch 55/100\n",
            "210/210 [==============================] - 1s 5ms/step - loss: 2.3006 - accuracy: 0.1246 - val_loss: 2.3005 - val_accuracy: 0.1259\n",
            "Epoch 56/100\n",
            "210/210 [==============================] - 1s 5ms/step - loss: 2.3006 - accuracy: 0.1200 - val_loss: 2.3005 - val_accuracy: 0.1265\n",
            "Epoch 57/100\n",
            "210/210 [==============================] - 1s 5ms/step - loss: 2.3004 - accuracy: 0.1243 - val_loss: 2.3007 - val_accuracy: 0.1040\n",
            "Epoch 58/100\n",
            "210/210 [==============================] - 1s 5ms/step - loss: 2.3003 - accuracy: 0.1167 - val_loss: 2.3005 - val_accuracy: 0.1190\n",
            "Epoch 59/100\n",
            "210/210 [==============================] - 1s 5ms/step - loss: 2.3007 - accuracy: 0.1185 - val_loss: 2.3004 - val_accuracy: 0.1208\n",
            "Epoch 60/100\n",
            "210/210 [==============================] - 1s 5ms/step - loss: 2.3003 - accuracy: 0.1235 - val_loss: 2.3004 - val_accuracy: 0.1269\n",
            "Epoch 61/100\n",
            "210/210 [==============================] - 1s 5ms/step - loss: 2.3003 - accuracy: 0.1258 - val_loss: 2.3004 - val_accuracy: 0.1206\n",
            "Epoch 62/100\n",
            "210/210 [==============================] - 1s 5ms/step - loss: 2.3005 - accuracy: 0.1196 - val_loss: 2.3003 - val_accuracy: 0.1123\n",
            "Epoch 63/100\n",
            "210/210 [==============================] - 1s 5ms/step - loss: 2.3005 - accuracy: 0.1192 - val_loss: 2.3003 - val_accuracy: 0.1297\n",
            "Epoch 64/100\n",
            "210/210 [==============================] - 1s 5ms/step - loss: 2.3005 - accuracy: 0.1231 - val_loss: 2.3002 - val_accuracy: 0.1267\n",
            "Epoch 65/100\n",
            "210/210 [==============================] - 1s 5ms/step - loss: 2.3004 - accuracy: 0.1262 - val_loss: 2.3005 - val_accuracy: 0.1106\n",
            "Epoch 66/100\n",
            "210/210 [==============================] - 1s 5ms/step - loss: 2.3001 - accuracy: 0.1161 - val_loss: 2.3002 - val_accuracy: 0.1224\n",
            "Epoch 67/100\n",
            "210/210 [==============================] - 1s 5ms/step - loss: 2.3001 - accuracy: 0.1230 - val_loss: 2.3003 - val_accuracy: 0.1215\n",
            "Epoch 68/100\n",
            "210/210 [==============================] - 1s 5ms/step - loss: 2.3001 - accuracy: 0.1206 - val_loss: 2.3001 - val_accuracy: 0.1182\n",
            "Epoch 69/100\n",
            "210/210 [==============================] - 1s 5ms/step - loss: 2.3001 - accuracy: 0.1234 - val_loss: 2.3002 - val_accuracy: 0.1263\n",
            "Epoch 70/100\n",
            "210/210 [==============================] - 1s 5ms/step - loss: 2.3004 - accuracy: 0.1224 - val_loss: 2.3000 - val_accuracy: 0.1311\n",
            "Epoch 71/100\n",
            "210/210 [==============================] - 1s 5ms/step - loss: 2.2999 - accuracy: 0.1313 - val_loss: 2.2999 - val_accuracy: 0.1309\n",
            "Epoch 72/100\n",
            "210/210 [==============================] - 1s 6ms/step - loss: 2.2999 - accuracy: 0.1267 - val_loss: 2.3000 - val_accuracy: 0.1350\n",
            "Epoch 73/100\n",
            "210/210 [==============================] - 1s 5ms/step - loss: 2.2999 - accuracy: 0.1284 - val_loss: 2.2999 - val_accuracy: 0.1383\n",
            "Epoch 74/100\n",
            "210/210 [==============================] - 1s 5ms/step - loss: 2.3000 - accuracy: 0.1283 - val_loss: 2.2999 - val_accuracy: 0.1164\n",
            "Epoch 75/100\n",
            "210/210 [==============================] - 1s 5ms/step - loss: 2.3000 - accuracy: 0.1261 - val_loss: 2.3001 - val_accuracy: 0.1200\n",
            "Epoch 76/100\n",
            "210/210 [==============================] - 1s 5ms/step - loss: 2.2998 - accuracy: 0.1226 - val_loss: 2.2997 - val_accuracy: 0.1358\n",
            "Epoch 77/100\n",
            "210/210 [==============================] - 1s 5ms/step - loss: 2.2998 - accuracy: 0.1313 - val_loss: 2.2998 - val_accuracy: 0.1279\n",
            "Epoch 78/100\n",
            "210/210 [==============================] - 1s 5ms/step - loss: 2.2998 - accuracy: 0.1272 - val_loss: 2.2997 - val_accuracy: 0.1207\n",
            "Epoch 79/100\n",
            "210/210 [==============================] - 1s 5ms/step - loss: 2.2996 - accuracy: 0.1247 - val_loss: 2.2998 - val_accuracy: 0.1264\n",
            "Epoch 80/100\n",
            "210/210 [==============================] - 1s 5ms/step - loss: 2.2993 - accuracy: 0.1292 - val_loss: 2.2995 - val_accuracy: 0.1271\n",
            "Epoch 81/100\n",
            "210/210 [==============================] - 1s 5ms/step - loss: 2.2995 - accuracy: 0.1308 - val_loss: 2.2995 - val_accuracy: 0.1338\n",
            "Epoch 82/100\n",
            "210/210 [==============================] - 1s 5ms/step - loss: 2.2997 - accuracy: 0.1349 - val_loss: 2.2995 - val_accuracy: 0.1262\n",
            "Epoch 83/100\n",
            "210/210 [==============================] - 1s 5ms/step - loss: 2.2993 - accuracy: 0.1288 - val_loss: 2.2996 - val_accuracy: 0.1324\n",
            "Epoch 84/100\n",
            "210/210 [==============================] - 1s 5ms/step - loss: 2.2993 - accuracy: 0.1261 - val_loss: 2.2996 - val_accuracy: 0.1278\n",
            "Epoch 85/100\n",
            "210/210 [==============================] - 1s 5ms/step - loss: 2.2993 - accuracy: 0.1264 - val_loss: 2.2994 - val_accuracy: 0.1331\n",
            "Epoch 86/100\n",
            "210/210 [==============================] - 1s 5ms/step - loss: 2.2995 - accuracy: 0.1342 - val_loss: 2.2993 - val_accuracy: 0.1356\n",
            "Epoch 87/100\n",
            "210/210 [==============================] - 1s 5ms/step - loss: 2.2993 - accuracy: 0.1357 - val_loss: 2.2993 - val_accuracy: 0.1248\n",
            "Epoch 88/100\n",
            "210/210 [==============================] - 1s 5ms/step - loss: 2.2993 - accuracy: 0.1292 - val_loss: 2.2993 - val_accuracy: 0.1306\n",
            "Epoch 89/100\n",
            "210/210 [==============================] - 1s 5ms/step - loss: 2.2995 - accuracy: 0.1340 - val_loss: 2.2992 - val_accuracy: 0.1352\n",
            "Epoch 90/100\n",
            "210/210 [==============================] - 1s 5ms/step - loss: 2.2994 - accuracy: 0.1335 - val_loss: 2.2993 - val_accuracy: 0.1278\n",
            "Epoch 91/100\n",
            "210/210 [==============================] - 1s 5ms/step - loss: 2.2991 - accuracy: 0.1292 - val_loss: 2.2993 - val_accuracy: 0.1274\n",
            "Epoch 92/100\n",
            "210/210 [==============================] - 1s 5ms/step - loss: 2.2990 - accuracy: 0.1310 - val_loss: 2.2991 - val_accuracy: 0.1434\n",
            "Epoch 93/100\n",
            "210/210 [==============================] - 1s 5ms/step - loss: 2.2992 - accuracy: 0.1331 - val_loss: 2.2991 - val_accuracy: 0.1427\n",
            "Epoch 94/100\n",
            "210/210 [==============================] - 1s 6ms/step - loss: 2.2989 - accuracy: 0.1374 - val_loss: 2.2991 - val_accuracy: 0.1279\n",
            "Epoch 95/100\n",
            "210/210 [==============================] - 1s 6ms/step - loss: 2.2990 - accuracy: 0.1270 - val_loss: 2.2990 - val_accuracy: 0.1249\n",
            "Epoch 96/100\n",
            "210/210 [==============================] - 1s 5ms/step - loss: 2.2987 - accuracy: 0.1272 - val_loss: 2.2989 - val_accuracy: 0.1338\n",
            "Epoch 97/100\n",
            "210/210 [==============================] - 1s 5ms/step - loss: 2.2987 - accuracy: 0.1296 - val_loss: 2.2990 - val_accuracy: 0.1327\n",
            "Epoch 98/100\n",
            "210/210 [==============================] - 1s 5ms/step - loss: 2.2986 - accuracy: 0.1346 - val_loss: 2.2988 - val_accuracy: 0.1464\n",
            "Epoch 99/100\n",
            "210/210 [==============================] - 1s 5ms/step - loss: 2.2988 - accuracy: 0.1360 - val_loss: 2.2988 - val_accuracy: 0.1316\n",
            "Epoch 100/100\n",
            "210/210 [==============================] - 1s 5ms/step - loss: 2.2986 - accuracy: 0.1340 - val_loss: 2.2987 - val_accuracy: 0.1412\n"
          ],
          "name": "stdout"
        }
      ]
    },
    {
      "cell_type": "code",
      "metadata": {
        "id": "_8dhiLqdI45h",
        "colab": {
          "base_uri": "https://localhost:8080/"
        },
        "outputId": "4b51ea73-6478-4a6e-ba27-8195acc143ef"
      },
      "source": [
        "print('Evaluate NN model with sigmoid activations'); print('--'*40)\r\n",
        "results1 = model1.evaluate(X_val, y_val)\r\n",
        "print('Validation accuracy: {}'.format(round(results1[1]*100, 2), '%'))"
      ],
      "execution_count": 31,
      "outputs": [
        {
          "output_type": "stream",
          "text": [
            "Evaluate NN model with sigmoid activations\n",
            "--------------------------------------------------------------------------------\n",
            "1875/1875 [==============================] - 4s 2ms/step - loss: 2.2987 - accuracy: 0.1412\n",
            "Validation accuracy: 14.12\n"
          ],
          "name": "stdout"
        }
      ]
    },
    {
      "cell_type": "markdown",
      "metadata": {
        "id": "K2dRFvufI9h5"
      },
      "source": [
        "**NN model, sigmoid activations, SGD optimizer, changing learning rate**"
      ]
    },
    {
      "cell_type": "code",
      "metadata": {
        "id": "Klw_8nF3I8S9",
        "colab": {
          "base_uri": "https://localhost:8080/"
        },
        "outputId": "64923016-3e70-45d6-fa62-26b6b9f581dc"
      },
      "source": [
        "print('NN model with sigmoid activations - changing learning rate'); print('--'*40)\r\n",
        "# compiling the neural network classifier, sgd optimizer\r\n",
        "sgd = optimizers.SGD(lr = 0.001)\r\n",
        "model1.compile(optimizer = sgd, loss = 'categorical_crossentropy', metrics = ['accuracy'])\r\n",
        "\r\n",
        "# Fitting the neural network for training\r\n",
        "history = model1.fit(X_train, y_train, validation_data = (X_val, y_val), batch_size = 200, epochs = 100, verbose = 1)"
      ],
      "execution_count": 32,
      "outputs": [
        {
          "output_type": "stream",
          "text": [
            "NN model with sigmoid activations - changing learning rate\n",
            "--------------------------------------------------------------------------------\n",
            "Epoch 1/100\n",
            "210/210 [==============================] - 1s 6ms/step - loss: 2.2988 - accuracy: 0.1411 - val_loss: 2.2986 - val_accuracy: 0.1469\n",
            "Epoch 2/100\n",
            "210/210 [==============================] - 1s 5ms/step - loss: 2.2984 - accuracy: 0.1538 - val_loss: 2.2986 - val_accuracy: 0.1489\n",
            "Epoch 3/100\n",
            "210/210 [==============================] - 1s 5ms/step - loss: 2.2982 - accuracy: 0.1492 - val_loss: 2.2986 - val_accuracy: 0.1486\n",
            "Epoch 4/100\n",
            "210/210 [==============================] - 1s 5ms/step - loss: 2.2984 - accuracy: 0.1522 - val_loss: 2.2986 - val_accuracy: 0.1478\n",
            "Epoch 5/100\n",
            "210/210 [==============================] - 1s 5ms/step - loss: 2.2984 - accuracy: 0.1471 - val_loss: 2.2986 - val_accuracy: 0.1478\n",
            "Epoch 6/100\n",
            "210/210 [==============================] - 1s 6ms/step - loss: 2.2984 - accuracy: 0.1530 - val_loss: 2.2986 - val_accuracy: 0.1477\n",
            "Epoch 7/100\n",
            "210/210 [==============================] - 1s 5ms/step - loss: 2.2982 - accuracy: 0.1498 - val_loss: 2.2986 - val_accuracy: 0.1480\n",
            "Epoch 8/100\n",
            "210/210 [==============================] - 1s 5ms/step - loss: 2.2982 - accuracy: 0.1517 - val_loss: 2.2986 - val_accuracy: 0.1474\n",
            "Epoch 9/100\n",
            "210/210 [==============================] - 1s 5ms/step - loss: 2.2983 - accuracy: 0.1468 - val_loss: 2.2986 - val_accuracy: 0.1470\n",
            "Epoch 10/100\n",
            "210/210 [==============================] - 1s 6ms/step - loss: 2.2984 - accuracy: 0.1471 - val_loss: 2.2986 - val_accuracy: 0.1468\n",
            "Epoch 11/100\n",
            "210/210 [==============================] - 1s 5ms/step - loss: 2.2981 - accuracy: 0.1519 - val_loss: 2.2986 - val_accuracy: 0.1468\n",
            "Epoch 12/100\n",
            "210/210 [==============================] - 1s 5ms/step - loss: 2.2981 - accuracy: 0.1473 - val_loss: 2.2986 - val_accuracy: 0.1472\n",
            "Epoch 13/100\n",
            "210/210 [==============================] - 1s 5ms/step - loss: 2.2983 - accuracy: 0.1495 - val_loss: 2.2986 - val_accuracy: 0.1473\n",
            "Epoch 14/100\n",
            "210/210 [==============================] - 1s 5ms/step - loss: 2.2982 - accuracy: 0.1493 - val_loss: 2.2986 - val_accuracy: 0.1475\n",
            "Epoch 15/100\n",
            "210/210 [==============================] - 1s 5ms/step - loss: 2.2985 - accuracy: 0.1480 - val_loss: 2.2986 - val_accuracy: 0.1474\n",
            "Epoch 16/100\n",
            "210/210 [==============================] - 1s 5ms/step - loss: 2.2984 - accuracy: 0.1493 - val_loss: 2.2986 - val_accuracy: 0.1473\n",
            "Epoch 17/100\n",
            "210/210 [==============================] - 1s 5ms/step - loss: 2.2982 - accuracy: 0.1480 - val_loss: 2.2986 - val_accuracy: 0.1469\n",
            "Epoch 18/100\n",
            "210/210 [==============================] - 1s 5ms/step - loss: 2.2984 - accuracy: 0.1482 - val_loss: 2.2986 - val_accuracy: 0.1474\n",
            "Epoch 19/100\n",
            "210/210 [==============================] - 1s 6ms/step - loss: 2.2987 - accuracy: 0.1457 - val_loss: 2.2986 - val_accuracy: 0.1472\n",
            "Epoch 20/100\n",
            "210/210 [==============================] - 1s 5ms/step - loss: 2.2983 - accuracy: 0.1470 - val_loss: 2.2986 - val_accuracy: 0.1474\n",
            "Epoch 21/100\n",
            "210/210 [==============================] - 1s 5ms/step - loss: 2.2985 - accuracy: 0.1469 - val_loss: 2.2986 - val_accuracy: 0.1474\n",
            "Epoch 22/100\n",
            "210/210 [==============================] - 1s 5ms/step - loss: 2.2981 - accuracy: 0.1491 - val_loss: 2.2985 - val_accuracy: 0.1472\n",
            "Epoch 23/100\n",
            "210/210 [==============================] - 1s 5ms/step - loss: 2.2983 - accuracy: 0.1483 - val_loss: 2.2985 - val_accuracy: 0.1486\n",
            "Epoch 24/100\n",
            "210/210 [==============================] - 1s 5ms/step - loss: 2.2985 - accuracy: 0.1481 - val_loss: 2.2985 - val_accuracy: 0.1479\n",
            "Epoch 25/100\n",
            "210/210 [==============================] - 1s 5ms/step - loss: 2.2984 - accuracy: 0.1496 - val_loss: 2.2985 - val_accuracy: 0.1473\n",
            "Epoch 26/100\n",
            "210/210 [==============================] - 1s 5ms/step - loss: 2.2986 - accuracy: 0.1478 - val_loss: 2.2985 - val_accuracy: 0.1474\n",
            "Epoch 27/100\n",
            "210/210 [==============================] - 1s 5ms/step - loss: 2.2984 - accuracy: 0.1468 - val_loss: 2.2985 - val_accuracy: 0.1470\n",
            "Epoch 28/100\n",
            "210/210 [==============================] - 1s 5ms/step - loss: 2.2985 - accuracy: 0.1463 - val_loss: 2.2985 - val_accuracy: 0.1474\n",
            "Epoch 29/100\n",
            "210/210 [==============================] - 1s 5ms/step - loss: 2.2985 - accuracy: 0.1472 - val_loss: 2.2985 - val_accuracy: 0.1473\n",
            "Epoch 30/100\n",
            "210/210 [==============================] - 1s 5ms/step - loss: 2.2983 - accuracy: 0.1471 - val_loss: 2.2985 - val_accuracy: 0.1467\n",
            "Epoch 31/100\n",
            "210/210 [==============================] - 1s 5ms/step - loss: 2.2980 - accuracy: 0.1522 - val_loss: 2.2985 - val_accuracy: 0.1474\n",
            "Epoch 32/100\n",
            "210/210 [==============================] - 1s 5ms/step - loss: 2.2983 - accuracy: 0.1468 - val_loss: 2.2985 - val_accuracy: 0.1480\n",
            "Epoch 33/100\n",
            "210/210 [==============================] - 1s 5ms/step - loss: 2.2982 - accuracy: 0.1508 - val_loss: 2.2985 - val_accuracy: 0.1467\n",
            "Epoch 34/100\n",
            "210/210 [==============================] - 1s 5ms/step - loss: 2.2987 - accuracy: 0.1456 - val_loss: 2.2985 - val_accuracy: 0.1468\n",
            "Epoch 35/100\n",
            "210/210 [==============================] - 1s 5ms/step - loss: 2.2983 - accuracy: 0.1505 - val_loss: 2.2985 - val_accuracy: 0.1472\n",
            "Epoch 36/100\n",
            "210/210 [==============================] - 1s 5ms/step - loss: 2.2982 - accuracy: 0.1521 - val_loss: 2.2985 - val_accuracy: 0.1469\n",
            "Epoch 37/100\n",
            "210/210 [==============================] - 1s 5ms/step - loss: 2.2981 - accuracy: 0.1480 - val_loss: 2.2985 - val_accuracy: 0.1474\n",
            "Epoch 38/100\n",
            "210/210 [==============================] - 1s 5ms/step - loss: 2.2982 - accuracy: 0.1501 - val_loss: 2.2985 - val_accuracy: 0.1481\n",
            "Epoch 39/100\n",
            "210/210 [==============================] - 1s 5ms/step - loss: 2.2982 - accuracy: 0.1479 - val_loss: 2.2985 - val_accuracy: 0.1485\n",
            "Epoch 40/100\n",
            "210/210 [==============================] - 1s 5ms/step - loss: 2.2982 - accuracy: 0.1500 - val_loss: 2.2985 - val_accuracy: 0.1481\n",
            "Epoch 41/100\n",
            "210/210 [==============================] - 1s 5ms/step - loss: 2.2983 - accuracy: 0.1494 - val_loss: 2.2985 - val_accuracy: 0.1475\n",
            "Epoch 42/100\n",
            "210/210 [==============================] - 1s 5ms/step - loss: 2.2984 - accuracy: 0.1458 - val_loss: 2.2985 - val_accuracy: 0.1476\n",
            "Epoch 43/100\n",
            "210/210 [==============================] - 1s 5ms/step - loss: 2.2982 - accuracy: 0.1469 - val_loss: 2.2985 - val_accuracy: 0.1487\n",
            "Epoch 44/100\n",
            "210/210 [==============================] - 1s 5ms/step - loss: 2.2982 - accuracy: 0.1500 - val_loss: 2.2984 - val_accuracy: 0.1483\n",
            "Epoch 45/100\n",
            "210/210 [==============================] - 1s 5ms/step - loss: 2.2984 - accuracy: 0.1502 - val_loss: 2.2984 - val_accuracy: 0.1481\n",
            "Epoch 46/100\n",
            "210/210 [==============================] - 1s 5ms/step - loss: 2.2982 - accuracy: 0.1482 - val_loss: 2.2984 - val_accuracy: 0.1485\n",
            "Epoch 47/100\n",
            "210/210 [==============================] - 1s 5ms/step - loss: 2.2982 - accuracy: 0.1490 - val_loss: 2.2984 - val_accuracy: 0.1487\n",
            "Epoch 48/100\n",
            "210/210 [==============================] - 1s 6ms/step - loss: 2.2981 - accuracy: 0.1503 - val_loss: 2.2984 - val_accuracy: 0.1483\n",
            "Epoch 49/100\n",
            "210/210 [==============================] - 1s 5ms/step - loss: 2.2984 - accuracy: 0.1512 - val_loss: 2.2984 - val_accuracy: 0.1478\n",
            "Epoch 50/100\n",
            "210/210 [==============================] - 1s 5ms/step - loss: 2.2980 - accuracy: 0.1506 - val_loss: 2.2984 - val_accuracy: 0.1482\n",
            "Epoch 51/100\n",
            "210/210 [==============================] - 1s 6ms/step - loss: 2.2979 - accuracy: 0.1500 - val_loss: 2.2984 - val_accuracy: 0.1479\n",
            "Epoch 52/100\n",
            "210/210 [==============================] - 1s 5ms/step - loss: 2.2981 - accuracy: 0.1515 - val_loss: 2.2984 - val_accuracy: 0.1471\n",
            "Epoch 53/100\n",
            "210/210 [==============================] - 1s 6ms/step - loss: 2.2981 - accuracy: 0.1463 - val_loss: 2.2984 - val_accuracy: 0.1476\n",
            "Epoch 54/100\n",
            "210/210 [==============================] - 1s 5ms/step - loss: 2.2982 - accuracy: 0.1465 - val_loss: 2.2984 - val_accuracy: 0.1476\n",
            "Epoch 55/100\n",
            "210/210 [==============================] - 1s 5ms/step - loss: 2.2981 - accuracy: 0.1484 - val_loss: 2.2984 - val_accuracy: 0.1480\n",
            "Epoch 56/100\n",
            "210/210 [==============================] - 1s 6ms/step - loss: 2.2981 - accuracy: 0.1510 - val_loss: 2.2984 - val_accuracy: 0.1483\n",
            "Epoch 57/100\n",
            "210/210 [==============================] - 1s 5ms/step - loss: 2.2980 - accuracy: 0.1497 - val_loss: 2.2984 - val_accuracy: 0.1482\n",
            "Epoch 58/100\n",
            "210/210 [==============================] - 1s 6ms/step - loss: 2.2981 - accuracy: 0.1525 - val_loss: 2.2984 - val_accuracy: 0.1486\n",
            "Epoch 59/100\n",
            "210/210 [==============================] - 1s 5ms/step - loss: 2.2984 - accuracy: 0.1513 - val_loss: 2.2984 - val_accuracy: 0.1489\n",
            "Epoch 60/100\n",
            "210/210 [==============================] - 1s 6ms/step - loss: 2.2980 - accuracy: 0.1490 - val_loss: 2.2984 - val_accuracy: 0.1489\n",
            "Epoch 61/100\n",
            "210/210 [==============================] - 1s 6ms/step - loss: 2.2980 - accuracy: 0.1534 - val_loss: 2.2984 - val_accuracy: 0.1478\n",
            "Epoch 62/100\n",
            "210/210 [==============================] - 1s 5ms/step - loss: 2.2984 - accuracy: 0.1471 - val_loss: 2.2984 - val_accuracy: 0.1488\n",
            "Epoch 63/100\n",
            "210/210 [==============================] - 1s 6ms/step - loss: 2.2985 - accuracy: 0.1470 - val_loss: 2.2984 - val_accuracy: 0.1488\n",
            "Epoch 64/100\n",
            "210/210 [==============================] - 1s 6ms/step - loss: 2.2983 - accuracy: 0.1515 - val_loss: 2.2984 - val_accuracy: 0.1482\n",
            "Epoch 65/100\n",
            "210/210 [==============================] - 1s 6ms/step - loss: 2.2985 - accuracy: 0.1481 - val_loss: 2.2984 - val_accuracy: 0.1475\n",
            "Epoch 66/100\n",
            "210/210 [==============================] - 1s 5ms/step - loss: 2.2979 - accuracy: 0.1458 - val_loss: 2.2983 - val_accuracy: 0.1474\n",
            "Epoch 67/100\n",
            "210/210 [==============================] - 1s 5ms/step - loss: 2.2980 - accuracy: 0.1525 - val_loss: 2.2983 - val_accuracy: 0.1472\n",
            "Epoch 68/100\n",
            "210/210 [==============================] - 1s 6ms/step - loss: 2.2980 - accuracy: 0.1489 - val_loss: 2.2983 - val_accuracy: 0.1474\n",
            "Epoch 69/100\n",
            "210/210 [==============================] - 1s 5ms/step - loss: 2.2982 - accuracy: 0.1468 - val_loss: 2.2983 - val_accuracy: 0.1483\n",
            "Epoch 70/100\n",
            "210/210 [==============================] - 1s 5ms/step - loss: 2.2984 - accuracy: 0.1468 - val_loss: 2.2983 - val_accuracy: 0.1488\n",
            "Epoch 71/100\n",
            "210/210 [==============================] - 1s 5ms/step - loss: 2.2980 - accuracy: 0.1511 - val_loss: 2.2983 - val_accuracy: 0.1487\n",
            "Epoch 72/100\n",
            "210/210 [==============================] - 1s 5ms/step - loss: 2.2980 - accuracy: 0.1509 - val_loss: 2.2983 - val_accuracy: 0.1488\n",
            "Epoch 73/100\n",
            "210/210 [==============================] - 1s 5ms/step - loss: 2.2982 - accuracy: 0.1504 - val_loss: 2.2983 - val_accuracy: 0.1491\n",
            "Epoch 74/100\n",
            "210/210 [==============================] - 1s 5ms/step - loss: 2.2982 - accuracy: 0.1522 - val_loss: 2.2983 - val_accuracy: 0.1487\n",
            "Epoch 75/100\n",
            "210/210 [==============================] - 1s 5ms/step - loss: 2.2982 - accuracy: 0.1505 - val_loss: 2.2983 - val_accuracy: 0.1480\n",
            "Epoch 76/100\n",
            "210/210 [==============================] - 1s 5ms/step - loss: 2.2979 - accuracy: 0.1501 - val_loss: 2.2983 - val_accuracy: 0.1488\n",
            "Epoch 77/100\n",
            "210/210 [==============================] - 1s 5ms/step - loss: 2.2982 - accuracy: 0.1491 - val_loss: 2.2983 - val_accuracy: 0.1481\n",
            "Epoch 78/100\n",
            "210/210 [==============================] - 1s 5ms/step - loss: 2.2981 - accuracy: 0.1518 - val_loss: 2.2983 - val_accuracy: 0.1481\n",
            "Epoch 79/100\n",
            "210/210 [==============================] - 1s 5ms/step - loss: 2.2979 - accuracy: 0.1497 - val_loss: 2.2983 - val_accuracy: 0.1479\n",
            "Epoch 80/100\n",
            "210/210 [==============================] - 1s 5ms/step - loss: 2.2978 - accuracy: 0.1503 - val_loss: 2.2983 - val_accuracy: 0.1483\n",
            "Epoch 81/100\n",
            "210/210 [==============================] - 1s 5ms/step - loss: 2.2980 - accuracy: 0.1507 - val_loss: 2.2983 - val_accuracy: 0.1487\n",
            "Epoch 82/100\n",
            "210/210 [==============================] - 1s 6ms/step - loss: 2.2983 - accuracy: 0.1516 - val_loss: 2.2983 - val_accuracy: 0.1480\n",
            "Epoch 83/100\n",
            "210/210 [==============================] - 1s 5ms/step - loss: 2.2979 - accuracy: 0.1485 - val_loss: 2.2983 - val_accuracy: 0.1480\n",
            "Epoch 84/100\n",
            "210/210 [==============================] - 1s 5ms/step - loss: 2.2979 - accuracy: 0.1504 - val_loss: 2.2983 - val_accuracy: 0.1489\n",
            "Epoch 85/100\n",
            "210/210 [==============================] - 1s 6ms/step - loss: 2.2979 - accuracy: 0.1529 - val_loss: 2.2983 - val_accuracy: 0.1485\n",
            "Epoch 86/100\n",
            "210/210 [==============================] - 1s 6ms/step - loss: 2.2981 - accuracy: 0.1482 - val_loss: 2.2983 - val_accuracy: 0.1482\n",
            "Epoch 87/100\n",
            "210/210 [==============================] - 1s 5ms/step - loss: 2.2981 - accuracy: 0.1507 - val_loss: 2.2982 - val_accuracy: 0.1497\n",
            "Epoch 88/100\n",
            "210/210 [==============================] - 1s 5ms/step - loss: 2.2980 - accuracy: 0.1529 - val_loss: 2.2982 - val_accuracy: 0.1497\n",
            "Epoch 89/100\n",
            "210/210 [==============================] - 1s 5ms/step - loss: 2.2982 - accuracy: 0.1490 - val_loss: 2.2982 - val_accuracy: 0.1493\n",
            "Epoch 90/100\n",
            "210/210 [==============================] - 1s 5ms/step - loss: 2.2982 - accuracy: 0.1492 - val_loss: 2.2982 - val_accuracy: 0.1491\n",
            "Epoch 91/100\n",
            "210/210 [==============================] - 1s 5ms/step - loss: 2.2980 - accuracy: 0.1490 - val_loss: 2.2982 - val_accuracy: 0.1493\n",
            "Epoch 92/100\n",
            "210/210 [==============================] - 1s 5ms/step - loss: 2.2979 - accuracy: 0.1505 - val_loss: 2.2982 - val_accuracy: 0.1500\n",
            "Epoch 93/100\n",
            "210/210 [==============================] - 1s 5ms/step - loss: 2.2981 - accuracy: 0.1509 - val_loss: 2.2982 - val_accuracy: 0.1502\n",
            "Epoch 94/100\n",
            "210/210 [==============================] - 1s 5ms/step - loss: 2.2979 - accuracy: 0.1563 - val_loss: 2.2982 - val_accuracy: 0.1496\n",
            "Epoch 95/100\n",
            "210/210 [==============================] - 1s 5ms/step - loss: 2.2981 - accuracy: 0.1512 - val_loss: 2.2982 - val_accuracy: 0.1488\n",
            "Epoch 96/100\n",
            "210/210 [==============================] - 1s 5ms/step - loss: 2.2978 - accuracy: 0.1474 - val_loss: 2.2982 - val_accuracy: 0.1495\n",
            "Epoch 97/100\n",
            "210/210 [==============================] - 1s 5ms/step - loss: 2.2979 - accuracy: 0.1540 - val_loss: 2.2982 - val_accuracy: 0.1491\n",
            "Epoch 98/100\n",
            "210/210 [==============================] - 1s 5ms/step - loss: 2.2979 - accuracy: 0.1508 - val_loss: 2.2982 - val_accuracy: 0.1491\n",
            "Epoch 99/100\n",
            "210/210 [==============================] - 1s 5ms/step - loss: 2.2980 - accuracy: 0.1475 - val_loss: 2.2982 - val_accuracy: 0.1498\n",
            "Epoch 100/100\n",
            "210/210 [==============================] - 1s 5ms/step - loss: 2.2977 - accuracy: 0.1487 - val_loss: 2.2982 - val_accuracy: 0.1508\n"
          ],
          "name": "stdout"
        }
      ]
    },
    {
      "cell_type": "code",
      "metadata": {
        "id": "HngOoMkGJKW5",
        "colab": {
          "base_uri": "https://localhost:8080/"
        },
        "outputId": "46a21422-08b1-46cc-b6e8-61c37c9ea59f"
      },
      "source": [
        "print('Evaluate NN model with sigmoid activations - changing learning rate'); print('--'*40)\r\n",
        "results1 = model1.evaluate(X_val, y_val)\r\n",
        "print('Validation accuracy: {}'.format(round(results1[1]*100, 2), '%'))"
      ],
      "execution_count": 33,
      "outputs": [
        {
          "output_type": "stream",
          "text": [
            "Evaluate NN model with sigmoid activations - changing learning rate\n",
            "--------------------------------------------------------------------------------\n",
            "1875/1875 [==============================] - 4s 2ms/step - loss: 2.2982 - accuracy: 0.1508\n",
            "Validation accuracy: 15.08\n"
          ],
          "name": "stdout"
        }
      ]
    },
    {
      "cell_type": "markdown",
      "metadata": {
        "id": "B-BKo4s3JMrz"
      },
      "source": [
        "**Observation 3 - NN model with sigmoid activations**\r\n",
        "\r\n",
        "*   Validation score is very low, changing learning rate further reduces it.\r\n",
        "*   Optimizing the network in order to better learn the patterns in the dataset.\r\n",
        "*   Best model out of the above is the one with lower learning rate using SGD optimizer and sigmoid activations. \r\n",
        "*   Next, let's use relu activations and see if the score improves.\r\n",
        "\r\n",
        "\r\n",
        "\r\n",
        "**NN model, relu activations, SGD optimizer**"
      ]
    },
    {
      "cell_type": "code",
      "metadata": {
        "id": "UR2WncxNJjjq",
        "colab": {
          "base_uri": "https://localhost:8080/"
        },
        "outputId": "7d53df0d-2412-4744-daa0-876e313e2276"
      },
      "source": [
        "%time\r\n",
        "print('NN model with relu activations and sgd optimizers'); print('--'*40)\r\n",
        "# Initialize the neural network classifier\r\n",
        "model2 = Sequential()\r\n",
        "\r\n",
        "# Input Layer - adding input layer and activation functions relu\r\n",
        "model2.add(Dense(128, input_shape = (1024, )))\r\n",
        "# Adding activation function\r\n",
        "model2.add(Activation('relu'))\r\n",
        "\r\n",
        "#Hidden Layer 1 - adding first hidden layer\r\n",
        "model2.add(Dense(64))\r\n",
        "# Adding activation function\r\n",
        "model2.add(Activation('relu'))\r\n",
        "\r\n",
        "# Output Layer - adding output layer which is of 10 nodes (digits)\r\n",
        "model2.add(Dense(10))\r\n",
        "# Adding activation function - softmax for multiclass classification\r\n",
        "model2.add(Activation('softmax'))"
      ],
      "execution_count": 34,
      "outputs": [
        {
          "output_type": "stream",
          "text": [
            "CPU times: user 2 µs, sys: 0 ns, total: 2 µs\n",
            "Wall time: 5.01 µs\n",
            "NN model with relu activations and sgd optimizers\n",
            "--------------------------------------------------------------------------------\n"
          ],
          "name": "stdout"
        }
      ]
    },
    {
      "cell_type": "code",
      "metadata": {
        "id": "QjytN5JwJndD",
        "colab": {
          "base_uri": "https://localhost:8080/"
        },
        "outputId": "ac1cb648-2ff9-4fee-8003-fcc8d49021e2"
      },
      "source": [
        "model2.summary()"
      ],
      "execution_count": 35,
      "outputs": [
        {
          "output_type": "stream",
          "text": [
            "Model: \"sequential_1\"\n",
            "_________________________________________________________________\n",
            "Layer (type)                 Output Shape              Param #   \n",
            "=================================================================\n",
            "dense_3 (Dense)              (None, 128)               131200    \n",
            "_________________________________________________________________\n",
            "activation_3 (Activation)    (None, 128)               0         \n",
            "_________________________________________________________________\n",
            "dense_4 (Dense)              (None, 64)                8256      \n",
            "_________________________________________________________________\n",
            "activation_4 (Activation)    (None, 64)                0         \n",
            "_________________________________________________________________\n",
            "dense_5 (Dense)              (None, 10)                650       \n",
            "_________________________________________________________________\n",
            "activation_5 (Activation)    (None, 10)                0         \n",
            "=================================================================\n",
            "Total params: 140,106\n",
            "Trainable params: 140,106\n",
            "Non-trainable params: 0\n",
            "_________________________________________________________________\n"
          ],
          "name": "stdout"
        }
      ]
    },
    {
      "cell_type": "code",
      "metadata": {
        "id": "zf88WxXhJrGR",
        "colab": {
          "base_uri": "https://localhost:8080/"
        },
        "outputId": "7c47ead3-864e-4853-c283-f7545f395e12"
      },
      "source": [
        "# compiling the neural network classifier, sgd optimizer\r\n",
        "sgd = optimizers.SGD(lr = 0.01)\r\n",
        "model2.compile(optimizer = sgd, loss = 'categorical_crossentropy', metrics = ['accuracy'])\r\n",
        "\r\n",
        "# Fitting the neural network for training\r\n",
        "history = model2.fit(X_train, y_train, validation_data = (X_val, y_val), batch_size = 200, epochs = 100, verbose = 1)"
      ],
      "execution_count": 36,
      "outputs": [
        {
          "output_type": "stream",
          "text": [
            "Epoch 1/100\n",
            "210/210 [==============================] - 2s 6ms/step - loss: 2.3101 - accuracy: 0.1155 - val_loss: 2.2903 - val_accuracy: 0.1455\n",
            "Epoch 2/100\n",
            "210/210 [==============================] - 1s 5ms/step - loss: 2.2879 - accuracy: 0.1492 - val_loss: 2.2813 - val_accuracy: 0.1431\n",
            "Epoch 3/100\n",
            "210/210 [==============================] - 1s 5ms/step - loss: 2.2770 - accuracy: 0.1656 - val_loss: 2.2672 - val_accuracy: 0.1981\n",
            "Epoch 4/100\n",
            "210/210 [==============================] - 1s 5ms/step - loss: 2.2655 - accuracy: 0.1926 - val_loss: 2.2535 - val_accuracy: 0.2119\n",
            "Epoch 5/100\n",
            "210/210 [==============================] - 1s 5ms/step - loss: 2.2501 - accuracy: 0.2132 - val_loss: 2.2360 - val_accuracy: 0.2342\n",
            "Epoch 6/100\n",
            "210/210 [==============================] - 1s 5ms/step - loss: 2.2305 - accuracy: 0.2531 - val_loss: 2.2134 - val_accuracy: 0.2679\n",
            "Epoch 7/100\n",
            "210/210 [==============================] - 1s 5ms/step - loss: 2.2081 - accuracy: 0.2650 - val_loss: 2.1887 - val_accuracy: 0.2767\n",
            "Epoch 8/100\n",
            "210/210 [==============================] - 1s 5ms/step - loss: 2.1789 - accuracy: 0.2893 - val_loss: 2.1535 - val_accuracy: 0.3088\n",
            "Epoch 9/100\n",
            "210/210 [==============================] - 1s 5ms/step - loss: 2.1455 - accuracy: 0.3044 - val_loss: 2.1144 - val_accuracy: 0.3355\n",
            "Epoch 10/100\n",
            "210/210 [==============================] - 1s 5ms/step - loss: 2.1024 - accuracy: 0.3329 - val_loss: 2.0700 - val_accuracy: 0.3456\n",
            "Epoch 11/100\n",
            "210/210 [==============================] - 1s 5ms/step - loss: 2.0537 - accuracy: 0.3528 - val_loss: 2.0152 - val_accuracy: 0.3742\n",
            "Epoch 12/100\n",
            "210/210 [==============================] - 1s 5ms/step - loss: 2.0029 - accuracy: 0.3752 - val_loss: 1.9622 - val_accuracy: 0.3867\n",
            "Epoch 13/100\n",
            "210/210 [==============================] - 1s 5ms/step - loss: 1.9490 - accuracy: 0.3897 - val_loss: 1.9065 - val_accuracy: 0.3962\n",
            "Epoch 14/100\n",
            "210/210 [==============================] - 1s 5ms/step - loss: 1.8928 - accuracy: 0.4141 - val_loss: 1.8400 - val_accuracy: 0.4293\n",
            "Epoch 15/100\n",
            "210/210 [==============================] - 1s 5ms/step - loss: 1.8267 - accuracy: 0.4354 - val_loss: 1.8001 - val_accuracy: 0.4216\n",
            "Epoch 16/100\n",
            "210/210 [==============================] - 1s 5ms/step - loss: 1.7772 - accuracy: 0.4514 - val_loss: 1.7332 - val_accuracy: 0.4653\n",
            "Epoch 17/100\n",
            "210/210 [==============================] - 1s 5ms/step - loss: 1.7122 - accuracy: 0.4765 - val_loss: 1.6750 - val_accuracy: 0.4826\n",
            "Epoch 18/100\n",
            "210/210 [==============================] - 1s 5ms/step - loss: 1.6669 - accuracy: 0.4921 - val_loss: 1.6547 - val_accuracy: 0.4771\n",
            "Epoch 19/100\n",
            "210/210 [==============================] - 1s 5ms/step - loss: 1.6244 - accuracy: 0.5027 - val_loss: 1.5871 - val_accuracy: 0.5193\n",
            "Epoch 20/100\n",
            "210/210 [==============================] - 1s 5ms/step - loss: 1.5840 - accuracy: 0.5177 - val_loss: 1.5438 - val_accuracy: 0.5311\n",
            "Epoch 21/100\n",
            "210/210 [==============================] - 1s 5ms/step - loss: 1.5395 - accuracy: 0.5299 - val_loss: 1.5090 - val_accuracy: 0.5468\n",
            "Epoch 22/100\n",
            "210/210 [==============================] - 1s 5ms/step - loss: 1.5098 - accuracy: 0.5465 - val_loss: 1.4884 - val_accuracy: 0.5560\n",
            "Epoch 23/100\n",
            "210/210 [==============================] - 1s 5ms/step - loss: 1.4722 - accuracy: 0.5563 - val_loss: 1.4447 - val_accuracy: 0.5649\n",
            "Epoch 24/100\n",
            "210/210 [==============================] - 1s 5ms/step - loss: 1.4410 - accuracy: 0.5725 - val_loss: 1.4145 - val_accuracy: 0.5763\n",
            "Epoch 25/100\n",
            "210/210 [==============================] - 1s 5ms/step - loss: 1.4113 - accuracy: 0.5789 - val_loss: 1.3765 - val_accuracy: 0.5976\n",
            "Epoch 26/100\n",
            "210/210 [==============================] - 1s 5ms/step - loss: 1.3809 - accuracy: 0.5891 - val_loss: 1.3578 - val_accuracy: 0.5893\n",
            "Epoch 27/100\n",
            "210/210 [==============================] - 1s 5ms/step - loss: 1.3533 - accuracy: 0.5984 - val_loss: 1.3966 - val_accuracy: 0.5615\n",
            "Epoch 28/100\n",
            "210/210 [==============================] - 1s 5ms/step - loss: 1.3356 - accuracy: 0.6027 - val_loss: 1.2955 - val_accuracy: 0.6210\n",
            "Epoch 29/100\n",
            "210/210 [==============================] - 1s 5ms/step - loss: 1.3103 - accuracy: 0.6125 - val_loss: 1.3255 - val_accuracy: 0.5976\n",
            "Epoch 30/100\n",
            "210/210 [==============================] - 1s 5ms/step - loss: 1.2766 - accuracy: 0.6239 - val_loss: 1.2521 - val_accuracy: 0.6356\n",
            "Epoch 31/100\n",
            "210/210 [==============================] - 1s 5ms/step - loss: 1.2615 - accuracy: 0.6266 - val_loss: 1.2258 - val_accuracy: 0.6451\n",
            "Epoch 32/100\n",
            "210/210 [==============================] - 1s 6ms/step - loss: 1.2492 - accuracy: 0.6279 - val_loss: 1.2662 - val_accuracy: 0.6173\n",
            "Epoch 33/100\n",
            "210/210 [==============================] - 1s 5ms/step - loss: 1.2106 - accuracy: 0.6439 - val_loss: 1.2524 - val_accuracy: 0.6124\n",
            "Epoch 34/100\n",
            "210/210 [==============================] - 1s 5ms/step - loss: 1.1967 - accuracy: 0.6489 - val_loss: 1.1825 - val_accuracy: 0.6537\n",
            "Epoch 35/100\n",
            "210/210 [==============================] - 1s 5ms/step - loss: 1.1787 - accuracy: 0.6510 - val_loss: 1.1531 - val_accuracy: 0.6635\n",
            "Epoch 36/100\n",
            "210/210 [==============================] - 1s 5ms/step - loss: 1.1553 - accuracy: 0.6592 - val_loss: 1.1464 - val_accuracy: 0.6634\n",
            "Epoch 37/100\n",
            "210/210 [==============================] - 1s 5ms/step - loss: 1.1461 - accuracy: 0.6620 - val_loss: 1.1619 - val_accuracy: 0.6516\n",
            "Epoch 38/100\n",
            "210/210 [==============================] - 1s 5ms/step - loss: 1.1411 - accuracy: 0.6591 - val_loss: 1.1211 - val_accuracy: 0.6700\n",
            "Epoch 39/100\n",
            "210/210 [==============================] - 1s 5ms/step - loss: 1.1174 - accuracy: 0.6689 - val_loss: 1.1107 - val_accuracy: 0.6724\n",
            "Epoch 40/100\n",
            "210/210 [==============================] - 1s 5ms/step - loss: 1.1059 - accuracy: 0.6743 - val_loss: 1.0829 - val_accuracy: 0.6814\n",
            "Epoch 41/100\n",
            "210/210 [==============================] - 1s 6ms/step - loss: 1.0867 - accuracy: 0.6781 - val_loss: 1.0625 - val_accuracy: 0.6891\n",
            "Epoch 42/100\n",
            "210/210 [==============================] - 1s 5ms/step - loss: 1.0790 - accuracy: 0.6783 - val_loss: 1.0578 - val_accuracy: 0.6879\n",
            "Epoch 43/100\n",
            "210/210 [==============================] - 1s 5ms/step - loss: 1.0638 - accuracy: 0.6850 - val_loss: 1.0562 - val_accuracy: 0.6899\n",
            "Epoch 44/100\n",
            "210/210 [==============================] - 1s 5ms/step - loss: 1.0529 - accuracy: 0.6858 - val_loss: 1.0378 - val_accuracy: 0.6935\n",
            "Epoch 45/100\n",
            "210/210 [==============================] - 1s 5ms/step - loss: 1.0443 - accuracy: 0.6887 - val_loss: 1.0144 - val_accuracy: 0.7031\n",
            "Epoch 46/100\n",
            "210/210 [==============================] - 1s 5ms/step - loss: 1.0380 - accuracy: 0.6876 - val_loss: 1.0096 - val_accuracy: 0.7039\n",
            "Epoch 47/100\n",
            "210/210 [==============================] - 1s 6ms/step - loss: 1.0162 - accuracy: 0.7003 - val_loss: 1.0300 - val_accuracy: 0.6915\n",
            "Epoch 48/100\n",
            "210/210 [==============================] - 1s 5ms/step - loss: 1.0098 - accuracy: 0.6995 - val_loss: 0.9939 - val_accuracy: 0.7059\n",
            "Epoch 49/100\n",
            "210/210 [==============================] - 1s 5ms/step - loss: 0.9955 - accuracy: 0.7037 - val_loss: 1.0121 - val_accuracy: 0.6959\n",
            "Epoch 50/100\n",
            "210/210 [==============================] - 1s 5ms/step - loss: 0.9924 - accuracy: 0.7048 - val_loss: 0.9728 - val_accuracy: 0.7137\n",
            "Epoch 51/100\n",
            "210/210 [==============================] - 1s 5ms/step - loss: 0.9846 - accuracy: 0.7044 - val_loss: 0.9747 - val_accuracy: 0.7122\n",
            "Epoch 52/100\n",
            "210/210 [==============================] - 1s 5ms/step - loss: 0.9700 - accuracy: 0.7127 - val_loss: 0.9576 - val_accuracy: 0.7163\n",
            "Epoch 53/100\n",
            "210/210 [==============================] - 1s 5ms/step - loss: 0.9653 - accuracy: 0.7157 - val_loss: 0.9473 - val_accuracy: 0.7218\n",
            "Epoch 54/100\n",
            "210/210 [==============================] - 1s 5ms/step - loss: 0.9511 - accuracy: 0.7162 - val_loss: 0.9535 - val_accuracy: 0.7186\n",
            "Epoch 55/100\n",
            "210/210 [==============================] - 1s 5ms/step - loss: 0.9419 - accuracy: 0.7213 - val_loss: 0.9376 - val_accuracy: 0.7242\n",
            "Epoch 56/100\n",
            "210/210 [==============================] - 1s 5ms/step - loss: 0.9336 - accuracy: 0.7212 - val_loss: 0.9333 - val_accuracy: 0.7241\n",
            "Epoch 57/100\n",
            "210/210 [==============================] - 1s 5ms/step - loss: 0.9307 - accuracy: 0.7265 - val_loss: 0.9518 - val_accuracy: 0.7146\n",
            "Epoch 58/100\n",
            "210/210 [==============================] - 1s 5ms/step - loss: 0.9183 - accuracy: 0.7285 - val_loss: 0.9276 - val_accuracy: 0.7261\n",
            "Epoch 59/100\n",
            "210/210 [==============================] - 1s 5ms/step - loss: 0.9200 - accuracy: 0.7287 - val_loss: 0.9218 - val_accuracy: 0.7254\n",
            "Epoch 60/100\n",
            "210/210 [==============================] - 1s 5ms/step - loss: 0.9173 - accuracy: 0.7289 - val_loss: 0.9154 - val_accuracy: 0.7283\n",
            "Epoch 61/100\n",
            "210/210 [==============================] - 1s 5ms/step - loss: 0.9158 - accuracy: 0.7278 - val_loss: 0.8817 - val_accuracy: 0.7425\n",
            "Epoch 62/100\n",
            "210/210 [==============================] - 1s 5ms/step - loss: 0.8885 - accuracy: 0.7379 - val_loss: 0.8791 - val_accuracy: 0.7406\n",
            "Epoch 63/100\n",
            "210/210 [==============================] - 1s 5ms/step - loss: 0.8884 - accuracy: 0.7388 - val_loss: 0.8911 - val_accuracy: 0.7379\n",
            "Epoch 64/100\n",
            "210/210 [==============================] - 1s 5ms/step - loss: 0.8810 - accuracy: 0.7412 - val_loss: 0.8767 - val_accuracy: 0.7414\n",
            "Epoch 65/100\n",
            "210/210 [==============================] - 1s 5ms/step - loss: 0.8707 - accuracy: 0.7443 - val_loss: 0.9102 - val_accuracy: 0.7281\n",
            "Epoch 66/100\n",
            "210/210 [==============================] - 1s 5ms/step - loss: 0.8595 - accuracy: 0.7417 - val_loss: 0.8871 - val_accuracy: 0.7371\n",
            "Epoch 67/100\n",
            "210/210 [==============================] - 1s 5ms/step - loss: 0.8669 - accuracy: 0.7449 - val_loss: 0.8438 - val_accuracy: 0.7534\n",
            "Epoch 68/100\n",
            "210/210 [==============================] - 1s 5ms/step - loss: 0.8546 - accuracy: 0.7456 - val_loss: 0.8457 - val_accuracy: 0.7517\n",
            "Epoch 69/100\n",
            "210/210 [==============================] - 1s 5ms/step - loss: 0.8533 - accuracy: 0.7487 - val_loss: 0.8503 - val_accuracy: 0.7465\n",
            "Epoch 70/100\n",
            "210/210 [==============================] - 1s 5ms/step - loss: 0.8428 - accuracy: 0.7477 - val_loss: 0.8626 - val_accuracy: 0.7438\n",
            "Epoch 71/100\n",
            "210/210 [==============================] - 1s 5ms/step - loss: 0.8412 - accuracy: 0.7498 - val_loss: 0.8382 - val_accuracy: 0.7529\n",
            "Epoch 72/100\n",
            "210/210 [==============================] - 1s 5ms/step - loss: 0.8378 - accuracy: 0.7502 - val_loss: 0.8147 - val_accuracy: 0.7630\n",
            "Epoch 73/100\n",
            "210/210 [==============================] - 1s 5ms/step - loss: 0.8340 - accuracy: 0.7519 - val_loss: 0.8383 - val_accuracy: 0.7515\n",
            "Epoch 74/100\n",
            "210/210 [==============================] - 1s 5ms/step - loss: 0.8173 - accuracy: 0.7587 - val_loss: 0.8175 - val_accuracy: 0.7613\n",
            "Epoch 75/100\n",
            "210/210 [==============================] - 1s 5ms/step - loss: 0.8261 - accuracy: 0.7550 - val_loss: 0.8407 - val_accuracy: 0.7497\n",
            "Epoch 76/100\n",
            "210/210 [==============================] - 1s 6ms/step - loss: 0.8006 - accuracy: 0.7616 - val_loss: 0.8016 - val_accuracy: 0.7640\n",
            "Epoch 77/100\n",
            "210/210 [==============================] - 1s 5ms/step - loss: 0.8101 - accuracy: 0.7614 - val_loss: 0.8073 - val_accuracy: 0.7615\n",
            "Epoch 78/100\n",
            "210/210 [==============================] - 1s 5ms/step - loss: 0.8027 - accuracy: 0.7624 - val_loss: 0.7975 - val_accuracy: 0.7663\n",
            "Epoch 79/100\n",
            "210/210 [==============================] - 1s 5ms/step - loss: 0.7937 - accuracy: 0.7668 - val_loss: 0.8299 - val_accuracy: 0.7514\n",
            "Epoch 80/100\n",
            "210/210 [==============================] - 1s 5ms/step - loss: 0.7929 - accuracy: 0.7647 - val_loss: 0.7829 - val_accuracy: 0.7713\n",
            "Epoch 81/100\n",
            "210/210 [==============================] - 1s 5ms/step - loss: 0.7930 - accuracy: 0.7676 - val_loss: 0.7846 - val_accuracy: 0.7707\n",
            "Epoch 82/100\n",
            "210/210 [==============================] - 1s 5ms/step - loss: 0.7815 - accuracy: 0.7697 - val_loss: 0.7665 - val_accuracy: 0.7766\n",
            "Epoch 83/100\n",
            "210/210 [==============================] - 1s 5ms/step - loss: 0.7853 - accuracy: 0.7676 - val_loss: 0.7733 - val_accuracy: 0.7732\n",
            "Epoch 84/100\n",
            "210/210 [==============================] - 1s 5ms/step - loss: 0.7597 - accuracy: 0.7766 - val_loss: 0.7712 - val_accuracy: 0.7750\n",
            "Epoch 85/100\n",
            "210/210 [==============================] - 1s 5ms/step - loss: 0.7704 - accuracy: 0.7735 - val_loss: 0.7583 - val_accuracy: 0.7803\n",
            "Epoch 86/100\n",
            "210/210 [==============================] - 1s 5ms/step - loss: 0.7663 - accuracy: 0.7739 - val_loss: 0.8013 - val_accuracy: 0.7618\n",
            "Epoch 87/100\n",
            "210/210 [==============================] - 1s 6ms/step - loss: 0.7685 - accuracy: 0.7735 - val_loss: 0.7596 - val_accuracy: 0.7788\n",
            "Epoch 88/100\n",
            "210/210 [==============================] - 1s 5ms/step - loss: 0.7549 - accuracy: 0.7754 - val_loss: 0.7641 - val_accuracy: 0.7769\n",
            "Epoch 89/100\n",
            "210/210 [==============================] - 1s 5ms/step - loss: 0.7556 - accuracy: 0.7748 - val_loss: 0.7675 - val_accuracy: 0.7717\n",
            "Epoch 90/100\n",
            "210/210 [==============================] - 1s 5ms/step - loss: 0.7563 - accuracy: 0.7765 - val_loss: 0.7412 - val_accuracy: 0.7837\n",
            "Epoch 91/100\n",
            "210/210 [==============================] - 1s 5ms/step - loss: 0.7446 - accuracy: 0.7798 - val_loss: 0.8739 - val_accuracy: 0.7376\n",
            "Epoch 92/100\n",
            "210/210 [==============================] - 1s 5ms/step - loss: 0.7339 - accuracy: 0.7833 - val_loss: 0.7271 - val_accuracy: 0.7896\n",
            "Epoch 93/100\n",
            "210/210 [==============================] - 1s 5ms/step - loss: 0.7343 - accuracy: 0.7806 - val_loss: 0.7536 - val_accuracy: 0.7783\n",
            "Epoch 94/100\n",
            "210/210 [==============================] - 1s 5ms/step - loss: 0.7108 - accuracy: 0.7871 - val_loss: 0.7602 - val_accuracy: 0.7715\n",
            "Epoch 95/100\n",
            "210/210 [==============================] - 1s 5ms/step - loss: 0.7192 - accuracy: 0.7861 - val_loss: 0.7271 - val_accuracy: 0.7874\n",
            "Epoch 96/100\n",
            "210/210 [==============================] - 1s 5ms/step - loss: 0.7198 - accuracy: 0.7869 - val_loss: 0.7396 - val_accuracy: 0.7828\n",
            "Epoch 97/100\n",
            "210/210 [==============================] - 1s 5ms/step - loss: 0.7220 - accuracy: 0.7856 - val_loss: 0.7415 - val_accuracy: 0.7811\n",
            "Epoch 98/100\n",
            "210/210 [==============================] - 1s 5ms/step - loss: 0.7094 - accuracy: 0.7928 - val_loss: 0.7342 - val_accuracy: 0.7833\n",
            "Epoch 99/100\n",
            "210/210 [==============================] - 1s 5ms/step - loss: 0.7163 - accuracy: 0.7868 - val_loss: 0.7629 - val_accuracy: 0.7704\n",
            "Epoch 100/100\n",
            "210/210 [==============================] - 1s 6ms/step - loss: 0.7000 - accuracy: 0.7922 - val_loss: 0.7212 - val_accuracy: 0.7904\n"
          ],
          "name": "stdout"
        }
      ]
    },
    {
      "cell_type": "code",
      "metadata": {
        "id": "U7NzaguYJ8tL",
        "colab": {
          "base_uri": "https://localhost:8080/"
        },
        "outputId": "74197255-b899-460c-9edc-819d87c49890"
      },
      "source": [
        "print('Evaluate NN model with relu activations'); print('--'*40)\r\n",
        "results2 = model2.evaluate(X_val, y_val)\r\n",
        "print('Validation accuracy: {}'.format(round(results2[1]*100, 2), '%'))"
      ],
      "execution_count": 37,
      "outputs": [
        {
          "output_type": "stream",
          "text": [
            "Evaluate NN model with relu activations\n",
            "--------------------------------------------------------------------------------\n",
            "1875/1875 [==============================] - 4s 2ms/step - loss: 0.7212 - accuracy: 0.7904\n",
            "Validation accuracy: 79.04\n"
          ],
          "name": "stdout"
        }
      ]
    },
    {
      "cell_type": "markdown",
      "metadata": {
        "id": "YbU4cVvsJ7gw"
      },
      "source": [
        "**NN model, relu activations, SGD optimizer, changing learning rate**\r\n"
      ]
    },
    {
      "cell_type": "code",
      "metadata": {
        "id": "0FilVpokKNbd",
        "colab": {
          "base_uri": "https://localhost:8080/"
        },
        "outputId": "717bd96d-49ba-479e-fe37-454928ae5122"
      },
      "source": [
        "%time\r\n",
        "print('NN model with relu activations and sgd optimizers - changing learning rate'); print('--'*40)\r\n",
        "# compiling the neural network classifier, sgd optimizer\r\n",
        "sgd = optimizers.SGD(lr = 0.001)\r\n",
        "model2.compile(optimizer = sgd, loss = 'categorical_crossentropy', metrics = ['accuracy'])\r\n",
        "\r\n",
        "# Fitting the neural network for training\r\n",
        "history = model2.fit(X_train, y_train, validation_data = (X_val, y_val), batch_size = 200, epochs = 100, verbose = 1)"
      ],
      "execution_count": 38,
      "outputs": [
        {
          "output_type": "stream",
          "text": [
            "CPU times: user 2 µs, sys: 0 ns, total: 2 µs\n",
            "Wall time: 4.53 µs\n",
            "NN model with relu activations and sgd optimizers - changing learning rate\n",
            "--------------------------------------------------------------------------------\n",
            "Epoch 1/100\n",
            "210/210 [==============================] - 2s 6ms/step - loss: 0.6588 - accuracy: 0.8101 - val_loss: 0.6859 - val_accuracy: 0.8011\n",
            "Epoch 2/100\n",
            "210/210 [==============================] - 1s 5ms/step - loss: 0.6641 - accuracy: 0.8064 - val_loss: 0.6858 - val_accuracy: 0.8019\n",
            "Epoch 3/100\n",
            "210/210 [==============================] - 1s 5ms/step - loss: 0.6659 - accuracy: 0.8082 - val_loss: 0.6846 - val_accuracy: 0.8015\n",
            "Epoch 4/100\n",
            "210/210 [==============================] - 1s 5ms/step - loss: 0.6704 - accuracy: 0.8057 - val_loss: 0.6845 - val_accuracy: 0.8025\n",
            "Epoch 5/100\n",
            "210/210 [==============================] - 1s 5ms/step - loss: 0.6591 - accuracy: 0.8094 - val_loss: 0.6836 - val_accuracy: 0.8030\n",
            "Epoch 6/100\n",
            "210/210 [==============================] - 1s 5ms/step - loss: 0.6650 - accuracy: 0.8071 - val_loss: 0.6837 - val_accuracy: 0.8021\n",
            "Epoch 7/100\n",
            "210/210 [==============================] - 1s 5ms/step - loss: 0.6665 - accuracy: 0.8076 - val_loss: 0.6832 - val_accuracy: 0.8025\n",
            "Epoch 8/100\n",
            "210/210 [==============================] - 1s 5ms/step - loss: 0.6615 - accuracy: 0.8052 - val_loss: 0.6824 - val_accuracy: 0.8026\n",
            "Epoch 9/100\n",
            "210/210 [==============================] - 1s 5ms/step - loss: 0.6532 - accuracy: 0.8098 - val_loss: 0.6819 - val_accuracy: 0.8034\n",
            "Epoch 10/100\n",
            "210/210 [==============================] - 1s 6ms/step - loss: 0.6626 - accuracy: 0.8095 - val_loss: 0.6823 - val_accuracy: 0.8026\n",
            "Epoch 11/100\n",
            "210/210 [==============================] - 1s 5ms/step - loss: 0.6506 - accuracy: 0.8133 - val_loss: 0.6813 - val_accuracy: 0.8028\n",
            "Epoch 12/100\n",
            "210/210 [==============================] - 1s 5ms/step - loss: 0.6570 - accuracy: 0.8096 - val_loss: 0.6808 - val_accuracy: 0.8036\n",
            "Epoch 13/100\n",
            "210/210 [==============================] - 1s 5ms/step - loss: 0.6633 - accuracy: 0.8093 - val_loss: 0.6823 - val_accuracy: 0.8021\n",
            "Epoch 14/100\n",
            "210/210 [==============================] - 1s 5ms/step - loss: 0.6526 - accuracy: 0.8074 - val_loss: 0.6802 - val_accuracy: 0.8030\n",
            "Epoch 15/100\n",
            "210/210 [==============================] - 1s 5ms/step - loss: 0.6503 - accuracy: 0.8122 - val_loss: 0.6802 - val_accuracy: 0.8034\n",
            "Epoch 16/100\n",
            "210/210 [==============================] - 1s 6ms/step - loss: 0.6593 - accuracy: 0.8088 - val_loss: 0.6811 - val_accuracy: 0.8029\n",
            "Epoch 17/100\n",
            "210/210 [==============================] - 1s 5ms/step - loss: 0.6590 - accuracy: 0.8088 - val_loss: 0.6802 - val_accuracy: 0.8033\n",
            "Epoch 18/100\n",
            "210/210 [==============================] - 1s 5ms/step - loss: 0.6600 - accuracy: 0.8091 - val_loss: 0.6794 - val_accuracy: 0.8035\n",
            "Epoch 19/100\n",
            "210/210 [==============================] - 1s 5ms/step - loss: 0.6626 - accuracy: 0.8085 - val_loss: 0.6783 - val_accuracy: 0.8040\n",
            "Epoch 20/100\n",
            "210/210 [==============================] - 1s 5ms/step - loss: 0.6624 - accuracy: 0.8086 - val_loss: 0.6784 - val_accuracy: 0.8038\n",
            "Epoch 21/100\n",
            "210/210 [==============================] - 1s 5ms/step - loss: 0.6581 - accuracy: 0.8097 - val_loss: 0.6787 - val_accuracy: 0.8037\n",
            "Epoch 22/100\n",
            "210/210 [==============================] - 1s 5ms/step - loss: 0.6642 - accuracy: 0.8066 - val_loss: 0.6778 - val_accuracy: 0.8037\n",
            "Epoch 23/100\n",
            "210/210 [==============================] - 1s 5ms/step - loss: 0.6521 - accuracy: 0.8120 - val_loss: 0.6782 - val_accuracy: 0.8040\n",
            "Epoch 24/100\n",
            "210/210 [==============================] - 1s 5ms/step - loss: 0.6595 - accuracy: 0.8076 - val_loss: 0.6769 - val_accuracy: 0.8049\n",
            "Epoch 25/100\n",
            "210/210 [==============================] - 1s 5ms/step - loss: 0.6543 - accuracy: 0.8115 - val_loss: 0.6763 - val_accuracy: 0.8046\n",
            "Epoch 26/100\n",
            "210/210 [==============================] - 1s 5ms/step - loss: 0.6542 - accuracy: 0.8123 - val_loss: 0.6777 - val_accuracy: 0.8036\n",
            "Epoch 27/100\n",
            "210/210 [==============================] - 1s 5ms/step - loss: 0.6516 - accuracy: 0.8144 - val_loss: 0.6760 - val_accuracy: 0.8044\n",
            "Epoch 28/100\n",
            "210/210 [==============================] - 1s 5ms/step - loss: 0.6495 - accuracy: 0.8106 - val_loss: 0.6760 - val_accuracy: 0.8051\n",
            "Epoch 29/100\n",
            "210/210 [==============================] - 1s 5ms/step - loss: 0.6526 - accuracy: 0.8110 - val_loss: 0.6750 - val_accuracy: 0.8050\n",
            "Epoch 30/100\n",
            "210/210 [==============================] - 1s 5ms/step - loss: 0.6530 - accuracy: 0.8135 - val_loss: 0.6759 - val_accuracy: 0.8051\n",
            "Epoch 31/100\n",
            "210/210 [==============================] - 1s 5ms/step - loss: 0.6534 - accuracy: 0.8122 - val_loss: 0.6746 - val_accuracy: 0.8048\n",
            "Epoch 32/100\n",
            "210/210 [==============================] - 1s 5ms/step - loss: 0.6519 - accuracy: 0.8088 - val_loss: 0.6744 - val_accuracy: 0.8049\n",
            "Epoch 33/100\n",
            "210/210 [==============================] - 1s 5ms/step - loss: 0.6402 - accuracy: 0.8151 - val_loss: 0.6735 - val_accuracy: 0.8055\n",
            "Epoch 34/100\n",
            "210/210 [==============================] - 1s 6ms/step - loss: 0.6400 - accuracy: 0.8170 - val_loss: 0.6733 - val_accuracy: 0.8057\n",
            "Epoch 35/100\n",
            "210/210 [==============================] - 1s 5ms/step - loss: 0.6480 - accuracy: 0.8125 - val_loss: 0.6726 - val_accuracy: 0.8062\n",
            "Epoch 36/100\n",
            "210/210 [==============================] - 1s 5ms/step - loss: 0.6451 - accuracy: 0.8135 - val_loss: 0.6736 - val_accuracy: 0.8052\n",
            "Epoch 37/100\n",
            "210/210 [==============================] - 1s 5ms/step - loss: 0.6486 - accuracy: 0.8127 - val_loss: 0.6741 - val_accuracy: 0.8051\n",
            "Epoch 38/100\n",
            "210/210 [==============================] - 1s 5ms/step - loss: 0.6462 - accuracy: 0.8128 - val_loss: 0.6719 - val_accuracy: 0.8059\n",
            "Epoch 39/100\n",
            "210/210 [==============================] - 1s 5ms/step - loss: 0.6458 - accuracy: 0.8133 - val_loss: 0.6725 - val_accuracy: 0.8061\n",
            "Epoch 40/100\n",
            "210/210 [==============================] - 1s 5ms/step - loss: 0.6481 - accuracy: 0.8134 - val_loss: 0.6723 - val_accuracy: 0.8057\n",
            "Epoch 41/100\n",
            "210/210 [==============================] - 1s 5ms/step - loss: 0.6457 - accuracy: 0.8121 - val_loss: 0.6710 - val_accuracy: 0.8061\n",
            "Epoch 42/100\n",
            "210/210 [==============================] - 1s 5ms/step - loss: 0.6415 - accuracy: 0.8138 - val_loss: 0.6706 - val_accuracy: 0.8062\n",
            "Epoch 43/100\n",
            "210/210 [==============================] - 1s 5ms/step - loss: 0.6392 - accuracy: 0.8140 - val_loss: 0.6700 - val_accuracy: 0.8066\n",
            "Epoch 44/100\n",
            "210/210 [==============================] - 1s 5ms/step - loss: 0.6365 - accuracy: 0.8169 - val_loss: 0.6696 - val_accuracy: 0.8069\n",
            "Epoch 45/100\n",
            "210/210 [==============================] - 1s 5ms/step - loss: 0.6449 - accuracy: 0.8131 - val_loss: 0.6694 - val_accuracy: 0.8065\n",
            "Epoch 46/100\n",
            "210/210 [==============================] - 1s 5ms/step - loss: 0.6505 - accuracy: 0.8098 - val_loss: 0.6696 - val_accuracy: 0.8071\n",
            "Epoch 47/100\n",
            "210/210 [==============================] - 1s 5ms/step - loss: 0.6438 - accuracy: 0.8136 - val_loss: 0.6690 - val_accuracy: 0.8074\n",
            "Epoch 48/100\n",
            "210/210 [==============================] - 1s 5ms/step - loss: 0.6435 - accuracy: 0.8130 - val_loss: 0.6686 - val_accuracy: 0.8073\n",
            "Epoch 49/100\n",
            "210/210 [==============================] - 1s 5ms/step - loss: 0.6390 - accuracy: 0.8167 - val_loss: 0.6681 - val_accuracy: 0.8069\n",
            "Epoch 50/100\n",
            "210/210 [==============================] - 1s 5ms/step - loss: 0.6446 - accuracy: 0.8133 - val_loss: 0.6680 - val_accuracy: 0.8074\n",
            "Epoch 51/100\n",
            "210/210 [==============================] - 1s 5ms/step - loss: 0.6410 - accuracy: 0.8144 - val_loss: 0.6676 - val_accuracy: 0.8075\n",
            "Epoch 52/100\n",
            "210/210 [==============================] - 1s 5ms/step - loss: 0.6452 - accuracy: 0.8144 - val_loss: 0.6688 - val_accuracy: 0.8070\n",
            "Epoch 53/100\n",
            "210/210 [==============================] - 1s 5ms/step - loss: 0.6444 - accuracy: 0.8146 - val_loss: 0.6669 - val_accuracy: 0.8079\n",
            "Epoch 54/100\n",
            "210/210 [==============================] - 1s 5ms/step - loss: 0.6443 - accuracy: 0.8134 - val_loss: 0.6662 - val_accuracy: 0.8079\n",
            "Epoch 55/100\n",
            "210/210 [==============================] - 1s 5ms/step - loss: 0.6406 - accuracy: 0.8147 - val_loss: 0.6665 - val_accuracy: 0.8076\n",
            "Epoch 56/100\n",
            "210/210 [==============================] - 1s 5ms/step - loss: 0.6387 - accuracy: 0.8158 - val_loss: 0.6653 - val_accuracy: 0.8079\n",
            "Epoch 57/100\n",
            "210/210 [==============================] - 1s 5ms/step - loss: 0.6364 - accuracy: 0.8165 - val_loss: 0.6664 - val_accuracy: 0.8082\n",
            "Epoch 58/100\n",
            "210/210 [==============================] - 1s 6ms/step - loss: 0.6408 - accuracy: 0.8141 - val_loss: 0.6648 - val_accuracy: 0.8084\n",
            "Epoch 59/100\n",
            "210/210 [==============================] - 1s 6ms/step - loss: 0.6405 - accuracy: 0.8176 - val_loss: 0.6650 - val_accuracy: 0.8082\n",
            "Epoch 60/100\n",
            "210/210 [==============================] - 1s 5ms/step - loss: 0.6486 - accuracy: 0.8131 - val_loss: 0.6652 - val_accuracy: 0.8082\n",
            "Epoch 61/100\n",
            "210/210 [==============================] - 1s 5ms/step - loss: 0.6491 - accuracy: 0.8125 - val_loss: 0.6652 - val_accuracy: 0.8080\n",
            "Epoch 62/100\n",
            "210/210 [==============================] - 1s 5ms/step - loss: 0.6388 - accuracy: 0.8155 - val_loss: 0.6636 - val_accuracy: 0.8086\n",
            "Epoch 63/100\n",
            "210/210 [==============================] - 1s 5ms/step - loss: 0.6414 - accuracy: 0.8132 - val_loss: 0.6641 - val_accuracy: 0.8085\n",
            "Epoch 64/100\n",
            "210/210 [==============================] - 1s 5ms/step - loss: 0.6370 - accuracy: 0.8162 - val_loss: 0.6657 - val_accuracy: 0.8078\n",
            "Epoch 65/100\n",
            "210/210 [==============================] - 1s 5ms/step - loss: 0.6314 - accuracy: 0.8164 - val_loss: 0.6638 - val_accuracy: 0.8083\n",
            "Epoch 66/100\n",
            "210/210 [==============================] - 1s 5ms/step - loss: 0.6319 - accuracy: 0.8167 - val_loss: 0.6626 - val_accuracy: 0.8086\n",
            "Epoch 67/100\n",
            "210/210 [==============================] - 1s 5ms/step - loss: 0.6305 - accuracy: 0.8176 - val_loss: 0.6627 - val_accuracy: 0.8091\n",
            "Epoch 68/100\n",
            "210/210 [==============================] - 1s 5ms/step - loss: 0.6324 - accuracy: 0.8182 - val_loss: 0.6618 - val_accuracy: 0.8091\n",
            "Epoch 69/100\n",
            "210/210 [==============================] - 1s 5ms/step - loss: 0.6433 - accuracy: 0.8129 - val_loss: 0.6618 - val_accuracy: 0.8098\n",
            "Epoch 70/100\n",
            "210/210 [==============================] - 1s 5ms/step - loss: 0.6333 - accuracy: 0.8165 - val_loss: 0.6614 - val_accuracy: 0.8093\n",
            "Epoch 71/100\n",
            "210/210 [==============================] - 1s 5ms/step - loss: 0.6423 - accuracy: 0.8132 - val_loss: 0.6608 - val_accuracy: 0.8089\n",
            "Epoch 72/100\n",
            "210/210 [==============================] - 1s 6ms/step - loss: 0.6422 - accuracy: 0.8114 - val_loss: 0.6602 - val_accuracy: 0.8098\n",
            "Epoch 73/100\n",
            "210/210 [==============================] - 1s 5ms/step - loss: 0.6417 - accuracy: 0.8126 - val_loss: 0.6621 - val_accuracy: 0.8092\n",
            "Epoch 74/100\n",
            "210/210 [==============================] - 1s 6ms/step - loss: 0.6352 - accuracy: 0.8172 - val_loss: 0.6606 - val_accuracy: 0.8099\n",
            "Epoch 75/100\n",
            "210/210 [==============================] - 1s 5ms/step - loss: 0.6420 - accuracy: 0.8163 - val_loss: 0.6598 - val_accuracy: 0.8096\n",
            "Epoch 76/100\n",
            "210/210 [==============================] - 1s 5ms/step - loss: 0.6307 - accuracy: 0.8171 - val_loss: 0.6602 - val_accuracy: 0.8098\n",
            "Epoch 77/100\n",
            "210/210 [==============================] - 1s 5ms/step - loss: 0.6350 - accuracy: 0.8153 - val_loss: 0.6596 - val_accuracy: 0.8100\n",
            "Epoch 78/100\n",
            "210/210 [==============================] - 1s 6ms/step - loss: 0.6397 - accuracy: 0.8135 - val_loss: 0.6596 - val_accuracy: 0.8104\n",
            "Epoch 79/100\n",
            "210/210 [==============================] - 1s 5ms/step - loss: 0.6326 - accuracy: 0.8185 - val_loss: 0.6599 - val_accuracy: 0.8094\n",
            "Epoch 80/100\n",
            "210/210 [==============================] - 1s 5ms/step - loss: 0.6364 - accuracy: 0.8155 - val_loss: 0.6587 - val_accuracy: 0.8104\n",
            "Epoch 81/100\n",
            "210/210 [==============================] - 1s 5ms/step - loss: 0.6374 - accuracy: 0.8171 - val_loss: 0.6581 - val_accuracy: 0.8105\n",
            "Epoch 82/100\n",
            "210/210 [==============================] - 1s 5ms/step - loss: 0.6359 - accuracy: 0.8166 - val_loss: 0.6574 - val_accuracy: 0.8108\n",
            "Epoch 83/100\n",
            "210/210 [==============================] - 1s 5ms/step - loss: 0.6357 - accuracy: 0.8153 - val_loss: 0.6572 - val_accuracy: 0.8106\n",
            "Epoch 84/100\n",
            "210/210 [==============================] - 1s 5ms/step - loss: 0.6229 - accuracy: 0.8206 - val_loss: 0.6574 - val_accuracy: 0.8105\n",
            "Epoch 85/100\n",
            "210/210 [==============================] - 1s 5ms/step - loss: 0.6369 - accuracy: 0.8152 - val_loss: 0.6567 - val_accuracy: 0.8106\n",
            "Epoch 86/100\n",
            "210/210 [==============================] - 1s 5ms/step - loss: 0.6370 - accuracy: 0.8158 - val_loss: 0.6571 - val_accuracy: 0.8100\n",
            "Epoch 87/100\n",
            "210/210 [==============================] - 1s 5ms/step - loss: 0.6342 - accuracy: 0.8185 - val_loss: 0.6556 - val_accuracy: 0.8110\n",
            "Epoch 88/100\n",
            "210/210 [==============================] - 1s 6ms/step - loss: 0.6327 - accuracy: 0.8150 - val_loss: 0.6573 - val_accuracy: 0.8110\n",
            "Epoch 89/100\n",
            "210/210 [==============================] - 1s 5ms/step - loss: 0.6336 - accuracy: 0.8165 - val_loss: 0.6557 - val_accuracy: 0.8109\n",
            "Epoch 90/100\n",
            "210/210 [==============================] - 1s 5ms/step - loss: 0.6357 - accuracy: 0.8161 - val_loss: 0.6550 - val_accuracy: 0.8113\n",
            "Epoch 91/100\n",
            "210/210 [==============================] - 1s 6ms/step - loss: 0.6289 - accuracy: 0.8188 - val_loss: 0.6559 - val_accuracy: 0.8109\n",
            "Epoch 92/100\n",
            "210/210 [==============================] - 1s 6ms/step - loss: 0.6205 - accuracy: 0.8208 - val_loss: 0.6543 - val_accuracy: 0.8115\n",
            "Epoch 93/100\n",
            "210/210 [==============================] - 1s 6ms/step - loss: 0.6266 - accuracy: 0.8194 - val_loss: 0.6561 - val_accuracy: 0.8109\n",
            "Epoch 94/100\n",
            "210/210 [==============================] - 1s 5ms/step - loss: 0.6147 - accuracy: 0.8227 - val_loss: 0.6547 - val_accuracy: 0.8121\n",
            "Epoch 95/100\n",
            "210/210 [==============================] - 1s 5ms/step - loss: 0.6221 - accuracy: 0.8212 - val_loss: 0.6553 - val_accuracy: 0.8106\n",
            "Epoch 96/100\n",
            "210/210 [==============================] - 1s 5ms/step - loss: 0.6256 - accuracy: 0.8188 - val_loss: 0.6541 - val_accuracy: 0.8114\n",
            "Epoch 97/100\n",
            "210/210 [==============================] - 1s 5ms/step - loss: 0.6306 - accuracy: 0.8173 - val_loss: 0.6536 - val_accuracy: 0.8124\n",
            "Epoch 98/100\n",
            "210/210 [==============================] - 1s 5ms/step - loss: 0.6239 - accuracy: 0.8186 - val_loss: 0.6534 - val_accuracy: 0.8118\n",
            "Epoch 99/100\n",
            "210/210 [==============================] - 1s 5ms/step - loss: 0.6272 - accuracy: 0.8181 - val_loss: 0.6521 - val_accuracy: 0.8123\n",
            "Epoch 100/100\n",
            "210/210 [==============================] - 1s 5ms/step - loss: 0.6176 - accuracy: 0.8217 - val_loss: 0.6523 - val_accuracy: 0.8121\n"
          ],
          "name": "stdout"
        }
      ]
    },
    {
      "cell_type": "code",
      "metadata": {
        "id": "Bw6blLAhKQuB",
        "colab": {
          "base_uri": "https://localhost:8080/"
        },
        "outputId": "70ff85a5-dd33-46a2-ceab-c1cc36bcf8e0"
      },
      "source": [
        "print('Evaluate NN model with relu activations'); print('--'*40)\r\n",
        "results2 = model2.evaluate(X_val, y_val)\r\n",
        "print('Validation accuracy: {}'.format(round(results2[1]*100, 2), '%'))"
      ],
      "execution_count": 39,
      "outputs": [
        {
          "output_type": "stream",
          "text": [
            "Evaluate NN model with relu activations\n",
            "--------------------------------------------------------------------------------\n",
            "1875/1875 [==============================] - 4s 2ms/step - loss: 0.6523 - accuracy: 0.8121\n",
            "Validation accuracy: 81.21\n"
          ],
          "name": "stdout"
        }
      ]
    },
    {
      "cell_type": "markdown",
      "metadata": {
        "id": "oi2ZE7xaDPY5"
      },
      "source": [
        "**NN model, relu activations, adam optimizer**"
      ]
    },
    {
      "cell_type": "code",
      "metadata": {
        "id": "C69F3WX0KfSx",
        "colab": {
          "base_uri": "https://localhost:8080/"
        },
        "outputId": "3464d878-6e91-4c21-b824-b3b155ecd487"
      },
      "source": [
        "%time\r\n",
        "print('NN model with relu activations and adam optimizer'); print('--'*40)\r\n",
        "# compiling the neural network classifier, adam optimizer\r\n",
        "adam = optimizers.Adam(lr = 0.01)\r\n",
        "model2.compile(optimizer = adam, loss = 'categorical_crossentropy', metrics = ['accuracy'])\r\n",
        "\r\n",
        "# Fitting the neural network for training\r\n",
        "history = model2.fit(X_train, y_train, validation_data = (X_val, y_val), batch_size = 200, epochs = 100, verbose = 1)"
      ],
      "execution_count": 40,
      "outputs": [
        {
          "output_type": "stream",
          "text": [
            "CPU times: user 3 µs, sys: 1 µs, total: 4 µs\n",
            "Wall time: 7.87 µs\n",
            "NN model with relu activations and adam optimizer\n",
            "--------------------------------------------------------------------------------\n",
            "Epoch 1/100\n",
            "210/210 [==============================] - 2s 6ms/step - loss: 6.9578 - accuracy: 0.1306 - val_loss: 2.2255 - val_accuracy: 0.1825\n",
            "Epoch 2/100\n",
            "210/210 [==============================] - 1s 5ms/step - loss: 2.1936 - accuracy: 0.1858 - val_loss: 2.0508 - val_accuracy: 0.2329\n",
            "Epoch 3/100\n",
            "210/210 [==============================] - 1s 5ms/step - loss: 1.9863 - accuracy: 0.2703 - val_loss: 1.8088 - val_accuracy: 0.3566\n",
            "Epoch 4/100\n",
            "210/210 [==============================] - 1s 5ms/step - loss: 1.6383 - accuracy: 0.4418 - val_loss: 1.4876 - val_accuracy: 0.4878\n",
            "Epoch 5/100\n",
            "210/210 [==============================] - 1s 5ms/step - loss: 1.4055 - accuracy: 0.5370 - val_loss: 1.3395 - val_accuracy: 0.5571\n",
            "Epoch 6/100\n",
            "210/210 [==============================] - 1s 5ms/step - loss: 1.2978 - accuracy: 0.5772 - val_loss: 1.2470 - val_accuracy: 0.5929\n",
            "Epoch 7/100\n",
            "210/210 [==============================] - 1s 5ms/step - loss: 1.2761 - accuracy: 0.5841 - val_loss: 1.2402 - val_accuracy: 0.5984\n",
            "Epoch 8/100\n",
            "210/210 [==============================] - 1s 5ms/step - loss: 1.2223 - accuracy: 0.6064 - val_loss: 1.2875 - val_accuracy: 0.5778\n",
            "Epoch 9/100\n",
            "210/210 [==============================] - 1s 5ms/step - loss: 1.2199 - accuracy: 0.6069 - val_loss: 1.2317 - val_accuracy: 0.5969\n",
            "Epoch 10/100\n",
            "210/210 [==============================] - 1s 5ms/step - loss: 1.1659 - accuracy: 0.6255 - val_loss: 1.1790 - val_accuracy: 0.6337\n",
            "Epoch 11/100\n",
            "210/210 [==============================] - 1s 5ms/step - loss: 1.1628 - accuracy: 0.6316 - val_loss: 1.2276 - val_accuracy: 0.6087\n",
            "Epoch 12/100\n",
            "210/210 [==============================] - 1s 5ms/step - loss: 1.1348 - accuracy: 0.6400 - val_loss: 1.0818 - val_accuracy: 0.6632\n",
            "Epoch 13/100\n",
            "210/210 [==============================] - 1s 5ms/step - loss: 1.1160 - accuracy: 0.6508 - val_loss: 1.1608 - val_accuracy: 0.6319\n",
            "Epoch 14/100\n",
            "210/210 [==============================] - 1s 5ms/step - loss: 1.1274 - accuracy: 0.6432 - val_loss: 1.1174 - val_accuracy: 0.6517\n",
            "Epoch 15/100\n",
            "210/210 [==============================] - 1s 5ms/step - loss: 1.0808 - accuracy: 0.6621 - val_loss: 1.1174 - val_accuracy: 0.6492\n",
            "Epoch 16/100\n",
            "210/210 [==============================] - 1s 5ms/step - loss: 1.0645 - accuracy: 0.6679 - val_loss: 1.0940 - val_accuracy: 0.6582\n",
            "Epoch 17/100\n",
            "210/210 [==============================] - 1s 5ms/step - loss: 1.0584 - accuracy: 0.6715 - val_loss: 1.0668 - val_accuracy: 0.6678\n",
            "Epoch 18/100\n",
            "210/210 [==============================] - 1s 5ms/step - loss: 1.0415 - accuracy: 0.6783 - val_loss: 1.0880 - val_accuracy: 0.6546\n",
            "Epoch 19/100\n",
            "210/210 [==============================] - 1s 5ms/step - loss: 1.0670 - accuracy: 0.6699 - val_loss: 1.0124 - val_accuracy: 0.6878\n",
            "Epoch 20/100\n",
            "210/210 [==============================] - 1s 5ms/step - loss: 1.0314 - accuracy: 0.6811 - val_loss: 1.0404 - val_accuracy: 0.6820\n",
            "Epoch 21/100\n",
            "210/210 [==============================] - 1s 5ms/step - loss: 1.0258 - accuracy: 0.6860 - val_loss: 1.0045 - val_accuracy: 0.6912\n",
            "Epoch 22/100\n",
            "210/210 [==============================] - 1s 5ms/step - loss: 1.0288 - accuracy: 0.6807 - val_loss: 1.0439 - val_accuracy: 0.6728\n",
            "Epoch 23/100\n",
            "210/210 [==============================] - 1s 5ms/step - loss: 1.0009 - accuracy: 0.6870 - val_loss: 0.9661 - val_accuracy: 0.7094\n",
            "Epoch 24/100\n",
            "210/210 [==============================] - 1s 5ms/step - loss: 0.9835 - accuracy: 0.6955 - val_loss: 1.0148 - val_accuracy: 0.6868\n",
            "Epoch 25/100\n",
            "210/210 [==============================] - 1s 5ms/step - loss: 0.9783 - accuracy: 0.6996 - val_loss: 1.0067 - val_accuracy: 0.6885\n",
            "Epoch 26/100\n",
            "210/210 [==============================] - 1s 5ms/step - loss: 0.9578 - accuracy: 0.7061 - val_loss: 0.9867 - val_accuracy: 0.7020\n",
            "Epoch 27/100\n",
            "210/210 [==============================] - 1s 5ms/step - loss: 0.9537 - accuracy: 0.7056 - val_loss: 1.0462 - val_accuracy: 0.6717\n",
            "Epoch 28/100\n",
            "210/210 [==============================] - 1s 5ms/step - loss: 0.9628 - accuracy: 0.7009 - val_loss: 1.0158 - val_accuracy: 0.6802\n",
            "Epoch 29/100\n",
            "210/210 [==============================] - 1s 5ms/step - loss: 0.9462 - accuracy: 0.7064 - val_loss: 0.9771 - val_accuracy: 0.6969\n",
            "Epoch 30/100\n",
            "210/210 [==============================] - 1s 5ms/step - loss: 0.9443 - accuracy: 0.7060 - val_loss: 0.9768 - val_accuracy: 0.6979\n",
            "Epoch 31/100\n",
            "210/210 [==============================] - 1s 5ms/step - loss: 0.9523 - accuracy: 0.7063 - val_loss: 0.9348 - val_accuracy: 0.7127\n",
            "Epoch 32/100\n",
            "210/210 [==============================] - 1s 5ms/step - loss: 0.9330 - accuracy: 0.7129 - val_loss: 0.9444 - val_accuracy: 0.7080\n",
            "Epoch 33/100\n",
            "210/210 [==============================] - 1s 5ms/step - loss: 0.9273 - accuracy: 0.7146 - val_loss: 0.9608 - val_accuracy: 0.7052\n",
            "Epoch 34/100\n",
            "210/210 [==============================] - 1s 6ms/step - loss: 0.9273 - accuracy: 0.7154 - val_loss: 0.9066 - val_accuracy: 0.7240\n",
            "Epoch 35/100\n",
            "210/210 [==============================] - 1s 6ms/step - loss: 0.9033 - accuracy: 0.7231 - val_loss: 0.9283 - val_accuracy: 0.7150\n",
            "Epoch 36/100\n",
            "210/210 [==============================] - 1s 5ms/step - loss: 0.9036 - accuracy: 0.7189 - val_loss: 0.9470 - val_accuracy: 0.7090\n",
            "Epoch 37/100\n",
            "210/210 [==============================] - 1s 6ms/step - loss: 0.9263 - accuracy: 0.7128 - val_loss: 0.9076 - val_accuracy: 0.7236\n",
            "Epoch 38/100\n",
            "210/210 [==============================] - 1s 6ms/step - loss: 0.9355 - accuracy: 0.7090 - val_loss: 0.8605 - val_accuracy: 0.7400\n",
            "Epoch 39/100\n",
            "210/210 [==============================] - 1s 6ms/step - loss: 0.8967 - accuracy: 0.7262 - val_loss: 0.9742 - val_accuracy: 0.7040\n",
            "Epoch 40/100\n",
            "210/210 [==============================] - 1s 6ms/step - loss: 0.9094 - accuracy: 0.7222 - val_loss: 1.0089 - val_accuracy: 0.6914\n",
            "Epoch 41/100\n",
            "210/210 [==============================] - 1s 5ms/step - loss: 0.9142 - accuracy: 0.7160 - val_loss: 0.9383 - val_accuracy: 0.7105\n",
            "Epoch 42/100\n",
            "210/210 [==============================] - 1s 5ms/step - loss: 0.9007 - accuracy: 0.7230 - val_loss: 0.9096 - val_accuracy: 0.7231\n",
            "Epoch 43/100\n",
            "210/210 [==============================] - 1s 5ms/step - loss: 0.8854 - accuracy: 0.7247 - val_loss: 0.8559 - val_accuracy: 0.7398\n",
            "Epoch 44/100\n",
            "210/210 [==============================] - 1s 5ms/step - loss: 0.8876 - accuracy: 0.7255 - val_loss: 0.9269 - val_accuracy: 0.7155\n",
            "Epoch 45/100\n",
            "210/210 [==============================] - 1s 5ms/step - loss: 0.8938 - accuracy: 0.7254 - val_loss: 0.8592 - val_accuracy: 0.7418\n",
            "Epoch 46/100\n",
            "210/210 [==============================] - 1s 5ms/step - loss: 0.8874 - accuracy: 0.7280 - val_loss: 0.8900 - val_accuracy: 0.7262\n",
            "Epoch 47/100\n",
            "210/210 [==============================] - 1s 5ms/step - loss: 0.8831 - accuracy: 0.7301 - val_loss: 0.8574 - val_accuracy: 0.7362\n",
            "Epoch 48/100\n",
            "210/210 [==============================] - 1s 6ms/step - loss: 0.8939 - accuracy: 0.7243 - val_loss: 0.9436 - val_accuracy: 0.7047\n",
            "Epoch 49/100\n",
            "210/210 [==============================] - 1s 6ms/step - loss: 0.8701 - accuracy: 0.7316 - val_loss: 0.9099 - val_accuracy: 0.7262\n",
            "Epoch 50/100\n",
            "210/210 [==============================] - 1s 5ms/step - loss: 0.8818 - accuracy: 0.7287 - val_loss: 0.8851 - val_accuracy: 0.7284\n",
            "Epoch 51/100\n",
            "210/210 [==============================] - 1s 5ms/step - loss: 0.8639 - accuracy: 0.7358 - val_loss: 0.8634 - val_accuracy: 0.7370\n",
            "Epoch 52/100\n",
            "210/210 [==============================] - 1s 5ms/step - loss: 0.8630 - accuracy: 0.7376 - val_loss: 0.8570 - val_accuracy: 0.7386\n",
            "Epoch 53/100\n",
            "210/210 [==============================] - 1s 5ms/step - loss: 0.8527 - accuracy: 0.7383 - val_loss: 0.8875 - val_accuracy: 0.7264\n",
            "Epoch 54/100\n",
            "210/210 [==============================] - 1s 5ms/step - loss: 0.8869 - accuracy: 0.7286 - val_loss: 0.8793 - val_accuracy: 0.7336\n",
            "Epoch 55/100\n",
            "210/210 [==============================] - 1s 5ms/step - loss: 0.8684 - accuracy: 0.7330 - val_loss: 0.8745 - val_accuracy: 0.7333\n",
            "Epoch 56/100\n",
            "210/210 [==============================] - 1s 5ms/step - loss: 0.8534 - accuracy: 0.7382 - val_loss: 0.9077 - val_accuracy: 0.7213\n",
            "Epoch 57/100\n",
            "210/210 [==============================] - 1s 6ms/step - loss: 0.8492 - accuracy: 0.7388 - val_loss: 0.9649 - val_accuracy: 0.7026\n",
            "Epoch 58/100\n",
            "210/210 [==============================] - 1s 5ms/step - loss: 0.8984 - accuracy: 0.7245 - val_loss: 0.8475 - val_accuracy: 0.7433\n",
            "Epoch 59/100\n",
            "210/210 [==============================] - 1s 5ms/step - loss: 0.8554 - accuracy: 0.7396 - val_loss: 0.8339 - val_accuracy: 0.7433\n",
            "Epoch 60/100\n",
            "210/210 [==============================] - 1s 5ms/step - loss: 0.8549 - accuracy: 0.7370 - val_loss: 0.8574 - val_accuracy: 0.7352\n",
            "Epoch 61/100\n",
            "210/210 [==============================] - 1s 5ms/step - loss: 0.8577 - accuracy: 0.7387 - val_loss: 0.8784 - val_accuracy: 0.7306\n",
            "Epoch 62/100\n",
            "210/210 [==============================] - 1s 5ms/step - loss: 0.8419 - accuracy: 0.7419 - val_loss: 0.8633 - val_accuracy: 0.7429\n",
            "Epoch 63/100\n",
            "210/210 [==============================] - 1s 5ms/step - loss: 0.8426 - accuracy: 0.7459 - val_loss: 0.8485 - val_accuracy: 0.7417\n",
            "Epoch 64/100\n",
            "210/210 [==============================] - 1s 5ms/step - loss: 0.8591 - accuracy: 0.7364 - val_loss: 0.8535 - val_accuracy: 0.7431\n",
            "Epoch 65/100\n",
            "210/210 [==============================] - 1s 6ms/step - loss: 0.8371 - accuracy: 0.7428 - val_loss: 0.8844 - val_accuracy: 0.7296\n",
            "Epoch 66/100\n",
            "210/210 [==============================] - 1s 5ms/step - loss: 0.8478 - accuracy: 0.7361 - val_loss: 0.8166 - val_accuracy: 0.7521\n",
            "Epoch 67/100\n",
            "210/210 [==============================] - 1s 5ms/step - loss: 0.8336 - accuracy: 0.7431 - val_loss: 0.8288 - val_accuracy: 0.7457\n",
            "Epoch 68/100\n",
            "210/210 [==============================] - 1s 5ms/step - loss: 0.8447 - accuracy: 0.7405 - val_loss: 0.8275 - val_accuracy: 0.7492\n",
            "Epoch 69/100\n",
            "210/210 [==============================] - 1s 5ms/step - loss: 0.8539 - accuracy: 0.7390 - val_loss: 0.8277 - val_accuracy: 0.7488\n",
            "Epoch 70/100\n",
            "210/210 [==============================] - 1s 5ms/step - loss: 0.8280 - accuracy: 0.7458 - val_loss: 0.8816 - val_accuracy: 0.7315\n",
            "Epoch 71/100\n",
            "210/210 [==============================] - 1s 5ms/step - loss: 0.8338 - accuracy: 0.7458 - val_loss: 0.8755 - val_accuracy: 0.7323\n",
            "Epoch 72/100\n",
            "210/210 [==============================] - 1s 5ms/step - loss: 0.8721 - accuracy: 0.7320 - val_loss: 0.8733 - val_accuracy: 0.7350\n",
            "Epoch 73/100\n",
            "210/210 [==============================] - 1s 5ms/step - loss: 0.8494 - accuracy: 0.7427 - val_loss: 0.8622 - val_accuracy: 0.7388\n",
            "Epoch 74/100\n",
            "210/210 [==============================] - 1s 5ms/step - loss: 0.8499 - accuracy: 0.7405 - val_loss: 0.8292 - val_accuracy: 0.7482\n",
            "Epoch 75/100\n",
            "210/210 [==============================] - 1s 5ms/step - loss: 0.8508 - accuracy: 0.7411 - val_loss: 0.8267 - val_accuracy: 0.7505\n",
            "Epoch 76/100\n",
            "210/210 [==============================] - 1s 5ms/step - loss: 0.8357 - accuracy: 0.7442 - val_loss: 0.8491 - val_accuracy: 0.7392\n",
            "Epoch 77/100\n",
            "210/210 [==============================] - 1s 5ms/step - loss: 0.8213 - accuracy: 0.7480 - val_loss: 0.9075 - val_accuracy: 0.7255\n",
            "Epoch 78/100\n",
            "210/210 [==============================] - 1s 5ms/step - loss: 0.8455 - accuracy: 0.7426 - val_loss: 0.8268 - val_accuracy: 0.7502\n",
            "Epoch 79/100\n",
            "210/210 [==============================] - 1s 5ms/step - loss: 0.8114 - accuracy: 0.7555 - val_loss: 0.8280 - val_accuracy: 0.7507\n",
            "Epoch 80/100\n",
            "210/210 [==============================] - 1s 5ms/step - loss: 0.8346 - accuracy: 0.7447 - val_loss: 0.8371 - val_accuracy: 0.7469\n",
            "Epoch 81/100\n",
            "210/210 [==============================] - 1s 5ms/step - loss: 0.8444 - accuracy: 0.7399 - val_loss: 0.8669 - val_accuracy: 0.7371\n",
            "Epoch 82/100\n",
            "210/210 [==============================] - 1s 5ms/step - loss: 0.8262 - accuracy: 0.7465 - val_loss: 0.8703 - val_accuracy: 0.7381\n",
            "Epoch 83/100\n",
            "210/210 [==============================] - 1s 5ms/step - loss: 0.8441 - accuracy: 0.7432 - val_loss: 0.8040 - val_accuracy: 0.7595\n",
            "Epoch 84/100\n",
            "210/210 [==============================] - 1s 5ms/step - loss: 0.8159 - accuracy: 0.7496 - val_loss: 0.8256 - val_accuracy: 0.7501\n",
            "Epoch 85/100\n",
            "210/210 [==============================] - 1s 6ms/step - loss: 0.8393 - accuracy: 0.7416 - val_loss: 0.8607 - val_accuracy: 0.7366\n",
            "Epoch 86/100\n",
            "210/210 [==============================] - 1s 5ms/step - loss: 0.8342 - accuracy: 0.7426 - val_loss: 0.8708 - val_accuracy: 0.7361\n",
            "Epoch 87/100\n",
            "210/210 [==============================] - 1s 6ms/step - loss: 0.8490 - accuracy: 0.7398 - val_loss: 0.8688 - val_accuracy: 0.7345\n",
            "Epoch 88/100\n",
            "210/210 [==============================] - 1s 5ms/step - loss: 0.8344 - accuracy: 0.7428 - val_loss: 0.8323 - val_accuracy: 0.7497\n",
            "Epoch 89/100\n",
            "210/210 [==============================] - 1s 5ms/step - loss: 0.8368 - accuracy: 0.7402 - val_loss: 0.8406 - val_accuracy: 0.7448\n",
            "Epoch 90/100\n",
            "210/210 [==============================] - 1s 5ms/step - loss: 0.8364 - accuracy: 0.7468 - val_loss: 0.8484 - val_accuracy: 0.7433\n",
            "Epoch 91/100\n",
            "210/210 [==============================] - 1s 5ms/step - loss: 0.8328 - accuracy: 0.7475 - val_loss: 0.8891 - val_accuracy: 0.7273\n",
            "Epoch 92/100\n",
            "210/210 [==============================] - 1s 5ms/step - loss: 0.8193 - accuracy: 0.7496 - val_loss: 0.8500 - val_accuracy: 0.7425\n",
            "Epoch 93/100\n",
            "210/210 [==============================] - 1s 5ms/step - loss: 0.8279 - accuracy: 0.7461 - val_loss: 0.8073 - val_accuracy: 0.7568\n",
            "Epoch 94/100\n",
            "210/210 [==============================] - 1s 5ms/step - loss: 0.8143 - accuracy: 0.7531 - val_loss: 0.8316 - val_accuracy: 0.7489\n",
            "Epoch 95/100\n",
            "210/210 [==============================] - 1s 5ms/step - loss: 0.8094 - accuracy: 0.7533 - val_loss: 0.8238 - val_accuracy: 0.7501\n",
            "Epoch 96/100\n",
            "210/210 [==============================] - 1s 5ms/step - loss: 0.8279 - accuracy: 0.7424 - val_loss: 0.8489 - val_accuracy: 0.7422\n",
            "Epoch 97/100\n",
            "210/210 [==============================] - 1s 6ms/step - loss: 0.8464 - accuracy: 0.7402 - val_loss: 0.8268 - val_accuracy: 0.7470\n",
            "Epoch 98/100\n",
            "210/210 [==============================] - 1s 6ms/step - loss: 0.8560 - accuracy: 0.7388 - val_loss: 0.8150 - val_accuracy: 0.7522\n",
            "Epoch 99/100\n",
            "210/210 [==============================] - 1s 6ms/step - loss: 0.8125 - accuracy: 0.7521 - val_loss: 0.8104 - val_accuracy: 0.7570\n",
            "Epoch 100/100\n",
            "210/210 [==============================] - 1s 5ms/step - loss: 0.8168 - accuracy: 0.7508 - val_loss: 0.8203 - val_accuracy: 0.7560\n"
          ],
          "name": "stdout"
        }
      ]
    },
    {
      "cell_type": "code",
      "metadata": {
        "id": "db_8YkntKh1R",
        "colab": {
          "base_uri": "https://localhost:8080/"
        },
        "outputId": "0656fd42-0c9c-405d-ccbe-d777ba71b2d1"
      },
      "source": [
        "print('Evaluate NN model with relu activations'); print('--'*40)\r\n",
        "results2 = model2.evaluate(X_val, y_val)\r\n",
        "print('Validation accuracy: {}'.format(round(results2[1]*100, 2), '%'))"
      ],
      "execution_count": 41,
      "outputs": [
        {
          "output_type": "stream",
          "text": [
            "Evaluate NN model with relu activations\n",
            "--------------------------------------------------------------------------------\n",
            "1875/1875 [==============================] - 4s 2ms/step - loss: 0.8203 - accuracy: 0.7560\n",
            "Validation accuracy: 75.6\n"
          ],
          "name": "stdout"
        }
      ]
    },
    {
      "cell_type": "markdown",
      "metadata": {
        "id": "Y0TndD8vKrBh"
      },
      "source": [
        "**NN model, relu activations, adam optimizer, changing learning rate**"
      ]
    },
    {
      "cell_type": "code",
      "metadata": {
        "id": "PWgr4oqtKlL2",
        "colab": {
          "base_uri": "https://localhost:8080/"
        },
        "outputId": "1f8fb52c-e8f2-407b-c038-5c380c942fff"
      },
      "source": [
        "%time\r\n",
        "print('NN model with relu activations and adam optimizer'); print('--'*40)\r\n",
        "# compiling the neural network classifier, adam optimizer\r\n",
        "adam = optimizers.Adam(lr = 0.001)\r\n",
        "model2.compile(optimizer = adam, loss = 'categorical_crossentropy', metrics = ['accuracy'])\r\n",
        "\r\n",
        "# Fitting the neural network for training\r\n",
        "history = model2.fit(X_train, y_train, validation_data = (X_val, y_val), batch_size = 200, epochs = 100, verbose = 1)"
      ],
      "execution_count": 42,
      "outputs": [
        {
          "output_type": "stream",
          "text": [
            "CPU times: user 2 µs, sys: 2 µs, total: 4 µs\n",
            "Wall time: 7.87 µs\n",
            "NN model with relu activations and adam optimizer\n",
            "--------------------------------------------------------------------------------\n",
            "Epoch 1/100\n",
            "210/210 [==============================] - 2s 6ms/step - loss: 0.7230 - accuracy: 0.7810 - val_loss: 0.7481 - val_accuracy: 0.7775\n",
            "Epoch 2/100\n",
            "210/210 [==============================] - 1s 5ms/step - loss: 0.7087 - accuracy: 0.7837 - val_loss: 0.7564 - val_accuracy: 0.7740\n",
            "Epoch 3/100\n",
            "210/210 [==============================] - 1s 6ms/step - loss: 0.7142 - accuracy: 0.7838 - val_loss: 0.7378 - val_accuracy: 0.7789\n",
            "Epoch 4/100\n",
            "210/210 [==============================] - 1s 5ms/step - loss: 0.7098 - accuracy: 0.7845 - val_loss: 0.7536 - val_accuracy: 0.7745\n",
            "Epoch 5/100\n",
            "210/210 [==============================] - 1s 5ms/step - loss: 0.7060 - accuracy: 0.7857 - val_loss: 0.7439 - val_accuracy: 0.7779\n",
            "Epoch 6/100\n",
            "210/210 [==============================] - 1s 6ms/step - loss: 0.7103 - accuracy: 0.7861 - val_loss: 0.7323 - val_accuracy: 0.7824\n",
            "Epoch 7/100\n",
            "210/210 [==============================] - 1s 5ms/step - loss: 0.7056 - accuracy: 0.7884 - val_loss: 0.7350 - val_accuracy: 0.7793\n",
            "Epoch 8/100\n",
            "210/210 [==============================] - 1s 5ms/step - loss: 0.7053 - accuracy: 0.7857 - val_loss: 0.7375 - val_accuracy: 0.7796\n",
            "Epoch 9/100\n",
            "210/210 [==============================] - 1s 5ms/step - loss: 0.6997 - accuracy: 0.7887 - val_loss: 0.7267 - val_accuracy: 0.7840\n",
            "Epoch 10/100\n",
            "210/210 [==============================] - 1s 5ms/step - loss: 0.6958 - accuracy: 0.7912 - val_loss: 0.7303 - val_accuracy: 0.7828\n",
            "Epoch 11/100\n",
            "210/210 [==============================] - 1s 5ms/step - loss: 0.6924 - accuracy: 0.7910 - val_loss: 0.7319 - val_accuracy: 0.7810\n",
            "Epoch 12/100\n",
            "210/210 [==============================] - 1s 6ms/step - loss: 0.7028 - accuracy: 0.7874 - val_loss: 0.7285 - val_accuracy: 0.7832\n",
            "Epoch 13/100\n",
            "210/210 [==============================] - 1s 6ms/step - loss: 0.7010 - accuracy: 0.7874 - val_loss: 0.7306 - val_accuracy: 0.7810\n",
            "Epoch 14/100\n",
            "210/210 [==============================] - 1s 6ms/step - loss: 0.6975 - accuracy: 0.7898 - val_loss: 0.7306 - val_accuracy: 0.7821\n",
            "Epoch 15/100\n",
            "210/210 [==============================] - 1s 5ms/step - loss: 0.6950 - accuracy: 0.7898 - val_loss: 0.7269 - val_accuracy: 0.7828\n",
            "Epoch 16/100\n",
            "210/210 [==============================] - 1s 5ms/step - loss: 0.6924 - accuracy: 0.7887 - val_loss: 0.7322 - val_accuracy: 0.7813\n",
            "Epoch 17/100\n",
            "210/210 [==============================] - 1s 5ms/step - loss: 0.6993 - accuracy: 0.7866 - val_loss: 0.7232 - val_accuracy: 0.7849\n",
            "Epoch 18/100\n",
            "210/210 [==============================] - 1s 5ms/step - loss: 0.7013 - accuracy: 0.7888 - val_loss: 0.7288 - val_accuracy: 0.7821\n",
            "Epoch 19/100\n",
            "210/210 [==============================] - 1s 5ms/step - loss: 0.7086 - accuracy: 0.7877 - val_loss: 0.7250 - val_accuracy: 0.7835\n",
            "Epoch 20/100\n",
            "210/210 [==============================] - 1s 5ms/step - loss: 0.7017 - accuracy: 0.7895 - val_loss: 0.7258 - val_accuracy: 0.7822\n",
            "Epoch 21/100\n",
            "210/210 [==============================] - 1s 6ms/step - loss: 0.6994 - accuracy: 0.7890 - val_loss: 0.7211 - val_accuracy: 0.7846\n",
            "Epoch 22/100\n",
            "210/210 [==============================] - 1s 6ms/step - loss: 0.7072 - accuracy: 0.7868 - val_loss: 0.7254 - val_accuracy: 0.7838\n",
            "Epoch 23/100\n",
            "210/210 [==============================] - 1s 5ms/step - loss: 0.6956 - accuracy: 0.7862 - val_loss: 0.7240 - val_accuracy: 0.7845\n",
            "Epoch 24/100\n",
            "210/210 [==============================] - 1s 5ms/step - loss: 0.7028 - accuracy: 0.7867 - val_loss: 0.7289 - val_accuracy: 0.7817\n",
            "Epoch 25/100\n",
            "210/210 [==============================] - 1s 5ms/step - loss: 0.6955 - accuracy: 0.7903 - val_loss: 0.7226 - val_accuracy: 0.7837\n",
            "Epoch 26/100\n",
            "210/210 [==============================] - 1s 5ms/step - loss: 0.6901 - accuracy: 0.7906 - val_loss: 0.7386 - val_accuracy: 0.7789\n",
            "Epoch 27/100\n",
            "210/210 [==============================] - 1s 5ms/step - loss: 0.6958 - accuracy: 0.7908 - val_loss: 0.7208 - val_accuracy: 0.7852\n",
            "Epoch 28/100\n",
            "210/210 [==============================] - 1s 5ms/step - loss: 0.6923 - accuracy: 0.7903 - val_loss: 0.7217 - val_accuracy: 0.7845\n",
            "Epoch 29/100\n",
            "210/210 [==============================] - 1s 5ms/step - loss: 0.6926 - accuracy: 0.7911 - val_loss: 0.7206 - val_accuracy: 0.7853\n",
            "Epoch 30/100\n",
            "210/210 [==============================] - 1s 5ms/step - loss: 0.6921 - accuracy: 0.7927 - val_loss: 0.7224 - val_accuracy: 0.7842\n",
            "Epoch 31/100\n",
            "210/210 [==============================] - 1s 5ms/step - loss: 0.6911 - accuracy: 0.7918 - val_loss: 0.7193 - val_accuracy: 0.7858\n",
            "Epoch 32/100\n",
            "210/210 [==============================] - 1s 6ms/step - loss: 0.6972 - accuracy: 0.7888 - val_loss: 0.7208 - val_accuracy: 0.7846\n",
            "Epoch 33/100\n",
            "210/210 [==============================] - 1s 6ms/step - loss: 0.6800 - accuracy: 0.7951 - val_loss: 0.7248 - val_accuracy: 0.7847\n",
            "Epoch 34/100\n",
            "210/210 [==============================] - 1s 5ms/step - loss: 0.6834 - accuracy: 0.7930 - val_loss: 0.7235 - val_accuracy: 0.7831\n",
            "Epoch 35/100\n",
            "210/210 [==============================] - 1s 5ms/step - loss: 0.6872 - accuracy: 0.7925 - val_loss: 0.7163 - val_accuracy: 0.7869\n",
            "Epoch 36/100\n",
            "210/210 [==============================] - 1s 5ms/step - loss: 0.6832 - accuracy: 0.7933 - val_loss: 0.7277 - val_accuracy: 0.7834\n",
            "Epoch 37/100\n",
            "210/210 [==============================] - 1s 5ms/step - loss: 0.6933 - accuracy: 0.7916 - val_loss: 0.7261 - val_accuracy: 0.7825\n",
            "Epoch 38/100\n",
            "210/210 [==============================] - 1s 5ms/step - loss: 0.6845 - accuracy: 0.7922 - val_loss: 0.7212 - val_accuracy: 0.7853\n",
            "Epoch 39/100\n",
            "210/210 [==============================] - 1s 5ms/step - loss: 0.6863 - accuracy: 0.7934 - val_loss: 0.7203 - val_accuracy: 0.7856\n",
            "Epoch 40/100\n",
            "210/210 [==============================] - 1s 5ms/step - loss: 0.6919 - accuracy: 0.7925 - val_loss: 0.7197 - val_accuracy: 0.7851\n",
            "Epoch 41/100\n",
            "210/210 [==============================] - 1s 6ms/step - loss: 0.6874 - accuracy: 0.7933 - val_loss: 0.7192 - val_accuracy: 0.7863\n",
            "Epoch 42/100\n",
            "210/210 [==============================] - 1s 6ms/step - loss: 0.6861 - accuracy: 0.7939 - val_loss: 0.7184 - val_accuracy: 0.7849\n",
            "Epoch 43/100\n",
            "210/210 [==============================] - 1s 5ms/step - loss: 0.6797 - accuracy: 0.7957 - val_loss: 0.7222 - val_accuracy: 0.7848\n",
            "Epoch 44/100\n",
            "210/210 [==============================] - 1s 5ms/step - loss: 0.6808 - accuracy: 0.7946 - val_loss: 0.7174 - val_accuracy: 0.7864\n",
            "Epoch 45/100\n",
            "210/210 [==============================] - 1s 5ms/step - loss: 0.6885 - accuracy: 0.7939 - val_loss: 0.7170 - val_accuracy: 0.7852\n",
            "Epoch 46/100\n",
            "210/210 [==============================] - 1s 5ms/step - loss: 0.6919 - accuracy: 0.7900 - val_loss: 0.7152 - val_accuracy: 0.7865\n",
            "Epoch 47/100\n",
            "210/210 [==============================] - 1s 5ms/step - loss: 0.6868 - accuracy: 0.7911 - val_loss: 0.7193 - val_accuracy: 0.7861\n",
            "Epoch 48/100\n",
            "210/210 [==============================] - 1s 6ms/step - loss: 0.6877 - accuracy: 0.7912 - val_loss: 0.7134 - val_accuracy: 0.7870\n",
            "Epoch 49/100\n",
            "210/210 [==============================] - 1s 5ms/step - loss: 0.6802 - accuracy: 0.7929 - val_loss: 0.7147 - val_accuracy: 0.7869\n",
            "Epoch 50/100\n",
            "210/210 [==============================] - 1s 5ms/step - loss: 0.6885 - accuracy: 0.7932 - val_loss: 0.7155 - val_accuracy: 0.7864\n",
            "Epoch 51/100\n",
            "210/210 [==============================] - 1s 5ms/step - loss: 0.6854 - accuracy: 0.7943 - val_loss: 0.7251 - val_accuracy: 0.7840\n",
            "Epoch 52/100\n",
            "210/210 [==============================] - 1s 5ms/step - loss: 0.6869 - accuracy: 0.7920 - val_loss: 0.7191 - val_accuracy: 0.7844\n",
            "Epoch 53/100\n",
            "210/210 [==============================] - 1s 5ms/step - loss: 0.6868 - accuracy: 0.7916 - val_loss: 0.7248 - val_accuracy: 0.7828\n",
            "Epoch 54/100\n",
            "210/210 [==============================] - 1s 5ms/step - loss: 0.6880 - accuracy: 0.7922 - val_loss: 0.7134 - val_accuracy: 0.7861\n",
            "Epoch 55/100\n",
            "210/210 [==============================] - 1s 5ms/step - loss: 0.6852 - accuracy: 0.7923 - val_loss: 0.7147 - val_accuracy: 0.7879\n",
            "Epoch 56/100\n",
            "210/210 [==============================] - 1s 5ms/step - loss: 0.6877 - accuracy: 0.7962 - val_loss: 0.7193 - val_accuracy: 0.7852\n",
            "Epoch 57/100\n",
            "210/210 [==============================] - 1s 5ms/step - loss: 0.6836 - accuracy: 0.7926 - val_loss: 0.7153 - val_accuracy: 0.7862\n",
            "Epoch 58/100\n",
            "210/210 [==============================] - 1s 5ms/step - loss: 0.6802 - accuracy: 0.7931 - val_loss: 0.7136 - val_accuracy: 0.7859\n",
            "Epoch 59/100\n",
            "210/210 [==============================] - 1s 5ms/step - loss: 0.6879 - accuracy: 0.7929 - val_loss: 0.7221 - val_accuracy: 0.7837\n",
            "Epoch 60/100\n",
            "210/210 [==============================] - 1s 5ms/step - loss: 0.6897 - accuracy: 0.7914 - val_loss: 0.7139 - val_accuracy: 0.7866\n",
            "Epoch 61/100\n",
            "210/210 [==============================] - 1s 5ms/step - loss: 0.6936 - accuracy: 0.7923 - val_loss: 0.7115 - val_accuracy: 0.7884\n",
            "Epoch 62/100\n",
            "210/210 [==============================] - 1s 5ms/step - loss: 0.6782 - accuracy: 0.7970 - val_loss: 0.7210 - val_accuracy: 0.7851\n",
            "Epoch 63/100\n",
            "210/210 [==============================] - 1s 5ms/step - loss: 0.6785 - accuracy: 0.7957 - val_loss: 0.7250 - val_accuracy: 0.7838\n",
            "Epoch 64/100\n",
            "210/210 [==============================] - 1s 5ms/step - loss: 0.6850 - accuracy: 0.7933 - val_loss: 0.7169 - val_accuracy: 0.7864\n",
            "Epoch 65/100\n",
            "210/210 [==============================] - 1s 5ms/step - loss: 0.6759 - accuracy: 0.7959 - val_loss: 0.7180 - val_accuracy: 0.7860\n",
            "Epoch 66/100\n",
            "210/210 [==============================] - 1s 5ms/step - loss: 0.6777 - accuracy: 0.7941 - val_loss: 0.7120 - val_accuracy: 0.7877\n",
            "Epoch 67/100\n",
            "210/210 [==============================] - 1s 5ms/step - loss: 0.6753 - accuracy: 0.7960 - val_loss: 0.7110 - val_accuracy: 0.7887\n",
            "Epoch 68/100\n",
            "210/210 [==============================] - 1s 5ms/step - loss: 0.6798 - accuracy: 0.7945 - val_loss: 0.7073 - val_accuracy: 0.7890\n",
            "Epoch 69/100\n",
            "210/210 [==============================] - 1s 5ms/step - loss: 0.6854 - accuracy: 0.7925 - val_loss: 0.7114 - val_accuracy: 0.7883\n",
            "Epoch 70/100\n",
            "210/210 [==============================] - 1s 5ms/step - loss: 0.6767 - accuracy: 0.7959 - val_loss: 0.7095 - val_accuracy: 0.7887\n",
            "Epoch 71/100\n",
            "210/210 [==============================] - 1s 6ms/step - loss: 0.6797 - accuracy: 0.7936 - val_loss: 0.7109 - val_accuracy: 0.7878\n",
            "Epoch 72/100\n",
            "210/210 [==============================] - 1s 5ms/step - loss: 0.6805 - accuracy: 0.7949 - val_loss: 0.7163 - val_accuracy: 0.7861\n",
            "Epoch 73/100\n",
            "210/210 [==============================] - 1s 5ms/step - loss: 0.6895 - accuracy: 0.7935 - val_loss: 0.7143 - val_accuracy: 0.7860\n",
            "Epoch 74/100\n",
            "210/210 [==============================] - 1s 5ms/step - loss: 0.6773 - accuracy: 0.7967 - val_loss: 0.7175 - val_accuracy: 0.7856\n",
            "Epoch 75/100\n",
            "210/210 [==============================] - 1s 6ms/step - loss: 0.6837 - accuracy: 0.7935 - val_loss: 0.7112 - val_accuracy: 0.7888\n",
            "Epoch 76/100\n",
            "210/210 [==============================] - 1s 6ms/step - loss: 0.6718 - accuracy: 0.7959 - val_loss: 0.7185 - val_accuracy: 0.7855\n",
            "Epoch 77/100\n",
            "210/210 [==============================] - 1s 5ms/step - loss: 0.6752 - accuracy: 0.7934 - val_loss: 0.7137 - val_accuracy: 0.7875\n",
            "Epoch 78/100\n",
            "210/210 [==============================] - 1s 5ms/step - loss: 0.6845 - accuracy: 0.7919 - val_loss: 0.7170 - val_accuracy: 0.7860\n",
            "Epoch 79/100\n",
            "210/210 [==============================] - 1s 5ms/step - loss: 0.6713 - accuracy: 0.7987 - val_loss: 0.7114 - val_accuracy: 0.7889\n",
            "Epoch 80/100\n",
            "210/210 [==============================] - 1s 6ms/step - loss: 0.6752 - accuracy: 0.7976 - val_loss: 0.7250 - val_accuracy: 0.7839\n",
            "Epoch 81/100\n",
            "210/210 [==============================] - 1s 6ms/step - loss: 0.6854 - accuracy: 0.7949 - val_loss: 0.7150 - val_accuracy: 0.7865\n",
            "Epoch 82/100\n",
            "210/210 [==============================] - 1s 6ms/step - loss: 0.6819 - accuracy: 0.7949 - val_loss: 0.7194 - val_accuracy: 0.7848\n",
            "Epoch 83/100\n",
            "210/210 [==============================] - 1s 5ms/step - loss: 0.6828 - accuracy: 0.7927 - val_loss: 0.7210 - val_accuracy: 0.7842\n",
            "Epoch 84/100\n",
            "210/210 [==============================] - 1s 5ms/step - loss: 0.6685 - accuracy: 0.7969 - val_loss: 0.7138 - val_accuracy: 0.7875\n",
            "Epoch 85/100\n",
            "210/210 [==============================] - 1s 5ms/step - loss: 0.6890 - accuracy: 0.7923 - val_loss: 0.7061 - val_accuracy: 0.7906\n",
            "Epoch 86/100\n",
            "210/210 [==============================] - 1s 6ms/step - loss: 0.6863 - accuracy: 0.7937 - val_loss: 0.7128 - val_accuracy: 0.7893\n",
            "Epoch 87/100\n",
            "210/210 [==============================] - 1s 6ms/step - loss: 0.6797 - accuracy: 0.7956 - val_loss: 0.7075 - val_accuracy: 0.7895\n",
            "Epoch 88/100\n",
            "210/210 [==============================] - 1s 5ms/step - loss: 0.6803 - accuracy: 0.7931 - val_loss: 0.7106 - val_accuracy: 0.7897\n",
            "Epoch 89/100\n",
            "210/210 [==============================] - 1s 6ms/step - loss: 0.6785 - accuracy: 0.7945 - val_loss: 0.7068 - val_accuracy: 0.7895\n",
            "Epoch 90/100\n",
            "210/210 [==============================] - 1s 6ms/step - loss: 0.6811 - accuracy: 0.7929 - val_loss: 0.7148 - val_accuracy: 0.7859\n",
            "Epoch 91/100\n",
            "210/210 [==============================] - 1s 6ms/step - loss: 0.6736 - accuracy: 0.7975 - val_loss: 0.7121 - val_accuracy: 0.7875\n",
            "Epoch 92/100\n",
            "210/210 [==============================] - 1s 5ms/step - loss: 0.6739 - accuracy: 0.7954 - val_loss: 0.7146 - val_accuracy: 0.7857\n",
            "Epoch 93/100\n",
            "210/210 [==============================] - 1s 5ms/step - loss: 0.6696 - accuracy: 0.7960 - val_loss: 0.7109 - val_accuracy: 0.7880\n",
            "Epoch 94/100\n",
            "210/210 [==============================] - 1s 5ms/step - loss: 0.6657 - accuracy: 0.7994 - val_loss: 0.7093 - val_accuracy: 0.7885\n",
            "Epoch 95/100\n",
            "210/210 [==============================] - 1s 5ms/step - loss: 0.6754 - accuracy: 0.7966 - val_loss: 0.7034 - val_accuracy: 0.7914\n",
            "Epoch 96/100\n",
            "210/210 [==============================] - 1s 5ms/step - loss: 0.6749 - accuracy: 0.7979 - val_loss: 0.7099 - val_accuracy: 0.7886\n",
            "Epoch 97/100\n",
            "210/210 [==============================] - 1s 5ms/step - loss: 0.6818 - accuracy: 0.7934 - val_loss: 0.7060 - val_accuracy: 0.7908\n",
            "Epoch 98/100\n",
            "210/210 [==============================] - 1s 5ms/step - loss: 0.6721 - accuracy: 0.7951 - val_loss: 0.7082 - val_accuracy: 0.7892\n",
            "Epoch 99/100\n",
            "210/210 [==============================] - 1s 5ms/step - loss: 0.6765 - accuracy: 0.7964 - val_loss: 0.7072 - val_accuracy: 0.7895\n",
            "Epoch 100/100\n",
            "210/210 [==============================] - 1s 5ms/step - loss: 0.6635 - accuracy: 0.7997 - val_loss: 0.7048 - val_accuracy: 0.7902\n"
          ],
          "name": "stdout"
        }
      ]
    },
    {
      "cell_type": "code",
      "metadata": {
        "id": "7BmUXwnqKz8H",
        "colab": {
          "base_uri": "https://localhost:8080/"
        },
        "outputId": "0afed3bc-886f-42df-d47a-5f81d8ba2a80"
      },
      "source": [
        "print('Evaluate NN model with relu activations'); print('--'*40)\r\n",
        "results2 = model2.evaluate(X_val, y_val)\r\n",
        "print('Validation accuracy: {}'.format(round(results2[1]*100, 2), '%'))"
      ],
      "execution_count": 43,
      "outputs": [
        {
          "output_type": "stream",
          "text": [
            "Evaluate NN model with relu activations\n",
            "--------------------------------------------------------------------------------\n",
            "1875/1875 [==============================] - 4s 2ms/step - loss: 0.7048 - accuracy: 0.7902\n",
            "Validation accuracy: 79.02\n"
          ],
          "name": "stdout"
        }
      ]
    },
    {
      "cell_type": "markdown",
      "metadata": {
        "id": "KD0dLWFCK2hN"
      },
      "source": [
        "**Observation 4 - NN model with relu activations**\r\n",
        "\r\n",
        "*   Best accuracy achieved till now is using relu activations, SGD optimizer, changing learning rate to 0.001.\r\n",
        "*   Improves the scores considerably.\r\n",
        "*  Next, let's try and change the number of activators and see if the score improves.\r\n",
        "\r\n",
        "\r\n",
        "**NN model, relu activations, changing number of activators, SGD optimizers**"
      ]
    },
    {
      "cell_type": "code",
      "metadata": {
        "id": "OXxvJf35LLGB",
        "colab": {
          "base_uri": "https://localhost:8080/"
        },
        "outputId": "1a0c346e-d53f-4058-ffb4-8679d272e0ad"
      },
      "source": [
        "print('NN model with relu activations and changing number of activators'); print('--'*40)\r\n",
        "# Initialize the neural network classifier\r\n",
        "model3 = Sequential()\r\n",
        "\r\n",
        "# Input Layer - adding input layer and activation functions relu\r\n",
        "model3.add(Dense(256, input_shape = (1024, )))\r\n",
        "# Adding activation function\r\n",
        "model3.add(Activation('relu'))\r\n",
        "\r\n",
        "#Hidden Layer 1 - adding first hidden layer\r\n",
        "model3.add(Dense(128))\r\n",
        "# Adding activation function\r\n",
        "model3.add(Activation('relu'))\r\n",
        "\r\n",
        "#Hidden Layer 2 - Adding second hidden layer\r\n",
        "model3.add(Dense(64))\r\n",
        "# Adding activation function\r\n",
        "model3.add(Activation('relu'))\r\n",
        "\r\n",
        "# Output Layer - adding output layer which is of 10 nodes (digits)\r\n",
        "model3.add(Dense(10))\r\n",
        "# Adding activation function - softmax for multiclass classification\r\n",
        "model3.add(Activation('softmax'))"
      ],
      "execution_count": 44,
      "outputs": [
        {
          "output_type": "stream",
          "text": [
            "NN model with relu activations and changing number of activators\n",
            "--------------------------------------------------------------------------------\n"
          ],
          "name": "stdout"
        }
      ]
    },
    {
      "cell_type": "code",
      "metadata": {
        "id": "WQzEx2mNLODJ",
        "colab": {
          "base_uri": "https://localhost:8080/"
        },
        "outputId": "b4e33193-43d5-47e7-b8b5-2d465d6f799c"
      },
      "source": [
        "model3.summary()"
      ],
      "execution_count": 45,
      "outputs": [
        {
          "output_type": "stream",
          "text": [
            "Model: \"sequential_2\"\n",
            "_________________________________________________________________\n",
            "Layer (type)                 Output Shape              Param #   \n",
            "=================================================================\n",
            "dense_6 (Dense)              (None, 256)               262400    \n",
            "_________________________________________________________________\n",
            "activation_6 (Activation)    (None, 256)               0         \n",
            "_________________________________________________________________\n",
            "dense_7 (Dense)              (None, 128)               32896     \n",
            "_________________________________________________________________\n",
            "activation_7 (Activation)    (None, 128)               0         \n",
            "_________________________________________________________________\n",
            "dense_8 (Dense)              (None, 64)                8256      \n",
            "_________________________________________________________________\n",
            "activation_8 (Activation)    (None, 64)                0         \n",
            "_________________________________________________________________\n",
            "dense_9 (Dense)              (None, 10)                650       \n",
            "_________________________________________________________________\n",
            "activation_9 (Activation)    (None, 10)                0         \n",
            "=================================================================\n",
            "Total params: 304,202\n",
            "Trainable params: 304,202\n",
            "Non-trainable params: 0\n",
            "_________________________________________________________________\n"
          ],
          "name": "stdout"
        }
      ]
    },
    {
      "cell_type": "code",
      "metadata": {
        "id": "Ptutt4ltLRaq",
        "colab": {
          "base_uri": "https://localhost:8080/"
        },
        "outputId": "a1bbe187-c509-46ce-b42d-58dd601278e2"
      },
      "source": [
        "# compiling the neural network classifier, sgd optimizer\r\n",
        "sgd = optimizers.SGD(lr = 0.01)\r\n",
        "model3.compile(optimizer = sgd, loss = 'categorical_crossentropy', metrics = ['accuracy'])\r\n",
        "\r\n",
        "# Fitting the neural network for training\r\n",
        "history = model3.fit(X_train, y_train, validation_data = (X_val, y_val), batch_size = 200, epochs = 100, verbose = 1)"
      ],
      "execution_count": 46,
      "outputs": [
        {
          "output_type": "stream",
          "text": [
            "Epoch 1/100\n",
            "210/210 [==============================] - 2s 6ms/step - loss: 2.3083 - accuracy: 0.0986 - val_loss: 2.2938 - val_accuracy: 0.1208\n",
            "Epoch 2/100\n",
            "210/210 [==============================] - 1s 5ms/step - loss: 2.2910 - accuracy: 0.1301 - val_loss: 2.2824 - val_accuracy: 0.1472\n",
            "Epoch 3/100\n",
            "210/210 [==============================] - 1s 5ms/step - loss: 2.2795 - accuracy: 0.1609 - val_loss: 2.2685 - val_accuracy: 0.1941\n",
            "Epoch 4/100\n",
            "210/210 [==============================] - 1s 5ms/step - loss: 2.2653 - accuracy: 0.1973 - val_loss: 2.2517 - val_accuracy: 0.2176\n",
            "Epoch 5/100\n",
            "210/210 [==============================] - 1s 5ms/step - loss: 2.2461 - accuracy: 0.2218 - val_loss: 2.2280 - val_accuracy: 0.2630\n",
            "Epoch 6/100\n",
            "210/210 [==============================] - 1s 5ms/step - loss: 2.2211 - accuracy: 0.2657 - val_loss: 2.1943 - val_accuracy: 0.2930\n",
            "Epoch 7/100\n",
            "210/210 [==============================] - 1s 5ms/step - loss: 2.1846 - accuracy: 0.3036 - val_loss: 2.1501 - val_accuracy: 0.2870\n",
            "Epoch 8/100\n",
            "210/210 [==============================] - 1s 5ms/step - loss: 2.1329 - accuracy: 0.3321 - val_loss: 2.0807 - val_accuracy: 0.3627\n",
            "Epoch 9/100\n",
            "210/210 [==============================] - 1s 5ms/step - loss: 2.0600 - accuracy: 0.3571 - val_loss: 1.9968 - val_accuracy: 0.3783\n",
            "Epoch 10/100\n",
            "210/210 [==============================] - 1s 5ms/step - loss: 1.9739 - accuracy: 0.3886 - val_loss: 1.9000 - val_accuracy: 0.4103\n",
            "Epoch 11/100\n",
            "210/210 [==============================] - 1s 5ms/step - loss: 1.8770 - accuracy: 0.4197 - val_loss: 1.8092 - val_accuracy: 0.4490\n",
            "Epoch 12/100\n",
            "210/210 [==============================] - 1s 5ms/step - loss: 1.7822 - accuracy: 0.4440 - val_loss: 1.7237 - val_accuracy: 0.4676\n",
            "Epoch 13/100\n",
            "210/210 [==============================] - 1s 5ms/step - loss: 1.7061 - accuracy: 0.4631 - val_loss: 1.6382 - val_accuracy: 0.4924\n",
            "Epoch 14/100\n",
            "210/210 [==============================] - 1s 5ms/step - loss: 1.6274 - accuracy: 0.4980 - val_loss: 1.5702 - val_accuracy: 0.5189\n",
            "Epoch 15/100\n",
            "210/210 [==============================] - 1s 5ms/step - loss: 1.5584 - accuracy: 0.5182 - val_loss: 1.5369 - val_accuracy: 0.5244\n",
            "Epoch 16/100\n",
            "210/210 [==============================] - 1s 6ms/step - loss: 1.5025 - accuracy: 0.5387 - val_loss: 1.4623 - val_accuracy: 0.5494\n",
            "Epoch 17/100\n",
            "210/210 [==============================] - 1s 5ms/step - loss: 1.4500 - accuracy: 0.5518 - val_loss: 1.3941 - val_accuracy: 0.5704\n",
            "Epoch 18/100\n",
            "210/210 [==============================] - 1s 5ms/step - loss: 1.4146 - accuracy: 0.5651 - val_loss: 1.3974 - val_accuracy: 0.5631\n",
            "Epoch 19/100\n",
            "210/210 [==============================] - 1s 5ms/step - loss: 1.3674 - accuracy: 0.5777 - val_loss: 1.3251 - val_accuracy: 0.5930\n",
            "Epoch 20/100\n",
            "210/210 [==============================] - 1s 6ms/step - loss: 1.3329 - accuracy: 0.5865 - val_loss: 1.2835 - val_accuracy: 0.6098\n",
            "Epoch 21/100\n",
            "210/210 [==============================] - 1s 5ms/step - loss: 1.2840 - accuracy: 0.6045 - val_loss: 1.2384 - val_accuracy: 0.6271\n",
            "Epoch 22/100\n",
            "210/210 [==============================] - 1s 6ms/step - loss: 1.2611 - accuracy: 0.6108 - val_loss: 1.2375 - val_accuracy: 0.6186\n",
            "Epoch 23/100\n",
            "210/210 [==============================] - 1s 5ms/step - loss: 1.2263 - accuracy: 0.6228 - val_loss: 1.1963 - val_accuracy: 0.6405\n",
            "Epoch 24/100\n",
            "210/210 [==============================] - 1s 5ms/step - loss: 1.1987 - accuracy: 0.6349 - val_loss: 1.1679 - val_accuracy: 0.6409\n",
            "Epoch 25/100\n",
            "210/210 [==============================] - 1s 6ms/step - loss: 1.1724 - accuracy: 0.6373 - val_loss: 1.1376 - val_accuracy: 0.6550\n",
            "Epoch 26/100\n",
            "210/210 [==============================] - 1s 6ms/step - loss: 1.1446 - accuracy: 0.6503 - val_loss: 1.1565 - val_accuracy: 0.6335\n",
            "Epoch 27/100\n",
            "210/210 [==============================] - 1s 6ms/step - loss: 1.1271 - accuracy: 0.6512 - val_loss: 1.1448 - val_accuracy: 0.6415\n",
            "Epoch 28/100\n",
            "210/210 [==============================] - 1s 5ms/step - loss: 1.1050 - accuracy: 0.6606 - val_loss: 1.0915 - val_accuracy: 0.6682\n",
            "Epoch 29/100\n",
            "210/210 [==============================] - 1s 5ms/step - loss: 1.0892 - accuracy: 0.6682 - val_loss: 1.0701 - val_accuracy: 0.6741\n",
            "Epoch 30/100\n",
            "210/210 [==============================] - 1s 5ms/step - loss: 1.0640 - accuracy: 0.6734 - val_loss: 1.0473 - val_accuracy: 0.6825\n",
            "Epoch 31/100\n",
            "210/210 [==============================] - 1s 5ms/step - loss: 1.0676 - accuracy: 0.6728 - val_loss: 1.0303 - val_accuracy: 0.6902\n",
            "Epoch 32/100\n",
            "210/210 [==============================] - 1s 5ms/step - loss: 1.0459 - accuracy: 0.6775 - val_loss: 1.0579 - val_accuracy: 0.6690\n",
            "Epoch 33/100\n",
            "210/210 [==============================] - 1s 5ms/step - loss: 1.0118 - accuracy: 0.6909 - val_loss: 1.0393 - val_accuracy: 0.6783\n",
            "Epoch 34/100\n",
            "210/210 [==============================] - 1s 5ms/step - loss: 1.0030 - accuracy: 0.6936 - val_loss: 0.9973 - val_accuracy: 0.6973\n",
            "Epoch 35/100\n",
            "210/210 [==============================] - 1s 5ms/step - loss: 0.9911 - accuracy: 0.6961 - val_loss: 0.9847 - val_accuracy: 0.6984\n",
            "Epoch 36/100\n",
            "210/210 [==============================] - 1s 5ms/step - loss: 0.9740 - accuracy: 0.7045 - val_loss: 0.9592 - val_accuracy: 0.7109\n",
            "Epoch 37/100\n",
            "210/210 [==============================] - 1s 5ms/step - loss: 0.9727 - accuracy: 0.7024 - val_loss: 0.9661 - val_accuracy: 0.7054\n",
            "Epoch 38/100\n",
            "210/210 [==============================] - 1s 6ms/step - loss: 0.9637 - accuracy: 0.7060 - val_loss: 0.9527 - val_accuracy: 0.7125\n",
            "Epoch 39/100\n",
            "210/210 [==============================] - 1s 6ms/step - loss: 0.9480 - accuracy: 0.7089 - val_loss: 0.9621 - val_accuracy: 0.7043\n",
            "Epoch 40/100\n",
            "210/210 [==============================] - 1s 6ms/step - loss: 0.9406 - accuracy: 0.7153 - val_loss: 0.9186 - val_accuracy: 0.7219\n",
            "Epoch 41/100\n",
            "210/210 [==============================] - 1s 5ms/step - loss: 0.9183 - accuracy: 0.7199 - val_loss: 0.9437 - val_accuracy: 0.7127\n",
            "Epoch 42/100\n",
            "210/210 [==============================] - 1s 5ms/step - loss: 0.9133 - accuracy: 0.7231 - val_loss: 0.8960 - val_accuracy: 0.7306\n",
            "Epoch 43/100\n",
            "210/210 [==============================] - 1s 5ms/step - loss: 0.9057 - accuracy: 0.7224 - val_loss: 0.9050 - val_accuracy: 0.7270\n",
            "Epoch 44/100\n",
            "210/210 [==============================] - 1s 5ms/step - loss: 0.8888 - accuracy: 0.7308 - val_loss: 0.8962 - val_accuracy: 0.7266\n",
            "Epoch 45/100\n",
            "210/210 [==============================] - 1s 5ms/step - loss: 0.8794 - accuracy: 0.7318 - val_loss: 0.8734 - val_accuracy: 0.7392\n",
            "Epoch 46/100\n",
            "210/210 [==============================] - 1s 5ms/step - loss: 0.8857 - accuracy: 0.7295 - val_loss: 0.8563 - val_accuracy: 0.7420\n",
            "Epoch 47/100\n",
            "210/210 [==============================] - 1s 6ms/step - loss: 0.8662 - accuracy: 0.7365 - val_loss: 0.8864 - val_accuracy: 0.7305\n",
            "Epoch 48/100\n",
            "210/210 [==============================] - 1s 6ms/step - loss: 0.8560 - accuracy: 0.7411 - val_loss: 0.8586 - val_accuracy: 0.7421\n",
            "Epoch 49/100\n",
            "210/210 [==============================] - 1s 5ms/step - loss: 0.8463 - accuracy: 0.7450 - val_loss: 0.8670 - val_accuracy: 0.7347\n",
            "Epoch 50/100\n",
            "210/210 [==============================] - 1s 5ms/step - loss: 0.8466 - accuracy: 0.7415 - val_loss: 0.8530 - val_accuracy: 0.7404\n",
            "Epoch 51/100\n",
            "210/210 [==============================] - 1s 5ms/step - loss: 0.8433 - accuracy: 0.7410 - val_loss: 0.8298 - val_accuracy: 0.7467\n",
            "Epoch 52/100\n",
            "210/210 [==============================] - 1s 5ms/step - loss: 0.8200 - accuracy: 0.7515 - val_loss: 0.8346 - val_accuracy: 0.7472\n",
            "Epoch 53/100\n",
            "210/210 [==============================] - 1s 6ms/step - loss: 0.8161 - accuracy: 0.7524 - val_loss: 0.8113 - val_accuracy: 0.7567\n",
            "Epoch 54/100\n",
            "210/210 [==============================] - 1s 5ms/step - loss: 0.8085 - accuracy: 0.7551 - val_loss: 0.8242 - val_accuracy: 0.7503\n",
            "Epoch 55/100\n",
            "210/210 [==============================] - 1s 5ms/step - loss: 0.8037 - accuracy: 0.7566 - val_loss: 0.8455 - val_accuracy: 0.7441\n",
            "Epoch 56/100\n",
            "210/210 [==============================] - 1s 5ms/step - loss: 0.7932 - accuracy: 0.7571 - val_loss: 0.8017 - val_accuracy: 0.7591\n",
            "Epoch 57/100\n",
            "210/210 [==============================] - 1s 5ms/step - loss: 0.7853 - accuracy: 0.7622 - val_loss: 0.7856 - val_accuracy: 0.7651\n",
            "Epoch 58/100\n",
            "210/210 [==============================] - 1s 5ms/step - loss: 0.7786 - accuracy: 0.7612 - val_loss: 0.7961 - val_accuracy: 0.7593\n",
            "Epoch 59/100\n",
            "210/210 [==============================] - 1s 6ms/step - loss: 0.7754 - accuracy: 0.7671 - val_loss: 0.7748 - val_accuracy: 0.7680\n",
            "Epoch 60/100\n",
            "210/210 [==============================] - 1s 6ms/step - loss: 0.7770 - accuracy: 0.7634 - val_loss: 0.8239 - val_accuracy: 0.7492\n",
            "Epoch 61/100\n",
            "210/210 [==============================] - 1s 5ms/step - loss: 0.7739 - accuracy: 0.7648 - val_loss: 0.7602 - val_accuracy: 0.7709\n",
            "Epoch 62/100\n",
            "210/210 [==============================] - 1s 5ms/step - loss: 0.7485 - accuracy: 0.7750 - val_loss: 0.7455 - val_accuracy: 0.7777\n",
            "Epoch 63/100\n",
            "210/210 [==============================] - 1s 5ms/step - loss: 0.7448 - accuracy: 0.7738 - val_loss: 0.7963 - val_accuracy: 0.7580\n",
            "Epoch 64/100\n",
            "210/210 [==============================] - 1s 5ms/step - loss: 0.7415 - accuracy: 0.7754 - val_loss: 0.7614 - val_accuracy: 0.7685\n",
            "Epoch 65/100\n",
            "210/210 [==============================] - 1s 5ms/step - loss: 0.7313 - accuracy: 0.7795 - val_loss: 0.7732 - val_accuracy: 0.7645\n",
            "Epoch 66/100\n",
            "210/210 [==============================] - 1s 5ms/step - loss: 0.7170 - accuracy: 0.7823 - val_loss: 0.8316 - val_accuracy: 0.7481\n",
            "Epoch 67/100\n",
            "210/210 [==============================] - 1s 5ms/step - loss: 0.7243 - accuracy: 0.7842 - val_loss: 0.7151 - val_accuracy: 0.7864\n",
            "Epoch 68/100\n",
            "210/210 [==============================] - 1s 5ms/step - loss: 0.7047 - accuracy: 0.7888 - val_loss: 0.7228 - val_accuracy: 0.7827\n",
            "Epoch 69/100\n",
            "210/210 [==============================] - 1s 5ms/step - loss: 0.7060 - accuracy: 0.7846 - val_loss: 0.7021 - val_accuracy: 0.7894\n",
            "Epoch 70/100\n",
            "210/210 [==============================] - 1s 5ms/step - loss: 0.7026 - accuracy: 0.7851 - val_loss: 0.7281 - val_accuracy: 0.7812\n",
            "Epoch 71/100\n",
            "210/210 [==============================] - 1s 5ms/step - loss: 0.7007 - accuracy: 0.7880 - val_loss: 0.7015 - val_accuracy: 0.7916\n",
            "Epoch 72/100\n",
            "210/210 [==============================] - 1s 5ms/step - loss: 0.6976 - accuracy: 0.7890 - val_loss: 0.6917 - val_accuracy: 0.7939\n",
            "Epoch 73/100\n",
            "210/210 [==============================] - 1s 5ms/step - loss: 0.6896 - accuracy: 0.7902 - val_loss: 0.6935 - val_accuracy: 0.7918\n",
            "Epoch 74/100\n",
            "210/210 [==============================] - 1s 5ms/step - loss: 0.6802 - accuracy: 0.7946 - val_loss: 0.7015 - val_accuracy: 0.7902\n",
            "Epoch 75/100\n",
            "210/210 [==============================] - 1s 5ms/step - loss: 0.6849 - accuracy: 0.7952 - val_loss: 0.6994 - val_accuracy: 0.7886\n",
            "Epoch 76/100\n",
            "210/210 [==============================] - 1s 5ms/step - loss: 0.6595 - accuracy: 0.7972 - val_loss: 0.7010 - val_accuracy: 0.7870\n",
            "Epoch 77/100\n",
            "210/210 [==============================] - 1s 5ms/step - loss: 0.6676 - accuracy: 0.7991 - val_loss: 0.6755 - val_accuracy: 0.7985\n",
            "Epoch 78/100\n",
            "210/210 [==============================] - 1s 5ms/step - loss: 0.6639 - accuracy: 0.7993 - val_loss: 0.6614 - val_accuracy: 0.8032\n",
            "Epoch 79/100\n",
            "210/210 [==============================] - 1s 6ms/step - loss: 0.6532 - accuracy: 0.8046 - val_loss: 0.7078 - val_accuracy: 0.7848\n",
            "Epoch 80/100\n",
            "210/210 [==============================] - 1s 5ms/step - loss: 0.6483 - accuracy: 0.8026 - val_loss: 0.6492 - val_accuracy: 0.8065\n",
            "Epoch 81/100\n",
            "210/210 [==============================] - 1s 5ms/step - loss: 0.6494 - accuracy: 0.8024 - val_loss: 0.6575 - val_accuracy: 0.8049\n",
            "Epoch 82/100\n",
            "210/210 [==============================] - 1s 5ms/step - loss: 0.6460 - accuracy: 0.8041 - val_loss: 0.6478 - val_accuracy: 0.8078\n",
            "Epoch 83/100\n",
            "210/210 [==============================] - 1s 5ms/step - loss: 0.6427 - accuracy: 0.8055 - val_loss: 0.6330 - val_accuracy: 0.8123\n",
            "Epoch 84/100\n",
            "210/210 [==============================] - 1s 5ms/step - loss: 0.6192 - accuracy: 0.8150 - val_loss: 0.6569 - val_accuracy: 0.8029\n",
            "Epoch 85/100\n",
            "210/210 [==============================] - 1s 5ms/step - loss: 0.6334 - accuracy: 0.8092 - val_loss: 0.6947 - val_accuracy: 0.7925\n",
            "Epoch 86/100\n",
            "210/210 [==============================] - 1s 5ms/step - loss: 0.6262 - accuracy: 0.8115 - val_loss: 0.6455 - val_accuracy: 0.8072\n",
            "Epoch 87/100\n",
            "210/210 [==============================] - 1s 5ms/step - loss: 0.6276 - accuracy: 0.8133 - val_loss: 0.6213 - val_accuracy: 0.8165\n",
            "Epoch 88/100\n",
            "210/210 [==============================] - 1s 6ms/step - loss: 0.6153 - accuracy: 0.8150 - val_loss: 0.6597 - val_accuracy: 0.8019\n",
            "Epoch 89/100\n",
            "210/210 [==============================] - 1s 5ms/step - loss: 0.6148 - accuracy: 0.8147 - val_loss: 0.6492 - val_accuracy: 0.8044\n",
            "Epoch 90/100\n",
            "210/210 [==============================] - 1s 5ms/step - loss: 0.6192 - accuracy: 0.8119 - val_loss: 0.6107 - val_accuracy: 0.8193\n",
            "Epoch 91/100\n",
            "210/210 [==============================] - 1s 6ms/step - loss: 0.6108 - accuracy: 0.8149 - val_loss: 0.6854 - val_accuracy: 0.7957\n",
            "Epoch 92/100\n",
            "210/210 [==============================] - 1s 5ms/step - loss: 0.5983 - accuracy: 0.8183 - val_loss: 0.6126 - val_accuracy: 0.8178\n",
            "Epoch 93/100\n",
            "210/210 [==============================] - 1s 6ms/step - loss: 0.5972 - accuracy: 0.8196 - val_loss: 0.6054 - val_accuracy: 0.8199\n",
            "Epoch 94/100\n",
            "210/210 [==============================] - 1s 6ms/step - loss: 0.5800 - accuracy: 0.8240 - val_loss: 0.6130 - val_accuracy: 0.8181\n",
            "Epoch 95/100\n",
            "210/210 [==============================] - 1s 5ms/step - loss: 0.5845 - accuracy: 0.8238 - val_loss: 0.6080 - val_accuracy: 0.8199\n",
            "Epoch 96/100\n",
            "210/210 [==============================] - 1s 5ms/step - loss: 0.5907 - accuracy: 0.8215 - val_loss: 0.6049 - val_accuracy: 0.8204\n",
            "Epoch 97/100\n",
            "210/210 [==============================] - 1s 5ms/step - loss: 0.5910 - accuracy: 0.8221 - val_loss: 0.6278 - val_accuracy: 0.8122\n",
            "Epoch 98/100\n",
            "210/210 [==============================] - 1s 5ms/step - loss: 0.5842 - accuracy: 0.8253 - val_loss: 0.6042 - val_accuracy: 0.8191\n",
            "Epoch 99/100\n",
            "210/210 [==============================] - 1s 5ms/step - loss: 0.5773 - accuracy: 0.8248 - val_loss: 0.7081 - val_accuracy: 0.7878\n",
            "Epoch 100/100\n",
            "210/210 [==============================] - 1s 5ms/step - loss: 0.5691 - accuracy: 0.8281 - val_loss: 0.6066 - val_accuracy: 0.8211\n"
          ],
          "name": "stdout"
        }
      ]
    },
    {
      "cell_type": "code",
      "metadata": {
        "id": "bmj9qK7NLR9Z",
        "colab": {
          "base_uri": "https://localhost:8080/"
        },
        "outputId": "47bb2ea4-4525-4aa5-9283-10575324504d"
      },
      "source": [
        "print('Evaluate NN model with relu activations and changing the number of activators'); print('--'*40)\r\n",
        "results3 = model3.evaluate(X_val, y_val)\r\n",
        "print('Validation accuracy: {}'.format(round(results3[1]*100, 2), '%'))"
      ],
      "execution_count": 47,
      "outputs": [
        {
          "output_type": "stream",
          "text": [
            "Evaluate NN model with relu activations and changing the number of activators\n",
            "--------------------------------------------------------------------------------\n",
            "1875/1875 [==============================] - 4s 2ms/step - loss: 0.6066 - accuracy: 0.8211\n",
            "Validation accuracy: 82.11\n"
          ],
          "name": "stdout"
        }
      ]
    },
    {
      "cell_type": "markdown",
      "metadata": {
        "id": "RZwjV9i7LXRV"
      },
      "source": [
        "**NN model, relu activations, changing number of activators, Adam optimizers**"
      ]
    },
    {
      "cell_type": "code",
      "metadata": {
        "id": "9wWEkJ6_LawE",
        "colab": {
          "base_uri": "https://localhost:8080/"
        },
        "outputId": "7dbd183f-21ba-48c2-cab1-32e2a652c9a6"
      },
      "source": [
        "# compiling the neural network classifier, adam optimizer\r\n",
        "adam = optimizers.Adam(lr = 0.001)\r\n",
        "model3.compile(optimizer = adam, loss = 'categorical_crossentropy', metrics = ['accuracy'])\r\n",
        "\r\n",
        "# Fitting the neural network for training\r\n",
        "history = model3.fit(X_train, y_train, validation_data = (X_val, y_val), batch_size = 200, epochs = 100, verbose = 1)"
      ],
      "execution_count": 48,
      "outputs": [
        {
          "output_type": "stream",
          "text": [
            "Epoch 1/100\n",
            "210/210 [==============================] - 2s 7ms/step - loss: 1.2363 - accuracy: 0.6563 - val_loss: 0.8057 - val_accuracy: 0.7567\n",
            "Epoch 2/100\n",
            "210/210 [==============================] - 1s 6ms/step - loss: 0.7625 - accuracy: 0.7646 - val_loss: 0.7506 - val_accuracy: 0.7735\n",
            "Epoch 3/100\n",
            "210/210 [==============================] - 1s 6ms/step - loss: 0.7313 - accuracy: 0.7765 - val_loss: 0.6977 - val_accuracy: 0.7866\n",
            "Epoch 4/100\n",
            "210/210 [==============================] - 1s 6ms/step - loss: 0.7233 - accuracy: 0.7783 - val_loss: 0.6797 - val_accuracy: 0.7966\n",
            "Epoch 5/100\n",
            "210/210 [==============================] - 1s 6ms/step - loss: 0.7002 - accuracy: 0.7854 - val_loss: 0.7305 - val_accuracy: 0.7774\n",
            "Epoch 6/100\n",
            "210/210 [==============================] - 1s 6ms/step - loss: 0.6964 - accuracy: 0.7848 - val_loss: 0.6891 - val_accuracy: 0.7909\n",
            "Epoch 7/100\n",
            "210/210 [==============================] - 1s 6ms/step - loss: 0.6949 - accuracy: 0.7903 - val_loss: 0.6886 - val_accuracy: 0.7910\n",
            "Epoch 8/100\n",
            "210/210 [==============================] - 1s 6ms/step - loss: 0.6619 - accuracy: 0.7938 - val_loss: 0.6944 - val_accuracy: 0.7864\n",
            "Epoch 9/100\n",
            "210/210 [==============================] - 1s 5ms/step - loss: 0.6239 - accuracy: 0.8048 - val_loss: 0.7157 - val_accuracy: 0.7823\n",
            "Epoch 10/100\n",
            "210/210 [==============================] - 1s 6ms/step - loss: 0.6388 - accuracy: 0.8079 - val_loss: 0.6480 - val_accuracy: 0.8037\n",
            "Epoch 11/100\n",
            "210/210 [==============================] - 1s 5ms/step - loss: 0.5992 - accuracy: 0.8147 - val_loss: 0.6180 - val_accuracy: 0.8114\n",
            "Epoch 12/100\n",
            "210/210 [==============================] - 1s 6ms/step - loss: 0.6002 - accuracy: 0.8183 - val_loss: 0.6387 - val_accuracy: 0.8031\n",
            "Epoch 13/100\n",
            "210/210 [==============================] - 1s 6ms/step - loss: 0.5903 - accuracy: 0.8195 - val_loss: 0.6548 - val_accuracy: 0.8012\n",
            "Epoch 14/100\n",
            "210/210 [==============================] - 1s 6ms/step - loss: 0.6051 - accuracy: 0.8118 - val_loss: 0.5917 - val_accuracy: 0.8182\n",
            "Epoch 15/100\n",
            "210/210 [==============================] - 1s 6ms/step - loss: 0.5592 - accuracy: 0.8286 - val_loss: 0.5966 - val_accuracy: 0.8167\n",
            "Epoch 16/100\n",
            "210/210 [==============================] - 1s 6ms/step - loss: 0.5628 - accuracy: 0.8251 - val_loss: 0.6293 - val_accuracy: 0.8069\n",
            "Epoch 17/100\n",
            "210/210 [==============================] - 1s 6ms/step - loss: 0.5672 - accuracy: 0.8256 - val_loss: 0.5924 - val_accuracy: 0.8231\n",
            "Epoch 18/100\n",
            "210/210 [==============================] - 1s 6ms/step - loss: 0.5528 - accuracy: 0.8292 - val_loss: 0.5487 - val_accuracy: 0.8365\n",
            "Epoch 19/100\n",
            "210/210 [==============================] - 1s 5ms/step - loss: 0.5351 - accuracy: 0.8335 - val_loss: 0.5952 - val_accuracy: 0.8185\n",
            "Epoch 20/100\n",
            "210/210 [==============================] - 1s 6ms/step - loss: 0.5318 - accuracy: 0.8351 - val_loss: 0.5767 - val_accuracy: 0.8255\n",
            "Epoch 21/100\n",
            "210/210 [==============================] - 1s 6ms/step - loss: 0.5101 - accuracy: 0.8415 - val_loss: 0.5406 - val_accuracy: 0.8358\n",
            "Epoch 22/100\n",
            "210/210 [==============================] - 1s 6ms/step - loss: 0.5266 - accuracy: 0.8348 - val_loss: 0.6098 - val_accuracy: 0.8148\n",
            "Epoch 23/100\n",
            "210/210 [==============================] - 1s 5ms/step - loss: 0.5123 - accuracy: 0.8396 - val_loss: 0.5157 - val_accuracy: 0.8456\n",
            "Epoch 24/100\n",
            "210/210 [==============================] - 1s 5ms/step - loss: 0.4971 - accuracy: 0.8471 - val_loss: 0.5337 - val_accuracy: 0.8408\n",
            "Epoch 25/100\n",
            "210/210 [==============================] - 1s 5ms/step - loss: 0.4964 - accuracy: 0.8478 - val_loss: 0.5694 - val_accuracy: 0.8284\n",
            "Epoch 26/100\n",
            "210/210 [==============================] - 1s 5ms/step - loss: 0.4949 - accuracy: 0.8482 - val_loss: 0.5881 - val_accuracy: 0.8183\n",
            "Epoch 27/100\n",
            "210/210 [==============================] - 1s 5ms/step - loss: 0.4781 - accuracy: 0.8495 - val_loss: 0.5538 - val_accuracy: 0.8319\n",
            "Epoch 28/100\n",
            "210/210 [==============================] - 1s 5ms/step - loss: 0.4774 - accuracy: 0.8514 - val_loss: 0.5398 - val_accuracy: 0.8356\n",
            "Epoch 29/100\n",
            "210/210 [==============================] - 1s 5ms/step - loss: 0.4683 - accuracy: 0.8535 - val_loss: 0.5042 - val_accuracy: 0.8481\n",
            "Epoch 30/100\n",
            "210/210 [==============================] - 1s 5ms/step - loss: 0.4598 - accuracy: 0.8583 - val_loss: 0.4968 - val_accuracy: 0.8489\n",
            "Epoch 31/100\n",
            "210/210 [==============================] - 1s 5ms/step - loss: 0.4482 - accuracy: 0.8583 - val_loss: 0.4989 - val_accuracy: 0.8497\n",
            "Epoch 32/100\n",
            "210/210 [==============================] - 1s 5ms/step - loss: 0.4357 - accuracy: 0.8624 - val_loss: 0.5313 - val_accuracy: 0.8400\n",
            "Epoch 33/100\n",
            "210/210 [==============================] - 1s 5ms/step - loss: 0.4467 - accuracy: 0.8596 - val_loss: 0.4972 - val_accuracy: 0.8497\n",
            "Epoch 34/100\n",
            "210/210 [==============================] - 1s 5ms/step - loss: 0.4454 - accuracy: 0.8614 - val_loss: 0.5179 - val_accuracy: 0.8436\n",
            "Epoch 35/100\n",
            "210/210 [==============================] - 1s 5ms/step - loss: 0.4184 - accuracy: 0.8695 - val_loss: 0.4590 - val_accuracy: 0.8630\n",
            "Epoch 36/100\n",
            "210/210 [==============================] - 1s 5ms/step - loss: 0.4114 - accuracy: 0.8717 - val_loss: 0.4671 - val_accuracy: 0.8597\n",
            "Epoch 37/100\n",
            "210/210 [==============================] - 1s 5ms/step - loss: 0.4281 - accuracy: 0.8656 - val_loss: 0.5461 - val_accuracy: 0.8355\n",
            "Epoch 38/100\n",
            "210/210 [==============================] - 1s 5ms/step - loss: 0.4458 - accuracy: 0.8608 - val_loss: 0.4537 - val_accuracy: 0.8646\n",
            "Epoch 39/100\n",
            "210/210 [==============================] - 1s 5ms/step - loss: 0.4089 - accuracy: 0.8732 - val_loss: 0.4450 - val_accuracy: 0.8691\n",
            "Epoch 40/100\n",
            "210/210 [==============================] - 1s 5ms/step - loss: 0.4183 - accuracy: 0.8659 - val_loss: 0.4647 - val_accuracy: 0.8595\n",
            "Epoch 41/100\n",
            "210/210 [==============================] - 1s 5ms/step - loss: 0.4110 - accuracy: 0.8699 - val_loss: 0.4654 - val_accuracy: 0.8599\n",
            "Epoch 42/100\n",
            "210/210 [==============================] - 1s 5ms/step - loss: 0.3931 - accuracy: 0.8782 - val_loss: 0.4452 - val_accuracy: 0.8671\n",
            "Epoch 43/100\n",
            "210/210 [==============================] - 1s 6ms/step - loss: 0.3858 - accuracy: 0.8792 - val_loss: 0.4616 - val_accuracy: 0.8627\n",
            "Epoch 44/100\n",
            "210/210 [==============================] - 1s 6ms/step - loss: 0.3864 - accuracy: 0.8767 - val_loss: 0.4711 - val_accuracy: 0.8579\n",
            "Epoch 45/100\n",
            "210/210 [==============================] - 1s 5ms/step - loss: 0.3700 - accuracy: 0.8841 - val_loss: 0.4276 - val_accuracy: 0.8730\n",
            "Epoch 46/100\n",
            "210/210 [==============================] - 1s 5ms/step - loss: 0.3957 - accuracy: 0.8763 - val_loss: 0.4319 - val_accuracy: 0.8708\n",
            "Epoch 47/100\n",
            "210/210 [==============================] - 1s 5ms/step - loss: 0.3676 - accuracy: 0.8831 - val_loss: 0.4458 - val_accuracy: 0.8671\n",
            "Epoch 48/100\n",
            "210/210 [==============================] - 1s 5ms/step - loss: 0.3672 - accuracy: 0.8826 - val_loss: 0.4519 - val_accuracy: 0.8647\n",
            "Epoch 49/100\n",
            "210/210 [==============================] - 1s 5ms/step - loss: 0.3617 - accuracy: 0.8838 - val_loss: 0.4262 - val_accuracy: 0.8746\n",
            "Epoch 50/100\n",
            "210/210 [==============================] - 1s 5ms/step - loss: 0.3736 - accuracy: 0.8810 - val_loss: 0.4367 - val_accuracy: 0.8694\n",
            "Epoch 51/100\n",
            "210/210 [==============================] - 1s 5ms/step - loss: 0.3683 - accuracy: 0.8824 - val_loss: 0.4417 - val_accuracy: 0.8689\n",
            "Epoch 52/100\n",
            "210/210 [==============================] - 1s 5ms/step - loss: 0.3404 - accuracy: 0.8925 - val_loss: 0.4606 - val_accuracy: 0.8654\n",
            "Epoch 53/100\n",
            "210/210 [==============================] - 1s 5ms/step - loss: 0.3395 - accuracy: 0.8911 - val_loss: 0.4339 - val_accuracy: 0.8712\n",
            "Epoch 54/100\n",
            "210/210 [==============================] - 1s 5ms/step - loss: 0.3467 - accuracy: 0.8886 - val_loss: 0.4291 - val_accuracy: 0.8728\n",
            "Epoch 55/100\n",
            "210/210 [==============================] - 1s 5ms/step - loss: 0.3406 - accuracy: 0.8912 - val_loss: 0.4251 - val_accuracy: 0.8755\n",
            "Epoch 56/100\n",
            "210/210 [==============================] - 1s 6ms/step - loss: 0.3461 - accuracy: 0.8887 - val_loss: 0.4387 - val_accuracy: 0.8693\n",
            "Epoch 57/100\n",
            "210/210 [==============================] - 1s 5ms/step - loss: 0.3353 - accuracy: 0.8940 - val_loss: 0.4083 - val_accuracy: 0.8786\n",
            "Epoch 58/100\n",
            "210/210 [==============================] - 1s 5ms/step - loss: 0.3293 - accuracy: 0.8933 - val_loss: 0.4490 - val_accuracy: 0.8653\n",
            "Epoch 59/100\n",
            "210/210 [==============================] - 1s 5ms/step - loss: 0.3314 - accuracy: 0.8930 - val_loss: 0.4110 - val_accuracy: 0.8792\n",
            "Epoch 60/100\n",
            "210/210 [==============================] - 1s 6ms/step - loss: 0.3303 - accuracy: 0.8940 - val_loss: 0.4169 - val_accuracy: 0.8755\n",
            "Epoch 61/100\n",
            "210/210 [==============================] - 1s 5ms/step - loss: 0.3106 - accuracy: 0.9012 - val_loss: 0.4143 - val_accuracy: 0.8785\n",
            "Epoch 62/100\n",
            "210/210 [==============================] - 1s 5ms/step - loss: 0.3192 - accuracy: 0.8977 - val_loss: 0.4256 - val_accuracy: 0.8761\n",
            "Epoch 63/100\n",
            "210/210 [==============================] - 1s 5ms/step - loss: 0.3281 - accuracy: 0.8976 - val_loss: 0.4186 - val_accuracy: 0.8752\n",
            "Epoch 64/100\n",
            "210/210 [==============================] - 1s 6ms/step - loss: 0.3258 - accuracy: 0.8947 - val_loss: 0.4148 - val_accuracy: 0.8783\n",
            "Epoch 65/100\n",
            "210/210 [==============================] - 1s 6ms/step - loss: 0.2975 - accuracy: 0.9068 - val_loss: 0.3954 - val_accuracy: 0.8844\n",
            "Epoch 66/100\n",
            "210/210 [==============================] - 1s 5ms/step - loss: 0.2947 - accuracy: 0.9067 - val_loss: 0.3874 - val_accuracy: 0.8890\n",
            "Epoch 67/100\n",
            "210/210 [==============================] - 1s 5ms/step - loss: 0.3104 - accuracy: 0.8995 - val_loss: 0.4014 - val_accuracy: 0.8836\n",
            "Epoch 68/100\n",
            "210/210 [==============================] - 1s 6ms/step - loss: 0.2958 - accuracy: 0.9042 - val_loss: 0.3935 - val_accuracy: 0.8856\n",
            "Epoch 69/100\n",
            "210/210 [==============================] - 1s 5ms/step - loss: 0.3017 - accuracy: 0.9028 - val_loss: 0.4059 - val_accuracy: 0.8820\n",
            "Epoch 70/100\n",
            "210/210 [==============================] - 1s 5ms/step - loss: 0.3014 - accuracy: 0.9002 - val_loss: 0.4097 - val_accuracy: 0.8819\n",
            "Epoch 71/100\n",
            "210/210 [==============================] - 1s 5ms/step - loss: 0.2937 - accuracy: 0.9045 - val_loss: 0.3796 - val_accuracy: 0.8928\n",
            "Epoch 72/100\n",
            "210/210 [==============================] - 1s 5ms/step - loss: 0.3084 - accuracy: 0.8995 - val_loss: 0.4286 - val_accuracy: 0.8756\n",
            "Epoch 73/100\n",
            "210/210 [==============================] - 1s 5ms/step - loss: 0.3129 - accuracy: 0.8979 - val_loss: 0.4093 - val_accuracy: 0.8826\n",
            "Epoch 74/100\n",
            "210/210 [==============================] - 1s 5ms/step - loss: 0.2856 - accuracy: 0.9086 - val_loss: 0.4190 - val_accuracy: 0.8778\n",
            "Epoch 75/100\n",
            "210/210 [==============================] - 1s 5ms/step - loss: 0.2907 - accuracy: 0.9059 - val_loss: 0.3983 - val_accuracy: 0.8865\n",
            "Epoch 76/100\n",
            "210/210 [==============================] - 1s 5ms/step - loss: 0.2882 - accuracy: 0.9036 - val_loss: 0.3616 - val_accuracy: 0.8979\n",
            "Epoch 77/100\n",
            "210/210 [==============================] - 1s 5ms/step - loss: 0.2738 - accuracy: 0.9098 - val_loss: 0.4103 - val_accuracy: 0.8821\n",
            "Epoch 78/100\n",
            "210/210 [==============================] - 1s 6ms/step - loss: 0.2758 - accuracy: 0.9109 - val_loss: 0.3948 - val_accuracy: 0.8861\n",
            "Epoch 79/100\n",
            "210/210 [==============================] - 1s 5ms/step - loss: 0.2677 - accuracy: 0.9118 - val_loss: 0.3735 - val_accuracy: 0.8960\n",
            "Epoch 80/100\n",
            "210/210 [==============================] - 1s 5ms/step - loss: 0.2780 - accuracy: 0.9087 - val_loss: 0.4189 - val_accuracy: 0.8784\n",
            "Epoch 81/100\n",
            "210/210 [==============================] - 1s 5ms/step - loss: 0.2674 - accuracy: 0.9136 - val_loss: 0.4094 - val_accuracy: 0.8859\n",
            "Epoch 82/100\n",
            "210/210 [==============================] - 1s 6ms/step - loss: 0.2698 - accuracy: 0.9101 - val_loss: 0.4429 - val_accuracy: 0.8753\n",
            "Epoch 83/100\n",
            "210/210 [==============================] - 1s 5ms/step - loss: 0.2623 - accuracy: 0.9141 - val_loss: 0.3822 - val_accuracy: 0.8945\n",
            "Epoch 84/100\n",
            "210/210 [==============================] - 1s 6ms/step - loss: 0.2810 - accuracy: 0.9077 - val_loss: 0.3826 - val_accuracy: 0.8914\n",
            "Epoch 85/100\n",
            "210/210 [==============================] - 1s 5ms/step - loss: 0.2609 - accuracy: 0.9146 - val_loss: 0.3810 - val_accuracy: 0.8917\n",
            "Epoch 86/100\n",
            "210/210 [==============================] - 1s 5ms/step - loss: 0.2600 - accuracy: 0.9135 - val_loss: 0.3942 - val_accuracy: 0.8928\n",
            "Epoch 87/100\n",
            "210/210 [==============================] - 1s 5ms/step - loss: 0.2462 - accuracy: 0.9212 - val_loss: 0.4062 - val_accuracy: 0.8861\n",
            "Epoch 88/100\n",
            "210/210 [==============================] - 1s 5ms/step - loss: 0.2675 - accuracy: 0.9111 - val_loss: 0.4371 - val_accuracy: 0.8761\n",
            "Epoch 89/100\n",
            "210/210 [==============================] - 1s 5ms/step - loss: 0.2653 - accuracy: 0.9123 - val_loss: 0.3842 - val_accuracy: 0.8953\n",
            "Epoch 90/100\n",
            "210/210 [==============================] - 1s 6ms/step - loss: 0.2489 - accuracy: 0.9180 - val_loss: 0.4055 - val_accuracy: 0.8878\n",
            "Epoch 91/100\n",
            "210/210 [==============================] - 1s 6ms/step - loss: 0.2612 - accuracy: 0.9125 - val_loss: 0.4018 - val_accuracy: 0.8894\n",
            "Epoch 92/100\n",
            "210/210 [==============================] - 1s 5ms/step - loss: 0.2340 - accuracy: 0.9232 - val_loss: 0.3782 - val_accuracy: 0.8990\n",
            "Epoch 93/100\n",
            "210/210 [==============================] - 1s 6ms/step - loss: 0.2439 - accuracy: 0.9205 - val_loss: 0.4074 - val_accuracy: 0.8877\n",
            "Epoch 94/100\n",
            "210/210 [==============================] - 1s 6ms/step - loss: 0.2367 - accuracy: 0.9210 - val_loss: 0.3657 - val_accuracy: 0.9018\n",
            "Epoch 95/100\n",
            "210/210 [==============================] - 1s 6ms/step - loss: 0.2425 - accuracy: 0.9200 - val_loss: 0.4045 - val_accuracy: 0.8874\n",
            "Epoch 96/100\n",
            "210/210 [==============================] - 1s 6ms/step - loss: 0.2502 - accuracy: 0.9166 - val_loss: 0.3624 - val_accuracy: 0.9010\n",
            "Epoch 97/100\n",
            "210/210 [==============================] - 1s 6ms/step - loss: 0.2418 - accuracy: 0.9185 - val_loss: 0.3560 - val_accuracy: 0.9057\n",
            "Epoch 98/100\n",
            "210/210 [==============================] - 1s 5ms/step - loss: 0.2265 - accuracy: 0.9252 - val_loss: 0.3624 - val_accuracy: 0.9056\n",
            "Epoch 99/100\n",
            "210/210 [==============================] - 1s 5ms/step - loss: 0.2362 - accuracy: 0.9210 - val_loss: 0.4271 - val_accuracy: 0.8837\n",
            "Epoch 100/100\n",
            "210/210 [==============================] - 1s 5ms/step - loss: 0.2262 - accuracy: 0.9245 - val_loss: 0.3773 - val_accuracy: 0.8978\n"
          ],
          "name": "stdout"
        }
      ]
    },
    {
      "cell_type": "markdown",
      "metadata": {
        "id": "KiFyCFVTLiwp"
      },
      "source": [
        "**Observation 5 - NN model with relu activations and changing activators**\r\n",
        "\r\n",
        "Adding relu activations and changing activators results in improvement of score.\r\n",
        "Best accuracy achieved till now is using relu activations, changing number of activators and Adam optimizers with a learning rate of 0.001\r\n",
        "Next, let's try adding weight initilization.\r\n",
        "\r\n",
        "**With Weight Initializers**\r\n",
        "\r\n",
        "Changing weight initialization scheme can significantly improve training of the model by preventing vanishing gradient problem up to some degree.\r\n",
        "\r\n",
        "**NN model, relu activations, SGD optimizers with weight initializers**"
      ]
    },
    {
      "cell_type": "code",
      "metadata": {
        "id": "D9y8XJgfLvcz",
        "colab": {
          "base_uri": "https://localhost:8080/"
        },
        "outputId": "29f99f55-0c64-4031-c621-c3836c88b7ee"
      },
      "source": [
        "print('NN model with weight initializers'); print('--'*40)\r\n",
        "# Initialize the neural network classifier\r\n",
        "model4 = Sequential()\r\n",
        "\r\n",
        "# Input Layer - adding input layer and activation functions relu and weight initializer\r\n",
        "model4.add(Dense(256, input_shape = (1024, ), kernel_initializer = 'he_normal'))\r\n",
        "# Adding activation function\r\n",
        "model4.add(Activation('relu'))\r\n",
        "\r\n",
        "#Hidden Layer 1 - adding first hidden layer\r\n",
        "model4.add(Dense(128, kernel_initializer = 'he_normal', bias_initializer = 'he_uniform'))\r\n",
        "# Adding activation function\r\n",
        "model4.add(Activation('relu'))\r\n",
        "\r\n",
        "#Hidden Layer 2 - adding second hidden layer\r\n",
        "model4.add(Dense(64, kernel_initializer = 'he_normal', bias_initializer = 'he_uniform'))\r\n",
        "# Adding activation function\r\n",
        "model4.add(Activation('relu'))\r\n",
        "\r\n",
        "#Hidden Layer 3 - adding third hidden layer\r\n",
        "model4.add(Dense(32, kernel_initializer = 'he_normal', bias_initializer = 'he_uniform'))\r\n",
        "# Adding activation function\r\n",
        "model4.add(Activation('relu'))\r\n",
        "\r\n",
        "# Output Layer - adding output layer which is of 10 nodes (digits)\r\n",
        "model4.add(Dense(10, kernel_initializer = 'he_normal', bias_initializer = 'he_uniform'))\r\n",
        "# Adding activation function\r\n",
        "model4.add(Activation('softmax'))"
      ],
      "execution_count": 49,
      "outputs": [
        {
          "output_type": "stream",
          "text": [
            "NN model with weight initializers\n",
            "--------------------------------------------------------------------------------\n"
          ],
          "name": "stdout"
        }
      ]
    },
    {
      "cell_type": "code",
      "metadata": {
        "id": "kqfnqhVbL6cF",
        "colab": {
          "base_uri": "https://localhost:8080/"
        },
        "outputId": "daf80d49-14c3-42dc-dff2-3735267c2345"
      },
      "source": [
        "model4.summary()"
      ],
      "execution_count": 50,
      "outputs": [
        {
          "output_type": "stream",
          "text": [
            "Model: \"sequential_3\"\n",
            "_________________________________________________________________\n",
            "Layer (type)                 Output Shape              Param #   \n",
            "=================================================================\n",
            "dense_10 (Dense)             (None, 256)               262400    \n",
            "_________________________________________________________________\n",
            "activation_10 (Activation)   (None, 256)               0         \n",
            "_________________________________________________________________\n",
            "dense_11 (Dense)             (None, 128)               32896     \n",
            "_________________________________________________________________\n",
            "activation_11 (Activation)   (None, 128)               0         \n",
            "_________________________________________________________________\n",
            "dense_12 (Dense)             (None, 64)                8256      \n",
            "_________________________________________________________________\n",
            "activation_12 (Activation)   (None, 64)                0         \n",
            "_________________________________________________________________\n",
            "dense_13 (Dense)             (None, 32)                2080      \n",
            "_________________________________________________________________\n",
            "activation_13 (Activation)   (None, 32)                0         \n",
            "_________________________________________________________________\n",
            "dense_14 (Dense)             (None, 10)                330       \n",
            "_________________________________________________________________\n",
            "activation_14 (Activation)   (None, 10)                0         \n",
            "=================================================================\n",
            "Total params: 305,962\n",
            "Trainable params: 305,962\n",
            "Non-trainable params: 0\n",
            "_________________________________________________________________\n"
          ],
          "name": "stdout"
        }
      ]
    },
    {
      "cell_type": "code",
      "metadata": {
        "id": "lngdZHvXL9cS",
        "colab": {
          "base_uri": "https://localhost:8080/"
        },
        "outputId": "316eb96c-1a82-4372-e9c4-bd73df7c39bc"
      },
      "source": [
        "# compiling the neural network classifier, sgd optimizer\r\n",
        "sgd = optimizers.SGD(lr = 0.01)\r\n",
        "# Adding activation function - softmax for multiclass classification\r\n",
        "model4.compile(optimizer = sgd, loss = 'categorical_crossentropy', metrics = ['accuracy'])\r\n",
        "\r\n",
        "# Fitting the neural network for training\r\n",
        "history = model4.fit(X_train, y_train, validation_data = (X_val, y_val), batch_size = 200, epochs = 100, verbose = 1)"
      ],
      "execution_count": 51,
      "outputs": [
        {
          "output_type": "stream",
          "text": [
            "Epoch 1/100\n",
            "210/210 [==============================] - 2s 6ms/step - loss: 2.3359 - accuracy: 0.1080 - val_loss: 2.2874 - val_accuracy: 0.1453\n",
            "Epoch 2/100\n",
            "210/210 [==============================] - 1s 5ms/step - loss: 2.2800 - accuracy: 0.1571 - val_loss: 2.2537 - val_accuracy: 0.1787\n",
            "Epoch 3/100\n",
            "210/210 [==============================] - 1s 5ms/step - loss: 2.2392 - accuracy: 0.1918 - val_loss: 2.1926 - val_accuracy: 0.2271\n",
            "Epoch 4/100\n",
            "210/210 [==============================] - 1s 6ms/step - loss: 2.1764 - accuracy: 0.2411 - val_loss: 2.1094 - val_accuracy: 0.2932\n",
            "Epoch 5/100\n",
            "210/210 [==============================] - 1s 6ms/step - loss: 2.0844 - accuracy: 0.2944 - val_loss: 1.9983 - val_accuracy: 0.3119\n",
            "Epoch 6/100\n",
            "210/210 [==============================] - 1s 5ms/step - loss: 1.9681 - accuracy: 0.3413 - val_loss: 1.8691 - val_accuracy: 0.3757\n",
            "Epoch 7/100\n",
            "210/210 [==============================] - 1s 6ms/step - loss: 1.8496 - accuracy: 0.3807 - val_loss: 1.7729 - val_accuracy: 0.3992\n",
            "Epoch 8/100\n",
            "210/210 [==============================] - 1s 5ms/step - loss: 1.7575 - accuracy: 0.4127 - val_loss: 1.6542 - val_accuracy: 0.4619\n",
            "Epoch 9/100\n",
            "210/210 [==============================] - 1s 5ms/step - loss: 1.6622 - accuracy: 0.4525 - val_loss: 1.5695 - val_accuracy: 0.4985\n",
            "Epoch 10/100\n",
            "210/210 [==============================] - 1s 5ms/step - loss: 1.5859 - accuracy: 0.4848 - val_loss: 1.4929 - val_accuracy: 0.5205\n",
            "Epoch 11/100\n",
            "210/210 [==============================] - 1s 5ms/step - loss: 1.5063 - accuracy: 0.5084 - val_loss: 1.4699 - val_accuracy: 0.5300\n",
            "Epoch 12/100\n",
            "210/210 [==============================] - 1s 5ms/step - loss: 1.4409 - accuracy: 0.5366 - val_loss: 1.3662 - val_accuracy: 0.5777\n",
            "Epoch 13/100\n",
            "210/210 [==============================] - 1s 5ms/step - loss: 1.4022 - accuracy: 0.5485 - val_loss: 1.3263 - val_accuracy: 0.5798\n",
            "Epoch 14/100\n",
            "210/210 [==============================] - 1s 5ms/step - loss: 1.3153 - accuracy: 0.5854 - val_loss: 1.3352 - val_accuracy: 0.5795\n",
            "Epoch 15/100\n",
            "210/210 [==============================] - 1s 5ms/step - loss: 1.2770 - accuracy: 0.5980 - val_loss: 1.2191 - val_accuracy: 0.6206\n",
            "Epoch 16/100\n",
            "210/210 [==============================] - 1s 6ms/step - loss: 1.2295 - accuracy: 0.6148 - val_loss: 1.2907 - val_accuracy: 0.5801\n",
            "Epoch 17/100\n",
            "210/210 [==============================] - 1s 5ms/step - loss: 1.2180 - accuracy: 0.6190 - val_loss: 1.1843 - val_accuracy: 0.6295\n",
            "Epoch 18/100\n",
            "210/210 [==============================] - 1s 5ms/step - loss: 1.1879 - accuracy: 0.6287 - val_loss: 1.2946 - val_accuracy: 0.5841\n",
            "Epoch 19/100\n",
            "210/210 [==============================] - 1s 6ms/step - loss: 1.1688 - accuracy: 0.6341 - val_loss: 1.1133 - val_accuracy: 0.6576\n",
            "Epoch 20/100\n",
            "210/210 [==============================] - 1s 5ms/step - loss: 1.1331 - accuracy: 0.6473 - val_loss: 1.1645 - val_accuracy: 0.6281\n",
            "Epoch 21/100\n",
            "210/210 [==============================] - 1s 5ms/step - loss: 1.0969 - accuracy: 0.6614 - val_loss: 1.0489 - val_accuracy: 0.6784\n",
            "Epoch 22/100\n",
            "210/210 [==============================] - 1s 5ms/step - loss: 1.0934 - accuracy: 0.6612 - val_loss: 1.0383 - val_accuracy: 0.6825\n",
            "Epoch 23/100\n",
            "210/210 [==============================] - 1s 5ms/step - loss: 1.0702 - accuracy: 0.6673 - val_loss: 1.0229 - val_accuracy: 0.6925\n",
            "Epoch 24/100\n",
            "210/210 [==============================] - 1s 6ms/step - loss: 1.0411 - accuracy: 0.6800 - val_loss: 1.0259 - val_accuracy: 0.6814\n",
            "Epoch 25/100\n",
            "210/210 [==============================] - 1s 5ms/step - loss: 1.0225 - accuracy: 0.6837 - val_loss: 0.9822 - val_accuracy: 0.7000\n",
            "Epoch 26/100\n",
            "210/210 [==============================] - 1s 5ms/step - loss: 0.9990 - accuracy: 0.6928 - val_loss: 1.0000 - val_accuracy: 0.6893\n",
            "Epoch 27/100\n",
            "210/210 [==============================] - 1s 5ms/step - loss: 0.9838 - accuracy: 0.7020 - val_loss: 0.9886 - val_accuracy: 0.6914\n",
            "Epoch 28/100\n",
            "210/210 [==============================] - 1s 5ms/step - loss: 0.9824 - accuracy: 0.6962 - val_loss: 0.9414 - val_accuracy: 0.7143\n",
            "Epoch 29/100\n",
            "210/210 [==============================] - 1s 6ms/step - loss: 0.9572 - accuracy: 0.7054 - val_loss: 0.9249 - val_accuracy: 0.7198\n",
            "Epoch 30/100\n",
            "210/210 [==============================] - 1s 5ms/step - loss: 0.9417 - accuracy: 0.7124 - val_loss: 0.9184 - val_accuracy: 0.7233\n",
            "Epoch 31/100\n",
            "210/210 [==============================] - 1s 6ms/step - loss: 0.9383 - accuracy: 0.7100 - val_loss: 0.9079 - val_accuracy: 0.7257\n",
            "Epoch 32/100\n",
            "210/210 [==============================] - 1s 5ms/step - loss: 0.9261 - accuracy: 0.7161 - val_loss: 0.9519 - val_accuracy: 0.7039\n",
            "Epoch 33/100\n",
            "210/210 [==============================] - 1s 6ms/step - loss: 0.8946 - accuracy: 0.7294 - val_loss: 0.9734 - val_accuracy: 0.6910\n",
            "Epoch 34/100\n",
            "210/210 [==============================] - 1s 5ms/step - loss: 0.8859 - accuracy: 0.7304 - val_loss: 0.8944 - val_accuracy: 0.7247\n",
            "Epoch 35/100\n",
            "210/210 [==============================] - 1s 6ms/step - loss: 0.8740 - accuracy: 0.7317 - val_loss: 0.8839 - val_accuracy: 0.7300\n",
            "Epoch 36/100\n",
            "210/210 [==============================] - 1s 5ms/step - loss: 0.8666 - accuracy: 0.7345 - val_loss: 0.8497 - val_accuracy: 0.7430\n",
            "Epoch 37/100\n",
            "210/210 [==============================] - 1s 6ms/step - loss: 0.8645 - accuracy: 0.7351 - val_loss: 0.8615 - val_accuracy: 0.7371\n",
            "Epoch 38/100\n",
            "210/210 [==============================] - 1s 6ms/step - loss: 0.8504 - accuracy: 0.7392 - val_loss: 0.8275 - val_accuracy: 0.7509\n",
            "Epoch 39/100\n",
            "210/210 [==============================] - 1s 5ms/step - loss: 0.8352 - accuracy: 0.7450 - val_loss: 0.8579 - val_accuracy: 0.7392\n",
            "Epoch 40/100\n",
            "210/210 [==============================] - 1s 6ms/step - loss: 0.8324 - accuracy: 0.7459 - val_loss: 0.8152 - val_accuracy: 0.7534\n",
            "Epoch 41/100\n",
            "210/210 [==============================] - 1s 5ms/step - loss: 0.8167 - accuracy: 0.7504 - val_loss: 0.8032 - val_accuracy: 0.7565\n",
            "Epoch 42/100\n",
            "210/210 [==============================] - 1s 6ms/step - loss: 0.8074 - accuracy: 0.7503 - val_loss: 0.7945 - val_accuracy: 0.7613\n",
            "Epoch 43/100\n",
            "210/210 [==============================] - 1s 5ms/step - loss: 0.7970 - accuracy: 0.7553 - val_loss: 0.7890 - val_accuracy: 0.7628\n",
            "Epoch 44/100\n",
            "210/210 [==============================] - 1s 5ms/step - loss: 0.7834 - accuracy: 0.7600 - val_loss: 0.8054 - val_accuracy: 0.7520\n",
            "Epoch 45/100\n",
            "210/210 [==============================] - 1s 5ms/step - loss: 0.7722 - accuracy: 0.7654 - val_loss: 0.7702 - val_accuracy: 0.7671\n",
            "Epoch 46/100\n",
            "210/210 [==============================] - 1s 5ms/step - loss: 0.7771 - accuracy: 0.7613 - val_loss: 0.7624 - val_accuracy: 0.7704\n",
            "Epoch 47/100\n",
            "210/210 [==============================] - 1s 5ms/step - loss: 0.7612 - accuracy: 0.7688 - val_loss: 0.9099 - val_accuracy: 0.7245\n",
            "Epoch 48/100\n",
            "210/210 [==============================] - 1s 6ms/step - loss: 0.7564 - accuracy: 0.7675 - val_loss: 0.7952 - val_accuracy: 0.7595\n",
            "Epoch 49/100\n",
            "210/210 [==============================] - 1s 6ms/step - loss: 0.7468 - accuracy: 0.7713 - val_loss: 0.7561 - val_accuracy: 0.7700\n",
            "Epoch 50/100\n",
            "210/210 [==============================] - 1s 5ms/step - loss: 0.7445 - accuracy: 0.7699 - val_loss: 0.7531 - val_accuracy: 0.7715\n",
            "Epoch 51/100\n",
            "210/210 [==============================] - 1s 5ms/step - loss: 0.7372 - accuracy: 0.7747 - val_loss: 0.7420 - val_accuracy: 0.7762\n",
            "Epoch 52/100\n",
            "210/210 [==============================] - 1s 6ms/step - loss: 0.7292 - accuracy: 0.7755 - val_loss: 0.7360 - val_accuracy: 0.7759\n",
            "Epoch 53/100\n",
            "210/210 [==============================] - 1s 6ms/step - loss: 0.7202 - accuracy: 0.7809 - val_loss: 0.7321 - val_accuracy: 0.7788\n",
            "Epoch 54/100\n",
            "210/210 [==============================] - 1s 5ms/step - loss: 0.7121 - accuracy: 0.7818 - val_loss: 0.7279 - val_accuracy: 0.7810\n",
            "Epoch 55/100\n",
            "210/210 [==============================] - 1s 6ms/step - loss: 0.7032 - accuracy: 0.7838 - val_loss: 0.7744 - val_accuracy: 0.7635\n",
            "Epoch 56/100\n",
            "210/210 [==============================] - 1s 6ms/step - loss: 0.7003 - accuracy: 0.7833 - val_loss: 0.7139 - val_accuracy: 0.7830\n",
            "Epoch 57/100\n",
            "210/210 [==============================] - 1s 5ms/step - loss: 0.6896 - accuracy: 0.7904 - val_loss: 0.7308 - val_accuracy: 0.7780\n",
            "Epoch 58/100\n",
            "210/210 [==============================] - 1s 6ms/step - loss: 0.6807 - accuracy: 0.7913 - val_loss: 0.7124 - val_accuracy: 0.7845\n",
            "Epoch 59/100\n",
            "210/210 [==============================] - 1s 5ms/step - loss: 0.6766 - accuracy: 0.7960 - val_loss: 0.6975 - val_accuracy: 0.7889\n",
            "Epoch 60/100\n",
            "210/210 [==============================] - 1s 5ms/step - loss: 0.6815 - accuracy: 0.7912 - val_loss: 0.7074 - val_accuracy: 0.7869\n",
            "Epoch 61/100\n",
            "210/210 [==============================] - 1s 5ms/step - loss: 0.6790 - accuracy: 0.7915 - val_loss: 0.6774 - val_accuracy: 0.7950\n",
            "Epoch 62/100\n",
            "210/210 [==============================] - 1s 5ms/step - loss: 0.6613 - accuracy: 0.8015 - val_loss: 0.6684 - val_accuracy: 0.7994\n",
            "Epoch 63/100\n",
            "210/210 [==============================] - 1s 6ms/step - loss: 0.6533 - accuracy: 0.7999 - val_loss: 0.7061 - val_accuracy: 0.7862\n",
            "Epoch 64/100\n",
            "210/210 [==============================] - 1s 5ms/step - loss: 0.6547 - accuracy: 0.8011 - val_loss: 0.6955 - val_accuracy: 0.7854\n",
            "Epoch 65/100\n",
            "210/210 [==============================] - 1s 6ms/step - loss: 0.6404 - accuracy: 0.8046 - val_loss: 0.6952 - val_accuracy: 0.7878\n",
            "Epoch 66/100\n",
            "210/210 [==============================] - 1s 6ms/step - loss: 0.6411 - accuracy: 0.8056 - val_loss: 0.7252 - val_accuracy: 0.7798\n",
            "Epoch 67/100\n",
            "210/210 [==============================] - 1s 6ms/step - loss: 0.6375 - accuracy: 0.8068 - val_loss: 0.6502 - val_accuracy: 0.8063\n",
            "Epoch 68/100\n",
            "210/210 [==============================] - 1s 5ms/step - loss: 0.6242 - accuracy: 0.8111 - val_loss: 0.6759 - val_accuracy: 0.7927\n",
            "Epoch 69/100\n",
            "210/210 [==============================] - 1s 5ms/step - loss: 0.6217 - accuracy: 0.8096 - val_loss: 0.6436 - val_accuracy: 0.8062\n",
            "Epoch 70/100\n",
            "210/210 [==============================] - 1s 5ms/step - loss: 0.6213 - accuracy: 0.8100 - val_loss: 0.6252 - val_accuracy: 0.8109\n",
            "Epoch 71/100\n",
            "210/210 [==============================] - 1s 6ms/step - loss: 0.6152 - accuracy: 0.8152 - val_loss: 0.6679 - val_accuracy: 0.7976\n",
            "Epoch 72/100\n",
            "210/210 [==============================] - 1s 5ms/step - loss: 0.6139 - accuracy: 0.8124 - val_loss: 0.6107 - val_accuracy: 0.8168\n",
            "Epoch 73/100\n",
            "210/210 [==============================] - 1s 5ms/step - loss: 0.6105 - accuracy: 0.8150 - val_loss: 0.6773 - val_accuracy: 0.7926\n",
            "Epoch 74/100\n",
            "210/210 [==============================] - 1s 5ms/step - loss: 0.6028 - accuracy: 0.8166 - val_loss: 0.6406 - val_accuracy: 0.8083\n",
            "Epoch 75/100\n",
            "210/210 [==============================] - 1s 5ms/step - loss: 0.6073 - accuracy: 0.8150 - val_loss: 0.6148 - val_accuracy: 0.8146\n",
            "Epoch 76/100\n",
            "210/210 [==============================] - 1s 5ms/step - loss: 0.5815 - accuracy: 0.8205 - val_loss: 0.6095 - val_accuracy: 0.8160\n",
            "Epoch 77/100\n",
            "210/210 [==============================] - 1s 5ms/step - loss: 0.5907 - accuracy: 0.8208 - val_loss: 0.6088 - val_accuracy: 0.8137\n",
            "Epoch 78/100\n",
            "210/210 [==============================] - 1s 5ms/step - loss: 0.5831 - accuracy: 0.8207 - val_loss: 0.6111 - val_accuracy: 0.8159\n",
            "Epoch 79/100\n",
            "210/210 [==============================] - 1s 5ms/step - loss: 0.5730 - accuracy: 0.8250 - val_loss: 0.6171 - val_accuracy: 0.8142\n",
            "Epoch 80/100\n",
            "210/210 [==============================] - 1s 5ms/step - loss: 0.5736 - accuracy: 0.8259 - val_loss: 0.5757 - val_accuracy: 0.8295\n",
            "Epoch 81/100\n",
            "210/210 [==============================] - 1s 5ms/step - loss: 0.5837 - accuracy: 0.8206 - val_loss: 0.5982 - val_accuracy: 0.8213\n",
            "Epoch 82/100\n",
            "210/210 [==============================] - 1s 5ms/step - loss: 0.5699 - accuracy: 0.8242 - val_loss: 0.5823 - val_accuracy: 0.8254\n",
            "Epoch 83/100\n",
            "210/210 [==============================] - 1s 5ms/step - loss: 0.5643 - accuracy: 0.8287 - val_loss: 0.6349 - val_accuracy: 0.8061\n",
            "Epoch 84/100\n",
            "210/210 [==============================] - 1s 5ms/step - loss: 0.5562 - accuracy: 0.8310 - val_loss: 0.5943 - val_accuracy: 0.8197\n",
            "Epoch 85/100\n",
            "210/210 [==============================] - 1s 5ms/step - loss: 0.5660 - accuracy: 0.8271 - val_loss: 0.5716 - val_accuracy: 0.8295\n",
            "Epoch 86/100\n",
            "210/210 [==============================] - 1s 5ms/step - loss: 0.5627 - accuracy: 0.8281 - val_loss: 0.6219 - val_accuracy: 0.8104\n",
            "Epoch 87/100\n",
            "210/210 [==============================] - 1s 5ms/step - loss: 0.5521 - accuracy: 0.8302 - val_loss: 0.5600 - val_accuracy: 0.8336\n",
            "Epoch 88/100\n",
            "210/210 [==============================] - 1s 6ms/step - loss: 0.5439 - accuracy: 0.8325 - val_loss: 0.6587 - val_accuracy: 0.7959\n",
            "Epoch 89/100\n",
            "210/210 [==============================] - 1s 5ms/step - loss: 0.5505 - accuracy: 0.8316 - val_loss: 0.5546 - val_accuracy: 0.8349\n",
            "Epoch 90/100\n",
            "210/210 [==============================] - 1s 5ms/step - loss: 0.5482 - accuracy: 0.8310 - val_loss: 0.5584 - val_accuracy: 0.8341\n",
            "Epoch 91/100\n",
            "210/210 [==============================] - 1s 5ms/step - loss: 0.5389 - accuracy: 0.8353 - val_loss: 0.5927 - val_accuracy: 0.8194\n",
            "Epoch 92/100\n",
            "210/210 [==============================] - 1s 6ms/step - loss: 0.5213 - accuracy: 0.8432 - val_loss: 0.5478 - val_accuracy: 0.8375\n",
            "Epoch 93/100\n",
            "210/210 [==============================] - 1s 6ms/step - loss: 0.5318 - accuracy: 0.8389 - val_loss: 0.5581 - val_accuracy: 0.8337\n",
            "Epoch 94/100\n",
            "210/210 [==============================] - 1s 6ms/step - loss: 0.5132 - accuracy: 0.8433 - val_loss: 0.5468 - val_accuracy: 0.8371\n",
            "Epoch 95/100\n",
            "210/210 [==============================] - 1s 6ms/step - loss: 0.5149 - accuracy: 0.8424 - val_loss: 0.5626 - val_accuracy: 0.8332\n",
            "Epoch 96/100\n",
            "210/210 [==============================] - 1s 5ms/step - loss: 0.5108 - accuracy: 0.8456 - val_loss: 0.5320 - val_accuracy: 0.8427\n",
            "Epoch 97/100\n",
            "210/210 [==============================] - 1s 5ms/step - loss: 0.5158 - accuracy: 0.8413 - val_loss: 0.5487 - val_accuracy: 0.8354\n",
            "Epoch 98/100\n",
            "210/210 [==============================] - 1s 6ms/step - loss: 0.5067 - accuracy: 0.8449 - val_loss: 0.5599 - val_accuracy: 0.8312\n",
            "Epoch 99/100\n",
            "210/210 [==============================] - 1s 5ms/step - loss: 0.5117 - accuracy: 0.8432 - val_loss: 0.5569 - val_accuracy: 0.8329\n",
            "Epoch 100/100\n",
            "210/210 [==============================] - 1s 5ms/step - loss: 0.5039 - accuracy: 0.8458 - val_loss: 0.5375 - val_accuracy: 0.8407\n"
          ],
          "name": "stdout"
        }
      ]
    },
    {
      "cell_type": "code",
      "metadata": {
        "id": "sN-zuvG8MAG5",
        "colab": {
          "base_uri": "https://localhost:8080/"
        },
        "outputId": "1a9ce569-725d-42e3-b89d-5c66c8a59e54"
      },
      "source": [
        "print('NN with weight initializers'); print('--'*40)\r\n",
        "results4 = model4.evaluate(X_val, y_val)\r\n",
        "print('Validation accuracy: {}'.format(round(results4[1]*100, 2), '%'))"
      ],
      "execution_count": 52,
      "outputs": [
        {
          "output_type": "stream",
          "text": [
            "NN with weight initializers\n",
            "--------------------------------------------------------------------------------\n",
            "1875/1875 [==============================] - 4s 2ms/step - loss: 0.5375 - accuracy: 0.8407\n",
            "Validation accuracy: 84.07\n"
          ],
          "name": "stdout"
        }
      ]
    },
    {
      "cell_type": "markdown",
      "metadata": {
        "id": "i7IzUTM8MMNx"
      },
      "source": [
        "**NN model, relu activations, Adam optimizers with weight initializers**"
      ]
    },
    {
      "cell_type": "code",
      "metadata": {
        "id": "D3MpBeBzMNgZ",
        "colab": {
          "base_uri": "https://localhost:8080/"
        },
        "outputId": "b9b352c7-dfab-496b-8b11-23d4305f6d3d"
      },
      "source": [
        "# compiling the neural network classifier, adam optimizer\r\n",
        "adam = optimizers.Adam(lr = 0.001)\r\n",
        "# Adding activation function - softmax for multiclass classification\r\n",
        "model4.compile(optimizer = adam, loss = 'categorical_crossentropy', metrics = ['accuracy'])\r\n",
        "\r\n",
        "# Fitting the neural network for training\r\n",
        "history = model4.fit(X_train, y_train, validation_data = (X_val, y_val), batch_size = 200, epochs = 100, verbose = 1)"
      ],
      "execution_count": 53,
      "outputs": [
        {
          "output_type": "stream",
          "text": [
            "Epoch 1/100\n",
            "210/210 [==============================] - 2s 6ms/step - loss: 1.2476 - accuracy: 0.6644 - val_loss: 0.7288 - val_accuracy: 0.7766\n",
            "Epoch 2/100\n",
            "210/210 [==============================] - 1s 5ms/step - loss: 0.7319 - accuracy: 0.7735 - val_loss: 0.8146 - val_accuracy: 0.7491\n",
            "Epoch 3/100\n",
            "210/210 [==============================] - 1s 5ms/step - loss: 0.7228 - accuracy: 0.7735 - val_loss: 0.7179 - val_accuracy: 0.7834\n",
            "Epoch 4/100\n",
            "210/210 [==============================] - 1s 5ms/step - loss: 0.6873 - accuracy: 0.7890 - val_loss: 0.7213 - val_accuracy: 0.7815\n",
            "Epoch 5/100\n",
            "210/210 [==============================] - 1s 5ms/step - loss: 0.6871 - accuracy: 0.7886 - val_loss: 0.7225 - val_accuracy: 0.7759\n",
            "Epoch 6/100\n",
            "210/210 [==============================] - 1s 5ms/step - loss: 0.6855 - accuracy: 0.7878 - val_loss: 0.6291 - val_accuracy: 0.8106\n",
            "Epoch 7/100\n",
            "210/210 [==============================] - 1s 5ms/step - loss: 0.6708 - accuracy: 0.7952 - val_loss: 0.6667 - val_accuracy: 0.7928\n",
            "Epoch 8/100\n",
            "210/210 [==============================] - 1s 5ms/step - loss: 0.6505 - accuracy: 0.7988 - val_loss: 0.6934 - val_accuracy: 0.7929\n",
            "Epoch 9/100\n",
            "210/210 [==============================] - 1s 5ms/step - loss: 0.6102 - accuracy: 0.8120 - val_loss: 0.6231 - val_accuracy: 0.8111\n",
            "Epoch 10/100\n",
            "210/210 [==============================] - 1s 5ms/step - loss: 0.5977 - accuracy: 0.8170 - val_loss: 0.6456 - val_accuracy: 0.8051\n",
            "Epoch 11/100\n",
            "210/210 [==============================] - 1s 5ms/step - loss: 0.6078 - accuracy: 0.8112 - val_loss: 0.6175 - val_accuracy: 0.8110\n",
            "Epoch 12/100\n",
            "210/210 [==============================] - 1s 6ms/step - loss: 0.5922 - accuracy: 0.8176 - val_loss: 0.6038 - val_accuracy: 0.8163\n",
            "Epoch 13/100\n",
            "210/210 [==============================] - 1s 6ms/step - loss: 0.5976 - accuracy: 0.8145 - val_loss: 0.6210 - val_accuracy: 0.8096\n",
            "Epoch 14/100\n",
            "210/210 [==============================] - 1s 5ms/step - loss: 0.5840 - accuracy: 0.8160 - val_loss: 0.5810 - val_accuracy: 0.8257\n",
            "Epoch 15/100\n",
            "210/210 [==============================] - 1s 6ms/step - loss: 0.5730 - accuracy: 0.8236 - val_loss: 0.5541 - val_accuracy: 0.8325\n",
            "Epoch 16/100\n",
            "210/210 [==============================] - 1s 6ms/step - loss: 0.5287 - accuracy: 0.8358 - val_loss: 0.6292 - val_accuracy: 0.8076\n",
            "Epoch 17/100\n",
            "210/210 [==============================] - 1s 6ms/step - loss: 0.5605 - accuracy: 0.8259 - val_loss: 0.5665 - val_accuracy: 0.8278\n",
            "Epoch 18/100\n",
            "210/210 [==============================] - 1s 5ms/step - loss: 0.5391 - accuracy: 0.8350 - val_loss: 0.5614 - val_accuracy: 0.8301\n",
            "Epoch 19/100\n",
            "210/210 [==============================] - 1s 5ms/step - loss: 0.5348 - accuracy: 0.8331 - val_loss: 0.5251 - val_accuracy: 0.8378\n",
            "Epoch 20/100\n",
            "210/210 [==============================] - 1s 6ms/step - loss: 0.5121 - accuracy: 0.8416 - val_loss: 0.5579 - val_accuracy: 0.8316\n",
            "Epoch 21/100\n",
            "210/210 [==============================] - 1s 6ms/step - loss: 0.5212 - accuracy: 0.8375 - val_loss: 0.6097 - val_accuracy: 0.8125\n",
            "Epoch 22/100\n",
            "210/210 [==============================] - 1s 5ms/step - loss: 0.5148 - accuracy: 0.8398 - val_loss: 0.5377 - val_accuracy: 0.8370\n",
            "Epoch 23/100\n",
            "210/210 [==============================] - 1s 5ms/step - loss: 0.5001 - accuracy: 0.8444 - val_loss: 0.5357 - val_accuracy: 0.8348\n",
            "Epoch 24/100\n",
            "210/210 [==============================] - 1s 6ms/step - loss: 0.4971 - accuracy: 0.8420 - val_loss: 0.5658 - val_accuracy: 0.8243\n",
            "Epoch 25/100\n",
            "210/210 [==============================] - 1s 5ms/step - loss: 0.4918 - accuracy: 0.8437 - val_loss: 0.5397 - val_accuracy: 0.8364\n",
            "Epoch 26/100\n",
            "210/210 [==============================] - 1s 5ms/step - loss: 0.4750 - accuracy: 0.8545 - val_loss: 0.4959 - val_accuracy: 0.8482\n",
            "Epoch 27/100\n",
            "210/210 [==============================] - 1s 5ms/step - loss: 0.4671 - accuracy: 0.8529 - val_loss: 0.5103 - val_accuracy: 0.8435\n",
            "Epoch 28/100\n",
            "210/210 [==============================] - 1s 5ms/step - loss: 0.4584 - accuracy: 0.8539 - val_loss: 0.5099 - val_accuracy: 0.8432\n",
            "Epoch 29/100\n",
            "210/210 [==============================] - 1s 6ms/step - loss: 0.4621 - accuracy: 0.8558 - val_loss: 0.4718 - val_accuracy: 0.8565\n",
            "Epoch 30/100\n",
            "210/210 [==============================] - 1s 5ms/step - loss: 0.4518 - accuracy: 0.8611 - val_loss: 0.4706 - val_accuracy: 0.8579\n",
            "Epoch 31/100\n",
            "210/210 [==============================] - 1s 5ms/step - loss: 0.4313 - accuracy: 0.8656 - val_loss: 0.5045 - val_accuracy: 0.8485\n",
            "Epoch 32/100\n",
            "210/210 [==============================] - 1s 6ms/step - loss: 0.4302 - accuracy: 0.8640 - val_loss: 0.4995 - val_accuracy: 0.8460\n",
            "Epoch 33/100\n",
            "210/210 [==============================] - 1s 6ms/step - loss: 0.4434 - accuracy: 0.8596 - val_loss: 0.4985 - val_accuracy: 0.8492\n",
            "Epoch 34/100\n",
            "210/210 [==============================] - 1s 6ms/step - loss: 0.4240 - accuracy: 0.8662 - val_loss: 0.4742 - val_accuracy: 0.8549\n",
            "Epoch 35/100\n",
            "210/210 [==============================] - 1s 5ms/step - loss: 0.4032 - accuracy: 0.8717 - val_loss: 0.4682 - val_accuracy: 0.8554\n",
            "Epoch 36/100\n",
            "210/210 [==============================] - 1s 6ms/step - loss: 0.4063 - accuracy: 0.8720 - val_loss: 0.4295 - val_accuracy: 0.8711\n",
            "Epoch 37/100\n",
            "210/210 [==============================] - 1s 5ms/step - loss: 0.4069 - accuracy: 0.8702 - val_loss: 0.4808 - val_accuracy: 0.8548\n",
            "Epoch 38/100\n",
            "210/210 [==============================] - 1s 5ms/step - loss: 0.4395 - accuracy: 0.8599 - val_loss: 0.4974 - val_accuracy: 0.8459\n",
            "Epoch 39/100\n",
            "210/210 [==============================] - 1s 5ms/step - loss: 0.3969 - accuracy: 0.8737 - val_loss: 0.4475 - val_accuracy: 0.8649\n",
            "Epoch 40/100\n",
            "210/210 [==============================] - 1s 6ms/step - loss: 0.4087 - accuracy: 0.8703 - val_loss: 0.4752 - val_accuracy: 0.8562\n",
            "Epoch 41/100\n",
            "210/210 [==============================] - 1s 5ms/step - loss: 0.4026 - accuracy: 0.8716 - val_loss: 0.4716 - val_accuracy: 0.8565\n",
            "Epoch 42/100\n",
            "210/210 [==============================] - 1s 5ms/step - loss: 0.3880 - accuracy: 0.8788 - val_loss: 0.4580 - val_accuracy: 0.8615\n",
            "Epoch 43/100\n",
            "210/210 [==============================] - 1s 5ms/step - loss: 0.3810 - accuracy: 0.8798 - val_loss: 0.4345 - val_accuracy: 0.8687\n",
            "Epoch 44/100\n",
            "210/210 [==============================] - 1s 5ms/step - loss: 0.3805 - accuracy: 0.8783 - val_loss: 0.4689 - val_accuracy: 0.8583\n",
            "Epoch 45/100\n",
            "210/210 [==============================] - 1s 5ms/step - loss: 0.3855 - accuracy: 0.8763 - val_loss: 0.4751 - val_accuracy: 0.8571\n",
            "Epoch 46/100\n",
            "210/210 [==============================] - 1s 5ms/step - loss: 0.3815 - accuracy: 0.8792 - val_loss: 0.4465 - val_accuracy: 0.8655\n",
            "Epoch 47/100\n",
            "210/210 [==============================] - 1s 6ms/step - loss: 0.3983 - accuracy: 0.8705 - val_loss: 0.4174 - val_accuracy: 0.8760\n",
            "Epoch 48/100\n",
            "210/210 [==============================] - 1s 5ms/step - loss: 0.3607 - accuracy: 0.8861 - val_loss: 0.4706 - val_accuracy: 0.8578\n",
            "Epoch 49/100\n",
            "210/210 [==============================] - 1s 6ms/step - loss: 0.3660 - accuracy: 0.8848 - val_loss: 0.4026 - val_accuracy: 0.8821\n",
            "Epoch 50/100\n",
            "210/210 [==============================] - 1s 5ms/step - loss: 0.3538 - accuracy: 0.8853 - val_loss: 0.4448 - val_accuracy: 0.8658\n",
            "Epoch 51/100\n",
            "210/210 [==============================] - 1s 6ms/step - loss: 0.3625 - accuracy: 0.8854 - val_loss: 0.4252 - val_accuracy: 0.8734\n",
            "Epoch 52/100\n",
            "210/210 [==============================] - 1s 5ms/step - loss: 0.3562 - accuracy: 0.8888 - val_loss: 0.4665 - val_accuracy: 0.8614\n",
            "Epoch 53/100\n",
            "210/210 [==============================] - 1s 5ms/step - loss: 0.3556 - accuracy: 0.8871 - val_loss: 0.4414 - val_accuracy: 0.8688\n",
            "Epoch 54/100\n",
            "210/210 [==============================] - 1s 5ms/step - loss: 0.3595 - accuracy: 0.8837 - val_loss: 0.4086 - val_accuracy: 0.8771\n",
            "Epoch 55/100\n",
            "210/210 [==============================] - 1s 6ms/step - loss: 0.3273 - accuracy: 0.8958 - val_loss: 0.4422 - val_accuracy: 0.8669\n",
            "Epoch 56/100\n",
            "210/210 [==============================] - 1s 6ms/step - loss: 0.3454 - accuracy: 0.8906 - val_loss: 0.4694 - val_accuracy: 0.8605\n",
            "Epoch 57/100\n",
            "210/210 [==============================] - 1s 6ms/step - loss: 0.3588 - accuracy: 0.8870 - val_loss: 0.4112 - val_accuracy: 0.8794\n",
            "Epoch 58/100\n",
            "210/210 [==============================] - 1s 6ms/step - loss: 0.3368 - accuracy: 0.8922 - val_loss: 0.4162 - val_accuracy: 0.8760\n",
            "Epoch 59/100\n",
            "210/210 [==============================] - 1s 6ms/step - loss: 0.3575 - accuracy: 0.8850 - val_loss: 0.3947 - val_accuracy: 0.8840\n",
            "Epoch 60/100\n",
            "210/210 [==============================] - 1s 6ms/step - loss: 0.3335 - accuracy: 0.8941 - val_loss: 0.4092 - val_accuracy: 0.8790\n",
            "Epoch 61/100\n",
            "210/210 [==============================] - 1s 5ms/step - loss: 0.3215 - accuracy: 0.8979 - val_loss: 0.3943 - val_accuracy: 0.8852\n",
            "Epoch 62/100\n",
            "210/210 [==============================] - 1s 6ms/step - loss: 0.3140 - accuracy: 0.9007 - val_loss: 0.3978 - val_accuracy: 0.8838\n",
            "Epoch 63/100\n",
            "210/210 [==============================] - 1s 5ms/step - loss: 0.3238 - accuracy: 0.8982 - val_loss: 0.4080 - val_accuracy: 0.8814\n",
            "Epoch 64/100\n",
            "210/210 [==============================] - 1s 6ms/step - loss: 0.3161 - accuracy: 0.8995 - val_loss: 0.4338 - val_accuracy: 0.8709\n",
            "Epoch 65/100\n",
            "210/210 [==============================] - 1s 5ms/step - loss: 0.3196 - accuracy: 0.8982 - val_loss: 0.3882 - val_accuracy: 0.8873\n",
            "Epoch 66/100\n",
            "210/210 [==============================] - 1s 6ms/step - loss: 0.3025 - accuracy: 0.9037 - val_loss: 0.4092 - val_accuracy: 0.8803\n",
            "Epoch 67/100\n",
            "210/210 [==============================] - 1s 6ms/step - loss: 0.3117 - accuracy: 0.8970 - val_loss: 0.3919 - val_accuracy: 0.8863\n",
            "Epoch 68/100\n",
            "210/210 [==============================] - 1s 6ms/step - loss: 0.3022 - accuracy: 0.9014 - val_loss: 0.4148 - val_accuracy: 0.8793\n",
            "Epoch 69/100\n",
            "210/210 [==============================] - 1s 6ms/step - loss: 0.3087 - accuracy: 0.9002 - val_loss: 0.4024 - val_accuracy: 0.8835\n",
            "Epoch 70/100\n",
            "210/210 [==============================] - 1s 6ms/step - loss: 0.3162 - accuracy: 0.8959 - val_loss: 0.3710 - val_accuracy: 0.8937\n",
            "Epoch 71/100\n",
            "210/210 [==============================] - 1s 6ms/step - loss: 0.2946 - accuracy: 0.9045 - val_loss: 0.3762 - val_accuracy: 0.8923\n",
            "Epoch 72/100\n",
            "210/210 [==============================] - 1s 6ms/step - loss: 0.2958 - accuracy: 0.9022 - val_loss: 0.4038 - val_accuracy: 0.8835\n",
            "Epoch 73/100\n",
            "210/210 [==============================] - 1s 6ms/step - loss: 0.3002 - accuracy: 0.9016 - val_loss: 0.4289 - val_accuracy: 0.8747\n",
            "Epoch 74/100\n",
            "210/210 [==============================] - 1s 6ms/step - loss: 0.2999 - accuracy: 0.9032 - val_loss: 0.3726 - val_accuracy: 0.8935\n",
            "Epoch 75/100\n",
            "210/210 [==============================] - 1s 6ms/step - loss: 0.2976 - accuracy: 0.9033 - val_loss: 0.3740 - val_accuracy: 0.8930\n",
            "Epoch 76/100\n",
            "210/210 [==============================] - 1s 6ms/step - loss: 0.2816 - accuracy: 0.9080 - val_loss: 0.4058 - val_accuracy: 0.8805\n",
            "Epoch 77/100\n",
            "210/210 [==============================] - 1s 5ms/step - loss: 0.2909 - accuracy: 0.9047 - val_loss: 0.4159 - val_accuracy: 0.8805\n",
            "Epoch 78/100\n",
            "210/210 [==============================] - 1s 6ms/step - loss: 0.2891 - accuracy: 0.9062 - val_loss: 0.4374 - val_accuracy: 0.8720\n",
            "Epoch 79/100\n",
            "210/210 [==============================] - 1s 6ms/step - loss: 0.2738 - accuracy: 0.9093 - val_loss: 0.3789 - val_accuracy: 0.8936\n",
            "Epoch 80/100\n",
            "210/210 [==============================] - 1s 6ms/step - loss: 0.2768 - accuracy: 0.9098 - val_loss: 0.3556 - val_accuracy: 0.9014\n",
            "Epoch 81/100\n",
            "210/210 [==============================] - 1s 6ms/step - loss: 0.2772 - accuracy: 0.9101 - val_loss: 0.3608 - val_accuracy: 0.9003\n",
            "Epoch 82/100\n",
            "210/210 [==============================] - 1s 6ms/step - loss: 0.2661 - accuracy: 0.9132 - val_loss: 0.4011 - val_accuracy: 0.8850\n",
            "Epoch 83/100\n",
            "210/210 [==============================] - 1s 6ms/step - loss: 0.2802 - accuracy: 0.9071 - val_loss: 0.3788 - val_accuracy: 0.8925\n",
            "Epoch 84/100\n",
            "210/210 [==============================] - 1s 6ms/step - loss: 0.2578 - accuracy: 0.9154 - val_loss: 0.4093 - val_accuracy: 0.8842\n",
            "Epoch 85/100\n",
            "210/210 [==============================] - 1s 6ms/step - loss: 0.2801 - accuracy: 0.9078 - val_loss: 0.3858 - val_accuracy: 0.8918\n",
            "Epoch 86/100\n",
            "210/210 [==============================] - 1s 6ms/step - loss: 0.2807 - accuracy: 0.9082 - val_loss: 0.4014 - val_accuracy: 0.8839\n",
            "Epoch 87/100\n",
            "210/210 [==============================] - 1s 5ms/step - loss: 0.2448 - accuracy: 0.9198 - val_loss: 0.3924 - val_accuracy: 0.8894\n",
            "Epoch 88/100\n",
            "210/210 [==============================] - 1s 5ms/step - loss: 0.2762 - accuracy: 0.9071 - val_loss: 0.3587 - val_accuracy: 0.9024\n",
            "Epoch 89/100\n",
            "210/210 [==============================] - 1s 5ms/step - loss: 0.2616 - accuracy: 0.9150 - val_loss: 0.3820 - val_accuracy: 0.8926\n",
            "Epoch 90/100\n",
            "210/210 [==============================] - 1s 5ms/step - loss: 0.2393 - accuracy: 0.9219 - val_loss: 0.3801 - val_accuracy: 0.8952\n",
            "Epoch 91/100\n",
            "210/210 [==============================] - 1s 6ms/step - loss: 0.2660 - accuracy: 0.9124 - val_loss: 0.3868 - val_accuracy: 0.8935\n",
            "Epoch 92/100\n",
            "210/210 [==============================] - 1s 6ms/step - loss: 0.2483 - accuracy: 0.9199 - val_loss: 0.3862 - val_accuracy: 0.8924\n",
            "Epoch 93/100\n",
            "210/210 [==============================] - 1s 5ms/step - loss: 0.2605 - accuracy: 0.9133 - val_loss: 0.4050 - val_accuracy: 0.8850\n",
            "Epoch 94/100\n",
            "210/210 [==============================] - 1s 5ms/step - loss: 0.2474 - accuracy: 0.9173 - val_loss: 0.4368 - val_accuracy: 0.8756\n",
            "Epoch 95/100\n",
            "210/210 [==============================] - 1s 5ms/step - loss: 0.2392 - accuracy: 0.9216 - val_loss: 0.3968 - val_accuracy: 0.8891\n",
            "Epoch 96/100\n",
            "210/210 [==============================] - 1s 6ms/step - loss: 0.2358 - accuracy: 0.9226 - val_loss: 0.3518 - val_accuracy: 0.9051\n",
            "Epoch 97/100\n",
            "210/210 [==============================] - 1s 6ms/step - loss: 0.2247 - accuracy: 0.9263 - val_loss: 0.4064 - val_accuracy: 0.8877\n",
            "Epoch 98/100\n",
            "210/210 [==============================] - 1s 6ms/step - loss: 0.2627 - accuracy: 0.9118 - val_loss: 0.4255 - val_accuracy: 0.8829\n",
            "Epoch 99/100\n",
            "210/210 [==============================] - 1s 6ms/step - loss: 0.2363 - accuracy: 0.9236 - val_loss: 0.4713 - val_accuracy: 0.8688\n",
            "Epoch 100/100\n",
            "210/210 [==============================] - 1s 6ms/step - loss: 0.2582 - accuracy: 0.9148 - val_loss: 0.3546 - val_accuracy: 0.9046\n"
          ],
          "name": "stdout"
        }
      ]
    },
    {
      "cell_type": "code",
      "metadata": {
        "id": "tOK0-cSIMWHz",
        "colab": {
          "base_uri": "https://localhost:8080/"
        },
        "outputId": "9c705c65-dcde-49c6-8bf5-f84c3bd59db5"
      },
      "source": [
        "print('NN with weight initializers'); print('--'*40)\r\n",
        "results4 = model4.evaluate(X_val, y_val)\r\n",
        "print('Validation accuracy: {}'.format(round(results4[1]*100, 2), '%'))"
      ],
      "execution_count": 54,
      "outputs": [
        {
          "output_type": "stream",
          "text": [
            "NN with weight initializers\n",
            "--------------------------------------------------------------------------------\n",
            "1875/1875 [==============================] - 4s 2ms/step - loss: 0.3546 - accuracy: 0.9046\n",
            "Validation accuracy: 90.46\n"
          ],
          "name": "stdout"
        }
      ]
    },
    {
      "cell_type": "markdown",
      "metadata": {
        "id": "YKJExQuaMlR4"
      },
      "source": [
        "**Observation 6 - Weight initializers**\r\n",
        "Adding weight initialiers didn't result in improvement of score.\r\n",
        "relu activations, changing number of activators, Adam optimizers gives the best score out of the ones tried as of now.\r\n",
        "Next, let's try batch normalization.\r\n",
        "\r\n",
        "**Batch Normalization**\r\n",
        "Batch Normalization, one of the methods to prevent the \"internal covariance shift\" problem, has proven to be highly effective. Normalize each mini-batch before nonlinearity.\r\n",
        "\r\n",
        "**NN model, relu activations, SGD optimizers with weight initializers and batch normalization**"
      ]
    },
    {
      "cell_type": "code",
      "metadata": {
        "id": "BEFGtJ9yMrQk",
        "colab": {
          "base_uri": "https://localhost:8080/"
        },
        "outputId": "746cb974-f60c-43af-f9e8-b28454a0d648"
      },
      "source": [
        "print('NN model with batch normalization'); print('--'*40)\r\n",
        "# Initialize the neural network classifier\r\n",
        "model5 = Sequential()\r\n",
        "\r\n",
        "# Input Layer - adding input layer and activation functions relu and weight initializer\r\n",
        "model5.add(Dense(256, input_shape = (1024, ), kernel_initializer = 'he_normal'))\r\n",
        "# Adding batch normalization\r\n",
        "model5.add(BatchNormalization())\r\n",
        "# Adding activation function\r\n",
        "model5.add(Activation('relu'))\r\n",
        "\r\n",
        "#Hidden Layer 1 - adding first hidden layer\r\n",
        "model5.add(Dense(128, kernel_initializer = 'he_normal', bias_initializer = 'he_uniform'))\r\n",
        "# Adding batch normalization\r\n",
        "model5.add(BatchNormalization())\r\n",
        "# Adding activation function\r\n",
        "model5.add(Activation('relu'))\r\n",
        "\r\n",
        "#Hidden Layer 2 - adding second hidden layer\r\n",
        "model5.add(Dense(64, kernel_initializer = 'he_normal', bias_initializer = 'he_uniform'))\r\n",
        "# Adding batch normalization\r\n",
        "model5.add(BatchNormalization())\r\n",
        "# Adding activation function\r\n",
        "model5.add(Activation('relu'))\r\n",
        "\r\n",
        "#Hidden Layer 3 - adding third hidden layer\r\n",
        "model5.add(Dense(32, kernel_initializer = 'he_normal', bias_initializer = 'he_uniform'))\r\n",
        "# Adding batch normalization\r\n",
        "model5.add(BatchNormalization())\r\n",
        "# Adding activation function\r\n",
        "model5.add(Activation('relu'))\r\n",
        "\r\n",
        "# Output Layer - adding output layer which is of 10 nodes (digits)\r\n",
        "model5.add(Dense(10, kernel_initializer = 'he_normal', bias_initializer = 'he_uniform'))\r\n",
        "# Adding activation function\r\n",
        "model5.add(Activation('softmax'))"
      ],
      "execution_count": 55,
      "outputs": [
        {
          "output_type": "stream",
          "text": [
            "NN model with batch normalization\n",
            "--------------------------------------------------------------------------------\n"
          ],
          "name": "stdout"
        }
      ]
    },
    {
      "cell_type": "code",
      "metadata": {
        "id": "wIp84U94Mvyy",
        "colab": {
          "base_uri": "https://localhost:8080/"
        },
        "outputId": "24ca6974-8f5d-47ba-e928-85c634a8d105"
      },
      "source": [
        "model5.summary()"
      ],
      "execution_count": 56,
      "outputs": [
        {
          "output_type": "stream",
          "text": [
            "Model: \"sequential_4\"\n",
            "_________________________________________________________________\n",
            "Layer (type)                 Output Shape              Param #   \n",
            "=================================================================\n",
            "dense_15 (Dense)             (None, 256)               262400    \n",
            "_________________________________________________________________\n",
            "batch_normalization (BatchNo (None, 256)               1024      \n",
            "_________________________________________________________________\n",
            "activation_15 (Activation)   (None, 256)               0         \n",
            "_________________________________________________________________\n",
            "dense_16 (Dense)             (None, 128)               32896     \n",
            "_________________________________________________________________\n",
            "batch_normalization_1 (Batch (None, 128)               512       \n",
            "_________________________________________________________________\n",
            "activation_16 (Activation)   (None, 128)               0         \n",
            "_________________________________________________________________\n",
            "dense_17 (Dense)             (None, 64)                8256      \n",
            "_________________________________________________________________\n",
            "batch_normalization_2 (Batch (None, 64)                256       \n",
            "_________________________________________________________________\n",
            "activation_17 (Activation)   (None, 64)                0         \n",
            "_________________________________________________________________\n",
            "dense_18 (Dense)             (None, 32)                2080      \n",
            "_________________________________________________________________\n",
            "batch_normalization_3 (Batch (None, 32)                128       \n",
            "_________________________________________________________________\n",
            "activation_18 (Activation)   (None, 32)                0         \n",
            "_________________________________________________________________\n",
            "dense_19 (Dense)             (None, 10)                330       \n",
            "_________________________________________________________________\n",
            "activation_19 (Activation)   (None, 10)                0         \n",
            "=================================================================\n",
            "Total params: 307,882\n",
            "Trainable params: 306,922\n",
            "Non-trainable params: 960\n",
            "_________________________________________________________________\n"
          ],
          "name": "stdout"
        }
      ]
    },
    {
      "cell_type": "code",
      "metadata": {
        "id": "AEywczCjM1k0",
        "colab": {
          "base_uri": "https://localhost:8080/"
        },
        "outputId": "1ae77fcf-ca8f-4663-991d-009d35237830"
      },
      "source": [
        "# compiling the neural network classifier, sgd optimizer\r\n",
        "sgd = optimizers.SGD(lr = 0.01)\r\n",
        "# Adding activation function - softmax for multiclass classification\r\n",
        "model5.compile(optimizer = sgd, loss = 'categorical_crossentropy', metrics = ['accuracy'])\r\n",
        "\r\n",
        "# Fitting the neural network for training\r\n",
        "history = model5.fit(X_train, y_train, validation_data = (X_val, y_val), batch_size = 200, epochs = 100, verbose = 1)"
      ],
      "execution_count": 57,
      "outputs": [
        {
          "output_type": "stream",
          "text": [
            "Epoch 1/100\n",
            "210/210 [==============================] - 2s 8ms/step - loss: 2.5127 - accuracy: 0.1414 - val_loss: 2.2163 - val_accuracy: 0.1946\n",
            "Epoch 2/100\n",
            "210/210 [==============================] - 1s 7ms/step - loss: 1.9609 - accuracy: 0.3325 - val_loss: 1.8471 - val_accuracy: 0.3794\n",
            "Epoch 3/100\n",
            "210/210 [==============================] - 1s 7ms/step - loss: 1.6684 - accuracy: 0.4704 - val_loss: 1.5840 - val_accuracy: 0.4962\n",
            "Epoch 4/100\n",
            "210/210 [==============================] - 1s 6ms/step - loss: 1.4676 - accuracy: 0.5481 - val_loss: 1.4100 - val_accuracy: 0.5626\n",
            "Epoch 5/100\n",
            "210/210 [==============================] - 2s 8ms/step - loss: 1.3040 - accuracy: 0.6026 - val_loss: 1.2984 - val_accuracy: 0.5990\n",
            "Epoch 6/100\n",
            "210/210 [==============================] - 2s 7ms/step - loss: 1.1861 - accuracy: 0.6419 - val_loss: 1.1701 - val_accuracy: 0.6413\n",
            "Epoch 7/100\n",
            "210/210 [==============================] - 2s 7ms/step - loss: 1.0795 - accuracy: 0.6764 - val_loss: 1.1238 - val_accuracy: 0.6569\n",
            "Epoch 8/100\n",
            "210/210 [==============================] - 2s 8ms/step - loss: 1.0008 - accuracy: 0.6967 - val_loss: 1.0787 - val_accuracy: 0.6598\n",
            "Epoch 9/100\n",
            "210/210 [==============================] - 1s 7ms/step - loss: 0.9289 - accuracy: 0.7197 - val_loss: 0.9832 - val_accuracy: 0.6952\n",
            "Epoch 10/100\n",
            "210/210 [==============================] - 1s 7ms/step - loss: 0.8782 - accuracy: 0.7321 - val_loss: 0.9500 - val_accuracy: 0.7036\n",
            "Epoch 11/100\n",
            "210/210 [==============================] - 1s 6ms/step - loss: 0.8308 - accuracy: 0.7453 - val_loss: 0.9414 - val_accuracy: 0.7028\n",
            "Epoch 12/100\n",
            "210/210 [==============================] - 1s 7ms/step - loss: 0.7905 - accuracy: 0.7562 - val_loss: 0.9472 - val_accuracy: 0.7018\n",
            "Epoch 13/100\n",
            "210/210 [==============================] - 1s 6ms/step - loss: 0.7690 - accuracy: 0.7628 - val_loss: 0.8873 - val_accuracy: 0.7202\n",
            "Epoch 14/100\n",
            "210/210 [==============================] - 1s 7ms/step - loss: 0.7282 - accuracy: 0.7744 - val_loss: 1.0314 - val_accuracy: 0.6755\n",
            "Epoch 15/100\n",
            "210/210 [==============================] - 1s 7ms/step - loss: 0.7011 - accuracy: 0.7834 - val_loss: 0.8604 - val_accuracy: 0.7304\n",
            "Epoch 16/100\n",
            "210/210 [==============================] - 1s 7ms/step - loss: 0.6807 - accuracy: 0.7898 - val_loss: 0.7790 - val_accuracy: 0.7553\n",
            "Epoch 17/100\n",
            "210/210 [==============================] - 2s 7ms/step - loss: 0.6578 - accuracy: 0.7963 - val_loss: 0.7350 - val_accuracy: 0.7712\n",
            "Epoch 18/100\n",
            "210/210 [==============================] - 1s 7ms/step - loss: 0.6405 - accuracy: 0.8013 - val_loss: 0.7275 - val_accuracy: 0.7700\n",
            "Epoch 19/100\n",
            "210/210 [==============================] - 1s 7ms/step - loss: 0.6266 - accuracy: 0.8049 - val_loss: 0.9822 - val_accuracy: 0.7007\n",
            "Epoch 20/100\n",
            "210/210 [==============================] - 1s 7ms/step - loss: 0.6081 - accuracy: 0.8120 - val_loss: 0.7941 - val_accuracy: 0.7505\n",
            "Epoch 21/100\n",
            "210/210 [==============================] - 1s 7ms/step - loss: 0.5813 - accuracy: 0.8215 - val_loss: 0.7913 - val_accuracy: 0.7516\n",
            "Epoch 22/100\n",
            "210/210 [==============================] - 2s 7ms/step - loss: 0.5763 - accuracy: 0.8185 - val_loss: 0.7390 - val_accuracy: 0.7653\n",
            "Epoch 23/100\n",
            "210/210 [==============================] - 2s 8ms/step - loss: 0.5543 - accuracy: 0.8292 - val_loss: 0.7591 - val_accuracy: 0.7596\n",
            "Epoch 24/100\n",
            "210/210 [==============================] - 1s 7ms/step - loss: 0.5437 - accuracy: 0.8296 - val_loss: 0.9086 - val_accuracy: 0.7137\n",
            "Epoch 25/100\n",
            "210/210 [==============================] - 2s 7ms/step - loss: 0.5225 - accuracy: 0.8393 - val_loss: 0.6992 - val_accuracy: 0.7800\n",
            "Epoch 26/100\n",
            "210/210 [==============================] - 2s 8ms/step - loss: 0.5141 - accuracy: 0.8392 - val_loss: 0.7695 - val_accuracy: 0.7568\n",
            "Epoch 27/100\n",
            "210/210 [==============================] - 1s 7ms/step - loss: 0.5072 - accuracy: 0.8437 - val_loss: 1.0399 - val_accuracy: 0.6872\n",
            "Epoch 28/100\n",
            "210/210 [==============================] - 1s 7ms/step - loss: 0.4931 - accuracy: 0.8454 - val_loss: 0.6928 - val_accuracy: 0.7822\n",
            "Epoch 29/100\n",
            "210/210 [==============================] - 2s 8ms/step - loss: 0.4832 - accuracy: 0.8515 - val_loss: 0.8104 - val_accuracy: 0.7492\n",
            "Epoch 30/100\n",
            "210/210 [==============================] - 1s 6ms/step - loss: 0.4755 - accuracy: 0.8546 - val_loss: 0.7213 - val_accuracy: 0.7714\n",
            "Epoch 31/100\n",
            "210/210 [==============================] - 1s 7ms/step - loss: 0.4651 - accuracy: 0.8565 - val_loss: 0.7583 - val_accuracy: 0.7663\n",
            "Epoch 32/100\n",
            "210/210 [==============================] - 1s 7ms/step - loss: 0.4554 - accuracy: 0.8590 - val_loss: 0.8536 - val_accuracy: 0.7370\n",
            "Epoch 33/100\n",
            "210/210 [==============================] - 1s 6ms/step - loss: 0.4322 - accuracy: 0.8669 - val_loss: 0.9086 - val_accuracy: 0.7349\n",
            "Epoch 34/100\n",
            "210/210 [==============================] - 2s 7ms/step - loss: 0.4438 - accuracy: 0.8634 - val_loss: 0.6977 - val_accuracy: 0.7813\n",
            "Epoch 35/100\n",
            "210/210 [==============================] - 2s 7ms/step - loss: 0.4330 - accuracy: 0.8670 - val_loss: 0.7439 - val_accuracy: 0.7716\n",
            "Epoch 36/100\n",
            "210/210 [==============================] - 1s 7ms/step - loss: 0.4178 - accuracy: 0.8698 - val_loss: 0.6893 - val_accuracy: 0.7864\n",
            "Epoch 37/100\n",
            "210/210 [==============================] - 2s 7ms/step - loss: 0.4097 - accuracy: 0.8718 - val_loss: 1.0728 - val_accuracy: 0.6994\n",
            "Epoch 38/100\n",
            "210/210 [==============================] - 1s 7ms/step - loss: 0.4092 - accuracy: 0.8710 - val_loss: 0.9074 - val_accuracy: 0.7238\n",
            "Epoch 39/100\n",
            "210/210 [==============================] - 1s 7ms/step - loss: 0.3958 - accuracy: 0.8793 - val_loss: 0.7254 - val_accuracy: 0.7778\n",
            "Epoch 40/100\n",
            "210/210 [==============================] - 1s 6ms/step - loss: 0.3908 - accuracy: 0.8785 - val_loss: 0.7266 - val_accuracy: 0.7796\n",
            "Epoch 41/100\n",
            "210/210 [==============================] - 2s 8ms/step - loss: 0.3922 - accuracy: 0.8762 - val_loss: 0.6004 - val_accuracy: 0.8126\n",
            "Epoch 42/100\n",
            "210/210 [==============================] - 1s 7ms/step - loss: 0.3703 - accuracy: 0.8858 - val_loss: 0.7007 - val_accuracy: 0.7806\n",
            "Epoch 43/100\n",
            "210/210 [==============================] - 1s 6ms/step - loss: 0.3675 - accuracy: 0.8846 - val_loss: 0.6702 - val_accuracy: 0.7929\n",
            "Epoch 44/100\n",
            "210/210 [==============================] - 1s 7ms/step - loss: 0.3620 - accuracy: 0.8872 - val_loss: 0.6282 - val_accuracy: 0.8108\n",
            "Epoch 45/100\n",
            "210/210 [==============================] - 1s 7ms/step - loss: 0.3518 - accuracy: 0.8921 - val_loss: 0.6588 - val_accuracy: 0.7969\n",
            "Epoch 46/100\n",
            "210/210 [==============================] - 1s 7ms/step - loss: 0.3632 - accuracy: 0.8883 - val_loss: 1.0536 - val_accuracy: 0.7059\n",
            "Epoch 47/100\n",
            "210/210 [==============================] - 1s 7ms/step - loss: 0.3430 - accuracy: 0.8937 - val_loss: 0.6830 - val_accuracy: 0.7928\n",
            "Epoch 48/100\n",
            "210/210 [==============================] - 1s 7ms/step - loss: 0.3437 - accuracy: 0.8939 - val_loss: 0.5431 - val_accuracy: 0.8342\n",
            "Epoch 49/100\n",
            "210/210 [==============================] - 2s 7ms/step - loss: 0.3347 - accuracy: 0.8984 - val_loss: 0.5410 - val_accuracy: 0.8323\n",
            "Epoch 50/100\n",
            "210/210 [==============================] - 1s 7ms/step - loss: 0.3261 - accuracy: 0.8969 - val_loss: 0.7958 - val_accuracy: 0.7617\n",
            "Epoch 51/100\n",
            "210/210 [==============================] - 1s 7ms/step - loss: 0.3251 - accuracy: 0.9012 - val_loss: 0.6089 - val_accuracy: 0.8103\n",
            "Epoch 52/100\n",
            "210/210 [==============================] - 2s 7ms/step - loss: 0.3259 - accuracy: 0.9005 - val_loss: 0.7691 - val_accuracy: 0.7686\n",
            "Epoch 53/100\n",
            "210/210 [==============================] - 2s 7ms/step - loss: 0.3138 - accuracy: 0.9031 - val_loss: 0.8071 - val_accuracy: 0.7639\n",
            "Epoch 54/100\n",
            "210/210 [==============================] - 1s 7ms/step - loss: 0.3148 - accuracy: 0.9024 - val_loss: 0.5316 - val_accuracy: 0.8371\n",
            "Epoch 55/100\n",
            "210/210 [==============================] - 2s 8ms/step - loss: 0.3109 - accuracy: 0.9029 - val_loss: 0.6301 - val_accuracy: 0.8065\n",
            "Epoch 56/100\n",
            "210/210 [==============================] - 2s 7ms/step - loss: 0.3051 - accuracy: 0.9059 - val_loss: 0.5816 - val_accuracy: 0.8241\n",
            "Epoch 57/100\n",
            "210/210 [==============================] - 1s 6ms/step - loss: 0.3024 - accuracy: 0.9088 - val_loss: 0.6453 - val_accuracy: 0.8062\n",
            "Epoch 58/100\n",
            "210/210 [==============================] - 1s 6ms/step - loss: 0.2885 - accuracy: 0.9122 - val_loss: 0.5839 - val_accuracy: 0.8230\n",
            "Epoch 59/100\n",
            "210/210 [==============================] - 1s 7ms/step - loss: 0.2871 - accuracy: 0.9115 - val_loss: 0.6700 - val_accuracy: 0.7972\n",
            "Epoch 60/100\n",
            "210/210 [==============================] - 1s 7ms/step - loss: 0.2874 - accuracy: 0.9116 - val_loss: 1.0192 - val_accuracy: 0.7175\n",
            "Epoch 61/100\n",
            "210/210 [==============================] - 1s 7ms/step - loss: 0.2910 - accuracy: 0.9083 - val_loss: 0.6870 - val_accuracy: 0.7987\n",
            "Epoch 62/100\n",
            "210/210 [==============================] - 1s 7ms/step - loss: 0.2787 - accuracy: 0.9162 - val_loss: 0.6817 - val_accuracy: 0.7988\n",
            "Epoch 63/100\n",
            "210/210 [==============================] - 2s 7ms/step - loss: 0.2739 - accuracy: 0.9162 - val_loss: 0.7231 - val_accuracy: 0.7828\n",
            "Epoch 64/100\n",
            "210/210 [==============================] - 1s 7ms/step - loss: 0.2751 - accuracy: 0.9152 - val_loss: 0.4755 - val_accuracy: 0.8550\n",
            "Epoch 65/100\n",
            "210/210 [==============================] - 1s 7ms/step - loss: 0.2615 - accuracy: 0.9218 - val_loss: 0.6595 - val_accuracy: 0.7943\n",
            "Epoch 66/100\n",
            "210/210 [==============================] - 1s 7ms/step - loss: 0.2573 - accuracy: 0.9224 - val_loss: 0.5953 - val_accuracy: 0.8151\n",
            "Epoch 67/100\n",
            "210/210 [==============================] - 1s 7ms/step - loss: 0.2493 - accuracy: 0.9261 - val_loss: 0.6553 - val_accuracy: 0.8028\n",
            "Epoch 68/100\n",
            "210/210 [==============================] - 1s 7ms/step - loss: 0.2556 - accuracy: 0.9199 - val_loss: 0.5226 - val_accuracy: 0.8419\n",
            "Epoch 69/100\n",
            "210/210 [==============================] - 1s 7ms/step - loss: 0.2488 - accuracy: 0.9232 - val_loss: 0.6033 - val_accuracy: 0.8148\n",
            "Epoch 70/100\n",
            "210/210 [==============================] - 1s 7ms/step - loss: 0.2410 - accuracy: 0.9256 - val_loss: 0.6033 - val_accuracy: 0.8194\n",
            "Epoch 71/100\n",
            "210/210 [==============================] - 2s 7ms/step - loss: 0.2434 - accuracy: 0.9247 - val_loss: 0.7072 - val_accuracy: 0.8090\n",
            "Epoch 72/100\n",
            "210/210 [==============================] - 1s 7ms/step - loss: 0.2352 - accuracy: 0.9293 - val_loss: 1.2253 - val_accuracy: 0.6954\n",
            "Epoch 73/100\n",
            "210/210 [==============================] - 1s 7ms/step - loss: 0.2418 - accuracy: 0.9261 - val_loss: 0.5406 - val_accuracy: 0.8390\n",
            "Epoch 74/100\n",
            "210/210 [==============================] - 1s 7ms/step - loss: 0.2329 - accuracy: 0.9290 - val_loss: 0.5653 - val_accuracy: 0.8296\n",
            "Epoch 75/100\n",
            "210/210 [==============================] - 1s 6ms/step - loss: 0.2327 - accuracy: 0.9293 - val_loss: 0.7000 - val_accuracy: 0.7973\n",
            "Epoch 76/100\n",
            "210/210 [==============================] - 1s 7ms/step - loss: 0.2293 - accuracy: 0.9304 - val_loss: 0.5941 - val_accuracy: 0.8216\n",
            "Epoch 77/100\n",
            "210/210 [==============================] - 1s 7ms/step - loss: 0.2230 - accuracy: 0.9317 - val_loss: 0.6482 - val_accuracy: 0.8163\n",
            "Epoch 78/100\n",
            "210/210 [==============================] - 1s 7ms/step - loss: 0.2209 - accuracy: 0.9329 - val_loss: 0.4637 - val_accuracy: 0.8632\n",
            "Epoch 79/100\n",
            "210/210 [==============================] - 1s 7ms/step - loss: 0.2157 - accuracy: 0.9352 - val_loss: 0.5135 - val_accuracy: 0.8466\n",
            "Epoch 80/100\n",
            "210/210 [==============================] - 2s 7ms/step - loss: 0.2111 - accuracy: 0.9360 - val_loss: 0.6771 - val_accuracy: 0.8115\n",
            "Epoch 81/100\n",
            "210/210 [==============================] - 1s 6ms/step - loss: 0.2171 - accuracy: 0.9350 - val_loss: 0.5064 - val_accuracy: 0.8496\n",
            "Epoch 82/100\n",
            "210/210 [==============================] - 2s 8ms/step - loss: 0.2089 - accuracy: 0.9377 - val_loss: 0.5182 - val_accuracy: 0.8442\n",
            "Epoch 83/100\n",
            "210/210 [==============================] - 2s 8ms/step - loss: 0.2054 - accuracy: 0.9394 - val_loss: 0.6326 - val_accuracy: 0.8219\n",
            "Epoch 84/100\n",
            "210/210 [==============================] - 2s 8ms/step - loss: 0.2081 - accuracy: 0.9368 - val_loss: 0.5144 - val_accuracy: 0.8546\n",
            "Epoch 85/100\n",
            "210/210 [==============================] - 2s 7ms/step - loss: 0.1956 - accuracy: 0.9399 - val_loss: 0.5097 - val_accuracy: 0.8524\n",
            "Epoch 86/100\n",
            "210/210 [==============================] - 2s 7ms/step - loss: 0.1974 - accuracy: 0.9404 - val_loss: 0.7128 - val_accuracy: 0.7975\n",
            "Epoch 87/100\n",
            "210/210 [==============================] - 1s 7ms/step - loss: 0.1962 - accuracy: 0.9409 - val_loss: 0.8390 - val_accuracy: 0.7828\n",
            "Epoch 88/100\n",
            "210/210 [==============================] - 1s 6ms/step - loss: 0.1979 - accuracy: 0.9388 - val_loss: 0.4664 - val_accuracy: 0.8644\n",
            "Epoch 89/100\n",
            "210/210 [==============================] - 1s 7ms/step - loss: 0.1950 - accuracy: 0.9398 - val_loss: 0.6520 - val_accuracy: 0.8098\n",
            "Epoch 90/100\n",
            "210/210 [==============================] - 1s 7ms/step - loss: 0.1922 - accuracy: 0.9410 - val_loss: 0.7445 - val_accuracy: 0.7952\n",
            "Epoch 91/100\n",
            "210/210 [==============================] - 2s 7ms/step - loss: 0.1778 - accuracy: 0.9466 - val_loss: 0.6198 - val_accuracy: 0.8234\n",
            "Epoch 92/100\n",
            "210/210 [==============================] - 1s 7ms/step - loss: 0.1786 - accuracy: 0.9469 - val_loss: 1.0708 - val_accuracy: 0.7354\n",
            "Epoch 93/100\n",
            "210/210 [==============================] - 2s 8ms/step - loss: 0.1801 - accuracy: 0.9441 - val_loss: 0.6365 - val_accuracy: 0.8191\n",
            "Epoch 94/100\n",
            "210/210 [==============================] - 2s 8ms/step - loss: 0.1774 - accuracy: 0.9474 - val_loss: 0.7490 - val_accuracy: 0.7952\n",
            "Epoch 95/100\n",
            "210/210 [==============================] - 2s 8ms/step - loss: 0.1746 - accuracy: 0.9479 - val_loss: 0.5189 - val_accuracy: 0.8517\n",
            "Epoch 96/100\n",
            "210/210 [==============================] - 1s 7ms/step - loss: 0.1615 - accuracy: 0.9518 - val_loss: 1.2954 - val_accuracy: 0.6970\n",
            "Epoch 97/100\n",
            "210/210 [==============================] - 1s 7ms/step - loss: 0.1778 - accuracy: 0.9454 - val_loss: 0.5802 - val_accuracy: 0.8379\n",
            "Epoch 98/100\n",
            "210/210 [==============================] - 1s 7ms/step - loss: 0.1695 - accuracy: 0.9486 - val_loss: 0.5713 - val_accuracy: 0.8382\n",
            "Epoch 99/100\n",
            "210/210 [==============================] - 1s 7ms/step - loss: 0.1672 - accuracy: 0.9500 - val_loss: 0.5594 - val_accuracy: 0.8411\n",
            "Epoch 100/100\n",
            "210/210 [==============================] - 1s 7ms/step - loss: 0.1678 - accuracy: 0.9496 - val_loss: 0.7282 - val_accuracy: 0.8030\n"
          ],
          "name": "stdout"
        }
      ]
    },
    {
      "cell_type": "code",
      "metadata": {
        "id": "iIIS29prM2RU",
        "colab": {
          "base_uri": "https://localhost:8080/"
        },
        "outputId": "55b1f07a-f53e-47c7-c93d-e382ec458d18"
      },
      "source": [
        "print('NN with batch normalization'); print('--'*40)\r\n",
        "results5 = model5.evaluate(X_val, y_val)\r\n",
        "print('Validation accuracy: {}'.format(round(results5[1]*100, 2), '%'))"
      ],
      "execution_count": 58,
      "outputs": [
        {
          "output_type": "stream",
          "text": [
            "NN with batch normalization\n",
            "--------------------------------------------------------------------------------\n",
            "1875/1875 [==============================] - 4s 2ms/step - loss: 0.7282 - accuracy: 0.8030\n",
            "Validation accuracy: 80.3\n"
          ],
          "name": "stdout"
        }
      ]
    },
    {
      "cell_type": "markdown",
      "metadata": {
        "id": "HiydnL8DM7Ve"
      },
      "source": [
        "**NN model, relu activations, Adam optimizers with weight initializers and batch normalization**"
      ]
    },
    {
      "cell_type": "code",
      "metadata": {
        "id": "pHgmXapRM5Ab",
        "colab": {
          "base_uri": "https://localhost:8080/"
        },
        "outputId": "5b574fce-1bf1-468e-fb16-074ebd73420f"
      },
      "source": [
        "# compiling the neural network classifier, adam optimizer\r\n",
        "adam = optimizers.Adam(lr = 0.001)\r\n",
        "# Adding activation function - softmax for multiclass classification\r\n",
        "model5.compile(optimizer = adam, loss = 'categorical_crossentropy', metrics = ['accuracy'])\r\n",
        "\r\n",
        "# Fitting the neural network for training\r\n",
        "history = model5.fit(X_train, y_train, validation_data = (X_val, y_val), batch_size = 200, epochs = 100, verbose = 1)"
      ],
      "execution_count": 59,
      "outputs": [
        {
          "output_type": "stream",
          "text": [
            "Epoch 1/100\n",
            "210/210 [==============================] - 2s 8ms/step - loss: 0.8943 - accuracy: 0.7473 - val_loss: 2.0959 - val_accuracy: 0.4600\n",
            "Epoch 2/100\n",
            "210/210 [==============================] - 2s 7ms/step - loss: 0.5799 - accuracy: 0.8148 - val_loss: 1.5290 - val_accuracy: 0.5096\n",
            "Epoch 3/100\n",
            "210/210 [==============================] - 2s 8ms/step - loss: 0.5020 - accuracy: 0.8380 - val_loss: 1.8730 - val_accuracy: 0.4971\n",
            "Epoch 4/100\n",
            "210/210 [==============================] - 1s 7ms/step - loss: 0.4657 - accuracy: 0.8488 - val_loss: 1.1412 - val_accuracy: 0.6554\n",
            "Epoch 5/100\n",
            "210/210 [==============================] - 1s 7ms/step - loss: 0.4327 - accuracy: 0.8605 - val_loss: 1.2379 - val_accuracy: 0.6293\n",
            "Epoch 6/100\n",
            "210/210 [==============================] - 1s 7ms/step - loss: 0.4330 - accuracy: 0.8605 - val_loss: 1.1713 - val_accuracy: 0.6431\n",
            "Epoch 7/100\n",
            "210/210 [==============================] - 1s 7ms/step - loss: 0.4137 - accuracy: 0.8666 - val_loss: 1.1813 - val_accuracy: 0.6318\n",
            "Epoch 8/100\n",
            "210/210 [==============================] - 2s 8ms/step - loss: 0.3924 - accuracy: 0.8744 - val_loss: 1.5407 - val_accuracy: 0.5460\n",
            "Epoch 9/100\n",
            "210/210 [==============================] - 1s 7ms/step - loss: 0.3705 - accuracy: 0.8793 - val_loss: 1.0222 - val_accuracy: 0.6845\n",
            "Epoch 10/100\n",
            "210/210 [==============================] - 1s 7ms/step - loss: 0.3659 - accuracy: 0.8827 - val_loss: 2.0096 - val_accuracy: 0.5212\n",
            "Epoch 11/100\n",
            "210/210 [==============================] - 2s 7ms/step - loss: 0.3430 - accuracy: 0.8893 - val_loss: 1.1557 - val_accuracy: 0.6518\n",
            "Epoch 12/100\n",
            "210/210 [==============================] - 2s 8ms/step - loss: 0.3418 - accuracy: 0.8892 - val_loss: 0.8709 - val_accuracy: 0.7254\n",
            "Epoch 13/100\n",
            "210/210 [==============================] - 1s 7ms/step - loss: 0.3200 - accuracy: 0.8973 - val_loss: 1.0472 - val_accuracy: 0.6979\n",
            "Epoch 14/100\n",
            "210/210 [==============================] - 1s 7ms/step - loss: 0.3206 - accuracy: 0.8958 - val_loss: 1.0113 - val_accuracy: 0.7024\n",
            "Epoch 15/100\n",
            "210/210 [==============================] - 1s 7ms/step - loss: 0.2957 - accuracy: 0.9054 - val_loss: 1.3164 - val_accuracy: 0.6378\n",
            "Epoch 16/100\n",
            "210/210 [==============================] - 1s 7ms/step - loss: 0.2991 - accuracy: 0.9035 - val_loss: 1.1663 - val_accuracy: 0.6503\n",
            "Epoch 17/100\n",
            "210/210 [==============================] - 1s 7ms/step - loss: 0.3054 - accuracy: 0.9016 - val_loss: 0.9819 - val_accuracy: 0.7038\n",
            "Epoch 18/100\n",
            "210/210 [==============================] - 1s 6ms/step - loss: 0.2772 - accuracy: 0.9102 - val_loss: 1.2879 - val_accuracy: 0.6503\n",
            "Epoch 19/100\n",
            "210/210 [==============================] - 2s 8ms/step - loss: 0.2842 - accuracy: 0.9076 - val_loss: 0.9289 - val_accuracy: 0.7031\n",
            "Epoch 20/100\n",
            "210/210 [==============================] - 1s 7ms/step - loss: 0.2759 - accuracy: 0.9109 - val_loss: 1.2526 - val_accuracy: 0.6790\n",
            "Epoch 21/100\n",
            "210/210 [==============================] - 1s 7ms/step - loss: 0.2679 - accuracy: 0.9118 - val_loss: 1.0954 - val_accuracy: 0.6836\n",
            "Epoch 22/100\n",
            "210/210 [==============================] - 1s 7ms/step - loss: 0.2581 - accuracy: 0.9160 - val_loss: 0.9526 - val_accuracy: 0.7403\n",
            "Epoch 23/100\n",
            "210/210 [==============================] - 1s 7ms/step - loss: 0.2512 - accuracy: 0.9186 - val_loss: 0.8913 - val_accuracy: 0.7442\n",
            "Epoch 24/100\n",
            "210/210 [==============================] - 1s 7ms/step - loss: 0.2383 - accuracy: 0.9234 - val_loss: 1.7455 - val_accuracy: 0.6166\n",
            "Epoch 25/100\n",
            "210/210 [==============================] - 1s 7ms/step - loss: 0.2375 - accuracy: 0.9237 - val_loss: 0.9879 - val_accuracy: 0.7194\n",
            "Epoch 26/100\n",
            "210/210 [==============================] - 2s 8ms/step - loss: 0.2262 - accuracy: 0.9260 - val_loss: 1.0640 - val_accuracy: 0.7051\n",
            "Epoch 27/100\n",
            "210/210 [==============================] - 1s 7ms/step - loss: 0.2271 - accuracy: 0.9272 - val_loss: 1.1409 - val_accuracy: 0.7067\n",
            "Epoch 28/100\n",
            "210/210 [==============================] - 1s 7ms/step - loss: 0.2176 - accuracy: 0.9288 - val_loss: 0.9883 - val_accuracy: 0.7288\n",
            "Epoch 29/100\n",
            "210/210 [==============================] - 1s 7ms/step - loss: 0.2169 - accuracy: 0.9303 - val_loss: 1.4384 - val_accuracy: 0.6425\n",
            "Epoch 30/100\n",
            "210/210 [==============================] - 2s 7ms/step - loss: 0.2126 - accuracy: 0.9304 - val_loss: 1.1751 - val_accuracy: 0.7038\n",
            "Epoch 31/100\n",
            "210/210 [==============================] - 1s 7ms/step - loss: 0.2083 - accuracy: 0.9344 - val_loss: 1.5206 - val_accuracy: 0.6544\n",
            "Epoch 32/100\n",
            "210/210 [==============================] - 2s 7ms/step - loss: 0.2043 - accuracy: 0.9331 - val_loss: 1.1932 - val_accuracy: 0.7162\n",
            "Epoch 33/100\n",
            "210/210 [==============================] - 1s 7ms/step - loss: 0.1844 - accuracy: 0.9417 - val_loss: 1.0751 - val_accuracy: 0.7298\n",
            "Epoch 34/100\n",
            "210/210 [==============================] - 2s 8ms/step - loss: 0.2013 - accuracy: 0.9339 - val_loss: 0.9204 - val_accuracy: 0.7483\n",
            "Epoch 35/100\n",
            "210/210 [==============================] - 2s 7ms/step - loss: 0.1993 - accuracy: 0.9344 - val_loss: 1.2577 - val_accuracy: 0.7062\n",
            "Epoch 36/100\n",
            "210/210 [==============================] - 1s 7ms/step - loss: 0.1869 - accuracy: 0.9395 - val_loss: 0.7218 - val_accuracy: 0.7930\n",
            "Epoch 37/100\n",
            "210/210 [==============================] - 1s 7ms/step - loss: 0.1699 - accuracy: 0.9439 - val_loss: 1.0384 - val_accuracy: 0.7271\n",
            "Epoch 38/100\n",
            "210/210 [==============================] - 2s 7ms/step - loss: 0.1680 - accuracy: 0.9450 - val_loss: 0.8669 - val_accuracy: 0.7618\n",
            "Epoch 39/100\n",
            "210/210 [==============================] - 1s 7ms/step - loss: 0.1728 - accuracy: 0.9428 - val_loss: 0.8467 - val_accuracy: 0.7594\n",
            "Epoch 40/100\n",
            "210/210 [==============================] - 2s 7ms/step - loss: 0.1678 - accuracy: 0.9428 - val_loss: 1.6584 - val_accuracy: 0.6791\n",
            "Epoch 41/100\n",
            "210/210 [==============================] - 1s 7ms/step - loss: 0.1711 - accuracy: 0.9446 - val_loss: 0.7573 - val_accuracy: 0.7866\n",
            "Epoch 42/100\n",
            "210/210 [==============================] - 2s 8ms/step - loss: 0.1641 - accuracy: 0.9451 - val_loss: 1.7719 - val_accuracy: 0.6523\n",
            "Epoch 43/100\n",
            "210/210 [==============================] - 1s 7ms/step - loss: 0.1603 - accuracy: 0.9479 - val_loss: 1.0056 - val_accuracy: 0.7486\n",
            "Epoch 44/100\n",
            "210/210 [==============================] - 1s 7ms/step - loss: 0.1464 - accuracy: 0.9525 - val_loss: 1.0979 - val_accuracy: 0.7534\n",
            "Epoch 45/100\n",
            "210/210 [==============================] - 1s 7ms/step - loss: 0.1531 - accuracy: 0.9495 - val_loss: 0.9787 - val_accuracy: 0.7470\n",
            "Epoch 46/100\n",
            "210/210 [==============================] - 1s 7ms/step - loss: 0.1618 - accuracy: 0.9468 - val_loss: 1.2559 - val_accuracy: 0.7046\n",
            "Epoch 47/100\n",
            "210/210 [==============================] - 1s 7ms/step - loss: 0.1478 - accuracy: 0.9513 - val_loss: 0.9716 - val_accuracy: 0.7507\n",
            "Epoch 48/100\n",
            "210/210 [==============================] - 1s 7ms/step - loss: 0.1469 - accuracy: 0.9525 - val_loss: 0.7702 - val_accuracy: 0.7969\n",
            "Epoch 49/100\n",
            "210/210 [==============================] - 2s 8ms/step - loss: 0.1339 - accuracy: 0.9561 - val_loss: 0.9264 - val_accuracy: 0.7737\n",
            "Epoch 50/100\n",
            "210/210 [==============================] - 2s 8ms/step - loss: 0.1355 - accuracy: 0.9539 - val_loss: 1.1115 - val_accuracy: 0.7572\n",
            "Epoch 51/100\n",
            "210/210 [==============================] - 1s 7ms/step - loss: 0.1345 - accuracy: 0.9556 - val_loss: 0.8603 - val_accuracy: 0.7827\n",
            "Epoch 52/100\n",
            "210/210 [==============================] - 1s 7ms/step - loss: 0.1302 - accuracy: 0.9575 - val_loss: 1.1489 - val_accuracy: 0.7310\n",
            "Epoch 53/100\n",
            "210/210 [==============================] - 2s 7ms/step - loss: 0.1413 - accuracy: 0.9529 - val_loss: 0.7637 - val_accuracy: 0.7966\n",
            "Epoch 54/100\n",
            "210/210 [==============================] - 2s 7ms/step - loss: 0.1251 - accuracy: 0.9592 - val_loss: 1.4742 - val_accuracy: 0.6758\n",
            "Epoch 55/100\n",
            "210/210 [==============================] - 1s 7ms/step - loss: 0.1248 - accuracy: 0.9589 - val_loss: 0.6606 - val_accuracy: 0.8312\n",
            "Epoch 56/100\n",
            "210/210 [==============================] - 1s 7ms/step - loss: 0.1181 - accuracy: 0.9613 - val_loss: 1.2740 - val_accuracy: 0.7194\n",
            "Epoch 57/100\n",
            "210/210 [==============================] - 2s 8ms/step - loss: 0.1349 - accuracy: 0.9554 - val_loss: 0.8900 - val_accuracy: 0.7903\n",
            "Epoch 58/100\n",
            "210/210 [==============================] - 2s 8ms/step - loss: 0.1159 - accuracy: 0.9609 - val_loss: 0.9480 - val_accuracy: 0.7711\n",
            "Epoch 59/100\n",
            "210/210 [==============================] - 2s 8ms/step - loss: 0.1295 - accuracy: 0.9577 - val_loss: 0.7744 - val_accuracy: 0.8206\n",
            "Epoch 60/100\n",
            "210/210 [==============================] - 1s 7ms/step - loss: 0.1167 - accuracy: 0.9612 - val_loss: 0.8758 - val_accuracy: 0.7818\n",
            "Epoch 61/100\n",
            "210/210 [==============================] - 1s 7ms/step - loss: 0.1318 - accuracy: 0.9562 - val_loss: 0.9819 - val_accuracy: 0.7659\n",
            "Epoch 62/100\n",
            "210/210 [==============================] - 1s 7ms/step - loss: 0.1170 - accuracy: 0.9624 - val_loss: 0.8631 - val_accuracy: 0.7975\n",
            "Epoch 63/100\n",
            "210/210 [==============================] - 2s 8ms/step - loss: 0.1120 - accuracy: 0.9636 - val_loss: 0.9422 - val_accuracy: 0.7714\n",
            "Epoch 64/100\n",
            "210/210 [==============================] - 1s 7ms/step - loss: 0.1100 - accuracy: 0.9641 - val_loss: 0.6611 - val_accuracy: 0.8390\n",
            "Epoch 65/100\n",
            "210/210 [==============================] - 1s 7ms/step - loss: 0.0963 - accuracy: 0.9678 - val_loss: 1.2376 - val_accuracy: 0.7601\n",
            "Epoch 66/100\n",
            "210/210 [==============================] - 1s 7ms/step - loss: 0.1131 - accuracy: 0.9633 - val_loss: 0.8110 - val_accuracy: 0.8089\n",
            "Epoch 67/100\n",
            "210/210 [==============================] - 1s 7ms/step - loss: 0.1027 - accuracy: 0.9661 - val_loss: 0.7439 - val_accuracy: 0.8159\n",
            "Epoch 68/100\n",
            "210/210 [==============================] - 1s 7ms/step - loss: 0.1017 - accuracy: 0.9660 - val_loss: 0.7394 - val_accuracy: 0.8173\n",
            "Epoch 69/100\n",
            "210/210 [==============================] - 1s 7ms/step - loss: 0.0940 - accuracy: 0.9694 - val_loss: 0.9663 - val_accuracy: 0.7975\n",
            "Epoch 70/100\n",
            "210/210 [==============================] - 1s 7ms/step - loss: 0.1008 - accuracy: 0.9649 - val_loss: 0.8756 - val_accuracy: 0.7915\n",
            "Epoch 71/100\n",
            "210/210 [==============================] - 2s 7ms/step - loss: 0.1080 - accuracy: 0.9639 - val_loss: 1.4033 - val_accuracy: 0.7294\n",
            "Epoch 72/100\n",
            "210/210 [==============================] - 1s 7ms/step - loss: 0.1174 - accuracy: 0.9610 - val_loss: 0.8635 - val_accuracy: 0.8027\n",
            "Epoch 73/100\n",
            "210/210 [==============================] - 1s 7ms/step - loss: 0.1022 - accuracy: 0.9662 - val_loss: 0.9319 - val_accuracy: 0.7798\n",
            "Epoch 74/100\n",
            "210/210 [==============================] - 1s 7ms/step - loss: 0.0947 - accuracy: 0.9677 - val_loss: 0.8259 - val_accuracy: 0.8020\n",
            "Epoch 75/100\n",
            "210/210 [==============================] - 1s 7ms/step - loss: 0.0953 - accuracy: 0.9681 - val_loss: 0.7116 - val_accuracy: 0.8349\n",
            "Epoch 76/100\n",
            "210/210 [==============================] - 1s 7ms/step - loss: 0.1002 - accuracy: 0.9663 - val_loss: 1.1350 - val_accuracy: 0.7397\n",
            "Epoch 77/100\n",
            "210/210 [==============================] - 2s 8ms/step - loss: 0.1067 - accuracy: 0.9634 - val_loss: 0.9047 - val_accuracy: 0.8009\n",
            "Epoch 78/100\n",
            "210/210 [==============================] - 2s 8ms/step - loss: 0.0938 - accuracy: 0.9699 - val_loss: 0.8593 - val_accuracy: 0.8130\n",
            "Epoch 79/100\n",
            "210/210 [==============================] - 2s 8ms/step - loss: 0.0930 - accuracy: 0.9687 - val_loss: 1.0302 - val_accuracy: 0.7758\n",
            "Epoch 80/100\n",
            "210/210 [==============================] - 2s 7ms/step - loss: 0.0887 - accuracy: 0.9709 - val_loss: 0.8416 - val_accuracy: 0.8253\n",
            "Epoch 81/100\n",
            "210/210 [==============================] - 2s 8ms/step - loss: 0.0892 - accuracy: 0.9679 - val_loss: 0.9815 - val_accuracy: 0.7883\n",
            "Epoch 82/100\n",
            "210/210 [==============================] - 2s 8ms/step - loss: 0.0955 - accuracy: 0.9682 - val_loss: 0.9801 - val_accuracy: 0.7872\n",
            "Epoch 83/100\n",
            "210/210 [==============================] - 2s 7ms/step - loss: 0.0868 - accuracy: 0.9710 - val_loss: 0.9607 - val_accuracy: 0.7857\n",
            "Epoch 84/100\n",
            "210/210 [==============================] - 1s 7ms/step - loss: 0.0959 - accuracy: 0.9670 - val_loss: 0.7762 - val_accuracy: 0.8288\n",
            "Epoch 85/100\n",
            "210/210 [==============================] - 1s 7ms/step - loss: 0.0825 - accuracy: 0.9717 - val_loss: 0.8818 - val_accuracy: 0.8075\n",
            "Epoch 86/100\n",
            "210/210 [==============================] - 1s 7ms/step - loss: 0.0913 - accuracy: 0.9699 - val_loss: 1.0329 - val_accuracy: 0.7832\n",
            "Epoch 87/100\n",
            "210/210 [==============================] - 1s 7ms/step - loss: 0.0821 - accuracy: 0.9721 - val_loss: 0.8736 - val_accuracy: 0.8106\n",
            "Epoch 88/100\n",
            "210/210 [==============================] - 1s 7ms/step - loss: 0.0832 - accuracy: 0.9713 - val_loss: 1.0619 - val_accuracy: 0.7965\n",
            "Epoch 89/100\n",
            "210/210 [==============================] - 1s 7ms/step - loss: 0.0879 - accuracy: 0.9694 - val_loss: 0.8695 - val_accuracy: 0.8023\n",
            "Epoch 90/100\n",
            "210/210 [==============================] - 2s 7ms/step - loss: 0.0819 - accuracy: 0.9721 - val_loss: 0.8531 - val_accuracy: 0.8068\n",
            "Epoch 91/100\n",
            "210/210 [==============================] - 2s 8ms/step - loss: 0.0710 - accuracy: 0.9772 - val_loss: 1.0742 - val_accuracy: 0.7782\n",
            "Epoch 92/100\n",
            "210/210 [==============================] - 1s 7ms/step - loss: 0.0817 - accuracy: 0.9720 - val_loss: 0.6918 - val_accuracy: 0.8437\n",
            "Epoch 93/100\n",
            "210/210 [==============================] - 1s 7ms/step - loss: 0.0772 - accuracy: 0.9743 - val_loss: 0.9514 - val_accuracy: 0.8008\n",
            "Epoch 94/100\n",
            "210/210 [==============================] - 1s 7ms/step - loss: 0.0879 - accuracy: 0.9708 - val_loss: 0.7055 - val_accuracy: 0.8435\n",
            "Epoch 95/100\n",
            "210/210 [==============================] - 2s 8ms/step - loss: 0.0713 - accuracy: 0.9761 - val_loss: 0.8121 - val_accuracy: 0.8249\n",
            "Epoch 96/100\n",
            "210/210 [==============================] - 2s 8ms/step - loss: 0.0703 - accuracy: 0.9754 - val_loss: 1.5469 - val_accuracy: 0.7172\n",
            "Epoch 97/100\n",
            "210/210 [==============================] - 2s 8ms/step - loss: 0.0863 - accuracy: 0.9697 - val_loss: 1.1433 - val_accuracy: 0.7805\n",
            "Epoch 98/100\n",
            "210/210 [==============================] - 1s 7ms/step - loss: 0.0826 - accuracy: 0.9723 - val_loss: 0.8890 - val_accuracy: 0.8090\n",
            "Epoch 99/100\n",
            "210/210 [==============================] - 1s 7ms/step - loss: 0.0782 - accuracy: 0.9736 - val_loss: 0.9194 - val_accuracy: 0.8027\n",
            "Epoch 100/100\n",
            "210/210 [==============================] - 1s 7ms/step - loss: 0.0792 - accuracy: 0.9729 - val_loss: 0.7427 - val_accuracy: 0.8327\n"
          ],
          "name": "stdout"
        }
      ]
    },
    {
      "cell_type": "code",
      "metadata": {
        "id": "Fe96ApztNF41",
        "colab": {
          "base_uri": "https://localhost:8080/"
        },
        "outputId": "a705b9a6-37df-4ccd-ab38-ed7b8d666e22"
      },
      "source": [
        "print('NN with batch normalization'); print('--'*40)\r\n",
        "results5 = model5.evaluate(X_val, y_val)\r\n",
        "print('Validation accuracy: {}'.format(round(results5[1]*100, 2), '%'))"
      ],
      "execution_count": 60,
      "outputs": [
        {
          "output_type": "stream",
          "text": [
            "NN with batch normalization\n",
            "--------------------------------------------------------------------------------\n",
            "1875/1875 [==============================] - 4s 2ms/step - loss: 0.7427 - accuracy: 0.8327\n",
            "Validation accuracy: 83.27\n"
          ],
          "name": "stdout"
        }
      ]
    },
    {
      "cell_type": "markdown",
      "metadata": {
        "id": "U7en2uSGNJVK"
      },
      "source": [
        "**Observation 7 - Batch Normalization**\r\n",
        "Batch normalization didn't result in improvement of score.\r\n",
        "Relu activations, changing number of activators, Adam optimizers achieved the best score.\r\n",
        "Next, let's try batch normalization with dropout.\r\n",
        "\r\n",
        "**Dropout**\r\n",
        "**NN model, relu activations, SGD optimizers with weight initializers, batch normalization and dropout**"
      ]
    },
    {
      "cell_type": "code",
      "metadata": {
        "id": "LcNh4INVNRHr",
        "colab": {
          "base_uri": "https://localhost:8080/"
        },
        "outputId": "33ff3d6c-219c-47e1-af53-02a4f9c2ae0a"
      },
      "source": [
        "print('NN model with dropout - sgd optimizer'); print('--'*40)\r\n",
        "# Initialize the neural network classifier\r\n",
        "model6 = Sequential()\r\n",
        "# Input Layer - adding input layer and activation functions relu and weight initializer\r\n",
        "model6.add(Dense(512, input_shape = (1024, ), kernel_initializer = 'he_normal'))\r\n",
        "# Adding batch normalization\r\n",
        "model6.add(BatchNormalization()) \r\n",
        "# Adding activation function\r\n",
        "model6.add(Activation('relu'))\r\n",
        "# Adding dropout layer\r\n",
        "model6.add(Dropout(0.2))\r\n",
        "\r\n",
        "#Hidden Layer 1 - adding first hidden layer\r\n",
        "model6.add(Dense(256, kernel_initializer = 'he_normal', bias_initializer = 'he_uniform'))\r\n",
        "# Adding batch normalization\r\n",
        "model6.add(BatchNormalization())\r\n",
        "# Adding activation function\r\n",
        "model6.add(Activation('relu'))\r\n",
        "# Adding dropout layer\r\n",
        "model6.add(Dropout(0.2))\r\n",
        "\r\n",
        "#Hidden Layer 2 - adding second hidden layer\r\n",
        "model6.add(Dense(128, kernel_initializer = 'he_normal', bias_initializer = 'he_uniform'))\r\n",
        "# Adding batch normalization\r\n",
        "model6.add(BatchNormalization())\r\n",
        "# Adding activation function\r\n",
        "model6.add(Activation('relu'))\r\n",
        "# Adding dropout layer\r\n",
        "model6.add(Dropout(0.2))\r\n",
        "\r\n",
        "#Hidden Layer 3 - adding third hidden layer\r\n",
        "model6.add(Dense(64, kernel_initializer = 'he_normal', bias_initializer = 'he_uniform'))\r\n",
        "# Adding batch normalization\r\n",
        "model6.add(BatchNormalization())\r\n",
        "# Adding activation function\r\n",
        "model6.add(Activation('relu'))\r\n",
        "# Adding dropout layer\r\n",
        "model6.add(Dropout(0.2))\r\n",
        "\r\n",
        "#Hidden Layer 4 - adding fourth hidden layer\r\n",
        "model6.add(Dense(32, kernel_initializer = 'he_normal', bias_initializer = 'he_uniform'))\r\n",
        "# Adding batch normalization\r\n",
        "model6.add(BatchNormalization())\r\n",
        "# Adding activation function\r\n",
        "model6.add(Activation('relu'))\r\n",
        "# Adding dropout layer\r\n",
        "model6.add(Dropout(0.2))\r\n",
        "\r\n",
        "# Output Layer - adding output layer which is of 10 nodes (digits)\r\n",
        "model6.add(Dense(10, kernel_initializer = 'he_normal',bias_initializer = 'he_uniform'))\r\n",
        "# Adding activation function\r\n",
        "model6.add(Activation('softmax'))"
      ],
      "execution_count": 61,
      "outputs": [
        {
          "output_type": "stream",
          "text": [
            "NN model with dropout - sgd optimizer\n",
            "--------------------------------------------------------------------------------\n"
          ],
          "name": "stdout"
        }
      ]
    },
    {
      "cell_type": "code",
      "metadata": {
        "id": "rILElNcFNRwq",
        "colab": {
          "base_uri": "https://localhost:8080/"
        },
        "outputId": "e8ff0054-ce1f-4b0a-ed7f-55cb216a1b59"
      },
      "source": [
        "model6.summary()"
      ],
      "execution_count": 62,
      "outputs": [
        {
          "output_type": "stream",
          "text": [
            "Model: \"sequential_5\"\n",
            "_________________________________________________________________\n",
            "Layer (type)                 Output Shape              Param #   \n",
            "=================================================================\n",
            "dense_20 (Dense)             (None, 512)               524800    \n",
            "_________________________________________________________________\n",
            "batch_normalization_4 (Batch (None, 512)               2048      \n",
            "_________________________________________________________________\n",
            "activation_20 (Activation)   (None, 512)               0         \n",
            "_________________________________________________________________\n",
            "dropout (Dropout)            (None, 512)               0         \n",
            "_________________________________________________________________\n",
            "dense_21 (Dense)             (None, 256)               131328    \n",
            "_________________________________________________________________\n",
            "batch_normalization_5 (Batch (None, 256)               1024      \n",
            "_________________________________________________________________\n",
            "activation_21 (Activation)   (None, 256)               0         \n",
            "_________________________________________________________________\n",
            "dropout_1 (Dropout)          (None, 256)               0         \n",
            "_________________________________________________________________\n",
            "dense_22 (Dense)             (None, 128)               32896     \n",
            "_________________________________________________________________\n",
            "batch_normalization_6 (Batch (None, 128)               512       \n",
            "_________________________________________________________________\n",
            "activation_22 (Activation)   (None, 128)               0         \n",
            "_________________________________________________________________\n",
            "dropout_2 (Dropout)          (None, 128)               0         \n",
            "_________________________________________________________________\n",
            "dense_23 (Dense)             (None, 64)                8256      \n",
            "_________________________________________________________________\n",
            "batch_normalization_7 (Batch (None, 64)                256       \n",
            "_________________________________________________________________\n",
            "activation_23 (Activation)   (None, 64)                0         \n",
            "_________________________________________________________________\n",
            "dropout_3 (Dropout)          (None, 64)                0         \n",
            "_________________________________________________________________\n",
            "dense_24 (Dense)             (None, 32)                2080      \n",
            "_________________________________________________________________\n",
            "batch_normalization_8 (Batch (None, 32)                128       \n",
            "_________________________________________________________________\n",
            "activation_24 (Activation)   (None, 32)                0         \n",
            "_________________________________________________________________\n",
            "dropout_4 (Dropout)          (None, 32)                0         \n",
            "_________________________________________________________________\n",
            "dense_25 (Dense)             (None, 10)                330       \n",
            "_________________________________________________________________\n",
            "activation_25 (Activation)   (None, 10)                0         \n",
            "=================================================================\n",
            "Total params: 703,658\n",
            "Trainable params: 701,674\n",
            "Non-trainable params: 1,984\n",
            "_________________________________________________________________\n"
          ],
          "name": "stdout"
        }
      ]
    },
    {
      "cell_type": "code",
      "metadata": {
        "id": "uYLcE18MNUbQ",
        "colab": {
          "base_uri": "https://localhost:8080/"
        },
        "outputId": "4c490fb8-c9d4-4468-8b21-e7027139f84e"
      },
      "source": [
        "# compiling the neural network classifier, sgd optimizer\r\n",
        "sgd = optimizers.SGD(lr = 0.01)\r\n",
        "model6.compile(optimizer = sgd, loss = 'categorical_crossentropy', metrics = ['accuracy'])\r\n",
        "\r\n",
        "# Adding activation function - softmax for multiclass classification\r\n",
        "history = model6.fit(X_train, y_train, validation_data = (X_val, y_val), batch_size = 200, epochs = 100, verbose = 1)"
      ],
      "execution_count": 63,
      "outputs": [
        {
          "output_type": "stream",
          "text": [
            "Epoch 1/100\n",
            "210/210 [==============================] - 3s 9ms/step - loss: 2.6774 - accuracy: 0.1028 - val_loss: 2.3048 - val_accuracy: 0.1145\n",
            "Epoch 2/100\n",
            "210/210 [==============================] - 2s 8ms/step - loss: 2.4614 - accuracy: 0.1233 - val_loss: 2.2240 - val_accuracy: 0.1836\n",
            "Epoch 3/100\n",
            "210/210 [==============================] - 2s 8ms/step - loss: 2.3604 - accuracy: 0.1444 - val_loss: 2.1569 - val_accuracy: 0.2304\n",
            "Epoch 4/100\n",
            "210/210 [==============================] - 2s 8ms/step - loss: 2.2676 - accuracy: 0.1744 - val_loss: 2.0482 - val_accuracy: 0.2909\n",
            "Epoch 5/100\n",
            "210/210 [==============================] - 2s 7ms/step - loss: 2.1910 - accuracy: 0.2015 - val_loss: 1.9662 - val_accuracy: 0.3325\n",
            "Epoch 6/100\n",
            "210/210 [==============================] - 2s 8ms/step - loss: 2.1103 - accuracy: 0.2355 - val_loss: 1.8594 - val_accuracy: 0.3747\n",
            "Epoch 7/100\n",
            "210/210 [==============================] - 1s 7ms/step - loss: 2.0304 - accuracy: 0.2676 - val_loss: 1.7758 - val_accuracy: 0.4079\n",
            "Epoch 8/100\n",
            "210/210 [==============================] - 1s 7ms/step - loss: 1.9622 - accuracy: 0.2872 - val_loss: 1.7055 - val_accuracy: 0.4350\n",
            "Epoch 9/100\n",
            "210/210 [==============================] - 1s 7ms/step - loss: 1.9001 - accuracy: 0.3133 - val_loss: 1.6476 - val_accuracy: 0.4602\n",
            "Epoch 10/100\n",
            "210/210 [==============================] - 2s 8ms/step - loss: 1.8401 - accuracy: 0.3395 - val_loss: 1.5961 - val_accuracy: 0.4915\n",
            "Epoch 11/100\n",
            "210/210 [==============================] - 2s 7ms/step - loss: 1.7859 - accuracy: 0.3647 - val_loss: 1.5348 - val_accuracy: 0.5219\n",
            "Epoch 12/100\n",
            "210/210 [==============================] - 2s 7ms/step - loss: 1.7431 - accuracy: 0.3839 - val_loss: 1.4849 - val_accuracy: 0.5337\n",
            "Epoch 13/100\n",
            "210/210 [==============================] - 2s 8ms/step - loss: 1.6899 - accuracy: 0.4006 - val_loss: 1.4233 - val_accuracy: 0.5518\n",
            "Epoch 14/100\n",
            "210/210 [==============================] - 1s 7ms/step - loss: 1.6401 - accuracy: 0.4228 - val_loss: 1.3606 - val_accuracy: 0.5883\n",
            "Epoch 15/100\n",
            "210/210 [==============================] - 2s 8ms/step - loss: 1.6041 - accuracy: 0.4360 - val_loss: 1.3148 - val_accuracy: 0.5882\n",
            "Epoch 16/100\n",
            "210/210 [==============================] - 2s 7ms/step - loss: 1.5654 - accuracy: 0.4557 - val_loss: 1.2819 - val_accuracy: 0.6093\n",
            "Epoch 17/100\n",
            "210/210 [==============================] - 2s 8ms/step - loss: 1.5127 - accuracy: 0.4739 - val_loss: 1.2481 - val_accuracy: 0.6165\n",
            "Epoch 18/100\n",
            "210/210 [==============================] - 1s 7ms/step - loss: 1.4813 - accuracy: 0.4888 - val_loss: 1.1959 - val_accuracy: 0.6236\n",
            "Epoch 19/100\n",
            "210/210 [==============================] - 2s 7ms/step - loss: 1.4561 - accuracy: 0.4974 - val_loss: 1.1589 - val_accuracy: 0.6234\n",
            "Epoch 20/100\n",
            "210/210 [==============================] - 2s 8ms/step - loss: 1.4207 - accuracy: 0.5115 - val_loss: 1.0988 - val_accuracy: 0.6593\n",
            "Epoch 21/100\n",
            "210/210 [==============================] - 2s 8ms/step - loss: 1.3825 - accuracy: 0.5286 - val_loss: 1.0745 - val_accuracy: 0.6693\n",
            "Epoch 22/100\n",
            "210/210 [==============================] - 2s 8ms/step - loss: 1.3635 - accuracy: 0.5386 - val_loss: 1.0380 - val_accuracy: 0.6798\n",
            "Epoch 23/100\n",
            "210/210 [==============================] - 2s 7ms/step - loss: 1.3196 - accuracy: 0.5518 - val_loss: 1.0238 - val_accuracy: 0.6842\n",
            "Epoch 24/100\n",
            "210/210 [==============================] - 1s 7ms/step - loss: 1.3037 - accuracy: 0.5588 - val_loss: 1.0144 - val_accuracy: 0.6801\n",
            "Epoch 25/100\n",
            "210/210 [==============================] - 1s 7ms/step - loss: 1.2653 - accuracy: 0.5754 - val_loss: 0.9939 - val_accuracy: 0.6843\n",
            "Epoch 26/100\n",
            "210/210 [==============================] - 2s 8ms/step - loss: 1.2488 - accuracy: 0.5809 - val_loss: 0.9495 - val_accuracy: 0.7076\n",
            "Epoch 27/100\n",
            "210/210 [==============================] - 2s 7ms/step - loss: 1.2316 - accuracy: 0.5885 - val_loss: 0.9334 - val_accuracy: 0.7162\n",
            "Epoch 28/100\n",
            "210/210 [==============================] - 2s 8ms/step - loss: 1.2042 - accuracy: 0.5973 - val_loss: 0.9151 - val_accuracy: 0.7128\n",
            "Epoch 29/100\n",
            "210/210 [==============================] - 1s 7ms/step - loss: 1.1963 - accuracy: 0.6076 - val_loss: 0.9298 - val_accuracy: 0.7121\n",
            "Epoch 30/100\n",
            "210/210 [==============================] - 2s 8ms/step - loss: 1.1648 - accuracy: 0.6181 - val_loss: 0.8935 - val_accuracy: 0.7224\n",
            "Epoch 31/100\n",
            "210/210 [==============================] - 2s 7ms/step - loss: 1.1615 - accuracy: 0.6152 - val_loss: 0.8565 - val_accuracy: 0.7406\n",
            "Epoch 32/100\n",
            "210/210 [==============================] - 1s 7ms/step - loss: 1.1347 - accuracy: 0.6249 - val_loss: 0.8553 - val_accuracy: 0.7396\n",
            "Epoch 33/100\n",
            "210/210 [==============================] - 1s 7ms/step - loss: 1.1086 - accuracy: 0.6362 - val_loss: 0.8399 - val_accuracy: 0.7489\n",
            "Epoch 34/100\n",
            "210/210 [==============================] - 2s 8ms/step - loss: 1.0989 - accuracy: 0.6387 - val_loss: 0.8291 - val_accuracy: 0.7457\n",
            "Epoch 35/100\n",
            "210/210 [==============================] - 1s 7ms/step - loss: 1.0837 - accuracy: 0.6460 - val_loss: 0.8613 - val_accuracy: 0.7366\n",
            "Epoch 36/100\n",
            "210/210 [==============================] - 1s 7ms/step - loss: 1.0641 - accuracy: 0.6543 - val_loss: 0.8224 - val_accuracy: 0.7529\n",
            "Epoch 37/100\n",
            "210/210 [==============================] - 1s 7ms/step - loss: 1.0540 - accuracy: 0.6568 - val_loss: 0.7851 - val_accuracy: 0.7619\n",
            "Epoch 38/100\n",
            "210/210 [==============================] - 2s 8ms/step - loss: 1.0449 - accuracy: 0.6619 - val_loss: 0.7720 - val_accuracy: 0.7655\n",
            "Epoch 39/100\n",
            "210/210 [==============================] - 2s 8ms/step - loss: 1.0225 - accuracy: 0.6719 - val_loss: 0.7749 - val_accuracy: 0.7662\n",
            "Epoch 40/100\n",
            "210/210 [==============================] - 2s 8ms/step - loss: 1.0247 - accuracy: 0.6693 - val_loss: 0.7736 - val_accuracy: 0.7650\n",
            "Epoch 41/100\n",
            "210/210 [==============================] - 2s 8ms/step - loss: 0.9977 - accuracy: 0.6813 - val_loss: 0.7390 - val_accuracy: 0.7784\n",
            "Epoch 42/100\n",
            "210/210 [==============================] - 2s 8ms/step - loss: 0.9843 - accuracy: 0.6847 - val_loss: 0.7933 - val_accuracy: 0.7596\n",
            "Epoch 43/100\n",
            "210/210 [==============================] - 2s 8ms/step - loss: 0.9750 - accuracy: 0.6882 - val_loss: 0.8031 - val_accuracy: 0.7482\n",
            "Epoch 44/100\n",
            "210/210 [==============================] - 2s 7ms/step - loss: 0.9699 - accuracy: 0.6896 - val_loss: 0.7483 - val_accuracy: 0.7698\n",
            "Epoch 45/100\n",
            "210/210 [==============================] - 2s 8ms/step - loss: 0.9608 - accuracy: 0.6942 - val_loss: 0.7486 - val_accuracy: 0.7680\n",
            "Epoch 46/100\n",
            "210/210 [==============================] - 1s 7ms/step - loss: 0.9659 - accuracy: 0.6929 - val_loss: 0.7292 - val_accuracy: 0.7762\n",
            "Epoch 47/100\n",
            "210/210 [==============================] - 1s 7ms/step - loss: 0.9357 - accuracy: 0.7043 - val_loss: 0.7043 - val_accuracy: 0.7886\n",
            "Epoch 48/100\n",
            "210/210 [==============================] - 2s 7ms/step - loss: 0.9261 - accuracy: 0.7063 - val_loss: 0.7271 - val_accuracy: 0.7743\n",
            "Epoch 49/100\n",
            "210/210 [==============================] - 2s 8ms/step - loss: 0.9077 - accuracy: 0.7149 - val_loss: 0.6714 - val_accuracy: 0.7970\n",
            "Epoch 50/100\n",
            "210/210 [==============================] - 2s 8ms/step - loss: 0.9077 - accuracy: 0.7103 - val_loss: 0.6515 - val_accuracy: 0.8080\n",
            "Epoch 51/100\n",
            "210/210 [==============================] - 2s 7ms/step - loss: 0.9071 - accuracy: 0.7151 - val_loss: 0.6467 - val_accuracy: 0.8045\n",
            "Epoch 52/100\n",
            "210/210 [==============================] - 2s 8ms/step - loss: 0.8913 - accuracy: 0.7210 - val_loss: 0.6509 - val_accuracy: 0.8026\n",
            "Epoch 53/100\n",
            "210/210 [==============================] - 2s 8ms/step - loss: 0.8829 - accuracy: 0.7207 - val_loss: 0.6720 - val_accuracy: 0.7954\n",
            "Epoch 54/100\n",
            "210/210 [==============================] - 2s 8ms/step - loss: 0.8845 - accuracy: 0.7234 - val_loss: 0.6428 - val_accuracy: 0.8071\n",
            "Epoch 55/100\n",
            "210/210 [==============================] - 2s 7ms/step - loss: 0.8731 - accuracy: 0.7249 - val_loss: 0.6093 - val_accuracy: 0.8175\n",
            "Epoch 56/100\n",
            "210/210 [==============================] - 2s 8ms/step - loss: 0.8627 - accuracy: 0.7277 - val_loss: 0.6240 - val_accuracy: 0.8140\n",
            "Epoch 57/100\n",
            "210/210 [==============================] - 2s 9ms/step - loss: 0.8584 - accuracy: 0.7319 - val_loss: 0.6050 - val_accuracy: 0.8199\n",
            "Epoch 58/100\n",
            "210/210 [==============================] - 2s 8ms/step - loss: 0.8365 - accuracy: 0.7364 - val_loss: 0.6609 - val_accuracy: 0.7968\n",
            "Epoch 59/100\n",
            "210/210 [==============================] - 2s 8ms/step - loss: 0.8418 - accuracy: 0.7386 - val_loss: 0.6291 - val_accuracy: 0.8058\n",
            "Epoch 60/100\n",
            "210/210 [==============================] - 2s 7ms/step - loss: 0.8351 - accuracy: 0.7376 - val_loss: 0.6360 - val_accuracy: 0.8039\n",
            "Epoch 61/100\n",
            "210/210 [==============================] - 2s 7ms/step - loss: 0.8405 - accuracy: 0.7423 - val_loss: 0.5964 - val_accuracy: 0.8207\n",
            "Epoch 62/100\n",
            "210/210 [==============================] - 2s 8ms/step - loss: 0.8186 - accuracy: 0.7443 - val_loss: 0.6192 - val_accuracy: 0.8109\n",
            "Epoch 63/100\n",
            "210/210 [==============================] - 2s 8ms/step - loss: 0.8149 - accuracy: 0.7481 - val_loss: 0.5752 - val_accuracy: 0.8273\n",
            "Epoch 64/100\n",
            "210/210 [==============================] - 1s 7ms/step - loss: 0.8037 - accuracy: 0.7499 - val_loss: 0.5754 - val_accuracy: 0.8262\n",
            "Epoch 65/100\n",
            "210/210 [==============================] - 1s 7ms/step - loss: 0.7979 - accuracy: 0.7544 - val_loss: 0.5687 - val_accuracy: 0.8270\n",
            "Epoch 66/100\n",
            "210/210 [==============================] - 2s 7ms/step - loss: 0.7949 - accuracy: 0.7557 - val_loss: 0.6038 - val_accuracy: 0.8163\n",
            "Epoch 67/100\n",
            "210/210 [==============================] - 2s 7ms/step - loss: 0.7885 - accuracy: 0.7585 - val_loss: 0.5850 - val_accuracy: 0.8207\n",
            "Epoch 68/100\n",
            "210/210 [==============================] - 2s 7ms/step - loss: 0.7716 - accuracy: 0.7636 - val_loss: 0.5949 - val_accuracy: 0.8176\n",
            "Epoch 69/100\n",
            "210/210 [==============================] - 2s 7ms/step - loss: 0.7759 - accuracy: 0.7591 - val_loss: 0.5483 - val_accuracy: 0.8365\n",
            "Epoch 70/100\n",
            "210/210 [==============================] - 2s 7ms/step - loss: 0.7729 - accuracy: 0.7637 - val_loss: 0.5805 - val_accuracy: 0.8208\n",
            "Epoch 71/100\n",
            "210/210 [==============================] - 2s 7ms/step - loss: 0.7720 - accuracy: 0.7589 - val_loss: 0.6355 - val_accuracy: 0.8025\n",
            "Epoch 72/100\n",
            "210/210 [==============================] - 2s 8ms/step - loss: 0.7772 - accuracy: 0.7650 - val_loss: 0.6035 - val_accuracy: 0.8159\n",
            "Epoch 73/100\n",
            "210/210 [==============================] - 2s 7ms/step - loss: 0.7584 - accuracy: 0.7670 - val_loss: 0.5517 - val_accuracy: 0.8339\n",
            "Epoch 74/100\n",
            "210/210 [==============================] - 1s 7ms/step - loss: 0.7506 - accuracy: 0.7701 - val_loss: 0.5703 - val_accuracy: 0.8248\n",
            "Epoch 75/100\n",
            "210/210 [==============================] - 2s 7ms/step - loss: 0.7536 - accuracy: 0.7711 - val_loss: 0.5645 - val_accuracy: 0.8285\n",
            "Epoch 76/100\n",
            "210/210 [==============================] - 2s 7ms/step - loss: 0.7418 - accuracy: 0.7719 - val_loss: 0.5434 - val_accuracy: 0.8328\n",
            "Epoch 77/100\n",
            "210/210 [==============================] - 2s 8ms/step - loss: 0.7259 - accuracy: 0.7757 - val_loss: 0.5531 - val_accuracy: 0.8335\n",
            "Epoch 78/100\n",
            "210/210 [==============================] - 2s 7ms/step - loss: 0.7347 - accuracy: 0.7765 - val_loss: 0.5863 - val_accuracy: 0.8214\n",
            "Epoch 79/100\n",
            "210/210 [==============================] - 2s 7ms/step - loss: 0.7355 - accuracy: 0.7745 - val_loss: 0.5132 - val_accuracy: 0.8461\n",
            "Epoch 80/100\n",
            "210/210 [==============================] - 2s 8ms/step - loss: 0.7156 - accuracy: 0.7787 - val_loss: 0.5842 - val_accuracy: 0.8222\n",
            "Epoch 81/100\n",
            "210/210 [==============================] - 2s 8ms/step - loss: 0.7247 - accuracy: 0.7789 - val_loss: 0.5595 - val_accuracy: 0.8283\n",
            "Epoch 82/100\n",
            "210/210 [==============================] - 2s 7ms/step - loss: 0.7158 - accuracy: 0.7824 - val_loss: 0.5069 - val_accuracy: 0.8497\n",
            "Epoch 83/100\n",
            "210/210 [==============================] - 2s 7ms/step - loss: 0.7172 - accuracy: 0.7800 - val_loss: 0.5536 - val_accuracy: 0.8278\n",
            "Epoch 84/100\n",
            "210/210 [==============================] - 2s 7ms/step - loss: 0.7053 - accuracy: 0.7860 - val_loss: 0.6104 - val_accuracy: 0.8123\n",
            "Epoch 85/100\n",
            "210/210 [==============================] - 2s 7ms/step - loss: 0.7052 - accuracy: 0.7848 - val_loss: 0.4868 - val_accuracy: 0.8554\n",
            "Epoch 86/100\n",
            "210/210 [==============================] - 1s 7ms/step - loss: 0.7090 - accuracy: 0.7841 - val_loss: 0.5053 - val_accuracy: 0.8490\n",
            "Epoch 87/100\n",
            "210/210 [==============================] - 2s 7ms/step - loss: 0.6988 - accuracy: 0.7858 - val_loss: 0.6882 - val_accuracy: 0.7892\n",
            "Epoch 88/100\n",
            "210/210 [==============================] - 2s 7ms/step - loss: 0.6888 - accuracy: 0.7910 - val_loss: 0.5092 - val_accuracy: 0.8444\n",
            "Epoch 89/100\n",
            "210/210 [==============================] - 2s 7ms/step - loss: 0.6931 - accuracy: 0.7900 - val_loss: 0.5475 - val_accuracy: 0.8312\n",
            "Epoch 90/100\n",
            "210/210 [==============================] - 2s 7ms/step - loss: 0.6878 - accuracy: 0.7916 - val_loss: 0.5472 - val_accuracy: 0.8307\n",
            "Epoch 91/100\n",
            "210/210 [==============================] - 2s 8ms/step - loss: 0.6751 - accuracy: 0.7956 - val_loss: 0.5574 - val_accuracy: 0.8310\n",
            "Epoch 92/100\n",
            "210/210 [==============================] - 2s 8ms/step - loss: 0.6660 - accuracy: 0.7973 - val_loss: 0.5274 - val_accuracy: 0.8379\n",
            "Epoch 93/100\n",
            "210/210 [==============================] - 2s 8ms/step - loss: 0.6639 - accuracy: 0.7982 - val_loss: 0.5366 - val_accuracy: 0.8347\n",
            "Epoch 94/100\n",
            "210/210 [==============================] - 2s 7ms/step - loss: 0.6555 - accuracy: 0.8010 - val_loss: 0.5067 - val_accuracy: 0.8451\n",
            "Epoch 95/100\n",
            "210/210 [==============================] - 2s 7ms/step - loss: 0.6475 - accuracy: 0.8005 - val_loss: 0.4753 - val_accuracy: 0.8565\n",
            "Epoch 96/100\n",
            "210/210 [==============================] - 2s 8ms/step - loss: 0.6556 - accuracy: 0.8030 - val_loss: 0.5437 - val_accuracy: 0.8327\n",
            "Epoch 97/100\n",
            "210/210 [==============================] - 2s 8ms/step - loss: 0.6594 - accuracy: 0.8003 - val_loss: 0.4639 - val_accuracy: 0.8616\n",
            "Epoch 98/100\n",
            "210/210 [==============================] - 2s 8ms/step - loss: 0.6583 - accuracy: 0.8003 - val_loss: 0.4626 - val_accuracy: 0.8602\n",
            "Epoch 99/100\n",
            "210/210 [==============================] - 2s 8ms/step - loss: 0.6531 - accuracy: 0.8018 - val_loss: 0.4782 - val_accuracy: 0.8550\n",
            "Epoch 100/100\n",
            "210/210 [==============================] - 2s 7ms/step - loss: 0.6470 - accuracy: 0.8031 - val_loss: 0.4882 - val_accuracy: 0.8527\n"
          ],
          "name": "stdout"
        }
      ]
    },
    {
      "cell_type": "code",
      "metadata": {
        "id": "UEpAN-cBNW_c",
        "colab": {
          "base_uri": "https://localhost:8080/"
        },
        "outputId": "aefe4841-a01a-455a-9fdd-b657b930b195"
      },
      "source": [
        "print('NN model with dropout - sgd optimizer'); print('--'*40)\r\n",
        "results6 = model6.evaluate(X_val, y_val)\r\n",
        "print('Validation accuracy: {}'.format(round(results6[1]*100, 2), '%'))"
      ],
      "execution_count": 64,
      "outputs": [
        {
          "output_type": "stream",
          "text": [
            "NN model with dropout - sgd optimizer\n",
            "--------------------------------------------------------------------------------\n",
            "1875/1875 [==============================] - 5s 2ms/step - loss: 0.4882 - accuracy: 0.8527\n",
            "Validation accuracy: 85.27\n"
          ],
          "name": "stdout"
        }
      ]
    },
    {
      "cell_type": "code",
      "metadata": {
        "id": "aCydhnJWNj-z",
        "colab": {
          "base_uri": "https://localhost:8080/"
        },
        "outputId": "89afba17-68b4-49de-a515-cfe032374787"
      },
      "source": [
        "# compiling the neural network classifier, adam optimizer\r\n",
        "adam = optimizers.Adam(lr = 0.001)\r\n",
        "model6.compile(optimizer = adam, loss = 'categorical_crossentropy', metrics = ['accuracy'])\r\n",
        "\r\n",
        "# Adding activation function - softmax for multiclass classification\r\n",
        "history = model6.fit(X_train, y_train, validation_data = (X_val, y_val), batch_size = 200, epochs = 100, verbose = 1)"
      ],
      "execution_count": 65,
      "outputs": [
        {
          "output_type": "stream",
          "text": [
            "Epoch 1/100\n",
            "210/210 [==============================] - 3s 8ms/step - loss: 1.1192 - accuracy: 0.6540 - val_loss: 1.4036 - val_accuracy: 0.5228\n",
            "Epoch 2/100\n",
            "210/210 [==============================] - 2s 7ms/step - loss: 0.9152 - accuracy: 0.7142 - val_loss: 1.0832 - val_accuracy: 0.6567\n",
            "Epoch 3/100\n",
            "210/210 [==============================] - 2s 7ms/step - loss: 0.8435 - accuracy: 0.7404 - val_loss: 1.4289 - val_accuracy: 0.5132\n",
            "Epoch 4/100\n",
            "210/210 [==============================] - 2s 8ms/step - loss: 0.8042 - accuracy: 0.7563 - val_loss: 1.0426 - val_accuracy: 0.6532\n",
            "Epoch 5/100\n",
            "210/210 [==============================] - 2s 8ms/step - loss: 0.7599 - accuracy: 0.7674 - val_loss: 1.5779 - val_accuracy: 0.5092\n",
            "Epoch 6/100\n",
            "210/210 [==============================] - 2s 8ms/step - loss: 0.7407 - accuracy: 0.7754 - val_loss: 0.8996 - val_accuracy: 0.7060\n",
            "Epoch 7/100\n",
            "210/210 [==============================] - 2s 9ms/step - loss: 0.7141 - accuracy: 0.7838 - val_loss: 0.9838 - val_accuracy: 0.6737\n",
            "Epoch 8/100\n",
            "210/210 [==============================] - 2s 8ms/step - loss: 0.6958 - accuracy: 0.7904 - val_loss: 1.0491 - val_accuracy: 0.6774\n",
            "Epoch 9/100\n",
            "210/210 [==============================] - 2s 9ms/step - loss: 0.6609 - accuracy: 0.7998 - val_loss: 0.9508 - val_accuracy: 0.6964\n",
            "Epoch 10/100\n",
            "210/210 [==============================] - 2s 7ms/step - loss: 0.6483 - accuracy: 0.8082 - val_loss: 0.8882 - val_accuracy: 0.7160\n",
            "Epoch 11/100\n",
            "210/210 [==============================] - 2s 7ms/step - loss: 0.6337 - accuracy: 0.8090 - val_loss: 1.0227 - val_accuracy: 0.6700\n",
            "Epoch 12/100\n",
            "210/210 [==============================] - 2s 8ms/step - loss: 0.6297 - accuracy: 0.8112 - val_loss: 1.0227 - val_accuracy: 0.6702\n",
            "Epoch 13/100\n",
            "210/210 [==============================] - 2s 9ms/step - loss: 0.6201 - accuracy: 0.8129 - val_loss: 1.0599 - val_accuracy: 0.6474\n",
            "Epoch 14/100\n",
            "210/210 [==============================] - 2s 8ms/step - loss: 0.5935 - accuracy: 0.8207 - val_loss: 0.9238 - val_accuracy: 0.6811\n",
            "Epoch 15/100\n",
            "210/210 [==============================] - 2s 8ms/step - loss: 0.5722 - accuracy: 0.8288 - val_loss: 0.8864 - val_accuracy: 0.7146\n",
            "Epoch 16/100\n",
            "210/210 [==============================] - 2s 8ms/step - loss: 0.5697 - accuracy: 0.8286 - val_loss: 0.9806 - val_accuracy: 0.6829\n",
            "Epoch 17/100\n",
            "210/210 [==============================] - 2s 7ms/step - loss: 0.5687 - accuracy: 0.8289 - val_loss: 0.8503 - val_accuracy: 0.7440\n",
            "Epoch 18/100\n",
            "210/210 [==============================] - 2s 9ms/step - loss: 0.5486 - accuracy: 0.8358 - val_loss: 1.0763 - val_accuracy: 0.6427\n",
            "Epoch 19/100\n",
            "210/210 [==============================] - 2s 8ms/step - loss: 0.5629 - accuracy: 0.8311 - val_loss: 0.7218 - val_accuracy: 0.7857\n",
            "Epoch 20/100\n",
            "210/210 [==============================] - 2s 8ms/step - loss: 0.5516 - accuracy: 0.8319 - val_loss: 0.7806 - val_accuracy: 0.7602\n",
            "Epoch 21/100\n",
            "210/210 [==============================] - 2s 8ms/step - loss: 0.5303 - accuracy: 0.8427 - val_loss: 1.0327 - val_accuracy: 0.6548\n",
            "Epoch 22/100\n",
            "210/210 [==============================] - 2s 8ms/step - loss: 0.5362 - accuracy: 0.8356 - val_loss: 0.7810 - val_accuracy: 0.7439\n",
            "Epoch 23/100\n",
            "210/210 [==============================] - 2s 8ms/step - loss: 0.5164 - accuracy: 0.8442 - val_loss: 0.8443 - val_accuracy: 0.7232\n",
            "Epoch 24/100\n",
            "210/210 [==============================] - 2s 8ms/step - loss: 0.5121 - accuracy: 0.8465 - val_loss: 0.8686 - val_accuracy: 0.7181\n",
            "Epoch 25/100\n",
            "210/210 [==============================] - 2s 7ms/step - loss: 0.5046 - accuracy: 0.8499 - val_loss: 0.7797 - val_accuracy: 0.7684\n",
            "Epoch 26/100\n",
            "210/210 [==============================] - 2s 7ms/step - loss: 0.4810 - accuracy: 0.8556 - val_loss: 0.8828 - val_accuracy: 0.7064\n",
            "Epoch 27/100\n",
            "210/210 [==============================] - 2s 7ms/step - loss: 0.4935 - accuracy: 0.8515 - val_loss: 0.7834 - val_accuracy: 0.7572\n",
            "Epoch 28/100\n",
            "210/210 [==============================] - 2s 7ms/step - loss: 0.4734 - accuracy: 0.8570 - val_loss: 0.9635 - val_accuracy: 0.6984\n",
            "Epoch 29/100\n",
            "210/210 [==============================] - 2s 8ms/step - loss: 0.4864 - accuracy: 0.8545 - val_loss: 0.9477 - val_accuracy: 0.6858\n",
            "Epoch 30/100\n",
            "210/210 [==============================] - 2s 8ms/step - loss: 0.4782 - accuracy: 0.8566 - val_loss: 0.8305 - val_accuracy: 0.7285\n",
            "Epoch 31/100\n",
            "210/210 [==============================] - 2s 8ms/step - loss: 0.4771 - accuracy: 0.8582 - val_loss: 0.8799 - val_accuracy: 0.7245\n",
            "Epoch 32/100\n",
            "210/210 [==============================] - 2s 7ms/step - loss: 0.4581 - accuracy: 0.8599 - val_loss: 0.7893 - val_accuracy: 0.7398\n",
            "Epoch 33/100\n",
            "210/210 [==============================] - 2s 8ms/step - loss: 0.4427 - accuracy: 0.8666 - val_loss: 0.7127 - val_accuracy: 0.7855\n",
            "Epoch 34/100\n",
            "210/210 [==============================] - 2s 9ms/step - loss: 0.4486 - accuracy: 0.8656 - val_loss: 0.6284 - val_accuracy: 0.8047\n",
            "Epoch 35/100\n",
            "210/210 [==============================] - 2s 8ms/step - loss: 0.4467 - accuracy: 0.8658 - val_loss: 0.9041 - val_accuracy: 0.7046\n",
            "Epoch 36/100\n",
            "210/210 [==============================] - 2s 8ms/step - loss: 0.4450 - accuracy: 0.8635 - val_loss: 1.0339 - val_accuracy: 0.6712\n",
            "Epoch 37/100\n",
            "210/210 [==============================] - 2s 8ms/step - loss: 0.4360 - accuracy: 0.8673 - val_loss: 0.8025 - val_accuracy: 0.7437\n",
            "Epoch 38/100\n",
            "210/210 [==============================] - 2s 7ms/step - loss: 0.4327 - accuracy: 0.8687 - val_loss: 0.8336 - val_accuracy: 0.7291\n",
            "Epoch 39/100\n",
            "210/210 [==============================] - 2s 8ms/step - loss: 0.4275 - accuracy: 0.8711 - val_loss: 0.6934 - val_accuracy: 0.7833\n",
            "Epoch 40/100\n",
            "210/210 [==============================] - 2s 8ms/step - loss: 0.4220 - accuracy: 0.8746 - val_loss: 0.6121 - val_accuracy: 0.8036\n",
            "Epoch 41/100\n",
            "210/210 [==============================] - 2s 8ms/step - loss: 0.4285 - accuracy: 0.8714 - val_loss: 0.6674 - val_accuracy: 0.7858\n",
            "Epoch 42/100\n",
            "210/210 [==============================] - 2s 7ms/step - loss: 0.4049 - accuracy: 0.8775 - val_loss: 0.7741 - val_accuracy: 0.7387\n",
            "Epoch 43/100\n",
            "210/210 [==============================] - 2s 9ms/step - loss: 0.4120 - accuracy: 0.8734 - val_loss: 0.7209 - val_accuracy: 0.7666\n",
            "Epoch 44/100\n",
            "210/210 [==============================] - 2s 8ms/step - loss: 0.4135 - accuracy: 0.8745 - val_loss: 0.7863 - val_accuracy: 0.7410\n",
            "Epoch 45/100\n",
            "210/210 [==============================] - 2s 8ms/step - loss: 0.4124 - accuracy: 0.8784 - val_loss: 0.5069 - val_accuracy: 0.8438\n",
            "Epoch 46/100\n",
            "210/210 [==============================] - 2s 9ms/step - loss: 0.4037 - accuracy: 0.8791 - val_loss: 0.9062 - val_accuracy: 0.7128\n",
            "Epoch 47/100\n",
            "210/210 [==============================] - 2s 7ms/step - loss: 0.3927 - accuracy: 0.8811 - val_loss: 0.8150 - val_accuracy: 0.7365\n",
            "Epoch 48/100\n",
            "210/210 [==============================] - 2s 9ms/step - loss: 0.3837 - accuracy: 0.8835 - val_loss: 0.6820 - val_accuracy: 0.7751\n",
            "Epoch 49/100\n",
            "210/210 [==============================] - 2s 8ms/step - loss: 0.3746 - accuracy: 0.8859 - val_loss: 0.7029 - val_accuracy: 0.7786\n",
            "Epoch 50/100\n",
            "210/210 [==============================] - 2s 8ms/step - loss: 0.3792 - accuracy: 0.8866 - val_loss: 0.5974 - val_accuracy: 0.8068\n",
            "Epoch 51/100\n",
            "210/210 [==============================] - 2s 8ms/step - loss: 0.3802 - accuracy: 0.8863 - val_loss: 0.7190 - val_accuracy: 0.7684\n",
            "Epoch 52/100\n",
            "210/210 [==============================] - 2s 8ms/step - loss: 0.3820 - accuracy: 0.8858 - val_loss: 1.1635 - val_accuracy: 0.6688\n",
            "Epoch 53/100\n",
            "210/210 [==============================] - 2s 7ms/step - loss: 0.3759 - accuracy: 0.8868 - val_loss: 0.7366 - val_accuracy: 0.7650\n",
            "Epoch 54/100\n",
            "210/210 [==============================] - 2s 7ms/step - loss: 0.3750 - accuracy: 0.8865 - val_loss: 0.6277 - val_accuracy: 0.8058\n",
            "Epoch 55/100\n",
            "210/210 [==============================] - 2s 7ms/step - loss: 0.3714 - accuracy: 0.8895 - val_loss: 0.6353 - val_accuracy: 0.7950\n",
            "Epoch 56/100\n",
            "210/210 [==============================] - 2s 7ms/step - loss: 0.3647 - accuracy: 0.8915 - val_loss: 0.6996 - val_accuracy: 0.7685\n",
            "Epoch 57/100\n",
            "210/210 [==============================] - 2s 8ms/step - loss: 0.3643 - accuracy: 0.8905 - val_loss: 0.5979 - val_accuracy: 0.8103\n",
            "Epoch 58/100\n",
            "210/210 [==============================] - 2s 8ms/step - loss: 0.3531 - accuracy: 0.8926 - val_loss: 0.5704 - val_accuracy: 0.8261\n",
            "Epoch 59/100\n",
            "210/210 [==============================] - 2s 8ms/step - loss: 0.3529 - accuracy: 0.8959 - val_loss: 0.7789 - val_accuracy: 0.7528\n",
            "Epoch 60/100\n",
            "210/210 [==============================] - 2s 7ms/step - loss: 0.3608 - accuracy: 0.8898 - val_loss: 0.7773 - val_accuracy: 0.7488\n",
            "Epoch 61/100\n",
            "210/210 [==============================] - 2s 8ms/step - loss: 0.3614 - accuracy: 0.8932 - val_loss: 0.5919 - val_accuracy: 0.8090\n",
            "Epoch 62/100\n",
            "210/210 [==============================] - 2s 8ms/step - loss: 0.3476 - accuracy: 0.8953 - val_loss: 0.5391 - val_accuracy: 0.8280\n",
            "Epoch 63/100\n",
            "210/210 [==============================] - 2s 8ms/step - loss: 0.3413 - accuracy: 0.8958 - val_loss: 0.6258 - val_accuracy: 0.7985\n",
            "Epoch 64/100\n",
            "210/210 [==============================] - 2s 9ms/step - loss: 0.3457 - accuracy: 0.8939 - val_loss: 0.7770 - val_accuracy: 0.7550\n",
            "Epoch 65/100\n",
            "210/210 [==============================] - 2s 8ms/step - loss: 0.3309 - accuracy: 0.9015 - val_loss: 0.6912 - val_accuracy: 0.7789\n",
            "Epoch 66/100\n",
            "210/210 [==============================] - 2s 9ms/step - loss: 0.3473 - accuracy: 0.8943 - val_loss: 0.6224 - val_accuracy: 0.8009\n",
            "Epoch 67/100\n",
            "210/210 [==============================] - 2s 8ms/step - loss: 0.3278 - accuracy: 0.9003 - val_loss: 0.6959 - val_accuracy: 0.7713\n",
            "Epoch 68/100\n",
            "210/210 [==============================] - 2s 8ms/step - loss: 0.3331 - accuracy: 0.9012 - val_loss: 0.7427 - val_accuracy: 0.7596\n",
            "Epoch 69/100\n",
            "210/210 [==============================] - 2s 8ms/step - loss: 0.3205 - accuracy: 0.9024 - val_loss: 0.8675 - val_accuracy: 0.7266\n",
            "Epoch 70/100\n",
            "210/210 [==============================] - 2s 7ms/step - loss: 0.3371 - accuracy: 0.8976 - val_loss: 0.5684 - val_accuracy: 0.8166\n",
            "Epoch 71/100\n",
            "210/210 [==============================] - 2s 7ms/step - loss: 0.3290 - accuracy: 0.9034 - val_loss: 0.5063 - val_accuracy: 0.8394\n",
            "Epoch 72/100\n",
            "210/210 [==============================] - 2s 9ms/step - loss: 0.3341 - accuracy: 0.9009 - val_loss: 0.5682 - val_accuracy: 0.8178\n",
            "Epoch 73/100\n",
            "210/210 [==============================] - 2s 7ms/step - loss: 0.3200 - accuracy: 0.9044 - val_loss: 0.6825 - val_accuracy: 0.7794\n",
            "Epoch 74/100\n",
            "210/210 [==============================] - 2s 7ms/step - loss: 0.3201 - accuracy: 0.9042 - val_loss: 0.5356 - val_accuracy: 0.8302\n",
            "Epoch 75/100\n",
            "210/210 [==============================] - 2s 8ms/step - loss: 0.3162 - accuracy: 0.9072 - val_loss: 0.5180 - val_accuracy: 0.8337\n",
            "Epoch 76/100\n",
            "210/210 [==============================] - 2s 8ms/step - loss: 0.3132 - accuracy: 0.9053 - val_loss: 0.5619 - val_accuracy: 0.8194\n",
            "Epoch 77/100\n",
            "210/210 [==============================] - 2s 8ms/step - loss: 0.3174 - accuracy: 0.9039 - val_loss: 0.5195 - val_accuracy: 0.8305\n",
            "Epoch 78/100\n",
            "210/210 [==============================] - 2s 9ms/step - loss: 0.3124 - accuracy: 0.9045 - val_loss: 0.5723 - val_accuracy: 0.8158\n",
            "Epoch 79/100\n",
            "210/210 [==============================] - 2s 7ms/step - loss: 0.3148 - accuracy: 0.9054 - val_loss: 0.5457 - val_accuracy: 0.8292\n",
            "Epoch 80/100\n",
            "210/210 [==============================] - 2s 7ms/step - loss: 0.2958 - accuracy: 0.9105 - val_loss: 0.6032 - val_accuracy: 0.8124\n",
            "Epoch 81/100\n",
            "210/210 [==============================] - 2s 7ms/step - loss: 0.3165 - accuracy: 0.9051 - val_loss: 0.5107 - val_accuracy: 0.8396\n",
            "Epoch 82/100\n",
            "210/210 [==============================] - 2s 7ms/step - loss: 0.3080 - accuracy: 0.9094 - val_loss: 0.6010 - val_accuracy: 0.8073\n",
            "Epoch 83/100\n",
            "210/210 [==============================] - 2s 7ms/step - loss: 0.3017 - accuracy: 0.9078 - val_loss: 0.6927 - val_accuracy: 0.7809\n",
            "Epoch 84/100\n",
            "210/210 [==============================] - 2s 7ms/step - loss: 0.2995 - accuracy: 0.9086 - val_loss: 0.7257 - val_accuracy: 0.7671\n",
            "Epoch 85/100\n",
            "210/210 [==============================] - 2s 8ms/step - loss: 0.3018 - accuracy: 0.9107 - val_loss: 0.8931 - val_accuracy: 0.7328\n",
            "Epoch 86/100\n",
            "210/210 [==============================] - 2s 7ms/step - loss: 0.2955 - accuracy: 0.9127 - val_loss: 0.6247 - val_accuracy: 0.7947\n",
            "Epoch 87/100\n",
            "210/210 [==============================] - 2s 8ms/step - loss: 0.2960 - accuracy: 0.9123 - val_loss: 0.5973 - val_accuracy: 0.8036\n",
            "Epoch 88/100\n",
            "210/210 [==============================] - 2s 8ms/step - loss: 0.2830 - accuracy: 0.9138 - val_loss: 0.5668 - val_accuracy: 0.8195\n",
            "Epoch 89/100\n",
            "210/210 [==============================] - 2s 9ms/step - loss: 0.3041 - accuracy: 0.9077 - val_loss: 0.5561 - val_accuracy: 0.8169\n",
            "Epoch 90/100\n",
            "210/210 [==============================] - 2s 7ms/step - loss: 0.2951 - accuracy: 0.9118 - val_loss: 0.6118 - val_accuracy: 0.7982\n",
            "Epoch 91/100\n",
            "210/210 [==============================] - 2s 8ms/step - loss: 0.2850 - accuracy: 0.9135 - val_loss: 0.6415 - val_accuracy: 0.7967\n",
            "Epoch 92/100\n",
            "210/210 [==============================] - 2s 7ms/step - loss: 0.2748 - accuracy: 0.9168 - val_loss: 0.6522 - val_accuracy: 0.8044\n",
            "Epoch 93/100\n",
            "210/210 [==============================] - 2s 7ms/step - loss: 0.2825 - accuracy: 0.9167 - val_loss: 0.6165 - val_accuracy: 0.8083\n",
            "Epoch 94/100\n",
            "210/210 [==============================] - 2s 7ms/step - loss: 0.2791 - accuracy: 0.9166 - val_loss: 0.6557 - val_accuracy: 0.7859\n",
            "Epoch 95/100\n",
            "210/210 [==============================] - 2s 7ms/step - loss: 0.2733 - accuracy: 0.9190 - val_loss: 0.4662 - val_accuracy: 0.8499\n",
            "Epoch 96/100\n",
            "210/210 [==============================] - 2s 8ms/step - loss: 0.2728 - accuracy: 0.9178 - val_loss: 0.4614 - val_accuracy: 0.8538\n",
            "Epoch 97/100\n",
            "210/210 [==============================] - 2s 8ms/step - loss: 0.2789 - accuracy: 0.9167 - val_loss: 0.5705 - val_accuracy: 0.8224\n",
            "Epoch 98/100\n",
            "210/210 [==============================] - 2s 8ms/step - loss: 0.2750 - accuracy: 0.9160 - val_loss: 0.6085 - val_accuracy: 0.7977\n",
            "Epoch 99/100\n",
            "210/210 [==============================] - 2s 8ms/step - loss: 0.2836 - accuracy: 0.9135 - val_loss: 0.6782 - val_accuracy: 0.7884\n",
            "Epoch 100/100\n",
            "210/210 [==============================] - 2s 8ms/step - loss: 0.2741 - accuracy: 0.9170 - val_loss: 0.5063 - val_accuracy: 0.8417\n"
          ],
          "name": "stdout"
        }
      ]
    },
    {
      "cell_type": "markdown",
      "metadata": {
        "id": "6YDD4FW2Nq6w"
      },
      "source": [
        "**Observation 8 - Batch Normalization and Dropout**\r\n",
        "Didn't result in any improvement of score.\r\n",
        "NN model, relu activations, SGD optimizers with weight initializers and batch normalization is still the best model.\r\n",
        "Next, let's try batch normalization and dropout with adam optimizer.\r\n",
        "\r\n",
        "**Prediction on test dataset using Model 3 - relu activations, Adam optimizers**"
      ]
    },
    {
      "cell_type": "code",
      "metadata": {
        "id": "G493B3SHOJnu",
        "colab": {
          "base_uri": "https://localhost:8080/"
        },
        "outputId": "6c010bd8-ab45-48f0-8509-f95f6929a5bc"
      },
      "source": [
        "\r\n",
        "print('NN model with relu activations and changing number of activators'); print('--'*40)\r\n",
        "# Initialize the neural network classifier\r\n",
        "model3 = Sequential()\r\n",
        "\r\n",
        "# Input Layer - adding input layer and activation functions relu\r\n",
        "model3.add(Dense(256, input_shape = (1024, )))\r\n",
        "# Adding activation function\r\n",
        "model3.add(Activation('relu'))\r\n",
        "\r\n",
        "#Hidden Layer 1 - adding first hidden layer\r\n",
        "model3.add(Dense(128))\r\n",
        "# Adding activation function\r\n",
        "model3.add(Activation('relu'))\r\n",
        "\r\n",
        "#Hidden Layer 2 - Adding second hidden layer\r\n",
        "model3.add(Dense(64))\r\n",
        "# Adding activation function\r\n",
        "model3.add(Activation('relu'))\r\n",
        "\r\n",
        "# Output Layer - adding output layer which is of 10 nodes (digits)\r\n",
        "model3.add(Dense(10))\r\n",
        "# Adding activation function - softmax for multiclass classification\r\n",
        "model3.add(Activation('softmax'))"
      ],
      "execution_count": 66,
      "outputs": [
        {
          "output_type": "stream",
          "text": [
            "NN model with relu activations and changing number of activators\n",
            "--------------------------------------------------------------------------------\n"
          ],
          "name": "stdout"
        }
      ]
    },
    {
      "cell_type": "code",
      "metadata": {
        "id": "U_iwUXd7Nmct",
        "colab": {
          "base_uri": "https://localhost:8080/"
        },
        "outputId": "13a235f6-2277-4b73-9b97-4c81fd317adf"
      },
      "source": [
        "# compiling the neural network classifier, adam optimizer\r\n",
        "adam = optimizers.Adam(lr = 0.001)\r\n",
        "model3.compile(optimizer = adam, loss = 'categorical_crossentropy', metrics = ['accuracy'])\r\n",
        "\r\n",
        "# Fitting the neural network for training\r\n",
        "history = model3.fit(X_train, y_train, validation_data = (X_val, y_val), batch_size = 200, epochs = 100, verbose = 1)"
      ],
      "execution_count": 67,
      "outputs": [
        {
          "output_type": "stream",
          "text": [
            "Epoch 1/100\n",
            "210/210 [==============================] - 2s 6ms/step - loss: 2.3062 - accuracy: 0.1075 - val_loss: 2.1099 - val_accuracy: 0.1809\n",
            "Epoch 2/100\n",
            "210/210 [==============================] - 1s 6ms/step - loss: 1.9415 - accuracy: 0.2953 - val_loss: 1.5750 - val_accuracy: 0.4786\n",
            "Epoch 3/100\n",
            "210/210 [==============================] - 1s 6ms/step - loss: 1.4597 - accuracy: 0.5189 - val_loss: 1.2618 - val_accuracy: 0.6003\n",
            "Epoch 4/100\n",
            "210/210 [==============================] - 1s 6ms/step - loss: 1.2437 - accuracy: 0.6056 - val_loss: 1.1368 - val_accuracy: 0.6423\n",
            "Epoch 5/100\n",
            "210/210 [==============================] - 1s 5ms/step - loss: 1.1378 - accuracy: 0.6415 - val_loss: 1.0664 - val_accuracy: 0.6693\n",
            "Epoch 6/100\n",
            "210/210 [==============================] - 1s 5ms/step - loss: 1.0761 - accuracy: 0.6616 - val_loss: 1.0348 - val_accuracy: 0.6758\n",
            "Epoch 7/100\n",
            "210/210 [==============================] - 1s 5ms/step - loss: 1.0178 - accuracy: 0.6855 - val_loss: 0.9505 - val_accuracy: 0.7078\n",
            "Epoch 8/100\n",
            "210/210 [==============================] - 1s 5ms/step - loss: 0.9679 - accuracy: 0.7004 - val_loss: 0.9414 - val_accuracy: 0.7087\n",
            "Epoch 9/100\n",
            "210/210 [==============================] - 1s 5ms/step - loss: 0.9160 - accuracy: 0.7143 - val_loss: 0.9544 - val_accuracy: 0.6983\n",
            "Epoch 10/100\n",
            "210/210 [==============================] - 1s 5ms/step - loss: 0.8869 - accuracy: 0.7264 - val_loss: 0.8956 - val_accuracy: 0.7220\n",
            "Epoch 11/100\n",
            "210/210 [==============================] - 1s 5ms/step - loss: 0.8520 - accuracy: 0.7342 - val_loss: 0.8240 - val_accuracy: 0.7465\n",
            "Epoch 12/100\n",
            "210/210 [==============================] - 1s 6ms/step - loss: 0.8164 - accuracy: 0.7477 - val_loss: 0.8263 - val_accuracy: 0.7473\n",
            "Epoch 13/100\n",
            "210/210 [==============================] - 1s 5ms/step - loss: 0.8035 - accuracy: 0.7516 - val_loss: 0.7567 - val_accuracy: 0.7690\n",
            "Epoch 14/100\n",
            "210/210 [==============================] - 1s 5ms/step - loss: 0.7723 - accuracy: 0.7627 - val_loss: 0.7677 - val_accuracy: 0.7663\n",
            "Epoch 15/100\n",
            "210/210 [==============================] - 1s 5ms/step - loss: 0.7369 - accuracy: 0.7737 - val_loss: 0.7749 - val_accuracy: 0.7623\n",
            "Epoch 16/100\n",
            "210/210 [==============================] - 1s 5ms/step - loss: 0.7281 - accuracy: 0.7749 - val_loss: 0.7607 - val_accuracy: 0.7670\n",
            "Epoch 17/100\n",
            "210/210 [==============================] - 1s 5ms/step - loss: 0.7145 - accuracy: 0.7785 - val_loss: 0.6847 - val_accuracy: 0.7939\n",
            "Epoch 18/100\n",
            "210/210 [==============================] - 1s 5ms/step - loss: 0.7080 - accuracy: 0.7851 - val_loss: 0.6769 - val_accuracy: 0.7976\n",
            "Epoch 19/100\n",
            "210/210 [==============================] - 1s 5ms/step - loss: 0.6899 - accuracy: 0.7890 - val_loss: 0.7006 - val_accuracy: 0.7871\n",
            "Epoch 20/100\n",
            "210/210 [==============================] - 1s 5ms/step - loss: 0.6688 - accuracy: 0.7958 - val_loss: 0.6830 - val_accuracy: 0.7935\n",
            "Epoch 21/100\n",
            "210/210 [==============================] - 1s 5ms/step - loss: 0.6548 - accuracy: 0.8010 - val_loss: 0.6805 - val_accuracy: 0.7942\n",
            "Epoch 22/100\n",
            "210/210 [==============================] - 1s 5ms/step - loss: 0.6506 - accuracy: 0.8025 - val_loss: 0.6538 - val_accuracy: 0.8031\n",
            "Epoch 23/100\n",
            "210/210 [==============================] - 1s 5ms/step - loss: 0.6392 - accuracy: 0.8037 - val_loss: 0.6385 - val_accuracy: 0.8070\n",
            "Epoch 24/100\n",
            "210/210 [==============================] - 1s 5ms/step - loss: 0.6324 - accuracy: 0.8061 - val_loss: 0.6293 - val_accuracy: 0.8103\n",
            "Epoch 25/100\n",
            "210/210 [==============================] - 1s 5ms/step - loss: 0.6143 - accuracy: 0.8125 - val_loss: 0.6068 - val_accuracy: 0.8173\n",
            "Epoch 26/100\n",
            "210/210 [==============================] - 1s 5ms/step - loss: 0.5914 - accuracy: 0.8214 - val_loss: 0.6608 - val_accuracy: 0.7972\n",
            "Epoch 27/100\n",
            "210/210 [==============================] - 1s 6ms/step - loss: 0.6038 - accuracy: 0.8112 - val_loss: 0.6474 - val_accuracy: 0.8003\n",
            "Epoch 28/100\n",
            "210/210 [==============================] - 1s 5ms/step - loss: 0.5830 - accuracy: 0.8196 - val_loss: 0.5778 - val_accuracy: 0.8272\n",
            "Epoch 29/100\n",
            "210/210 [==============================] - 1s 5ms/step - loss: 0.5720 - accuracy: 0.8229 - val_loss: 0.5730 - val_accuracy: 0.8285\n",
            "Epoch 30/100\n",
            "210/210 [==============================] - 1s 5ms/step - loss: 0.5582 - accuracy: 0.8315 - val_loss: 0.5792 - val_accuracy: 0.8260\n",
            "Epoch 31/100\n",
            "210/210 [==============================] - 1s 6ms/step - loss: 0.5607 - accuracy: 0.8287 - val_loss: 0.6307 - val_accuracy: 0.8095\n",
            "Epoch 32/100\n",
            "210/210 [==============================] - 1s 5ms/step - loss: 0.5662 - accuracy: 0.8228 - val_loss: 0.6181 - val_accuracy: 0.8158\n",
            "Epoch 33/100\n",
            "210/210 [==============================] - 1s 5ms/step - loss: 0.5465 - accuracy: 0.8321 - val_loss: 0.5683 - val_accuracy: 0.8288\n",
            "Epoch 34/100\n",
            "210/210 [==============================] - 1s 5ms/step - loss: 0.5293 - accuracy: 0.8373 - val_loss: 0.5697 - val_accuracy: 0.8270\n",
            "Epoch 35/100\n",
            "210/210 [==============================] - 1s 6ms/step - loss: 0.5307 - accuracy: 0.8386 - val_loss: 0.5253 - val_accuracy: 0.8429\n",
            "Epoch 36/100\n",
            "210/210 [==============================] - 1s 5ms/step - loss: 0.5183 - accuracy: 0.8413 - val_loss: 0.5684 - val_accuracy: 0.8265\n",
            "Epoch 37/100\n",
            "210/210 [==============================] - 1s 5ms/step - loss: 0.5287 - accuracy: 0.8364 - val_loss: 0.5902 - val_accuracy: 0.8178\n",
            "Epoch 38/100\n",
            "210/210 [==============================] - 1s 5ms/step - loss: 0.5209 - accuracy: 0.8388 - val_loss: 0.5436 - val_accuracy: 0.8363\n",
            "Epoch 39/100\n",
            "210/210 [==============================] - 1s 5ms/step - loss: 0.5093 - accuracy: 0.8414 - val_loss: 0.5712 - val_accuracy: 0.8276\n",
            "Epoch 40/100\n",
            "210/210 [==============================] - 1s 6ms/step - loss: 0.5136 - accuracy: 0.8384 - val_loss: 0.5590 - val_accuracy: 0.8308\n",
            "Epoch 41/100\n",
            "210/210 [==============================] - 1s 5ms/step - loss: 0.4929 - accuracy: 0.8483 - val_loss: 0.5518 - val_accuracy: 0.8321\n",
            "Epoch 42/100\n",
            "210/210 [==============================] - 1s 5ms/step - loss: 0.4916 - accuracy: 0.8509 - val_loss: 0.5603 - val_accuracy: 0.8270\n",
            "Epoch 43/100\n",
            "210/210 [==============================] - 1s 5ms/step - loss: 0.4853 - accuracy: 0.8497 - val_loss: 0.5313 - val_accuracy: 0.8386\n",
            "Epoch 44/100\n",
            "210/210 [==============================] - 1s 5ms/step - loss: 0.4791 - accuracy: 0.8525 - val_loss: 0.4902 - val_accuracy: 0.8540\n",
            "Epoch 45/100\n",
            "210/210 [==============================] - 1s 5ms/step - loss: 0.4688 - accuracy: 0.8562 - val_loss: 0.5028 - val_accuracy: 0.8490\n",
            "Epoch 46/100\n",
            "210/210 [==============================] - 1s 6ms/step - loss: 0.4752 - accuracy: 0.8529 - val_loss: 0.5105 - val_accuracy: 0.8489\n",
            "Epoch 47/100\n",
            "210/210 [==============================] - 1s 6ms/step - loss: 0.4775 - accuracy: 0.8510 - val_loss: 0.5094 - val_accuracy: 0.8466\n",
            "Epoch 48/100\n",
            "210/210 [==============================] - 1s 6ms/step - loss: 0.4580 - accuracy: 0.8568 - val_loss: 0.5228 - val_accuracy: 0.8433\n",
            "Epoch 49/100\n",
            "210/210 [==============================] - 1s 5ms/step - loss: 0.4648 - accuracy: 0.8553 - val_loss: 0.5126 - val_accuracy: 0.8454\n",
            "Epoch 50/100\n",
            "210/210 [==============================] - 1s 6ms/step - loss: 0.4601 - accuracy: 0.8582 - val_loss: 0.5184 - val_accuracy: 0.8425\n",
            "Epoch 51/100\n",
            "210/210 [==============================] - 1s 5ms/step - loss: 0.4525 - accuracy: 0.8587 - val_loss: 0.4826 - val_accuracy: 0.8564\n",
            "Epoch 52/100\n",
            "210/210 [==============================] - 1s 5ms/step - loss: 0.4387 - accuracy: 0.8623 - val_loss: 0.4989 - val_accuracy: 0.8517\n",
            "Epoch 53/100\n",
            "210/210 [==============================] - 1s 5ms/step - loss: 0.4539 - accuracy: 0.8573 - val_loss: 0.5089 - val_accuracy: 0.8471\n",
            "Epoch 54/100\n",
            "210/210 [==============================] - 1s 6ms/step - loss: 0.4393 - accuracy: 0.8612 - val_loss: 0.4829 - val_accuracy: 0.8548\n",
            "Epoch 55/100\n",
            "210/210 [==============================] - 1s 5ms/step - loss: 0.4301 - accuracy: 0.8652 - val_loss: 0.5448 - val_accuracy: 0.8342\n",
            "Epoch 56/100\n",
            "210/210 [==============================] - 1s 5ms/step - loss: 0.4408 - accuracy: 0.8627 - val_loss: 0.4888 - val_accuracy: 0.8533\n",
            "Epoch 57/100\n",
            "210/210 [==============================] - 1s 5ms/step - loss: 0.4340 - accuracy: 0.8647 - val_loss: 0.4659 - val_accuracy: 0.8614\n",
            "Epoch 58/100\n",
            "210/210 [==============================] - 1s 5ms/step - loss: 0.4363 - accuracy: 0.8638 - val_loss: 0.4755 - val_accuracy: 0.8570\n",
            "Epoch 59/100\n",
            "210/210 [==============================] - 1s 5ms/step - loss: 0.4125 - accuracy: 0.8732 - val_loss: 0.4625 - val_accuracy: 0.8623\n",
            "Epoch 60/100\n",
            "210/210 [==============================] - 1s 5ms/step - loss: 0.4215 - accuracy: 0.8700 - val_loss: 0.5019 - val_accuracy: 0.8500\n",
            "Epoch 61/100\n",
            "210/210 [==============================] - 1s 5ms/step - loss: 0.4276 - accuracy: 0.8666 - val_loss: 0.4841 - val_accuracy: 0.8544\n",
            "Epoch 62/100\n",
            "210/210 [==============================] - 1s 6ms/step - loss: 0.4175 - accuracy: 0.8680 - val_loss: 0.4615 - val_accuracy: 0.8621\n",
            "Epoch 63/100\n",
            "210/210 [==============================] - 1s 6ms/step - loss: 0.4091 - accuracy: 0.8719 - val_loss: 0.4783 - val_accuracy: 0.8566\n",
            "Epoch 64/100\n",
            "210/210 [==============================] - 1s 6ms/step - loss: 0.4058 - accuracy: 0.8737 - val_loss: 0.4760 - val_accuracy: 0.8572\n",
            "Epoch 65/100\n",
            "210/210 [==============================] - 1s 6ms/step - loss: 0.4026 - accuracy: 0.8745 - val_loss: 0.4368 - val_accuracy: 0.8700\n",
            "Epoch 66/100\n",
            "210/210 [==============================] - 1s 6ms/step - loss: 0.3924 - accuracy: 0.8777 - val_loss: 0.4637 - val_accuracy: 0.8622\n",
            "Epoch 67/100\n",
            "210/210 [==============================] - 1s 6ms/step - loss: 0.3824 - accuracy: 0.8794 - val_loss: 0.4591 - val_accuracy: 0.8647\n",
            "Epoch 68/100\n",
            "210/210 [==============================] - 1s 6ms/step - loss: 0.3835 - accuracy: 0.8803 - val_loss: 0.4584 - val_accuracy: 0.8639\n",
            "Epoch 69/100\n",
            "210/210 [==============================] - 1s 6ms/step - loss: 0.3980 - accuracy: 0.8724 - val_loss: 0.4453 - val_accuracy: 0.8680\n",
            "Epoch 70/100\n",
            "210/210 [==============================] - 1s 6ms/step - loss: 0.3781 - accuracy: 0.8808 - val_loss: 0.4437 - val_accuracy: 0.8686\n",
            "Epoch 71/100\n",
            "210/210 [==============================] - 1s 5ms/step - loss: 0.3831 - accuracy: 0.8786 - val_loss: 0.4470 - val_accuracy: 0.8681\n",
            "Epoch 72/100\n",
            "210/210 [==============================] - 1s 5ms/step - loss: 0.3855 - accuracy: 0.8789 - val_loss: 0.4668 - val_accuracy: 0.8622\n",
            "Epoch 73/100\n",
            "210/210 [==============================] - 1s 6ms/step - loss: 0.3770 - accuracy: 0.8812 - val_loss: 0.4463 - val_accuracy: 0.8675\n",
            "Epoch 74/100\n",
            "210/210 [==============================] - 1s 5ms/step - loss: 0.3660 - accuracy: 0.8838 - val_loss: 0.4614 - val_accuracy: 0.8641\n",
            "Epoch 75/100\n",
            "210/210 [==============================] - 1s 6ms/step - loss: 0.3776 - accuracy: 0.8832 - val_loss: 0.4229 - val_accuracy: 0.8747\n",
            "Epoch 76/100\n",
            "210/210 [==============================] - 1s 5ms/step - loss: 0.3716 - accuracy: 0.8830 - val_loss: 0.4092 - val_accuracy: 0.8801\n",
            "Epoch 77/100\n",
            "210/210 [==============================] - 1s 5ms/step - loss: 0.3587 - accuracy: 0.8867 - val_loss: 0.4608 - val_accuracy: 0.8644\n",
            "Epoch 78/100\n",
            "210/210 [==============================] - 1s 5ms/step - loss: 0.3748 - accuracy: 0.8808 - val_loss: 0.4522 - val_accuracy: 0.8668\n",
            "Epoch 79/100\n",
            "210/210 [==============================] - 1s 5ms/step - loss: 0.3523 - accuracy: 0.8877 - val_loss: 0.4375 - val_accuracy: 0.8721\n",
            "Epoch 80/100\n",
            "210/210 [==============================] - 1s 5ms/step - loss: 0.3576 - accuracy: 0.8866 - val_loss: 0.4416 - val_accuracy: 0.8693\n",
            "Epoch 81/100\n",
            "210/210 [==============================] - 1s 5ms/step - loss: 0.3668 - accuracy: 0.8839 - val_loss: 0.4215 - val_accuracy: 0.8765\n",
            "Epoch 82/100\n",
            "210/210 [==============================] - 1s 5ms/step - loss: 0.3526 - accuracy: 0.8879 - val_loss: 0.4579 - val_accuracy: 0.8640\n",
            "Epoch 83/100\n",
            "210/210 [==============================] - 1s 5ms/step - loss: 0.3497 - accuracy: 0.8884 - val_loss: 0.4268 - val_accuracy: 0.8748\n",
            "Epoch 84/100\n",
            "210/210 [==============================] - 1s 5ms/step - loss: 0.3480 - accuracy: 0.8879 - val_loss: 0.4646 - val_accuracy: 0.8619\n",
            "Epoch 85/100\n",
            "210/210 [==============================] - 1s 5ms/step - loss: 0.3562 - accuracy: 0.8878 - val_loss: 0.4192 - val_accuracy: 0.8781\n",
            "Epoch 86/100\n",
            "210/210 [==============================] - 1s 6ms/step - loss: 0.3404 - accuracy: 0.8952 - val_loss: 0.4121 - val_accuracy: 0.8803\n",
            "Epoch 87/100\n",
            "210/210 [==============================] - 1s 6ms/step - loss: 0.3366 - accuracy: 0.8936 - val_loss: 0.4291 - val_accuracy: 0.8758\n",
            "Epoch 88/100\n",
            "210/210 [==============================] - 1s 5ms/step - loss: 0.3414 - accuracy: 0.8922 - val_loss: 0.4479 - val_accuracy: 0.8683\n",
            "Epoch 89/100\n",
            "210/210 [==============================] - 1s 6ms/step - loss: 0.3423 - accuracy: 0.8925 - val_loss: 0.4617 - val_accuracy: 0.8617\n",
            "Epoch 90/100\n",
            "210/210 [==============================] - 1s 6ms/step - loss: 0.3418 - accuracy: 0.8932 - val_loss: 0.4250 - val_accuracy: 0.8753\n",
            "Epoch 91/100\n",
            "210/210 [==============================] - 1s 5ms/step - loss: 0.3338 - accuracy: 0.8931 - val_loss: 0.4316 - val_accuracy: 0.8734\n",
            "Epoch 92/100\n",
            "210/210 [==============================] - 1s 6ms/step - loss: 0.3206 - accuracy: 0.8954 - val_loss: 0.4181 - val_accuracy: 0.8776\n",
            "Epoch 93/100\n",
            "210/210 [==============================] - 1s 6ms/step - loss: 0.3286 - accuracy: 0.8965 - val_loss: 0.4192 - val_accuracy: 0.8786\n",
            "Epoch 94/100\n",
            "210/210 [==============================] - 1s 6ms/step - loss: 0.3187 - accuracy: 0.8997 - val_loss: 0.4143 - val_accuracy: 0.8782\n",
            "Epoch 95/100\n",
            "210/210 [==============================] - 1s 6ms/step - loss: 0.3184 - accuracy: 0.8991 - val_loss: 0.4296 - val_accuracy: 0.8749\n",
            "Epoch 96/100\n",
            "210/210 [==============================] - 1s 5ms/step - loss: 0.3140 - accuracy: 0.8978 - val_loss: 0.4003 - val_accuracy: 0.8848\n",
            "Epoch 97/100\n",
            "210/210 [==============================] - 1s 5ms/step - loss: 0.3158 - accuracy: 0.9015 - val_loss: 0.4040 - val_accuracy: 0.8856\n",
            "Epoch 98/100\n",
            "210/210 [==============================] - 1s 5ms/step - loss: 0.3183 - accuracy: 0.8988 - val_loss: 0.4022 - val_accuracy: 0.8848\n",
            "Epoch 99/100\n",
            "210/210 [==============================] - 1s 5ms/step - loss: 0.3150 - accuracy: 0.8974 - val_loss: 0.4552 - val_accuracy: 0.8639\n",
            "Epoch 100/100\n",
            "210/210 [==============================] - 1s 6ms/step - loss: 0.3139 - accuracy: 0.8981 - val_loss: 0.4080 - val_accuracy: 0.8838\n"
          ],
          "name": "stdout"
        }
      ]
    },
    {
      "cell_type": "code",
      "metadata": {
        "id": "pbdj1CyMO7co",
        "colab": {
          "base_uri": "https://localhost:8080/"
        },
        "outputId": "3aaf91e9-a363-4852-87b2-06852a40ce5f"
      },
      "source": [
        "print('Testing the model on test dataset')\r\n",
        "predictions = model3.predict_classes(X_test)\r\n",
        "score = model3.evaluate(X_test, y_test)\r\n",
        "print('Test loss :', score[0])\r\n",
        "print('Test accuracy :', score[1])"
      ],
      "execution_count": 68,
      "outputs": [
        {
          "output_type": "stream",
          "text": [
            "Testing the model on test dataset\n"
          ],
          "name": "stdout"
        },
        {
          "output_type": "stream",
          "text": [
            "/usr/local/lib/python3.6/dist-packages/tensorflow/python/keras/engine/sequential.py:450: UserWarning: `model.predict_classes()` is deprecated and will be removed after 2021-01-01. Please use instead:* `np.argmax(model.predict(x), axis=-1)`,   if your model does multi-class classification   (e.g. if it uses a `softmax` last-layer activation).* `(model.predict(x) > 0.5).astype(\"int32\")`,   if your model does binary classification   (e.g. if it uses a `sigmoid` last-layer activation).\n",
            "  warnings.warn('`model.predict_classes()` is deprecated and '\n"
          ],
          "name": "stderr"
        },
        {
          "output_type": "stream",
          "text": [
            "563/563 [==============================] - 1s 2ms/step - loss: 0.6746 - accuracy: 0.8302\n",
            "Test loss : 0.6745544672012329\n",
            "Test accuracy : 0.8302222490310669\n"
          ],
          "name": "stdout"
        }
      ]
    },
    {
      "cell_type": "code",
      "metadata": {
        "id": "gIYFmJqdO-DE",
        "colab": {
          "base_uri": "https://localhost:8080/"
        },
        "outputId": "9562d102-3af9-4860-9a88-595122fd9dd6"
      },
      "source": [
        "print('Classification Report'); print('--'*40)\r\n",
        "print(classification_report(y_test_o, predictions))"
      ],
      "execution_count": 69,
      "outputs": [
        {
          "output_type": "stream",
          "text": [
            "Classification Report\n",
            "--------------------------------------------------------------------------------\n",
            "              precision    recall  f1-score   support\n",
            "\n",
            "           0       0.84      0.86      0.85      1814\n",
            "           1       0.83      0.85      0.84      1828\n",
            "           2       0.91      0.81      0.86      1803\n",
            "           3       0.78      0.79      0.78      1719\n",
            "           4       0.85      0.87      0.86      1812\n",
            "           5       0.81      0.82      0.81      1768\n",
            "           6       0.85      0.82      0.84      1832\n",
            "           7       0.84      0.89      0.86      1808\n",
            "           8       0.77      0.80      0.78      1812\n",
            "           9       0.85      0.77      0.81      1804\n",
            "\n",
            "    accuracy                           0.83     18000\n",
            "   macro avg       0.83      0.83      0.83     18000\n",
            "weighted avg       0.83      0.83      0.83     18000\n",
            "\n"
          ],
          "name": "stdout"
        }
      ]
    },
    {
      "cell_type": "code",
      "metadata": {
        "id": "5ao2KKUgP5pF",
        "colab": {
          "base_uri": "https://localhost:8080/",
          "height": 472
        },
        "outputId": "14c8b5ec-3078-452b-bc57-afb642f43954"
      },
      "source": [
        "print('Visualizing the confusion matrix')\r\n",
        "plt.figure(figsize = (15, 7.2))\r\n",
        "sns.heatmap(confusion_matrix(y_test_o, predictions), annot = True)"
      ],
      "execution_count": 70,
      "outputs": [
        {
          "output_type": "stream",
          "text": [
            "Visualizing the confusion matrix\n"
          ],
          "name": "stdout"
        },
        {
          "output_type": "execute_result",
          "data": {
            "text/plain": [
              "<matplotlib.axes._subplots.AxesSubplot at 0x7f7e64768358>"
            ]
          },
          "metadata": {
            "tags": []
          },
          "execution_count": 70
        },
        {
          "output_type": "display_data",
          "data": {
            "image/png": "[encoded data removed]",
            "text/plain": [
              "<Figure size 1080x518.4 with 2 Axes>"
            ]
          },
          "metadata": {
            "tags": [],
            "needs_background": "light"
          }
        }
      ]
    },
    {
      "cell_type": "code",
      "metadata": {
        "colab": {
          "base_uri": "https://localhost:8080/",
          "height": 163
        },
        "id": "iQbk_UlmcmRR",
        "outputId": "5cc23ca7-d261-4ad4-ed91-295554942c3c"
      },
      "source": [
        "history.describe()"
      ],
      "execution_count": 74,
      "outputs": [
        {
          "output_type": "error",
          "ename": "AttributeError",
          "evalue": "ignored",
          "traceback": [
            "\u001b[0;31m---------------------------------------------------------------------------\u001b[0m",
            "\u001b[0;31mAttributeError\u001b[0m                            Traceback (most recent call last)",
            "\u001b[0;32m<ipython-input-74-93856ca0fa1c>\u001b[0m in \u001b[0;36m<module>\u001b[0;34m()\u001b[0m\n\u001b[0;32m----> 1\u001b[0;31m \u001b[0mhistory\u001b[0m\u001b[0;34m.\u001b[0m\u001b[0mdescribe\u001b[0m\u001b[0;34m(\u001b[0m\u001b[0;34m)\u001b[0m\u001b[0;34m\u001b[0m\u001b[0;34m\u001b[0m\u001b[0m\n\u001b[0m",
            "\u001b[0;31mAttributeError\u001b[0m: 'History' object has no attribute 'describe'"
          ]
        }
      ]
    },
    {
      "cell_type": "code",
      "metadata": {
        "id": "wsTZHvtLQIe_",
        "colab": {
          "base_uri": "https://localhost:8080/"
        },
        "outputId": "3d55f914-1e11-4690-a3e6-3634e304dcc0"
      },
      "source": [
        "model3.predict_classes(X_test)[5]"
      ],
      "execution_count": 79,
      "outputs": [
        {
          "output_type": "stream",
          "text": [
            "/usr/local/lib/python3.6/dist-packages/tensorflow/python/keras/engine/sequential.py:450: UserWarning: `model.predict_classes()` is deprecated and will be removed after 2021-01-01. Please use instead:* `np.argmax(model.predict(x), axis=-1)`,   if your model does multi-class classification   (e.g. if it uses a `softmax` last-layer activation).* `(model.predict(x) > 0.5).astype(\"int32\")`,   if your model does binary classification   (e.g. if it uses a `sigmoid` last-layer activation).\n",
            "  warnings.warn('`model.predict_classes()` is deprecated and '\n"
          ],
          "name": "stderr"
        },
        {
          "output_type": "execute_result",
          "data": {
            "text/plain": [
              "9"
            ]
          },
          "metadata": {
            "tags": []
          },
          "execution_count": 79
        }
      ]
    },
    {
      "cell_type": "code",
      "metadata": {
        "colab": {
          "base_uri": "https://localhost:8080/",
          "height": 279
        },
        "id": "u-aq-4wmdiGO",
        "outputId": "b8fcc2eb-0877-4ff1-8f37-ab2bc214e86c"
      },
      "source": [
        "#Showing the image\r\n",
        "plt.imshow(X_test[5].reshape(32, 32), cmap = 'gray')"
      ],
      "execution_count": 82,
      "outputs": [
        {
          "output_type": "execute_result",
          "data": {
            "text/plain": [
              "<matplotlib.image.AxesImage at 0x7f7e5c7036d8>"
            ]
          },
          "metadata": {
            "tags": []
          },
          "execution_count": 82
        },
        {
          "output_type": "display_data",
          "data": {
            "image/png": "[encoded data removed]",
            "text/plain": [
              "<Figure size 432x288 with 1 Axes>"
            ]
          },
          "metadata": {
            "tags": [],
            "needs_background": "light"
          }
        }
      ]
    },
    {
      "cell_type": "code",
      "metadata": {
        "id": "XO6-w176QL0h",
        "colab": {
          "base_uri": "https://localhost:8080/",
          "height": 279
        },
        "outputId": "0e3ed7e1-d8a6-4157-d79c-5df6a44c4e96"
      },
      "source": [
        "#Showing the image\r\n",
        "plt.imshow(X_test[20].reshape(32, 32), cmap = 'gray')"
      ],
      "execution_count": 80,
      "outputs": [
        {
          "output_type": "execute_result",
          "data": {
            "text/plain": [
              "<matplotlib.image.AxesImage at 0x7f7e5c7a6c88>"
            ]
          },
          "metadata": {
            "tags": []
          },
          "execution_count": 80
        },
        {
          "output_type": "display_data",
          "data": {
            "image/png": "[encoded data removed]",
            "text/plain": [
              "<Figure size 432x288 with 1 Axes>"
            ]
          },
          "metadata": {
            "tags": [],
            "needs_background": "light"
          }
        }
      ]
    },
    {
      "cell_type": "code",
      "metadata": {
        "id": "jkutb9zcQbS3",
        "colab": {
          "base_uri": "https://localhost:8080/"
        },
        "outputId": "767fc87e-d0a1-4543-8495-202311bb0fbe"
      },
      "source": [
        "model3.predict_classes(X_test)[20]"
      ],
      "execution_count": 81,
      "outputs": [
        {
          "output_type": "stream",
          "text": [
            "/usr/local/lib/python3.6/dist-packages/tensorflow/python/keras/engine/sequential.py:450: UserWarning: `model.predict_classes()` is deprecated and will be removed after 2021-01-01. Please use instead:* `np.argmax(model.predict(x), axis=-1)`,   if your model does multi-class classification   (e.g. if it uses a `softmax` last-layer activation).* `(model.predict(x) > 0.5).astype(\"int32\")`,   if your model does binary classification   (e.g. if it uses a `sigmoid` last-layer activation).\n",
            "  warnings.warn('`model.predict_classes()` is deprecated and '\n"
          ],
          "name": "stderr"
        },
        {
          "output_type": "execute_result",
          "data": {
            "text/plain": [
              "0"
            ]
          },
          "metadata": {
            "tags": []
          },
          "execution_count": 81
        }
      ]
    },
    {
      "cell_type": "code",
      "metadata": {
        "id": "PZOb4VFVQedM",
        "colab": {
          "base_uri": "https://localhost:8080/",
          "height": 279
        },
        "outputId": "fab6ca90-40c2-4d64-c513-4f5a2f94187d"
      },
      "source": [
        "plt.imshow(X_test[10].reshape(32, 32), cmap = 'gray')"
      ],
      "execution_count": 83,
      "outputs": [
        {
          "output_type": "execute_result",
          "data": {
            "text/plain": [
              "<matplotlib.image.AxesImage at 0x7f7e5c72b668>"
            ]
          },
          "metadata": {
            "tags": []
          },
          "execution_count": 83
        },
        {
          "output_type": "display_data",
          "data": {
            "image/png": "[encoded data removed]",
            "text/plain": [
              "<Figure size 432x288 with 1 Axes>"
            ]
          },
          "metadata": {
            "tags": [],
            "needs_background": "light"
          }
        }
      ]
    },
    {
      "cell_type": "code",
      "metadata": {
        "id": "2ODXp4b6QgcC",
        "colab": {
          "base_uri": "https://localhost:8080/"
        },
        "outputId": "325ae4ad-e651-4e6f-ed12-49137cd1900e"
      },
      "source": [
        "model3.predict_classes(X_test)[10]"
      ],
      "execution_count": 84,
      "outputs": [
        {
          "output_type": "stream",
          "text": [
            "/usr/local/lib/python3.6/dist-packages/tensorflow/python/keras/engine/sequential.py:450: UserWarning: `model.predict_classes()` is deprecated and will be removed after 2021-01-01. Please use instead:* `np.argmax(model.predict(x), axis=-1)`,   if your model does multi-class classification   (e.g. if it uses a `softmax` last-layer activation).* `(model.predict(x) > 0.5).astype(\"int32\")`,   if your model does binary classification   (e.g. if it uses a `sigmoid` last-layer activation).\n",
            "  warnings.warn('`model.predict_classes()` is deprecated and '\n"
          ],
          "name": "stderr"
        },
        {
          "output_type": "execute_result",
          "data": {
            "text/plain": [
              "8"
            ]
          },
          "metadata": {
            "tags": []
          },
          "execution_count": 84
        }
      ]
    },
    {
      "cell_type": "markdown",
      "metadata": {
        "id": "NplvtTtzQljc"
      },
      "source": [
        "**Conclusion**\r\n",
        "Evaluated the accuracy using two methods i.e. baby sitting the NN and NN through API. Followed all the required steps starting with loading the datasets to performing hyperparameter optimization and running a finer search by using a finer range. Explored different options in optimizers, number of activators, learning rate and activation methods in NN through API. Found that baby sitting process achieved the best accuracy of 21% using hyper parameter optimization. It might have been further improved but that's the trade off vs time taken to run the script. NN through API method achieved best accuracy of 90% on validation set. Also printed the classification report, visualized the confusion matrix and summarized history for accuracy and loss."
      ]
    },
    {
      "cell_type": "code",
      "metadata": {
        "id": "--8hHdq7Qk6U"
      },
      "source": [
        ""
      ],
      "execution_count": null,
      "outputs": []
    }
  ]
}